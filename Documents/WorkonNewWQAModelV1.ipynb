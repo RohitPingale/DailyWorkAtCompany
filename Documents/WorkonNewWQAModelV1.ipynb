{
  "nbformat": 4,
  "nbformat_minor": 0,
  "metadata": {
    "colab": {
      "provenance": []
    },
    "kernelspec": {
      "name": "python3",
      "display_name": "Python 3"
    },
    "language_info": {
      "name": "python"
    }
  },
  "cells": [
    {
      "cell_type": "code",
      "source": [
        "from google.colab import drive\n",
        "drive.mount('/content/drive')"
      ],
      "metadata": {
        "colab": {
          "base_uri": "https://localhost:8080/"
        },
        "id": "2waUzjpEUmwf",
        "outputId": "0e437dd0-d6c6-498b-e148-a1cb24abcd9c"
      },
      "execution_count": null,
      "outputs": [
        {
          "output_type": "stream",
          "name": "stdout",
          "text": [
            "Mounted at /content/drive\n"
          ]
        }
      ]
    },
    {
      "cell_type": "code",
      "source": [
        "import pandas as pd\n",
        "import seaborn as sns\n",
        "import matplotlib.pyplot as plt\n",
        "import numpy as np\n",
        "from sklearn.model_selection import train_test_split, cross_val_score, cross_validate\n",
        "from sklearn.svm import SVR\n",
        "from sklearn.linear_model import LinearRegression\n",
        "from sklearn.decomposition import PCA\n",
        "import itertools\n",
        "from sklearn.metrics import mean_squared_error, r2_score, mean_absolute_error, mean_absolute_percentage_error\n",
        "from sklearn.model_selection import cross_val_score\n",
        "from sklearn.linear_model import LinearRegression\n",
        "from sklearn.metrics import make_scorer, mean_absolute_error, r2_score, confusion_matrix,ConfusionMatrixDisplay\n",
        "import numpy as np\n",
        "from sklearn.ensemble import RandomForestRegressor\n",
        "from sklearn.preprocessing import StandardScaler,MinMaxScaler\n",
        "from itertools import combinations"
      ],
      "metadata": {
        "id": "gL8IylRfU_mL"
      },
      "execution_count": 184,
      "outputs": []
    },
    {
      "cell_type": "code",
      "source": [
        "# df = pd.read_csv('/content/drive/MyDrive/WQA/masterDataFrame.csv')\n",
        "# df= df[df[\"Coincidence\"] < 1].reset_index()\n",
        "# df = df.drop(columns=[\"index\"])\n",
        "\n",
        "# # val_ponds = ['T_B4', 'T_B5', 'T_B6', 'T_B7', 'T_B8']\n",
        "# # val = df[df['Pond'].isin(val_ponds)]\n",
        "# # train = df[~df['Pond'].isin(val_ponds)]\n",
        "\n",
        "# GT = df[['pH',\t'Salinity',\t'Ammonia']]\n",
        "# Banddata = df[['CoastalAerosol'\t,'Blue',\t'Green',\t'Red',\t'RedEdge1'\t,'RedEdge2',\t'RedEdge3',\t'NIR'\t,'NarrowNIR',\t'WaterVapour',\t'SWIR1',\t'SWIR2']]\n"
      ],
      "metadata": {
        "id": "vf9PZ4CvU3wz"
      },
      "execution_count": 185,
      "outputs": []
    },
    {
      "cell_type": "code",
      "source": [
        "df1 = pd.read_csv('/content/drive/MyDrive/WQA/Asian_site_ard2.csv')\n",
        "df1 = df1[df1[\"Coincidence\"] < 1].reset_index()\n",
        "df1 = df1.drop(columns=[\"index\"])\n",
        "\n",
        "\n",
        "\n",
        "GT1= df1[['pH',\t'Salinity',\t'Ammonia']]\n",
        "Banddata1 = df1[['B11',\t'B12'\t,'B1',\t'B2',\t'B3',\t'B4',\t'B5',\t'B6',\t'B7',\t'B8A',\t'B8',\t'B9']]\n",
        "normalized_Banddata = (Banddata1-Banddata1.min())/(Banddata1.max()-Banddata1.min())\n",
        "len(GT1),len((normalized_Banddata))"
      ],
      "metadata": {
        "colab": {
          "base_uri": "https://localhost:8080/"
        },
        "id": "ZRXP4L9w7BLA",
        "outputId": "4baa854d-7902-41de-f395-dc9fbd5e30eb"
      },
      "execution_count": 206,
      "outputs": [
        {
          "output_type": "execute_result",
          "data": {
            "text/plain": [
              "(66, 66)"
            ]
          },
          "metadata": {},
          "execution_count": 206
        }
      ]
    },
    {
      "cell_type": "code",
      "source": [],
      "metadata": {
        "id": "38c67PoInuwS"
      },
      "execution_count": 220,
      "outputs": []
    },
    {
      "cell_type": "code",
      "execution_count": 223,
      "metadata": {
        "id": "DpF_xL0eQ3sn"
      },
      "outputs": [],
      "source": [
        "#to calculate  the WQI from gt\n",
        "def WQIcalculation(df, GT):\n",
        "  permissibleWP = np.array([8.5,45,0.5])\n",
        "  summ,summWn = 0,0\n",
        "  # # k  = 1/(1/8.5 + 1/45 + 1/0.5)\n",
        "  weights =  np.array(GT.std()/permissibleWP)\n",
        "  weights_norm = weights/sum(weights)\n",
        "  # weights_norm = [0.2,0.4,0.4]\n",
        "  print(weights_norm)\n",
        "  for col,sn,Wn in zip(GT.columns,permissibleWP,weights_norm):\n",
        "    vn = df[col]\n",
        "    vid = 0\n",
        "    if col == 'pH': vid == 7\n",
        "    qn = 100 *(vn - vid)/(sn-vid)\n",
        "    # Wn = k/sn\n",
        "    # print(Wn)\n",
        "    summ += qn*Wn\n",
        "    summWn +=Wn\n",
        "  WQI  = summ /summWn\n",
        "  return WQI\n",
        "\n",
        "# tO create different indcies from the bands\n",
        "def bandmath(bandMatrix,WQI):\n",
        "  df = pd.DataFrame()\n",
        "  cc = list(combinations(bandMatrix.columns,2))\n",
        "  print(cc)\n",
        "  for combination in cc:\n",
        "    a = combination[0]\n",
        "    b = combination[1]\n",
        "    diffIndex = bandMatrix[a] - bandMatrix[b]\n",
        "    normlizedIndex = (bandMatrix[a] - bandMatrix[b])/bandMatrix[a] + bandMatrix[b]\n",
        "    ratioIndex = bandMatrix[a] / bandMatrix[b]\n",
        "    df[f'diff_{a}_{b}'] = diffIndex\n",
        "    df[f'norm_{a}_{b}'] = normlizedIndex\n",
        "    df[f'ratio_{a}_{b}'] =ratioIndex\n",
        "  df['WQI_cal'] = WQI\n",
        "  return  df\n",
        "\n",
        "#to train model to predict the WQI using band  indcies using ML\n",
        "def WQIandBands(df1,WQI):\n",
        "  print('-----For WQI prediction with Bands with SVR algo -----')\n",
        "  X_test = df1.loc[df1['Date of Image'] == '2023-07-09'][['B11',\t'B12'\t,'B1',\t'B2',\t'B3',\t'B4',\t'B5',\t'B6',\t'B7',\t'B8A',\t'B8',\t'B9']]\n",
        "  y_test = df1.loc[df1['Date of Image'] == '2023-07-09'][['pH']]\n",
        "  X_train = df1.loc[df1['Date of Image'] != '2023-07-09'][['B11',\t'B12'\t,'B1',\t'B2',\t'B3',\t'B4',\t'B5',\t'B6',\t'B7',\t'B8A',\t'B8',\t'B9']]\n",
        "  y_train = df1.loc[df1['Date of Image'] != '2023-07-09'][['pH']]\n",
        "  # X_train, X_test, y_train, y_test = train_test_split(Bandsndices, WQI, test_size=0.33, random_state=42)\n",
        "  model = SVR(kernel='rbf', C=1.0, epsilon=0.2)\n",
        "  model.fit(X_train, y_train)\n",
        "  prediction = model.predict(X_test)\n",
        "  print(\"MAE\", mean_absolute_error(y_test, prediction))\n",
        "  print(\"MSE\", mean_squared_error(y_test, prediction))\n",
        "  print(\"RMSE\", mean_squared_error(y_test, prediction, squared=False))\n",
        "  print(\"MAPE\", mean_absolute_percentage_error(y_test, prediction))\n",
        "  print(\"R2 Score\", r2_score(y_test, prediction))\n",
        "  return prediction\n",
        "\n",
        "\n",
        "def CM(actual, predicted):\n",
        "  fig = plt.figure()\n",
        "  plt.scatter(actual, predicted)\n",
        "  plt.show()\n",
        "\n",
        "def LRegression(WQI,GT):\n",
        "  X_train, X_test, y_train, y_test = train_test_split(WQI, GT, test_size=0.33, random_state=42)\n",
        "  model = LinearRegression().fit(X_train, y_train)\n",
        "  # model1 = SVR(kernel='rbf', C=1.0, epsilon=0.2).fit(X_train, y_train)\n",
        "  # model = RandomForestRegressor(max_depth=2, random_state=0).fit(X_train, y_train)\n",
        "  prediction = model.predict(X_test)\n",
        "  for x,y in zip(y_test.values,prediction):\n",
        "    print(x,'-',y)\n",
        "\n",
        "  CM(WQI,GT)\n",
        "  print(\"MAE\", mean_absolute_error(y_test, prediction))\n",
        "  print(\"MSE\", mean_squared_error(y_test, prediction))\n",
        "  print(\"RMSE\", mean_squared_error(y_test, prediction, squared=False))\n",
        "  print(\"MAPE\", mean_absolute_percentage_error(y_test, prediction))\n",
        "  print(\"R2 Score\", r2_score(y_test, prediction))\n",
        "  # return model.coef_,model.intercept_\n",
        "#to predict the parameters from WQI\n",
        "\n",
        "\n",
        "\n",
        "def WQIandParameters(WQI,GT):\n",
        "  print('-----For WQI with pH Regression relation-----')\n",
        "  LRegression(WQI,GT['pH'])\n",
        "  print('-----For WQI with Salinity  Regression relation-----')\n",
        "  LRegression(WQI,GT['Salinity'])\n",
        "  print('-----For WQI with Ammonia SVR relation-----')\n",
        "  LRegression(WQI,GT['Ammonia'])\n",
        "  return None\n",
        "\n"
      ]
    },
    {
      "cell_type": "markdown",
      "source": [
        "## WQI with only bands"
      ],
      "metadata": {
        "id": "ir8KVILORrAn"
      }
    },
    {
      "cell_type": "code",
      "source": [
        "WQI = WQIcalculation(df1 ,GT1)\n",
        "# len(WQI)\n",
        "WQIandBands(df1,WQI)\n",
        "WQIandParameters(np.array(WQI).reshape(-1, 1),GT)"
      ],
      "metadata": {
        "colab": {
          "base_uri": "https://localhost:8080/",
          "height": 1000
        },
        "id": "QMdCAN1SUn8e",
        "outputId": "303eb7af-68d1-4a1b-b2d2-8b204b88a4e3"
      },
      "execution_count": 225,
      "outputs": [
        {
          "output_type": "stream",
          "name": "stdout",
          "text": [
            "[0.15079998 0.63807676 0.21112327]\n",
            "-----For WQI prediction with Bands with SVR algo -----\n",
            "MAE 0.3610759549691938\n",
            "MSE 0.19290078713690448\n",
            "RMSE 0.43920472121426984\n",
            "MAPE 0.04526615227674247\n",
            "R2 Score -1.6958184537766168\n",
            "-----For WQI with pH Regression relation-----\n",
            "8.2 - 8.374096356798841\n",
            "8.3 - 8.377315996561904\n",
            "8.4 - 8.213557828365852\n",
            "7.6 - 7.943055330661097\n",
            "8.6 - 8.29719520555936\n",
            "8.3 - 8.351583297339445\n",
            "8.3 - 8.269466449417072\n",
            "8.5 - 8.154905095200265\n",
            "7.7 - 8.324602596391696\n",
            "7.7 - 7.709761927167029\n",
            "7.7 - 7.820355586426231\n",
            "8.5 - 8.239766055237007\n",
            "7.7 - 7.994996256754712\n",
            "8.4 - 8.372872773955606\n",
            "7.7 - 7.8280184487955955\n",
            "7.5 - 7.942579803012402\n",
            "8.7 - 8.351880243767345\n",
            "8.4 - 8.195487991512756\n",
            "8.1 - 8.077410051104986\n",
            "8.6 - 8.250648557369436\n",
            "8.6 - 8.271462506336901\n",
            "7.6 - 7.817135946663168\n"
          ]
        },
        {
          "output_type": "stream",
          "name": "stderr",
          "text": [
            "/usr/local/lib/python3.10/dist-packages/sklearn/utils/validation.py:1143: DataConversionWarning: A column-vector y was passed when a 1d array was expected. Please change the shape of y to (n_samples, ), for example using ravel().\n",
            "  y = column_or_1d(y, warn=True)\n"
          ]
        },
        {
          "output_type": "display_data",
          "data": {
            "text/plain": [
              "<Figure size 640x480 with 1 Axes>"
            ],
            "image/png": "[encoded data removed]"
          },
          "metadata": {}
        },
        {
          "output_type": "stream",
          "name": "stdout",
          "text": [
            "MAE 0.22222039948843328\n",
            "MSE 0.07346448367204216\n",
            "RMSE 0.2710433243450983\n",
            "MAPE 0.027451644957082803\n",
            "R2 Score 0.5319624839111701\n",
            "-----For WQI with Salinity  Regression relation-----\n",
            "40 - 39.78051927265746\n",
            "40 - 39.90060761902902\n",
            "35 - 33.79264242084096\n",
            "24 - 23.70325353597298\n",
            "38 - 36.91220704954442\n",
            "39 - 38.940811640375586\n",
            "37 - 35.87796076203479\n",
            "32 - 31.604972291769148\n",
            "39 - 37.93446683188775\n",
            "16 - 15.001715132083053\n",
            "20 - 19.126713776955317\n",
            "35 - 34.77017495798796\n",
            "25 - 25.640582051773418\n",
            "40 - 39.73488123514211\n",
            "20 - 19.412528507213793\n",
            "25 - 23.685516977479427\n",
            "40 - 38.95188735322287\n",
            "34 - 33.118661172446\n",
            "28 - 28.714508642961516\n",
            "35 - 35.17607803461799\n",
            "37 - 35.952411070890975\n",
            "20 - 19.006625430583753\n"
          ]
        },
        {
          "output_type": "display_data",
          "data": {
            "text/plain": [
              "<Figure size 640x480 with 1 Axes>"
            ],
            "image/png": "[encoded data removed]"
          },
          "metadata": {}
        },
        {
          "output_type": "stream",
          "name": "stdout",
          "text": [
            "MAE 0.6964823496016161\n",
            "MSE 0.6458045789417995\n",
            "RMSE 0.8036196730679256\n",
            "MAPE 0.024656840314279727\n",
            "R2 Score 0.9893644079006488\n",
            "-----For WQI with Ammonia SVR relation-----\n",
            "0.05 - 0.05005553539948822\n",
            "0.05 - 0.050089180351570985\n",
            "0.0 - 0.04837792191038663\n",
            "0.05 - 0.04555119462308254\n",
            "0.0 - 0.04925192513903511\n",
            "0.05 - 0.049820275910076664\n",
            "0.01 - 0.04896216207845162\n",
            "0.02 - 0.047765006012304635\n",
            "0.04 - 0.049538329960421006\n",
            "0.01 - 0.04311329909457432\n",
            "0.02 - 0.04426899309771071\n",
            "0.03 - 0.04865179557394669\n",
            "0.08 - 0.04609397272813692\n",
            "0.04 - 0.05004274906649464\n",
            "0.03 - 0.04434906933486981\n",
            "0.02 - 0.04554622540101679\n",
            "0.0 - 0.04982337897410651\n",
            "0.01 - 0.048189093706051414\n",
            "0.07 - 0.046955189623791825\n",
            "0.04 - 0.048765516763188556\n",
            "0.0 - 0.04898302069754079\n",
            "0.02 - 0.04423534814562795\n"
          ]
        },
        {
          "output_type": "display_data",
          "data": {
            "text/plain": [
              "<Figure size 640x480 with 1 Axes>"
            ],
            "image/png": "[encoded data removed]"
          },
          "metadata": {}
        },
        {
          "output_type": "stream",
          "name": "stdout",
          "text": [
            "MAE 0.024163087173713568\n",
            "MSE 0.0008565292268749071\n",
            "RMSE 0.029266520580262134\n",
            "MAPE 40212282160685.66\n",
            "R2 Score -0.6852038447457525\n"
          ]
        }
      ]
    },
    {
      "cell_type": "code",
      "source": [],
      "metadata": {
        "id": "L9mZXEFKCzRj"
      },
      "execution_count": null,
      "outputs": []
    },
    {
      "cell_type": "code",
      "source": [],
      "metadata": {
        "id": "MvgCXQ7SCzEk"
      },
      "execution_count": null,
      "outputs": []
    },
    {
      "cell_type": "code",
      "source": [],
      "metadata": {
        "id": "5peUdZ6ACzBG"
      },
      "execution_count": null,
      "outputs": []
    },
    {
      "cell_type": "code",
      "source": [],
      "metadata": {
        "id": "Cl7F2KKUCy_B"
      },
      "execution_count": null,
      "outputs": []
    },
    {
      "cell_type": "code",
      "source": [],
      "metadata": {
        "id": "PSJuo7abCy8o"
      },
      "execution_count": null,
      "outputs": []
    },
    {
      "cell_type": "code",
      "source": [],
      "metadata": {
        "id": "MOLEQcrwCy6W"
      },
      "execution_count": null,
      "outputs": []
    },
    {
      "cell_type": "code",
      "source": [],
      "metadata": {
        "id": "SoYf6tO3Cy4I"
      },
      "execution_count": null,
      "outputs": []
    },
    {
      "cell_type": "code",
      "source": [],
      "metadata": {
        "id": "eAEEjWz3Cysh"
      },
      "execution_count": null,
      "outputs": []
    },
    {
      "cell_type": "code",
      "source": [
        "newdf = bandmath(normalized_Banddata,WQI)"
      ],
      "metadata": {
        "id": "_b_sxESwSSdG"
      },
      "execution_count": null,
      "outputs": []
    },
    {
      "cell_type": "code",
      "source": [
        "(newdf.columns)"
      ],
      "metadata": {
        "colab": {
          "base_uri": "https://localhost:8080/"
        },
        "id": "AXDed9sqpVvR",
        "outputId": "ea584f8b-08d0-4242-8cf1-328c0e201821"
      },
      "execution_count": 68,
      "outputs": [
        {
          "output_type": "execute_result",
          "data": {
            "text/plain": [
              "Index(['diff_B11_B12', 'norm_B11_B12', 'ratio_B11_B12', 'diff_B11_B1',\n",
              "       'norm_B11_B1', 'ratio_B11_B1', 'diff_B11_B2', 'norm_B11_B2',\n",
              "       'ratio_B11_B2', 'diff_B11_B3',\n",
              "       ...\n",
              "       'diff_B8A_B8', 'norm_B8A_B8', 'ratio_B8A_B8', 'diff_B8A_B9',\n",
              "       'norm_B8A_B9', 'ratio_B8A_B9', 'diff_B8_B9', 'norm_B8_B9',\n",
              "       'ratio_B8_B9', 'WQI_cal'],\n",
              "      dtype='object', length=199)"
            ]
          },
          "metadata": {},
          "execution_count": 68
        }
      ]
    },
    {
      "cell_type": "markdown",
      "source": [],
      "metadata": {
        "id": "g-MohxHjSSAX"
      }
    },
    {
      "cell_type": "markdown",
      "source": [
        "## WQI with  top  10 combination indices"
      ],
      "metadata": {
        "id": "afH5m9yvRv0E"
      }
    },
    {
      "cell_type": "code",
      "source": [
        "corrwithWQI = newdf.corrwith(newdf['WQI_cal'])\n",
        "type(corrwithWQI)\n",
        "corrdict  = corrwithWQI.to_dict()\n",
        "sortedkeys = sorted(corrdict, key=corrdict.get, reverse=True)\n",
        "for r in sortedkeys[:11]:\n",
        "    print(r, corrdict[r])"
      ],
      "metadata": {
        "colab": {
          "base_uri": "https://localhost:8080/"
        },
        "id": "1ITBJ6b5_WSN",
        "outputId": "1d52f0a9-be1b-4a6e-e50f-f5958a7f5b09"
      },
      "execution_count": 69,
      "outputs": [
        {
          "output_type": "stream",
          "name": "stdout",
          "text": [
            "norm_B11_B12 nan\n",
            "ratio_B11_B12 nan\n",
            "diff_B11_B1 0.5858860051643021\n",
            "norm_B11_B1 nan\n",
            "ratio_B11_B1 nan\n",
            "diff_B11_B2 0.4658491561971674\n",
            "norm_B11_B2 nan\n",
            "ratio_B11_B2 nan\n",
            "diff_B11_B4 0.48070141895931656\n",
            "ratio_B11_B4 0.38649205966089945\n",
            "diff_B11_B3 0.3626035464330987\n"
          ]
        }
      ]
    },
    {
      "cell_type": "code",
      "source": [
        "newtraindf = newdf[sortedkeys].drop('WQI_cal',axis = 1)\n",
        "scaler = StandardScaler()\n",
        "scaler.fit(newtraindf)\n",
        "newscaledtraindf = scaler.transform(newtraindf)\n",
        "WQIandBands(newscaledtraindf,WQI)"
      ],
      "metadata": {
        "colab": {
          "base_uri": "https://localhost:8080/",
          "height": 415
        },
        "id": "37Puh-UjC5U9",
        "outputId": "f7789028-d3b6-42f1-b848-8c22594c591b"
      },
      "execution_count": 70,
      "outputs": [
        {
          "output_type": "stream",
          "name": "stderr",
          "text": [
            "/usr/local/lib/python3.10/dist-packages/numpy/core/fromnumeric.py:86: RuntimeWarning: invalid value encountered in reduce\n",
            "  return ufunc.reduce(obj, axis, dtype, out, **passkwargs)\n"
          ]
        },
        {
          "output_type": "error",
          "ename": "ValueError",
          "evalue": "ignored",
          "traceback": [
            "\u001b[0;31m---------------------------------------------------------------------------\u001b[0m",
            "\u001b[0;31mValueError\u001b[0m                                Traceback (most recent call last)",
            "\u001b[0;32m<ipython-input-70-658d909c8686>\u001b[0m in \u001b[0;36m<cell line: 3>\u001b[0;34m()\u001b[0m\n\u001b[1;32m      1\u001b[0m \u001b[0mnewtraindf\u001b[0m \u001b[0;34m=\u001b[0m \u001b[0mnewdf\u001b[0m\u001b[0;34m[\u001b[0m\u001b[0msortedkeys\u001b[0m\u001b[0;34m]\u001b[0m\u001b[0;34m.\u001b[0m\u001b[0mdrop\u001b[0m\u001b[0;34m(\u001b[0m\u001b[0;34m'WQI_cal'\u001b[0m\u001b[0;34m,\u001b[0m\u001b[0maxis\u001b[0m \u001b[0;34m=\u001b[0m \u001b[0;36m1\u001b[0m\u001b[0;34m)\u001b[0m\u001b[0;34m\u001b[0m\u001b[0;34m\u001b[0m\u001b[0m\n\u001b[1;32m      2\u001b[0m \u001b[0mscaler\u001b[0m \u001b[0;34m=\u001b[0m \u001b[0mStandardScaler\u001b[0m\u001b[0;34m(\u001b[0m\u001b[0;34m)\u001b[0m\u001b[0;34m\u001b[0m\u001b[0;34m\u001b[0m\u001b[0m\n\u001b[0;32m----> 3\u001b[0;31m \u001b[0mscaler\u001b[0m\u001b[0;34m.\u001b[0m\u001b[0mfit\u001b[0m\u001b[0;34m(\u001b[0m\u001b[0mnewtraindf\u001b[0m\u001b[0;34m)\u001b[0m\u001b[0;34m\u001b[0m\u001b[0;34m\u001b[0m\u001b[0m\n\u001b[0m\u001b[1;32m      4\u001b[0m \u001b[0mnewscaledtraindf\u001b[0m \u001b[0;34m=\u001b[0m \u001b[0mscaler\u001b[0m\u001b[0;34m.\u001b[0m\u001b[0mtransform\u001b[0m\u001b[0;34m(\u001b[0m\u001b[0mnewtraindf\u001b[0m\u001b[0;34m)\u001b[0m\u001b[0;34m\u001b[0m\u001b[0;34m\u001b[0m\u001b[0m\n\u001b[1;32m      5\u001b[0m \u001b[0mWQIandBands\u001b[0m\u001b[0;34m(\u001b[0m\u001b[0mnewscaledtraindf\u001b[0m\u001b[0;34m,\u001b[0m\u001b[0mWQI\u001b[0m\u001b[0;34m)\u001b[0m\u001b[0;34m\u001b[0m\u001b[0;34m\u001b[0m\u001b[0m\n",
            "\u001b[0;32m/usr/local/lib/python3.10/dist-packages/sklearn/preprocessing/_data.py\u001b[0m in \u001b[0;36mfit\u001b[0;34m(self, X, y, sample_weight)\u001b[0m\n\u001b[1;32m    822\u001b[0m         \u001b[0;31m# Reset internal state before fitting\u001b[0m\u001b[0;34m\u001b[0m\u001b[0;34m\u001b[0m\u001b[0m\n\u001b[1;32m    823\u001b[0m         \u001b[0mself\u001b[0m\u001b[0;34m.\u001b[0m\u001b[0m_reset\u001b[0m\u001b[0;34m(\u001b[0m\u001b[0;34m)\u001b[0m\u001b[0;34m\u001b[0m\u001b[0;34m\u001b[0m\u001b[0m\n\u001b[0;32m--> 824\u001b[0;31m         \u001b[0;32mreturn\u001b[0m \u001b[0mself\u001b[0m\u001b[0;34m.\u001b[0m\u001b[0mpartial_fit\u001b[0m\u001b[0;34m(\u001b[0m\u001b[0mX\u001b[0m\u001b[0;34m,\u001b[0m \u001b[0my\u001b[0m\u001b[0;34m,\u001b[0m \u001b[0msample_weight\u001b[0m\u001b[0;34m)\u001b[0m\u001b[0;34m\u001b[0m\u001b[0;34m\u001b[0m\u001b[0m\n\u001b[0m\u001b[1;32m    825\u001b[0m \u001b[0;34m\u001b[0m\u001b[0m\n\u001b[1;32m    826\u001b[0m     \u001b[0;32mdef\u001b[0m \u001b[0mpartial_fit\u001b[0m\u001b[0;34m(\u001b[0m\u001b[0mself\u001b[0m\u001b[0;34m,\u001b[0m \u001b[0mX\u001b[0m\u001b[0;34m,\u001b[0m \u001b[0my\u001b[0m\u001b[0;34m=\u001b[0m\u001b[0;32mNone\u001b[0m\u001b[0;34m,\u001b[0m \u001b[0msample_weight\u001b[0m\u001b[0;34m=\u001b[0m\u001b[0;32mNone\u001b[0m\u001b[0;34m)\u001b[0m\u001b[0;34m:\u001b[0m\u001b[0;34m\u001b[0m\u001b[0;34m\u001b[0m\u001b[0m\n",
            "\u001b[0;32m/usr/local/lib/python3.10/dist-packages/sklearn/preprocessing/_data.py\u001b[0m in \u001b[0;36mpartial_fit\u001b[0;34m(self, X, y, sample_weight)\u001b[0m\n\u001b[1;32m    859\u001b[0m \u001b[0;34m\u001b[0m\u001b[0m\n\u001b[1;32m    860\u001b[0m         \u001b[0mfirst_call\u001b[0m \u001b[0;34m=\u001b[0m \u001b[0;32mnot\u001b[0m \u001b[0mhasattr\u001b[0m\u001b[0;34m(\u001b[0m\u001b[0mself\u001b[0m\u001b[0;34m,\u001b[0m \u001b[0;34m\"n_samples_seen_\"\u001b[0m\u001b[0;34m)\u001b[0m\u001b[0;34m\u001b[0m\u001b[0;34m\u001b[0m\u001b[0m\n\u001b[0;32m--> 861\u001b[0;31m         X = self._validate_data(\n\u001b[0m\u001b[1;32m    862\u001b[0m             \u001b[0mX\u001b[0m\u001b[0;34m,\u001b[0m\u001b[0;34m\u001b[0m\u001b[0;34m\u001b[0m\u001b[0m\n\u001b[1;32m    863\u001b[0m             \u001b[0maccept_sparse\u001b[0m\u001b[0;34m=\u001b[0m\u001b[0;34m(\u001b[0m\u001b[0;34m\"csr\"\u001b[0m\u001b[0;34m,\u001b[0m \u001b[0;34m\"csc\"\u001b[0m\u001b[0;34m)\u001b[0m\u001b[0;34m,\u001b[0m\u001b[0;34m\u001b[0m\u001b[0;34m\u001b[0m\u001b[0m\n",
            "\u001b[0;32m/usr/local/lib/python3.10/dist-packages/sklearn/base.py\u001b[0m in \u001b[0;36m_validate_data\u001b[0;34m(self, X, y, reset, validate_separately, **check_params)\u001b[0m\n\u001b[1;32m    563\u001b[0m             \u001b[0;32mraise\u001b[0m \u001b[0mValueError\u001b[0m\u001b[0;34m(\u001b[0m\u001b[0;34m\"Validation should be done on X, y or both.\"\u001b[0m\u001b[0;34m)\u001b[0m\u001b[0;34m\u001b[0m\u001b[0;34m\u001b[0m\u001b[0m\n\u001b[1;32m    564\u001b[0m         \u001b[0;32melif\u001b[0m \u001b[0;32mnot\u001b[0m \u001b[0mno_val_X\u001b[0m \u001b[0;32mand\u001b[0m \u001b[0mno_val_y\u001b[0m\u001b[0;34m:\u001b[0m\u001b[0;34m\u001b[0m\u001b[0;34m\u001b[0m\u001b[0m\n\u001b[0;32m--> 565\u001b[0;31m             \u001b[0mX\u001b[0m \u001b[0;34m=\u001b[0m \u001b[0mcheck_array\u001b[0m\u001b[0;34m(\u001b[0m\u001b[0mX\u001b[0m\u001b[0;34m,\u001b[0m \u001b[0minput_name\u001b[0m\u001b[0;34m=\u001b[0m\u001b[0;34m\"X\"\u001b[0m\u001b[0;34m,\u001b[0m \u001b[0;34m**\u001b[0m\u001b[0mcheck_params\u001b[0m\u001b[0;34m)\u001b[0m\u001b[0;34m\u001b[0m\u001b[0;34m\u001b[0m\u001b[0m\n\u001b[0m\u001b[1;32m    566\u001b[0m             \u001b[0mout\u001b[0m \u001b[0;34m=\u001b[0m \u001b[0mX\u001b[0m\u001b[0;34m\u001b[0m\u001b[0;34m\u001b[0m\u001b[0m\n\u001b[1;32m    567\u001b[0m         \u001b[0;32melif\u001b[0m \u001b[0mno_val_X\u001b[0m \u001b[0;32mand\u001b[0m \u001b[0;32mnot\u001b[0m \u001b[0mno_val_y\u001b[0m\u001b[0;34m:\u001b[0m\u001b[0;34m\u001b[0m\u001b[0;34m\u001b[0m\u001b[0m\n",
            "\u001b[0;32m/usr/local/lib/python3.10/dist-packages/sklearn/utils/validation.py\u001b[0m in \u001b[0;36mcheck_array\u001b[0;34m(array, accept_sparse, accept_large_sparse, dtype, order, copy, force_all_finite, ensure_2d, allow_nd, ensure_min_samples, ensure_min_features, estimator, input_name)\u001b[0m\n\u001b[1;32m    919\u001b[0m \u001b[0;34m\u001b[0m\u001b[0m\n\u001b[1;32m    920\u001b[0m         \u001b[0;32mif\u001b[0m \u001b[0mforce_all_finite\u001b[0m\u001b[0;34m:\u001b[0m\u001b[0;34m\u001b[0m\u001b[0;34m\u001b[0m\u001b[0m\n\u001b[0;32m--> 921\u001b[0;31m             _assert_all_finite(\n\u001b[0m\u001b[1;32m    922\u001b[0m                 \u001b[0marray\u001b[0m\u001b[0;34m,\u001b[0m\u001b[0;34m\u001b[0m\u001b[0;34m\u001b[0m\u001b[0m\n\u001b[1;32m    923\u001b[0m                 \u001b[0minput_name\u001b[0m\u001b[0;34m=\u001b[0m\u001b[0minput_name\u001b[0m\u001b[0;34m,\u001b[0m\u001b[0;34m\u001b[0m\u001b[0;34m\u001b[0m\u001b[0m\n",
            "\u001b[0;32m/usr/local/lib/python3.10/dist-packages/sklearn/utils/validation.py\u001b[0m in \u001b[0;36m_assert_all_finite\u001b[0;34m(X, allow_nan, msg_dtype, estimator_name, input_name)\u001b[0m\n\u001b[1;32m    159\u001b[0m                 \u001b[0;34m\"#estimators-that-handle-nan-values\"\u001b[0m\u001b[0;34m\u001b[0m\u001b[0;34m\u001b[0m\u001b[0m\n\u001b[1;32m    160\u001b[0m             )\n\u001b[0;32m--> 161\u001b[0;31m         \u001b[0;32mraise\u001b[0m \u001b[0mValueError\u001b[0m\u001b[0;34m(\u001b[0m\u001b[0mmsg_err\u001b[0m\u001b[0;34m)\u001b[0m\u001b[0;34m\u001b[0m\u001b[0;34m\u001b[0m\u001b[0m\n\u001b[0m\u001b[1;32m    162\u001b[0m \u001b[0;34m\u001b[0m\u001b[0m\n\u001b[1;32m    163\u001b[0m \u001b[0;34m\u001b[0m\u001b[0m\n",
            "\u001b[0;31mValueError\u001b[0m: Input X contains infinity or a value too large for dtype('float64')."
          ]
        }
      ]
    },
    {
      "cell_type": "code",
      "source": [
        "# plt.scatter(df['norm_NarrowNIR_SWIR1'],df['WQI_cal'])\n",
        "# plt.scatter(df['norm_NarrowNIR_SWIR2'],df['WQI_cal'])\n",
        "# plt.scatter(df['norm_WaterVapour_SWIR2'],df['WQI_cal'])"
      ],
      "metadata": {
        "id": "mF5NvxzBFwM-"
      },
      "execution_count": 22,
      "outputs": []
    },
    {
      "cell_type": "markdown",
      "source": [
        "## WQI with  PCA 3 bands"
      ],
      "metadata": {
        "id": "5sjQ6U5pScCF"
      }
    },
    {
      "cell_type": "code",
      "source": [
        "pca = PCA(n_components=3)\n",
        "scaler = StandardScaler()\n",
        "scaler.fit(Banddata)\n",
        "scaled_banddata = scaler.transform(Banddata)\n",
        "pca = PCA(n_components=2)\n",
        "pca.fit(scaled_banddata)\n",
        "pca_banddata =  pca.transform(scaled_banddata)"
      ],
      "metadata": {
        "id": "4z4M9chuSbaq"
      },
      "execution_count": 75,
      "outputs": []
    },
    {
      "cell_type": "code",
      "source": [
        "WQIandBands(pca_banddata,WQI)"
      ],
      "metadata": {
        "colab": {
          "base_uri": "https://localhost:8080/"
        },
        "id": "ymHMEpLxTneH",
        "outputId": "c3824f57-27ac-43c6-9000-9185a710a920"
      },
      "execution_count": 76,
      "outputs": [
        {
          "output_type": "stream",
          "name": "stdout",
          "text": [
            "-----For WQI prediction with Bands-----\n",
            "MAE 5.458496452142369\n",
            "MSE 52.319625982997785\n",
            "RMSE 7.23323067397949\n",
            "MAPE 0.10711306871020959\n",
            "R2 Score 0.6091376933765194\n"
          ]
        },
        {
          "output_type": "execute_result",
          "data": {
            "text/plain": [
              "array([68.72809614, 68.05966639, 67.77056068, 52.42815373, 68.36026731,\n",
              "       68.18806405, 59.41466517, 66.9223207 , 67.52235209, 58.81266969,\n",
              "       53.11104072, 65.37325183, 53.69509358, 65.47501901, 53.9163138 ,\n",
              "       54.04917639, 68.52627809, 58.04147404, 52.92670339, 65.21070379,\n",
              "       67.99782643, 53.03684499])"
            ]
          },
          "metadata": {},
          "execution_count": 76
        }
      ]
    },
    {
      "cell_type": "code",
      "source": [],
      "metadata": {
        "id": "IFYtsN9lUULu"
      },
      "execution_count": null,
      "outputs": []
    }
  ]
}
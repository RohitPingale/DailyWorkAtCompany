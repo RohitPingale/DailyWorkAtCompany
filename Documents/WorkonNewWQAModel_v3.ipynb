{
  "cells": [
    {
      "cell_type": "code",
      "source": [
        "from google.colab import drive\n",
        "drive.mount('/content/drive')"
      ],
      "metadata": {
        "colab": {
          "base_uri": "https://localhost:8080/"
        },
        "id": "cY8jdrRQTNmB",
        "outputId": "9b6a35ce-ebbc-4498-a198-6e4592f980f6"
      },
      "execution_count": 238,
      "outputs": [
        {
          "output_type": "stream",
          "name": "stdout",
          "text": [
            "Drive already mounted at /content/drive; to attempt to forcibly remount, call drive.mount(\"/content/drive\", force_remount=True).\n"
          ]
        }
      ]
    },
    {
      "cell_type": "code",
      "execution_count": 239,
      "metadata": {
        "id": "gL8IylRfU_mL"
      },
      "outputs": [],
      "source": [
        "import pandas as pd\n",
        "import seaborn as sns\n",
        "import matplotlib.pyplot as plt\n",
        "import numpy as np\n",
        "import seaborn as sns\n",
        "from sklearn.model_selection import train_test_split, cross_val_score, cross_validate\n",
        "from sklearn.svm import SVR\n",
        "from sklearn.neural_network import MLPRegressor\n",
        "from sklearn.linear_model import LinearRegression\n",
        "from sklearn.decomposition import PCA\n",
        "import itertools\n",
        "from sklearn.metrics import mean_squared_error, r2_score, mean_absolute_error, mean_absolute_percentage_error\n",
        "from sklearn.model_selection import cross_val_score,KFold\n",
        "from sklearn.linear_model import LinearRegression\n",
        "from sklearn.metrics import make_scorer, mean_absolute_error, r2_score, confusion_matrix,ConfusionMatrixDisplay\n",
        "import numpy as np\n",
        "import xgboost as xgb\n",
        "from sklearn.ensemble import RandomForestRegressor\n",
        "from sklearn.preprocessing import StandardScaler,MinMaxScaler\n",
        "from itertools import combinations\n",
        "import statistics\n",
        "import math"
      ]
    },
    {
      "cell_type": "code",
      "execution_count": 293,
      "metadata": {
        "id": "ZRXP4L9w7BLA"
      },
      "outputs": [],
      "source": [
        "# dataframe = pd.read_csv('/content/drive/MyDrive/WQA_data/Asian_site_ard2.csv')\n",
        "# dataframe = pd.read_csv('/content/drive/MyDrive/WQA_data/AvantiCombined_NSR.csv')\n",
        "dataframe = pd.read_csv('/content/drive/MyDrive/WQA_data/AvantiCombined_SR.csv')\n",
        "dataframe = dataframe[dataframe[\"Coincidence\"] < 1].reset_index()\n",
        "dataframe = dataframe.drop(columns=[\"index\"])\n",
        "dataframe = dataframe[dataframe['Salinity']>20]"
      ]
    },
    {
      "cell_type": "code",
      "execution_count": 294,
      "metadata": {
        "id": "Pb1V9w7ISFs5"
      },
      "outputs": [],
      "source": [
        "tempdf = pd.DataFrame()\n",
        "tempdf['Tmean'] = dataframe[['pH','Salinity','Ammonia']].mean()\n",
        "tempdf['Tstd'] = dataframe[['pH','Salinity','Ammonia']].std()\n",
        "for date in dataframe['Date of Image'].unique():\n",
        "  df = dataframe.loc[dataframe['Date of Image'] == date]\n",
        "  tempdf[f'{date}_mean'] = df[['pH','Salinity','Ammonia']].mean()\n",
        "  tempdf[f'{date}_std'] = df[['pH','Salinity','Ammonia']].std()"
      ]
    },
    {
      "cell_type": "code",
      "source": [
        "tempdf"
      ],
      "metadata": {
        "colab": {
          "base_uri": "https://localhost:8080/",
          "height": 205
        },
        "id": "nsbf_YtNnfiC",
        "outputId": "6952510b-b7af-4a95-9abd-c5d0b1b8a966"
      },
      "execution_count": 295,
      "outputs": [
        {
          "output_type": "execute_result",
          "data": {
            "text/plain": [
              "              Tmean      Tstd  2022-07-14_mean  2022-07-14_std  \\\n",
              "pH         8.205357  0.361522            8.600        0.106904   \n",
              "Salinity  33.678571  6.390638           37.875        1.807722   \n",
              "Ammonia    0.043750  0.032784            0.000        0.000000   \n",
              "\n",
              "          2022-09-12_mean  2022-09-12_std  2023-04-25_mean  2023-04-25_std  \\\n",
              "pH                8.43750        0.170783           7.6250        0.150000   \n",
              "Salinity         35.56250        3.898183          26.0000        3.366502   \n",
              "Ammonia           0.02625        0.015438           0.0275        0.009574   \n",
              "\n",
              "          2023-05-30_mean  2023-05-30_std  2023-07-09_mean  2023-07-09_std  \n",
              "pH               7.900000        0.264575         8.166667        0.276887  \n",
              "Salinity        24.923077        1.754116        39.066667        2.051712  \n",
              "Ammonia          0.074615        0.025038         0.063333        0.024398  "
            ],
            "text/html": [
              "\n",
              "\n",
              "  <div id=\"df-bb3d5baf-4212-4631-b842-d46f8ea9b37b\">\n",
              "    <div class=\"colab-df-container\">\n",
              "      <div>\n",
              "<style scoped>\n",
              "    .dataframe tbody tr th:only-of-type {\n",
              "        vertical-align: middle;\n",
              "    }\n",
              "\n",
              "    .dataframe tbody tr th {\n",
              "        vertical-align: top;\n",
              "    }\n",
              "\n",
              "    .dataframe thead th {\n",
              "        text-align: right;\n",
              "    }\n",
              "</style>\n",
              "<table border=\"1\" class=\"dataframe\">\n",
              "  <thead>\n",
              "    <tr style=\"text-align: right;\">\n",
              "      <th></th>\n",
              "      <th>Tmean</th>\n",
              "      <th>Tstd</th>\n",
              "      <th>2022-07-14_mean</th>\n",
              "      <th>2022-07-14_std</th>\n",
              "      <th>2022-09-12_mean</th>\n",
              "      <th>2022-09-12_std</th>\n",
              "      <th>2023-04-25_mean</th>\n",
              "      <th>2023-04-25_std</th>\n",
              "      <th>2023-05-30_mean</th>\n",
              "      <th>2023-05-30_std</th>\n",
              "      <th>2023-07-09_mean</th>\n",
              "      <th>2023-07-09_std</th>\n",
              "    </tr>\n",
              "  </thead>\n",
              "  <tbody>\n",
              "    <tr>\n",
              "      <th>pH</th>\n",
              "      <td>8.205357</td>\n",
              "      <td>0.361522</td>\n",
              "      <td>8.600</td>\n",
              "      <td>0.106904</td>\n",
              "      <td>8.43750</td>\n",
              "      <td>0.170783</td>\n",
              "      <td>7.6250</td>\n",
              "      <td>0.150000</td>\n",
              "      <td>7.900000</td>\n",
              "      <td>0.264575</td>\n",
              "      <td>8.166667</td>\n",
              "      <td>0.276887</td>\n",
              "    </tr>\n",
              "    <tr>\n",
              "      <th>Salinity</th>\n",
              "      <td>33.678571</td>\n",
              "      <td>6.390638</td>\n",
              "      <td>37.875</td>\n",
              "      <td>1.807722</td>\n",
              "      <td>35.56250</td>\n",
              "      <td>3.898183</td>\n",
              "      <td>26.0000</td>\n",
              "      <td>3.366502</td>\n",
              "      <td>24.923077</td>\n",
              "      <td>1.754116</td>\n",
              "      <td>39.066667</td>\n",
              "      <td>2.051712</td>\n",
              "    </tr>\n",
              "    <tr>\n",
              "      <th>Ammonia</th>\n",
              "      <td>0.043750</td>\n",
              "      <td>0.032784</td>\n",
              "      <td>0.000</td>\n",
              "      <td>0.000000</td>\n",
              "      <td>0.02625</td>\n",
              "      <td>0.015438</td>\n",
              "      <td>0.0275</td>\n",
              "      <td>0.009574</td>\n",
              "      <td>0.074615</td>\n",
              "      <td>0.025038</td>\n",
              "      <td>0.063333</td>\n",
              "      <td>0.024398</td>\n",
              "    </tr>\n",
              "  </tbody>\n",
              "</table>\n",
              "</div>\n",
              "      <button class=\"colab-df-convert\" onclick=\"convertToInteractive('df-bb3d5baf-4212-4631-b842-d46f8ea9b37b')\"\n",
              "              title=\"Convert this dataframe to an interactive table.\"\n",
              "              style=\"display:none;\">\n",
              "\n",
              "  <svg xmlns=\"http://www.w3.org/2000/svg\" height=\"24px\"viewBox=\"0 0 24 24\"\n",
              "       width=\"24px\">\n",
              "    <path d=\"M0 0h24v24H0V0z\" fill=\"none\"/>\n",
              "    <path d=\"M18.56 5.44l.94 2.06.94-2.06 2.06-.94-2.06-.94-.94-2.06-.94 2.06-2.06.94zm-11 1L8.5 8.5l.94-2.06 2.06-.94-2.06-.94L8.5 2.5l-.94 2.06-2.06.94zm10 10l.94 2.06.94-2.06 2.06-.94-2.06-.94-.94-2.06-.94 2.06-2.06.94z\"/><path d=\"M17.41 7.96l-1.37-1.37c-.4-.4-.92-.59-1.43-.59-.52 0-1.04.2-1.43.59L10.3 9.45l-7.72 7.72c-.78.78-.78 2.05 0 2.83L4 21.41c.39.39.9.59 1.41.59.51 0 1.02-.2 1.41-.59l7.78-7.78 2.81-2.81c.8-.78.8-2.07 0-2.86zM5.41 20L4 18.59l7.72-7.72 1.47 1.35L5.41 20z\"/>\n",
              "  </svg>\n",
              "      </button>\n",
              "\n",
              "\n",
              "\n",
              "    <div id=\"df-33dc452e-d4cf-43d7-b0a5-8f0564979775\">\n",
              "      <button class=\"colab-df-quickchart\" onclick=\"quickchart('df-33dc452e-d4cf-43d7-b0a5-8f0564979775')\"\n",
              "              title=\"Suggest charts.\"\n",
              "              style=\"display:none;\">\n",
              "\n",
              "<svg xmlns=\"http://www.w3.org/2000/svg\" height=\"24px\"viewBox=\"0 0 24 24\"\n",
              "     width=\"24px\">\n",
              "    <g>\n",
              "        <path d=\"M19 3H5c-1.1 0-2 .9-2 2v14c0 1.1.9 2 2 2h14c1.1 0 2-.9 2-2V5c0-1.1-.9-2-2-2zM9 17H7v-7h2v7zm4 0h-2V7h2v10zm4 0h-2v-4h2v4z\"/>\n",
              "    </g>\n",
              "</svg>\n",
              "      </button>\n",
              "    </div>\n",
              "\n",
              "<style>\n",
              "  .colab-df-quickchart {\n",
              "    background-color: #E8F0FE;\n",
              "    border: none;\n",
              "    border-radius: 50%;\n",
              "    cursor: pointer;\n",
              "    display: none;\n",
              "    fill: #1967D2;\n",
              "    height: 32px;\n",
              "    padding: 0 0 0 0;\n",
              "    width: 32px;\n",
              "  }\n",
              "\n",
              "  .colab-df-quickchart:hover {\n",
              "    background-color: #E2EBFA;\n",
              "    box-shadow: 0px 1px 2px rgba(60, 64, 67, 0.3), 0px 1px 3px 1px rgba(60, 64, 67, 0.15);\n",
              "    fill: #174EA6;\n",
              "  }\n",
              "\n",
              "  [theme=dark] .colab-df-quickchart {\n",
              "    background-color: #3B4455;\n",
              "    fill: #D2E3FC;\n",
              "  }\n",
              "\n",
              "  [theme=dark] .colab-df-quickchart:hover {\n",
              "    background-color: #434B5C;\n",
              "    box-shadow: 0px 1px 3px 1px rgba(0, 0, 0, 0.15);\n",
              "    filter: drop-shadow(0px 1px 2px rgba(0, 0, 0, 0.3));\n",
              "    fill: #FFFFFF;\n",
              "  }\n",
              "</style>\n",
              "\n",
              "    <script>\n",
              "      async function quickchart(key) {\n",
              "        const containerElement = document.querySelector('#' + key);\n",
              "        const charts = await google.colab.kernel.invokeFunction(\n",
              "            'suggestCharts', [key], {});\n",
              "      }\n",
              "    </script>\n",
              "\n",
              "      <script>\n",
              "\n",
              "function displayQuickchartButton(domScope) {\n",
              "  let quickchartButtonEl =\n",
              "    domScope.querySelector('#df-33dc452e-d4cf-43d7-b0a5-8f0564979775 button.colab-df-quickchart');\n",
              "  quickchartButtonEl.style.display =\n",
              "    google.colab.kernel.accessAllowed ? 'block' : 'none';\n",
              "}\n",
              "\n",
              "        displayQuickchartButton(document);\n",
              "      </script>\n",
              "      <style>\n",
              "    .colab-df-container {\n",
              "      display:flex;\n",
              "      flex-wrap:wrap;\n",
              "      gap: 12px;\n",
              "    }\n",
              "\n",
              "    .colab-df-convert {\n",
              "      background-color: #E8F0FE;\n",
              "      border: none;\n",
              "      border-radius: 50%;\n",
              "      cursor: pointer;\n",
              "      display: none;\n",
              "      fill: #1967D2;\n",
              "      height: 32px;\n",
              "      padding: 0 0 0 0;\n",
              "      width: 32px;\n",
              "    }\n",
              "\n",
              "    .colab-df-convert:hover {\n",
              "      background-color: #E2EBFA;\n",
              "      box-shadow: 0px 1px 2px rgba(60, 64, 67, 0.3), 0px 1px 3px 1px rgba(60, 64, 67, 0.15);\n",
              "      fill: #174EA6;\n",
              "    }\n",
              "\n",
              "    [theme=dark] .colab-df-convert {\n",
              "      background-color: #3B4455;\n",
              "      fill: #D2E3FC;\n",
              "    }\n",
              "\n",
              "    [theme=dark] .colab-df-convert:hover {\n",
              "      background-color: #434B5C;\n",
              "      box-shadow: 0px 1px 3px 1px rgba(0, 0, 0, 0.15);\n",
              "      filter: drop-shadow(0px 1px 2px rgba(0, 0, 0, 0.3));\n",
              "      fill: #FFFFFF;\n",
              "    }\n",
              "  </style>\n",
              "\n",
              "      <script>\n",
              "        const buttonEl =\n",
              "          document.querySelector('#df-bb3d5baf-4212-4631-b842-d46f8ea9b37b button.colab-df-convert');\n",
              "        buttonEl.style.display =\n",
              "          google.colab.kernel.accessAllowed ? 'block' : 'none';\n",
              "\n",
              "        async function convertToInteractive(key) {\n",
              "          const element = document.querySelector('#df-bb3d5baf-4212-4631-b842-d46f8ea9b37b');\n",
              "          const dataTable =\n",
              "            await google.colab.kernel.invokeFunction('convertToInteractive',\n",
              "                                                     [key], {});\n",
              "          if (!dataTable) return;\n",
              "\n",
              "          const docLinkHtml = 'Like what you see? Visit the ' +\n",
              "            '<a target=\"_blank\" href=https://colab.research.google.com/notebooks/data_table.ipynb>data table notebook</a>'\n",
              "            + ' to learn more about interactive tables.';\n",
              "          element.innerHTML = '';\n",
              "          dataTable['output_type'] = 'display_data';\n",
              "          await google.colab.output.renderOutput(dataTable, element);\n",
              "          const docLink = document.createElement('div');\n",
              "          docLink.innerHTML = docLinkHtml;\n",
              "          element.appendChild(docLink);\n",
              "        }\n",
              "      </script>\n",
              "    </div>\n",
              "  </div>\n"
            ]
          },
          "metadata": {},
          "execution_count": 295
        }
      ]
    },
    {
      "cell_type": "code",
      "source": [
        "dataframe.head()"
      ],
      "metadata": {
        "colab": {
          "base_uri": "https://localhost:8080/",
          "height": 235
        },
        "id": "rtc5RveLfbG3",
        "outputId": "2a64fd4c-7a51-4f30-dba5-67216fe3dcba"
      },
      "execution_count": 296,
      "outputs": [
        {
          "output_type": "execute_result",
          "data": {
            "text/plain": [
              "           PondID   pH  Salinity  Carbonate  BiCarbonate  Alkalinity  \\\n",
              "0  TUPILIPALEM_A2  8.4        35         30          120         150   \n",
              "1  TUPILIPALEM_A3  8.7        38         40          120         160   \n",
              "2  TUPILIPALEM_A4  8.7        39         40          110         150   \n",
              "3  TUPILIPALEM_A5  8.7        40         40          120         160   \n",
              "4  TUPILIPALEM_B2  8.6        36         50          110         160   \n",
              "\n",
              "   Hardness  Calcium  Magnesium  Ammonia  ...  B12   B2   B3    B4    B5  \\\n",
              "0      6300      388       1296      0.0  ...  821  759  964   800  1132   \n",
              "1      6800      472       1471      0.0  ...  645  645  833   639   879   \n",
              "2      6960      482       1488      0.0  ...  573  541  694   528   768   \n",
              "3      7100      488       1491      0.0  ...  699  558  662   637   699   \n",
              "4      6200      378       1302      0.0  ...  957  732  968  1040  1261   \n",
              "\n",
              "     B6    B7   B8   B8A    B9  \n",
              "0  1074  1130  924  1135  1643  \n",
              "1   885   971  696   911  1296  \n",
              "2   633   710  574   801  1673  \n",
              "3   780   869  538   858  1599  \n",
              "4  1274  1236  808  1200  1759  \n",
              "\n",
              "[5 rows x 26 columns]"
            ],
            "text/html": [
              "\n",
              "\n",
              "  <div id=\"df-fc173417-a947-4c16-b771-f0cd5ae28427\">\n",
              "    <div class=\"colab-df-container\">\n",
              "      <div>\n",
              "<style scoped>\n",
              "    .dataframe tbody tr th:only-of-type {\n",
              "        vertical-align: middle;\n",
              "    }\n",
              "\n",
              "    .dataframe tbody tr th {\n",
              "        vertical-align: top;\n",
              "    }\n",
              "\n",
              "    .dataframe thead th {\n",
              "        text-align: right;\n",
              "    }\n",
              "</style>\n",
              "<table border=\"1\" class=\"dataframe\">\n",
              "  <thead>\n",
              "    <tr style=\"text-align: right;\">\n",
              "      <th></th>\n",
              "      <th>PondID</th>\n",
              "      <th>pH</th>\n",
              "      <th>Salinity</th>\n",
              "      <th>Carbonate</th>\n",
              "      <th>BiCarbonate</th>\n",
              "      <th>Alkalinity</th>\n",
              "      <th>Hardness</th>\n",
              "      <th>Calcium</th>\n",
              "      <th>Magnesium</th>\n",
              "      <th>Ammonia</th>\n",
              "      <th>...</th>\n",
              "      <th>B12</th>\n",
              "      <th>B2</th>\n",
              "      <th>B3</th>\n",
              "      <th>B4</th>\n",
              "      <th>B5</th>\n",
              "      <th>B6</th>\n",
              "      <th>B7</th>\n",
              "      <th>B8</th>\n",
              "      <th>B8A</th>\n",
              "      <th>B9</th>\n",
              "    </tr>\n",
              "  </thead>\n",
              "  <tbody>\n",
              "    <tr>\n",
              "      <th>0</th>\n",
              "      <td>TUPILIPALEM_A2</td>\n",
              "      <td>8.4</td>\n",
              "      <td>35</td>\n",
              "      <td>30</td>\n",
              "      <td>120</td>\n",
              "      <td>150</td>\n",
              "      <td>6300</td>\n",
              "      <td>388</td>\n",
              "      <td>1296</td>\n",
              "      <td>0.0</td>\n",
              "      <td>...</td>\n",
              "      <td>821</td>\n",
              "      <td>759</td>\n",
              "      <td>964</td>\n",
              "      <td>800</td>\n",
              "      <td>1132</td>\n",
              "      <td>1074</td>\n",
              "      <td>1130</td>\n",
              "      <td>924</td>\n",
              "      <td>1135</td>\n",
              "      <td>1643</td>\n",
              "    </tr>\n",
              "    <tr>\n",
              "      <th>1</th>\n",
              "      <td>TUPILIPALEM_A3</td>\n",
              "      <td>8.7</td>\n",
              "      <td>38</td>\n",
              "      <td>40</td>\n",
              "      <td>120</td>\n",
              "      <td>160</td>\n",
              "      <td>6800</td>\n",
              "      <td>472</td>\n",
              "      <td>1471</td>\n",
              "      <td>0.0</td>\n",
              "      <td>...</td>\n",
              "      <td>645</td>\n",
              "      <td>645</td>\n",
              "      <td>833</td>\n",
              "      <td>639</td>\n",
              "      <td>879</td>\n",
              "      <td>885</td>\n",
              "      <td>971</td>\n",
              "      <td>696</td>\n",
              "      <td>911</td>\n",
              "      <td>1296</td>\n",
              "    </tr>\n",
              "    <tr>\n",
              "      <th>2</th>\n",
              "      <td>TUPILIPALEM_A4</td>\n",
              "      <td>8.7</td>\n",
              "      <td>39</td>\n",
              "      <td>40</td>\n",
              "      <td>110</td>\n",
              "      <td>150</td>\n",
              "      <td>6960</td>\n",
              "      <td>482</td>\n",
              "      <td>1488</td>\n",
              "      <td>0.0</td>\n",
              "      <td>...</td>\n",
              "      <td>573</td>\n",
              "      <td>541</td>\n",
              "      <td>694</td>\n",
              "      <td>528</td>\n",
              "      <td>768</td>\n",
              "      <td>633</td>\n",
              "      <td>710</td>\n",
              "      <td>574</td>\n",
              "      <td>801</td>\n",
              "      <td>1673</td>\n",
              "    </tr>\n",
              "    <tr>\n",
              "      <th>3</th>\n",
              "      <td>TUPILIPALEM_A5</td>\n",
              "      <td>8.7</td>\n",
              "      <td>40</td>\n",
              "      <td>40</td>\n",
              "      <td>120</td>\n",
              "      <td>160</td>\n",
              "      <td>7100</td>\n",
              "      <td>488</td>\n",
              "      <td>1491</td>\n",
              "      <td>0.0</td>\n",
              "      <td>...</td>\n",
              "      <td>699</td>\n",
              "      <td>558</td>\n",
              "      <td>662</td>\n",
              "      <td>637</td>\n",
              "      <td>699</td>\n",
              "      <td>780</td>\n",
              "      <td>869</td>\n",
              "      <td>538</td>\n",
              "      <td>858</td>\n",
              "      <td>1599</td>\n",
              "    </tr>\n",
              "    <tr>\n",
              "      <th>4</th>\n",
              "      <td>TUPILIPALEM_B2</td>\n",
              "      <td>8.6</td>\n",
              "      <td>36</td>\n",
              "      <td>50</td>\n",
              "      <td>110</td>\n",
              "      <td>160</td>\n",
              "      <td>6200</td>\n",
              "      <td>378</td>\n",
              "      <td>1302</td>\n",
              "      <td>0.0</td>\n",
              "      <td>...</td>\n",
              "      <td>957</td>\n",
              "      <td>732</td>\n",
              "      <td>968</td>\n",
              "      <td>1040</td>\n",
              "      <td>1261</td>\n",
              "      <td>1274</td>\n",
              "      <td>1236</td>\n",
              "      <td>808</td>\n",
              "      <td>1200</td>\n",
              "      <td>1759</td>\n",
              "    </tr>\n",
              "  </tbody>\n",
              "</table>\n",
              "<p>5 rows × 26 columns</p>\n",
              "</div>\n",
              "      <button class=\"colab-df-convert\" onclick=\"convertToInteractive('df-fc173417-a947-4c16-b771-f0cd5ae28427')\"\n",
              "              title=\"Convert this dataframe to an interactive table.\"\n",
              "              style=\"display:none;\">\n",
              "\n",
              "  <svg xmlns=\"http://www.w3.org/2000/svg\" height=\"24px\"viewBox=\"0 0 24 24\"\n",
              "       width=\"24px\">\n",
              "    <path d=\"M0 0h24v24H0V0z\" fill=\"none\"/>\n",
              "    <path d=\"M18.56 5.44l.94 2.06.94-2.06 2.06-.94-2.06-.94-.94-2.06-.94 2.06-2.06.94zm-11 1L8.5 8.5l.94-2.06 2.06-.94-2.06-.94L8.5 2.5l-.94 2.06-2.06.94zm10 10l.94 2.06.94-2.06 2.06-.94-2.06-.94-.94-2.06-.94 2.06-2.06.94z\"/><path d=\"M17.41 7.96l-1.37-1.37c-.4-.4-.92-.59-1.43-.59-.52 0-1.04.2-1.43.59L10.3 9.45l-7.72 7.72c-.78.78-.78 2.05 0 2.83L4 21.41c.39.39.9.59 1.41.59.51 0 1.02-.2 1.41-.59l7.78-7.78 2.81-2.81c.8-.78.8-2.07 0-2.86zM5.41 20L4 18.59l7.72-7.72 1.47 1.35L5.41 20z\"/>\n",
              "  </svg>\n",
              "      </button>\n",
              "\n",
              "\n",
              "\n",
              "    <div id=\"df-0582a568-4b22-45ed-a083-f6178743a999\">\n",
              "      <button class=\"colab-df-quickchart\" onclick=\"quickchart('df-0582a568-4b22-45ed-a083-f6178743a999')\"\n",
              "              title=\"Suggest charts.\"\n",
              "              style=\"display:none;\">\n",
              "\n",
              "<svg xmlns=\"http://www.w3.org/2000/svg\" height=\"24px\"viewBox=\"0 0 24 24\"\n",
              "     width=\"24px\">\n",
              "    <g>\n",
              "        <path d=\"M19 3H5c-1.1 0-2 .9-2 2v14c0 1.1.9 2 2 2h14c1.1 0 2-.9 2-2V5c0-1.1-.9-2-2-2zM9 17H7v-7h2v7zm4 0h-2V7h2v10zm4 0h-2v-4h2v4z\"/>\n",
              "    </g>\n",
              "</svg>\n",
              "      </button>\n",
              "    </div>\n",
              "\n",
              "<style>\n",
              "  .colab-df-quickchart {\n",
              "    background-color: #E8F0FE;\n",
              "    border: none;\n",
              "    border-radius: 50%;\n",
              "    cursor: pointer;\n",
              "    display: none;\n",
              "    fill: #1967D2;\n",
              "    height: 32px;\n",
              "    padding: 0 0 0 0;\n",
              "    width: 32px;\n",
              "  }\n",
              "\n",
              "  .colab-df-quickchart:hover {\n",
              "    background-color: #E2EBFA;\n",
              "    box-shadow: 0px 1px 2px rgba(60, 64, 67, 0.3), 0px 1px 3px 1px rgba(60, 64, 67, 0.15);\n",
              "    fill: #174EA6;\n",
              "  }\n",
              "\n",
              "  [theme=dark] .colab-df-quickchart {\n",
              "    background-color: #3B4455;\n",
              "    fill: #D2E3FC;\n",
              "  }\n",
              "\n",
              "  [theme=dark] .colab-df-quickchart:hover {\n",
              "    background-color: #434B5C;\n",
              "    box-shadow: 0px 1px 3px 1px rgba(0, 0, 0, 0.15);\n",
              "    filter: drop-shadow(0px 1px 2px rgba(0, 0, 0, 0.3));\n",
              "    fill: #FFFFFF;\n",
              "  }\n",
              "</style>\n",
              "\n",
              "    <script>\n",
              "      async function quickchart(key) {\n",
              "        const containerElement = document.querySelector('#' + key);\n",
              "        const charts = await google.colab.kernel.invokeFunction(\n",
              "            'suggestCharts', [key], {});\n",
              "      }\n",
              "    </script>\n",
              "\n",
              "      <script>\n",
              "\n",
              "function displayQuickchartButton(domScope) {\n",
              "  let quickchartButtonEl =\n",
              "    domScope.querySelector('#df-0582a568-4b22-45ed-a083-f6178743a999 button.colab-df-quickchart');\n",
              "  quickchartButtonEl.style.display =\n",
              "    google.colab.kernel.accessAllowed ? 'block' : 'none';\n",
              "}\n",
              "\n",
              "        displayQuickchartButton(document);\n",
              "      </script>\n",
              "      <style>\n",
              "    .colab-df-container {\n",
              "      display:flex;\n",
              "      flex-wrap:wrap;\n",
              "      gap: 12px;\n",
              "    }\n",
              "\n",
              "    .colab-df-convert {\n",
              "      background-color: #E8F0FE;\n",
              "      border: none;\n",
              "      border-radius: 50%;\n",
              "      cursor: pointer;\n",
              "      display: none;\n",
              "      fill: #1967D2;\n",
              "      height: 32px;\n",
              "      padding: 0 0 0 0;\n",
              "      width: 32px;\n",
              "    }\n",
              "\n",
              "    .colab-df-convert:hover {\n",
              "      background-color: #E2EBFA;\n",
              "      box-shadow: 0px 1px 2px rgba(60, 64, 67, 0.3), 0px 1px 3px 1px rgba(60, 64, 67, 0.15);\n",
              "      fill: #174EA6;\n",
              "    }\n",
              "\n",
              "    [theme=dark] .colab-df-convert {\n",
              "      background-color: #3B4455;\n",
              "      fill: #D2E3FC;\n",
              "    }\n",
              "\n",
              "    [theme=dark] .colab-df-convert:hover {\n",
              "      background-color: #434B5C;\n",
              "      box-shadow: 0px 1px 3px 1px rgba(0, 0, 0, 0.15);\n",
              "      filter: drop-shadow(0px 1px 2px rgba(0, 0, 0, 0.3));\n",
              "      fill: #FFFFFF;\n",
              "    }\n",
              "  </style>\n",
              "\n",
              "      <script>\n",
              "        const buttonEl =\n",
              "          document.querySelector('#df-fc173417-a947-4c16-b771-f0cd5ae28427 button.colab-df-convert');\n",
              "        buttonEl.style.display =\n",
              "          google.colab.kernel.accessAllowed ? 'block' : 'none';\n",
              "\n",
              "        async function convertToInteractive(key) {\n",
              "          const element = document.querySelector('#df-fc173417-a947-4c16-b771-f0cd5ae28427');\n",
              "          const dataTable =\n",
              "            await google.colab.kernel.invokeFunction('convertToInteractive',\n",
              "                                                     [key], {});\n",
              "          if (!dataTable) return;\n",
              "\n",
              "          const docLinkHtml = 'Like what you see? Visit the ' +\n",
              "            '<a target=\"_blank\" href=https://colab.research.google.com/notebooks/data_table.ipynb>data table notebook</a>'\n",
              "            + ' to learn more about interactive tables.';\n",
              "          element.innerHTML = '';\n",
              "          dataTable['output_type'] = 'display_data';\n",
              "          await google.colab.output.renderOutput(dataTable, element);\n",
              "          const docLink = document.createElement('div');\n",
              "          docLink.innerHTML = docLinkHtml;\n",
              "          element.appendChild(docLink);\n",
              "        }\n",
              "      </script>\n",
              "    </div>\n",
              "  </div>\n"
            ]
          },
          "metadata": {},
          "execution_count": 296
        }
      ]
    },
    {
      "cell_type": "code",
      "execution_count": 297,
      "metadata": {
        "colab": {
          "base_uri": "https://localhost:8080/"
        },
        "id": "c6ECWW42SFs7",
        "outputId": "23703c4d-f69f-49a3-c097-b6a3b66e1c7c"
      },
      "outputs": [
        {
          "output_type": "stream",
          "name": "stdout",
          "text": [
            "pH Minimum Value: 7.5\n",
            "Salinity Minimum Value: 22\n"
          ]
        }
      ],
      "source": [
        "print(\"pH Minimum Value:\", dataframe[\"pH\"].min())\n",
        "print(\"Salinity Minimum Value:\", dataframe[\"Salinity\"].min())"
      ]
    },
    {
      "cell_type": "code",
      "execution_count": 298,
      "metadata": {
        "id": "38c67PoInuwS"
      },
      "outputs": [],
      "source": [
        "bands = ['B1', 'B2', 'B3', 'B4', 'B5', 'B6', 'B7', 'B8', 'B8A', 'B9', 'B11', 'B12']\n",
        "wavelengths = [442.7,\t492.4,559.8,664.6,704.1,740.5,782.8,832.8,864.7,945.1,1373.5,1613.7,2202.4]\n",
        "parameters = [\"pH\", \"Salinity\", \"Ammonia\"]"
      ]
    },
    {
      "cell_type": "code",
      "execution_count": 299,
      "metadata": {
        "colab": {
          "base_uri": "https://localhost:8080/"
        },
        "id": "giEqGV0LSFs9",
        "outputId": "fbe6a874-9465-4cfe-c03d-c5929c23d49f"
      },
      "outputs": [
        {
          "output_type": "execute_result",
          "data": {
            "text/plain": [
              "pH          0.042532\n",
              "Salinity    0.142014\n",
              "Ammonia     0.065567\n",
              "dtype: float64"
            ]
          },
          "metadata": {},
          "execution_count": 299
        }
      ],
      "source": [
        "dataframe[[\"pH\", \"Salinity\", \"Ammonia\"]].std()/np.array([8.5, 45, 0.5])"
      ]
    },
    {
      "cell_type": "markdown",
      "source": [
        "## WQI calculation"
      ],
      "metadata": {
        "id": "5oRA8WjLF86b"
      }
    },
    {
      "cell_type": "code",
      "execution_count": 300,
      "metadata": {
        "id": "qDlX4-pSSFs-"
      },
      "outputs": [],
      "source": [
        "# def derivative(dataframe):\n",
        "#     banddata = dataframe[bands]\n",
        "#     for wave,band in (wavelengths,bands):\n",
        "\n",
        "\n",
        "\n",
        "#     return None\n",
        "\n",
        "def calculateWQI(parameters):\n",
        "    # order of parameters ph salinity ammonia\n",
        "    expdf = pd.DataFrame()\n",
        "    permissibleValuesParameters = np.array([8.5, 45, 0.5])\n",
        "    summ = 0\n",
        "    sumWn = 0\n",
        "    weights =   np.array([0.30,0.30,0.4]) # np.array(parameters.std()/permissibleValuesParameters)\n",
        "    weightsnormalized = weights/sum(weights)\n",
        "    for column, sn, Wn in zip(parameters.columns, permissibleValuesParameters, weightsnormalized):\n",
        "        vn = parameters[column]\n",
        "        if column==\"pH\":\n",
        "            vid = 7.5\n",
        "        elif column==\"Salinity\":\n",
        "            vid = 0\n",
        "        else:\n",
        "            vid = 0.0\n",
        "        qn = 100*(vn - vid)/(sn-vid)\n",
        "\n",
        "        summ = summ + (qn*Wn)\n",
        "        sumWn = sumWn + Wn\n",
        "    expdf['summ'] = summ\n",
        "    expdf['qn'] = qn\n",
        "    WQI = summ/sumWn\n",
        "    return WQI,expdf\n",
        "\n",
        "def bandmath(bandMatrix,WQI):\n",
        "  df = pd.DataFrame()\n",
        "  cc = list(combinations(bandMatrix.columns,2))\n",
        "  print(cc)\n",
        "  for combination in cc:\n",
        "    a = combination[0]\n",
        "    b = combination[1]\n",
        "    diffIndex = bandMatrix[a] - bandMatrix[b]\n",
        "    normlizedIndex = (bandMatrix[a] - bandMatrix[b])/bandMatrix[a] + bandMatrix[b]\n",
        "    ratioIndex = bandMatrix[a] / bandMatrix[b]\n",
        "    df[f'diff_{a}_{b}'] = diffIndex\n",
        "    df[f'norm_{a}_{b}'] = normlizedIndex\n",
        "    df[f'ratio_{a}_{b}'] = ratioIndex\n",
        "  df['WQI_cal'] = WQI\n",
        "  return  df\n",
        "\n",
        "def pca(data):\n",
        "  pca = PCA(n_components=3)\n",
        "  pca.fit(data)\n",
        "  pca_data =  pca.transform(data)\n",
        "  return  pca_data\n",
        "\n",
        "def harmonizedWQIcalculation(GT):\n",
        "  min = np.array([7.5,9,0])\n",
        "  max = np.array([8.7,43,0.12])\n",
        "  permissibleWP = np.array([8.5,45,0.5])\n",
        "  weights =  np.array(GT.std()/permissibleWP)\n",
        "  weights_norm = weights/sum(weights)\n",
        "  numP = len(weights_norm)\n",
        "  rr = max - min\n",
        "  allWQI  = np.array([])\n",
        "  n = len(GT)\n",
        "  for val in GT.values:\n",
        "    i = 0\n",
        "    Tsumm = np.array([])\n",
        "    for para in val:\n",
        "        qi =None\n",
        "        summ = 0\n",
        "        if  min[i] <= para  <= 0.10*rr[i]:\n",
        "          qi = 5\n",
        "        if  0.1*min[i] <= para  <= 0.20*rr[i]:\n",
        "          qi = 15\n",
        "        if  0.20*rr[i] <= para  <= 0.30*rr[i]:\n",
        "          qi = 25\n",
        "        if  0.30*rr[i] <= para  <= 0.40*rr[i]:\n",
        "          qi = 35\n",
        "        if  0.40*rr[i] <= para  <= 0.50*rr[i]:\n",
        "          qi = 45\n",
        "        if  0.50*rr[i] <= para  <= 0.60*rr[i]:\n",
        "          qi = 55\n",
        "        if  0.60*rr[i] <= para  <= 0.70*rr[i]:\n",
        "          qi = 65\n",
        "        if  0.70*rr[i] <= para  <= 0.80*rr[i]:\n",
        "          qi = 75\n",
        "        if  0.80*rr[i] <= para  <= 0.90*rr[i]:\n",
        "          qi = 85\n",
        "        if  0.90*rr[i] <= para  <= max[i]:\n",
        "          qi = 95\n",
        "        # print(qi,para,rr[i])\n",
        "        summ += 1/qi\n",
        "        i+=1\n",
        "        Tsumm = np.append(Tsumm,summ)\n",
        "    WQI = sum([(weights_norm[i])*math.sqrt(i+1/Tsumm[i]**2) for i in range(numP)])/numP\n",
        "    allWQI = np.append(allWQI,WQI)\n",
        "\n",
        "  return allWQI\n"
      ]
    },
    {
      "cell_type": "code",
      "execution_count": 301,
      "metadata": {
        "colab": {
          "base_uri": "https://localhost:8080/",
          "height": 517
        },
        "id": "qJFquXhXSFs_",
        "outputId": "e383b76f-6b6f-4229-850c-00440a4d0106"
      },
      "outputs": [
        {
          "output_type": "execute_result",
          "data": {
            "text/plain": [
              "(array([ 2.,  4.,  4.,  2.,  3.,  7., 10.,  6., 13.,  5.]),\n",
              " array([17.86666667, 22.70666667, 27.54666667, 32.38666667, 37.22666667,\n",
              "        42.06666667, 46.90666667, 51.74666667, 56.58666667, 61.42666667,\n",
              "        66.26666667]),\n",
              " <BarContainer object of 10 artists>)"
            ]
          },
          "metadata": {},
          "execution_count": 301
        },
        {
          "output_type": "display_data",
          "data": {
            "text/plain": [
              "<Figure size 640x480 with 1 Axes>"
            ],
            "image/png": "[encoded data removed]"
          },
          "metadata": {}
        }
      ],
      "source": [
        "wqi,expdf= calculateWQI(dataframe[parameters])\n",
        "## plotting distribution of wqi\n",
        "plt.hist(wqi)"
      ]
    },
    {
      "cell_type": "code",
      "execution_count": 302,
      "metadata": {
        "colab": {
          "base_uri": "https://localhost:8080/"
        },
        "id": "wlPSjgzkSFtA",
        "outputId": "bc8d1a9e-e416-4861-95db-483919c5c9b6"
      },
      "outputs": [
        {
          "output_type": "stream",
          "name": "stdout",
          "text": [
            "Mean WQI 47.113095238095234\n",
            "Standard Deviation WQI 12.664516051194644\n"
          ]
        }
      ],
      "source": [
        "\n",
        "## printing stats for ground truth wqi\n",
        "print(\"Mean WQI\", statistics.mean(wqi))\n",
        "print(\"Standard Deviation WQI\", statistics.stdev(wqi))"
      ]
    },
    {
      "cell_type": "markdown",
      "source": [
        "## Model for the WQI to indiviual parameter"
      ],
      "metadata": {
        "id": "lqgZ4lJ4Fq5h"
      }
    },
    {
      "cell_type": "code",
      "source": [
        "def CM(actual, predicted):\n",
        "  fig = plt.figure()\n",
        "  plt.scatter(actual, predicted)\n",
        "  plt.show()\n",
        "\n",
        "def Presults(y_test, prediction):\n",
        "  print(\"MAE\", mean_absolute_error(y_test, prediction))\n",
        "  print(\"MSE\", mean_squared_error(y_test, prediction))\n",
        "  print(\"RMSE\", mean_squared_error(y_test, prediction, squared=False))\n",
        "  print(\"MAPE\", mean_absolute_percentage_error(y_test, prediction))\n",
        "  print(\"R2 Score\", r2_score(y_test, prediction))\n",
        "  # return model.coef_,model.intercept_\n",
        "\n",
        "def LRegression(WQI,GT,WQI_val,GT_val):\n",
        "  CM(GT,WQI)\n",
        "  X_train, X_test, y_train, y_test = train_test_split(WQI, GT, test_size=0.33, random_state=42)\n",
        "  model = LinearRegression().fit(X_train, y_train)\n",
        "  # model = SVR(kernel='rbf', C=2.0, epsilon=0.2).fit(X_train, y_train)\n",
        "  if GT.name == 'Ammonia':\n",
        "    # print('hi')\n",
        "    model = RandomForestRegressor(max_depth=2, random_state=0).fit(X_train, y_train)\n",
        "  prediction = model.predict(X_test)\n",
        "  prediction_val = model.predict(WQI_val)\n",
        "  for x,y in zip(y_test.values,prediction):\n",
        "    print(x,'-',y)\n",
        "  Presults(y_test, prediction)\n",
        "  print(f\"validation results on {GT_val.name}\")\n",
        "  Presults(GT_val,prediction_val)\n",
        "  # for x,y in zip(GT_val,prediction_val):\n",
        "  #   print(x,'-',y)\n",
        "  # print(f\"---------------------------------------\")\n",
        "\n",
        "\n",
        "#to predict the parameters from WQI\n",
        "\n",
        "\n",
        "\n",
        "def WQIandParameters(WQI,GT,predictedWQI,gtforRE):\n",
        "  print('-----For WQI with pH Regression relation-----')\n",
        "  LRegression(WQI,GT['pH'],predictedWQI,gtforRE['pH'])\n",
        "  print('-----For WQI with Salinity  Regression relation-----')\n",
        "  LRegression(WQI,GT['Salinity'],predictedWQI,gtforRE['Salinity'])\n",
        "  print('-----For WQI with Ammonia SVR relation-----')\n",
        "  LRegression(WQI,GT['Ammonia'],predictedWQI,gtforRE['Ammonia'])\n",
        "  return None\n",
        "\n"
      ],
      "metadata": {
        "id": "9bgyFpVGT9r-"
      },
      "execution_count": 303,
      "outputs": []
    },
    {
      "cell_type": "code",
      "execution_count": 304,
      "metadata": {
        "id": "OHLH7id8SFtB"
      },
      "outputs": [],
      "source": [
        "### adding wqi as a dataframe\n",
        "dataframe[\"WQI\"] = wqi"
      ]
    },
    {
      "cell_type": "code",
      "source": [
        "# sns.pairplot(dataframe)"
      ],
      "metadata": {
        "id": "2WAj7IdZn01S"
      },
      "execution_count": 305,
      "outputs": []
    },
    {
      "cell_type": "markdown",
      "source": [
        "## Model for Band to WQI index"
      ],
      "metadata": {
        "id": "Kahd67ZfF3OO"
      }
    },
    {
      "cell_type": "code",
      "execution_count": 306,
      "metadata": {
        "id": "iOOQBzR-SFtC"
      },
      "outputs": [],
      "source": [
        "\n",
        "def scaling(Banddata):\n",
        "    scaler = StandardScaler()\n",
        "    scaler.fit(Banddata)\n",
        "    dataframe = scaler.transform(Banddata)\n",
        "    return dataframe\n",
        "\n",
        "def pca(dataframe):\n",
        "  pca = PCA(n_components=3)\n",
        "  pca.fit(dataframe)\n",
        "  pca_df =  pca.transform(dataframe)\n",
        "  return pca_df\n",
        "\n",
        "# def weakmodel(xTrain, yTrain,xTest):\n",
        "#       models = [\n",
        "#         RandomForestRegressor(max_depth=3, random_state=0),\n",
        "#         xgb.XGBRegressor(),\n",
        "#         SVR(kernel='rbf', C=1.0, epsilon=1e-3)]\n",
        "\n",
        "#       preds = []\n",
        "#       for i, m in enumerate(models):\n",
        "#           m.fit(xTrain, yTrain)\n",
        "#           preds.append(m.predict(xTest))\n",
        "\n",
        "#       weights = [0.33, 0.33,0.33]\n",
        "#       preds = np.array(preds)\n",
        "#       print\n",
        "#       preds= np.sum(preds, axis = 0)/3\n",
        "#       return preds\n",
        "\n",
        "### model to predict WQI using bands as input\n",
        "def predictWQI(dataframe,pred):\n",
        "    validationdataframe = dataframe[dataframe[\"Date of Image\"]==\"2023-07-09\"]\n",
        "    traindataframe = dataframe[dataframe[\"Date of Image\"]!=\"2023-07-09\"]\n",
        "\n",
        "    # traindataframe, validationdataframe = train_test_split(dataframe, test_size=0.3, random_state=42)\n",
        "    # traindataframe.to_csv('WQIModelTrain.csv')\n",
        "    # validationdataframe.to_csv('WQIModelTest.csv')\n",
        "\n",
        "    # validationdataframe = dataframe[dataframe[\"Date of Image\"]==\"2022-09-12\"]\n",
        "    # traindataframe = dataframe[dataframe[\"Date of Image\"]!=\"2022-09-12\"]\n",
        "    k =  10\n",
        "    k_fold = KFold(n_splits = k,shuffle=True )\n",
        "\n",
        "\n",
        "    gtforRE = (validationdataframe[parameters])\n",
        "\n",
        "    xTrain = (scaling(traindataframe[bands]))\n",
        "    yTrain = traindataframe[pred]\n",
        "    xTest = (scaling(validationdataframe[bands]))\n",
        "    yTest = validationdataframe[pred]\n",
        "\n",
        "    model = SVR(kernel='rbf', C=2.0, epsilon=1e-4)\n",
        "    # model = RandomForestRegressor(max_depth=3, random_state=0)\n",
        "    # model = MLPRegressor(random_state=1, max_iter=100000)\n",
        "\n",
        "    model.fit(xTrain, yTrain)\n",
        "\n",
        "    # score = cross_val_score(model, dataframe[bands], dataframe[pred], cv = k_fold)\n",
        "    # print(sum(score) / len(score))\n",
        "    # print(score)\n",
        "    # prediction =  weakmodel(xTrain,yTrain,xTest)\n",
        "    prediction = model.predict(xTest)\n",
        "    # prediction = preds\n",
        "    # print(prediction,yTest)\n",
        "\n",
        "    print(\"MAE\", mean_absolute_error(yTest, prediction))\n",
        "    print(\"MSE\", mean_squared_error(yTest, prediction))\n",
        "    print(\"RMSE\", mean_squared_error(yTest, prediction, squared=False))\n",
        "    print(\"MAPE\", mean_absolute_percentage_error(yTest, prediction))\n",
        "    print(\"R2 Score\", r2_score(yTest, prediction))\n",
        "    plt.figure(figsize=(25,10))\n",
        "    plt.scatter(np.arange(1, len(yTest)+1), yTest, color=\"red\")\n",
        "    plt.plot(np.arange(1, len(yTest)+1), prediction, color=\"blue\")\n",
        "    return prediction,gtforRE"
      ]
    },
    {
      "cell_type": "code",
      "source": [
        "(dataframe).corrwith(dataframe['WQI'])"
      ],
      "metadata": {
        "colab": {
          "base_uri": "https://localhost:8080/"
        },
        "id": "7OtOb2tJT95M",
        "outputId": "a6dabc24-16e3-4ad9-e705-89f0d94e8aab"
      },
      "execution_count": 307,
      "outputs": [
        {
          "output_type": "stream",
          "name": "stderr",
          "text": [
            "<ipython-input-307-d8a89629dacb>:1: FutureWarning: The default value of numeric_only in DataFrame.corrwith is deprecated. In a future version, it will default to False. Select only valid columns or specify the value of numeric_only to silence this warning.\n",
            "  (dataframe).corrwith(dataframe['WQI'])\n"
          ]
        },
        {
          "output_type": "execute_result",
          "data": {
            "text/plain": [
              "pH             0.943750\n",
              "Salinity       0.766900\n",
              "Carbonate      0.843038\n",
              "BiCarbonate   -0.064482\n",
              "Alkalinity     0.216350\n",
              "Hardness      -0.041913\n",
              "Calcium       -0.768902\n",
              "Magnesium      0.752689\n",
              "Ammonia       -0.319667\n",
              "Coincidence         NaN\n",
              "AOT           -0.732881\n",
              "B1            -0.489707\n",
              "B11           -0.471148\n",
              "B12           -0.452358\n",
              "B2            -0.549704\n",
              "B3            -0.509143\n",
              "B4            -0.517037\n",
              "B5            -0.501159\n",
              "B6            -0.468854\n",
              "B7            -0.474713\n",
              "B8            -0.490462\n",
              "B8A           -0.447047\n",
              "B9            -0.288718\n",
              "WQI            1.000000\n",
              "dtype: float64"
            ]
          },
          "metadata": {},
          "execution_count": 307
        }
      ]
    },
    {
      "cell_type": "code",
      "source": [
        "\n",
        "plt.hist(dataframe['WQI'])"
      ],
      "metadata": {
        "colab": {
          "base_uri": "https://localhost:8080/",
          "height": 517
        },
        "id": "IoTnQp4FLzHr",
        "outputId": "957c2465-1dfc-462e-a11c-760d00c55d3f"
      },
      "execution_count": 308,
      "outputs": [
        {
          "output_type": "execute_result",
          "data": {
            "text/plain": [
              "(array([ 2.,  4.,  4.,  2.,  3.,  7., 10.,  6., 13.,  5.]),\n",
              " array([17.86666667, 22.70666667, 27.54666667, 32.38666667, 37.22666667,\n",
              "        42.06666667, 46.90666667, 51.74666667, 56.58666667, 61.42666667,\n",
              "        66.26666667]),\n",
              " <BarContainer object of 10 artists>)"
            ]
          },
          "metadata": {},
          "execution_count": 308
        },
        {
          "output_type": "display_data",
          "data": {
            "text/plain": [
              "<Figure size 640x480 with 1 Axes>"
            ],
            "image/png": "[encoded data removed]"
          },
          "metadata": {}
        }
      ]
    },
    {
      "cell_type": "code",
      "execution_count": 309,
      "metadata": {
        "colab": {
          "base_uri": "https://localhost:8080/",
          "height": 1000
        },
        "id": "vOhKgF-_SFtC",
        "outputId": "bbd07521-7350-4a3d-d59e-e4f53df83fc5"
      },
      "outputs": [
        {
          "output_type": "stream",
          "name": "stdout",
          "text": [
            "MAE 7.117016222012149\n",
            "MSE 72.56345158551417\n",
            "RMSE 8.518418373472517\n",
            "MAPE 0.15009634938497254\n",
            "R2 Score 0.10965359819758935\n",
            "-----For WQI with pH Regression relation-----\n"
          ]
        },
        {
          "output_type": "display_data",
          "data": {
            "text/plain": [
              "<Figure size 2500x1000 with 1 Axes>"
            ],
            "image/png": "[encoded data removed]"
          },
          "metadata": {}
        },
        {
          "output_type": "display_data",
          "data": {
            "text/plain": [
              "<Figure size 640x480 with 1 Axes>"
            ],
            "image/png": "[encoded data removed]"
          },
          "metadata": {}
        },
        {
          "output_type": "stream",
          "name": "stdout",
          "text": [
            "8.4 - 8.280007947769327\n",
            "8.6 - 8.484558738778532\n",
            "7.6 - 7.581126078487884\n",
            "8.4 - 8.447057760426844\n",
            "8.6 - 8.440239400726536\n",
            "8.3 - 8.390806292899313\n",
            "7.9 - 7.971477171330447\n",
            "7.7 - 7.695333603468023\n",
            "7.7 - 7.947612912379373\n",
            "8.5 - 8.346486954847318\n",
            "7.7 - 7.698742783318177\n",
            "8.7 - 8.595357083908516\n",
            "7.6 - 7.639082135940492\n",
            "7.7 - 7.736243761669864\n",
            "8.6 - 8.515241357429911\n",
            "8.4 - 8.283417127619481\n",
            "8.6 - 8.467512839527764\n",
            "8.6 - 8.450466940276996\n",
            "8.1 - 8.298758436945171\n",
            "MAE 0.09960776923331771\n",
            "MSE 0.014108425017333165\n",
            "RMSE 0.11877889129526831\n",
            "MAPE 0.012015207180133948\n",
            "R2 Score 0.913234387883181\n",
            "validation results on pH\n",
            "MAE 0.21916088783839313\n",
            "MSE 0.08172261558566399\n",
            "RMSE 0.28587167678114594\n",
            "MAPE 0.02741682152496082\n",
            "R2 Score -0.14208624265679526\n",
            "-----For WQI with Salinity  Regression relation-----\n"
          ]
        },
        {
          "output_type": "display_data",
          "data": {
            "text/plain": [
              "<Figure size 640x480 with 1 Axes>"
            ],
            "image/png": "[encoded data removed]"
          },
          "metadata": {}
        },
        {
          "output_type": "stream",
          "name": "stdout",
          "text": [
            "35 - 35.05591258371943\n",
            "38 - 38.257145520945954\n",
            "24 - 24.11836671486212\n",
            "40 - 37.67025281578776\n",
            "33 - 37.56354505121353\n",
            "40 - 36.78991375805047\n",
            "25 - 30.227386236736084\n",
            "25 - 25.905721771480266\n",
            "35 - 29.853909060726316\n",
            "32 - 36.09631328831804\n",
            "30 - 25.95907565376738\n",
            "40 - 39.99114669527698\n",
            "25 - 25.025382713742967\n",
            "25 - 26.54596835892557\n",
            "35 - 38.73733046152993\n",
            "34 - 35.10926646600653\n",
            "37 - 37.99037610951041\n",
            "36 - 37.72360669807486\n",
            "40 - 35.349358936298515\n",
            "MAE 2.302245529218857\n",
            "MSE 8.818292723364475\n",
            "RMSE 2.9695610320996058\n",
            "MAPE 0.070449311411218\n",
            "R2 Score 0.7234227912133296\n",
            "validation results on Salinity\n",
            "MAE 3.8456570233499807\n",
            "MSE 19.319459517474137\n",
            "RMSE 4.395390712721013\n",
            "MAPE 0.09624961463978103\n",
            "R2 Score -3.917283248225883\n",
            "-----For WQI with Ammonia SVR relation-----\n"
          ]
        },
        {
          "output_type": "display_data",
          "data": {
            "text/plain": [
              "<Figure size 640x480 with 1 Axes>"
            ],
            "image/png": "[encoded data removed]"
          },
          "metadata": {}
        },
        {
          "output_type": "stream",
          "name": "stdout",
          "text": [
            "0.0 - 0.031179483394766692\n",
            "0.0 - 0.028396749608970803\n",
            "0.05 - 0.05954246826077787\n",
            "0.04 - 0.028083694053415247\n",
            "0.02 - 0.028083694053415247\n",
            "0.05 - 0.029284481932203135\n",
            "0.12 - 0.05883913116830378\n",
            "0.06 - 0.06092648786862101\n",
            "0.1 - 0.05883913116830378\n",
            "0.02 - 0.03104823339476669\n",
            "0.02 - 0.06092648786862101\n",
            "0.0 - 0.04238858693829618\n",
            "0.07 - 0.05954246826077787\n",
            "0.08 - 0.05774003114551954\n",
            "0.04 - 0.02800158831864822\n",
            "0.01 - 0.031179483394766692\n",
            "0.0 - 0.028396749608970803\n",
            "0.0 - 0.028083694053415247\n",
            "0.08 - 0.031457261172544465\n",
            "MAE 0.025177070064509064\n",
            "MSE 0.0008781314372405597\n",
            "RMSE 0.029633282593066867\n",
            "MAPE 37556527901447.0\n",
            "R2 Score 0.3272380117915066\n",
            "validation results on Ammonia\n",
            "MAE 0.029810697876856005\n",
            "MSE 0.0015035190602166533\n",
            "RMSE 0.03877523771966657\n",
            "MAPE 0.4055576990878347\n",
            "R2 Score -1.7063343083899767\n"
          ]
        }
      ],
      "source": [
        "predictedWQI,gtforRE = predictWQI(dataframe,\"WQI\")\n",
        "# WQIandParameters(np.array(predictedWQI).reshape(-1, 1),gtforRE)\n",
        "WQIandParameters(np.array(dataframe['WQI']).reshape(-1, 1),dataframe[parameters],predictedWQI.reshape(-1, 1),gtforRE)"
      ]
    },
    {
      "cell_type": "code",
      "execution_count": 257,
      "metadata": {
        "colab": {
          "base_uri": "https://localhost:8080/",
          "height": 551
        },
        "id": "MzyP8XbMSFtD",
        "outputId": "b31d2df1-062e-4f5a-c888-ed2ba7eed97f"
      },
      "outputs": [
        {
          "output_type": "stream",
          "name": "stdout",
          "text": [
            "Mean WQI 51.15887456162535\n",
            "Standard Deviation WQI 3.6433686823527327\n"
          ]
        },
        {
          "output_type": "execute_result",
          "data": {
            "text/plain": [
              "(array([1., 1., 2., 2., 1., 3., 1., 2., 0., 2.]),\n",
              " array([44.75838372, 46.03119877, 47.30401381, 48.57682885, 49.8496439 ,\n",
              "        51.12245894, 52.39527399, 53.66808903, 54.94090407, 56.21371912,\n",
              "        57.48653416]),\n",
              " <BarContainer object of 10 artists>)"
            ]
          },
          "metadata": {},
          "execution_count": 257
        },
        {
          "output_type": "display_data",
          "data": {
            "text/plain": [
              "<Figure size 640x480 with 1 Axes>"
            ],
            "image/png": "[encoded data removed]"
          },
          "metadata": {}
        }
      ],
      "source": [
        "#\n",
        "## printing stats for ground truth wqi\n",
        "print(\"Mean WQI\", statistics.mean(predictedWQI))\n",
        "print(\"Standard Deviation WQI\", statistics.stdev(predictedWQI))\n",
        "plt.hist(predictedWQI)"
      ]
    },
    {
      "cell_type": "code",
      "source": [
        "allWQI = harmonizedWQIcalculation(dataframe[parameters])\n",
        "dataframe['HWQI'] = allWQI"
      ],
      "metadata": {
        "id": "1D8eDm7Xy5NU"
      },
      "execution_count": 258,
      "outputs": []
    },
    {
      "cell_type": "code",
      "source": [
        "plt.hist(dataframe['HWQI'])"
      ],
      "metadata": {
        "colab": {
          "base_uri": "https://localhost:8080/",
          "height": 517
        },
        "id": "t3VUfmNl0-Ih",
        "outputId": "cf1b7cc2-c6a8-4377-8979-3a572c1e3336"
      },
      "execution_count": 259,
      "outputs": [
        {
          "output_type": "execute_result",
          "data": {
            "text/plain": [
              "(array([ 3.,  2.,  1., 20.,  5., 15.,  3.,  3.,  0.,  2.]),\n",
              " array([20.70053853, 21.7973438 , 22.89414906, 23.99095432, 25.08775959,\n",
              "        26.18456485, 27.28137011, 28.37817538, 29.47498064, 30.5717859 ,\n",
              "        31.66859117]),\n",
              " <BarContainer object of 10 artists>)"
            ]
          },
          "metadata": {},
          "execution_count": 259
        },
        {
          "output_type": "display_data",
          "data": {
            "text/plain": [
              "<Figure size 640x480 with 1 Axes>"
            ],
            "image/png": "[encoded data removed]"
          },
          "metadata": {}
        }
      ]
    },
    {
      "cell_type": "code",
      "source": [
        "(dataframe).corrwith(dataframe['HWQI'])"
      ],
      "metadata": {
        "colab": {
          "base_uri": "https://localhost:8080/"
        },
        "id": "NfV555NHy5J6",
        "outputId": "1de0eec3-fe3a-4d02-b55b-bb10400a8ba1"
      },
      "execution_count": 260,
      "outputs": [
        {
          "output_type": "stream",
          "name": "stderr",
          "text": [
            "<ipython-input-260-0036a586283d>:1: FutureWarning: The default value of numeric_only in DataFrame.corrwith is deprecated. In a future version, it will default to False. Select only valid columns or specify the value of numeric_only to silence this warning.\n",
            "  (dataframe).corrwith(dataframe['HWQI'])\n"
          ]
        },
        {
          "output_type": "execute_result",
          "data": {
            "text/plain": [
              "pH             0.037596\n",
              "Salinity       0.539063\n",
              "Carbonate     -0.090970\n",
              "BiCarbonate   -0.042701\n",
              "Alkalinity     0.061432\n",
              "Hardness       0.530039\n",
              "Calcium       -0.173239\n",
              "Magnesium      0.442514\n",
              "Ammonia        0.587396\n",
              "Coincidence         NaN\n",
              "Cloud Cover         NaN\n",
              "B10           -0.436842\n",
              "B11           -0.416639\n",
              "B12           -0.412330\n",
              "B1            -0.467068\n",
              "B2            -0.529522\n",
              "B3            -0.582201\n",
              "B4            -0.551721\n",
              "B5            -0.427773\n",
              "B6            -0.373609\n",
              "B7            -0.418933\n",
              "B8A           -0.428528\n",
              "B8            -0.466515\n",
              "B9            -0.512347\n",
              "WQI            0.345345\n",
              "HWQI           1.000000\n",
              "dtype: float64"
            ]
          },
          "metadata": {},
          "execution_count": 260
        }
      ]
    },
    {
      "cell_type": "code",
      "source": [
        "predictedWQI,gtforRE = predictWQI(dataframe,\"HWQI\")\n",
        "# WQIandParameters(np.array(predictedWQI).reshape(-1, 1),gtforRE)\n",
        "\n",
        "WQIandParameters(np.array(dataframe['HWQI']).reshape(-1, 1),dataframe[parameters],predictedWQI.reshape(-1, 1),gtforRE)"
      ],
      "metadata": {
        "colab": {
          "base_uri": "https://localhost:8080/",
          "height": 1000
        },
        "id": "WxfJWWry6eBp",
        "outputId": "50e2b2c2-f2eb-4e4c-b03e-2da3e9d77465"
      },
      "execution_count": 261,
      "outputs": [
        {
          "output_type": "stream",
          "name": "stdout",
          "text": [
            "MAE 3.77452495334928\n",
            "MSE 16.094251354092663\n",
            "RMSE 4.011764119946817\n",
            "MAPE 0.1325446808269695\n",
            "R2 Score -5.521352159920644\n",
            "-----For WQI with pH Regression relation-----\n"
          ]
        },
        {
          "output_type": "display_data",
          "data": {
            "text/plain": [
              "<Figure size 2500x1000 with 1 Axes>"
            ],
            "image/png": "[encoded data removed]"
          },
          "metadata": {}
        },
        {
          "output_type": "display_data",
          "data": {
            "text/plain": [
              "<Figure size 640x480 with 1 Axes>"
            ],
            "image/png": "[encoded data removed]"
          },
          "metadata": {}
        },
        {
          "output_type": "stream",
          "name": "stdout",
          "text": [
            "8.6 - 8.203008335135632\n",
            "8.1 - 8.251529056891405\n",
            "8.0 - 8.251529056891405\n",
            "8.5 - 8.203008335135632\n",
            "7.7 - 8.287955838885331\n",
            "8.6 - 8.203008335135632\n",
            "8.4 - 8.203008335135632\n",
            "8.6 - 8.227251949205401\n",
            "8.7 - 8.203008335135632\n",
            "8.3 - 8.173165906124792\n",
            "8.4 - 8.227251949205401\n",
            "8.6 - 8.227251949205401\n",
            "7.7 - 8.199286392462977\n",
            "8.6 - 8.203008335135632\n",
            "7.6 - 8.199286392462977\n",
            "8.6 - 8.203008335135632\n",
            "7.6 - 8.221736042000547\n",
            "7.5 - 8.148888798438788\n",
            "MAE 0.38801285990794504\n",
            "MSE 0.17645524742198945\n",
            "RMSE 0.42006576559151954\n",
            "MAPE 0.0478458038163116\n",
            "R2 Score -0.012781225238699845\n",
            "validation results on pH\n",
            "MAE 0.22262819389266042\n",
            "MSE 0.07301468979475326\n",
            "RMSE 0.2702123050394879\n",
            "MAPE 0.027485870648483655\n",
            "R2 Score -0.020391627566427983\n",
            "-----For WQI with Salinity  Regression relation-----\n"
          ]
        },
        {
          "output_type": "display_data",
          "data": {
            "text/plain": [
              "<Figure size 640x480 with 1 Axes>"
            ],
            "image/png": "[encoded data removed]"
          },
          "metadata": {}
        },
        {
          "output_type": "stream",
          "name": "stdout",
          "text": [
            "33 - 32.474931571943614\n",
            "40 - 37.715076893257816\n",
            "40 - 37.715076893257816\n",
            "32 - 32.474931571943614\n",
            "35 - 41.64909980818468\n",
            "38 - 32.474931571943614\n",
            "34 - 32.474931571943614\n",
            "40 - 35.09319560929452\n",
            "40 - 32.474931571943614\n",
            "22 - 29.252006209354775\n",
            "40 - 35.09319560929452\n",
            "35 - 35.09319560929452\n",
            "25 - 32.07296886865817\n",
            "37 - 32.474931571943614\n",
            "25 - 32.07296886865817\n",
            "36 - 32.474931571943614\n",
            "22 - 34.497488161293084\n",
            "22 - 26.630124925391478\n",
            "MAE 4.626480532556229\n",
            "MSE 30.88708534731094\n",
            "RMSE 5.557615077289083\n",
            "MAPE 0.15864300566986583\n",
            "R2 Score 0.30135327753918273\n",
            "validation results on Salinity\n",
            "MAE 7.146089406404266\n",
            "MSE 55.761083821731184\n",
            "RMSE 7.467334452248084\n",
            "MAPE 0.18051985575241428\n",
            "R2 Score -13.192583551911216\n",
            "-----For WQI with Ammonia SVR relation-----\n"
          ]
        },
        {
          "output_type": "display_data",
          "data": {
            "text/plain": [
              "<Figure size 640x480 with 1 Axes>"
            ],
            "image/png": "[encoded data removed]"
          },
          "metadata": {}
        },
        {
          "output_type": "stream",
          "name": "stdout",
          "text": [
            "0.02 - 0.014300834578218471\n",
            "0.06 - 0.08537832946164603\n",
            "0.07 - 0.08537832946164603\n",
            "0.02 - 0.014300834578218471\n",
            "0.1 - 0.0956719894682201\n",
            "0.0 - 0.014300834578218471\n",
            "0.01 - 0.014300834578218471\n",
            "0.04 - 0.05172331930840061\n",
            "0.0 - 0.014300834578218471\n",
            "0.06 - 0.03260748043236435\n",
            "0.04 - 0.05172331930840061\n",
            "0.04 - 0.05172331930840061\n",
            "0.06 - 0.03091813561051953\n",
            "0.0 - 0.014300834578218471\n",
            "0.07 - 0.03091813561051953\n",
            "0.0 - 0.014300834578218471\n",
            "0.12 - 0.051178874863956156\n",
            "0.04 - 0.03227914709903102\n",
            "MAE 0.018069742083252145\n",
            "MSE 0.0005629201387883252\n",
            "RMSE 0.023725938101333846\n",
            "MAPE 14312274061678.447\n",
            "R2 Score 0.5186431117249475\n",
            "validation results on Ammonia\n",
            "MAE 0.035127656044076305\n",
            "MSE 0.00207227623549391\n",
            "RMSE 0.045522260878540624\n",
            "MAPE 0.474125594272183\n",
            "R2 Score -2.730097223889039\n"
          ]
        }
      ]
    },
    {
      "cell_type": "code",
      "source": [],
      "metadata": {
        "id": "7t_D5uWvJX3f"
      },
      "execution_count": 261,
      "outputs": []
    },
    {
      "cell_type": "code",
      "source": [],
      "metadata": {
        "id": "2F4vA4A7JXz5"
      },
      "execution_count": 261,
      "outputs": []
    },
    {
      "cell_type": "code",
      "source": [],
      "metadata": {
        "id": "BUqUxK3cJXxU"
      },
      "execution_count": 261,
      "outputs": []
    },
    {
      "cell_type": "code",
      "source": [],
      "metadata": {
        "id": "0AiKN_HfJXux"
      },
      "execution_count": 261,
      "outputs": []
    },
    {
      "cell_type": "code",
      "source": [],
      "metadata": {
        "id": "DOgXd5muJXsI"
      },
      "execution_count": 261,
      "outputs": []
    },
    {
      "cell_type": "code",
      "source": [
        "## Not good code"
      ],
      "metadata": {
        "id": "z0PQwPmPT9nA"
      },
      "execution_count": 262,
      "outputs": []
    },
    {
      "cell_type": "code",
      "execution_count": 263,
      "metadata": {
        "id": "DpF_xL0eQ3sn"
      },
      "outputs": [],
      "source": [
        "\n",
        "\n",
        "# #to train model to predict the WQI using band  indcies using ML\n",
        "# def WQIandBands(df1,WQI):\n",
        "#   print('-----For WQI prediction with Bands with SVR algo -----')\n",
        "#   X_test = df1.loc[df1['Date of Image'] == '2023-07-09'][['B11',\t'B12'\t,'B1',\t'B2',\t'B3',\t'B4',\t'B5',\t'B6',\t'B7',\t'B8A',\t'B8',\t'B9']]\n",
        "#   y_test = df1.loc[df1['Date of Image'] == '2023-07-09'][['pH']]\n",
        "#   X_train = df1.loc[df1['Date of Image'] != '2023-07-09'][['B11',\t'B12'\t,'B1',\t'B2',\t'B3',\t'B4',\t'B5',\t'B6',\t'B7',\t'B8A',\t'B8',\t'B9']]\n",
        "#   y_train = df1.loc[df1['Date of Image'] != '2023-07-09'][['pH']]\n",
        "#   # X_train, X_test, y_train, y_test = train_test_split(Bandsndices, WQI, test_size=0.33, random_state=42)\n",
        "#   model = SVR(kernel='rbf', C=1.0, epsilon=0.2)\n",
        "#   model.fit(X_train, y_train)\n",
        "#   prediction = model.predict(X_test)\n",
        "#   print(\"MAE\", mean_absolute_error(y_test, prediction))\n",
        "#   print(\"MSE\", mean_squared_error(y_test, prediction))\n",
        "#   print(\"RMSE\", mean_squared_error(y_test, prediction, squared=False))\n",
        "#   print(\"MAPE\", mean_absolute_percentage_error(y_test, prediction))\n",
        "#   print(\"R2 Score\", r2_score(y_test, prediction))\n",
        "#   return prediction\n",
        "\n",
        "\n",
        "# def CM(actual, predicted):\n",
        "#   fig = plt.figure()\n",
        "#   plt.scatter(actual, predicted)\n",
        "#   plt.show()\n",
        "\n",
        "# def LRegression(WQI,GT):\n",
        "#   X_train, X_test, y_train, y_test = train_test_split(WQI, GT, test_size=0.33, random_state=42)\n",
        "#   model = LinearRegression().fit(X_train, y_train)\n",
        "#   # model1 = SVR(kernel='rbf', C=1.0, epsilon=0.2).fit(X_train, y_train)\n",
        "#   # model = RandomForestRegressor(max_depth=2, random_state=0).fit(X_train, y_train)\n",
        "#   prediction = model.predict(X_test)\n",
        "#   for x,y in zip(y_test.values,prediction):\n",
        "#     print(x,'-',y)\n",
        "\n",
        "#   CM(WQI,GT)\n",
        "#   print(\"MAE\", mean_absolute_error(y_test, prediction))\n",
        "#   print(\"MSE\", mean_squared_error(y_test, prediction))\n",
        "#   print(\"RMSE\", mean_squared_error(y_test, prediction, squared=False))\n",
        "#   print(\"MAPE\", mean_absolute_percentage_error(y_test, prediction))\n",
        "#   print(\"R2 Score\", r2_score(y_test, prediction))\n",
        "#   # return model.coef_,model.intercept_\n",
        "# #to predict the parameters from WQI\n",
        "\n",
        "\n",
        "\n",
        "# def WQIandParameters(WQI,GT):\n",
        "#   print('-----For WQI with pH Regression relation-----')\n",
        "#   LRegression(WQI,GT['pH'])\n",
        "#   print('-----For WQI with Salinity  Regression relation-----')\n",
        "#   LRegression(WQI,GT['Salinity'])\n",
        "#   print('-----For WQI with Ammonia SVR relation-----')\n",
        "#   LRegression(WQI,GT['Ammonia'])\n",
        "#   return None\n",
        "\n"
      ]
    },
    {
      "cell_type": "markdown",
      "metadata": {
        "id": "ir8KVILORrAn"
      },
      "source": [
        "## WQI with only bands"
      ]
    },
    {
      "cell_type": "code",
      "execution_count": 264,
      "metadata": {
        "id": "QMdCAN1SUn8e"
      },
      "outputs": [],
      "source": [
        "# WQI = WQIcalculation(df1 ,GT1)\n",
        "# # len(WQI)\n",
        "# WQIandBands(df1,WQI)\n",
        "# WQIandParameters(np.array(WQI).reshape(-1, 1),GT)"
      ]
    },
    {
      "cell_type": "code",
      "execution_count": 264,
      "metadata": {
        "id": "L9mZXEFKCzRj"
      },
      "outputs": [],
      "source": []
    },
    {
      "cell_type": "code",
      "execution_count": 264,
      "metadata": {
        "id": "MvgCXQ7SCzEk"
      },
      "outputs": [],
      "source": []
    },
    {
      "cell_type": "code",
      "execution_count": 264,
      "metadata": {
        "id": "5peUdZ6ACzBG"
      },
      "outputs": [],
      "source": []
    },
    {
      "cell_type": "code",
      "execution_count": 264,
      "metadata": {
        "id": "Cl7F2KKUCy_B"
      },
      "outputs": [],
      "source": []
    },
    {
      "cell_type": "code",
      "execution_count": 264,
      "metadata": {
        "id": "PSJuo7abCy8o"
      },
      "outputs": [],
      "source": []
    },
    {
      "cell_type": "code",
      "execution_count": 264,
      "metadata": {
        "id": "MOLEQcrwCy6W"
      },
      "outputs": [],
      "source": []
    },
    {
      "cell_type": "code",
      "execution_count": 264,
      "metadata": {
        "id": "SoYf6tO3Cy4I"
      },
      "outputs": [],
      "source": []
    },
    {
      "cell_type": "code",
      "execution_count": 264,
      "metadata": {
        "id": "eAEEjWz3Cysh"
      },
      "outputs": [],
      "source": []
    },
    {
      "cell_type": "markdown",
      "metadata": {
        "id": "g-MohxHjSSAX"
      },
      "source": []
    },
    {
      "cell_type": "markdown",
      "metadata": {
        "id": "afH5m9yvRv0E"
      },
      "source": [
        "## WQI with  top  10 combination indices"
      ]
    },
    {
      "cell_type": "code",
      "execution_count": 265,
      "metadata": {
        "id": "1ITBJ6b5_WSN"
      },
      "outputs": [],
      "source": [
        "#   corrwithWQI = newdf.corrwith(newdf['WQI_cal'])\n",
        "# type(corrwithWQI)\n",
        "# corrdict  = corrwithWQI.to_dict()\n",
        "# sortedkeys = sorted(corrdict, key=corrdict.get, reverse=True)\n",
        "# for r in sortedkeys[:11]:\n",
        "#     print(r, corrdict[r])"
      ]
    },
    {
      "cell_type": "code",
      "execution_count": 266,
      "metadata": {
        "id": "37Puh-UjC5U9"
      },
      "outputs": [],
      "source": [
        "# newtraindf = newdf[sortedkeys].drop('WQI_cal',axis = 1)\n",
        "# scaler = StandardScaler()\n",
        "# scaler.fit(newtraindf)\n",
        "# newscaledtraindf = scaler.transform(newtraindf)\n",
        "# WQIandBands(newscaledtraindf,WQI)"
      ]
    },
    {
      "cell_type": "code",
      "execution_count": 267,
      "metadata": {
        "id": "mF5NvxzBFwM-"
      },
      "outputs": [],
      "source": [
        "# plt.scatter(df['norm_NarrowNIR_SWIR1'],df['WQI_cal'])\n",
        "# plt.scatter(df['norm_NarrowNIR_SWIR2'],df['WQI_cal'])\n",
        "# plt.scatter(df['norm_WaterVapour_SWIR2'],df['WQI_cal'])"
      ]
    },
    {
      "cell_type": "markdown",
      "metadata": {
        "id": "5sjQ6U5pScCF"
      },
      "source": [
        "## WQI with  PCA 3 bands"
      ]
    }
  ],
  "metadata": {
    "colab": {
      "provenance": []
    },
    "kernelspec": {
      "display_name": "base",
      "language": "python",
      "name": "base"
    },
    "language_info": {
      "codemirror_mode": {
        "name": "ipython",
        "version": 3
      },
      "file_extension": ".py",
      "mimetype": "text/x-python",
      "name": "python",
      "nbconvert_exporter": "python",
      "pygments_lexer": "ipython3",
      "version": "3.9.13"
    }
  },
  "nbformat": 4,
  "nbformat_minor": 0
}
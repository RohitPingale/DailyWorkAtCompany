{
  "cells": [
    {
      "cell_type": "code",
      "execution_count": 1,
      "metadata": {
        "id": "gL8IylRfU_mL"
      },
      "outputs": [],
      "source": [
        "import pandas as pd\n",
        "import seaborn as sns\n",
        "import matplotlib.pyplot as plt\n",
        "import numpy as np\n",
        "from sklearn.model_selection import train_test_split, cross_val_score, cross_validate\n",
        "from sklearn.svm import SVR\n",
        "from sklearn.linear_model import LinearRegression\n",
        "from sklearn.decomposition import PCA\n",
        "import itertools\n",
        "from sklearn.metrics import mean_squared_error, r2_score, mean_absolute_error, mean_absolute_percentage_error\n",
        "from sklearn.model_selection import cross_val_score\n",
        "from sklearn.linear_model import LinearRegression\n",
        "from sklearn.metrics import make_scorer, mean_absolute_error, r2_score, confusion_matrix,ConfusionMatrixDisplay\n",
        "import numpy as np\n",
        "from sklearn.ensemble import RandomForestRegressor\n",
        "from sklearn.preprocessing import StandardScaler,MinMaxScaler\n",
        "from itertools import combinations\n",
        "import statistics"
      ]
    },
    {
      "cell_type": "code",
      "execution_count": 73,
      "metadata": {
        "colab": {
          "base_uri": "https://localhost:8080/"
        },
        "id": "ZRXP4L9w7BLA",
        "outputId": "4baa854d-7902-41de-f395-dc9fbd5e30eb"
      },
      "outputs": [],
      "source": [
        "dataframe = pd.read_csv('./Asian_site_ard2.csv')\n",
        "dataframe = dataframe[dataframe[\"Coincidence\"] < 1].reset_index()\n",
        "dataframe = dataframe.drop(columns=[\"index\"])"
      ]
    },
    {
      "cell_type": "code",
      "execution_count": 74,
      "metadata": {},
      "outputs": [
        {
          "data": {
            "text/html": [
              "<div>\n",
              "<style scoped>\n",
              "    .dataframe tbody tr th:only-of-type {\n",
              "        vertical-align: middle;\n",
              "    }\n",
              "\n",
              "    .dataframe tbody tr th {\n",
              "        vertical-align: top;\n",
              "    }\n",
              "\n",
              "    .dataframe thead th {\n",
              "        text-align: right;\n",
              "    }\n",
              "</style>\n",
              "<table border=\"1\" class=\"dataframe\">\n",
              "  <thead>\n",
              "    <tr style=\"text-align: right;\">\n",
              "      <th></th>\n",
              "      <th>PondID</th>\n",
              "      <th>pH</th>\n",
              "      <th>Salinity</th>\n",
              "      <th>Carbonate</th>\n",
              "      <th>BiCarbonate</th>\n",
              "      <th>Alkalinity</th>\n",
              "      <th>Hardness</th>\n",
              "      <th>Calcium</th>\n",
              "      <th>Magnesium</th>\n",
              "      <th>Ammonia</th>\n",
              "      <th>...</th>\n",
              "      <th>B1</th>\n",
              "      <th>B2</th>\n",
              "      <th>B3</th>\n",
              "      <th>B4</th>\n",
              "      <th>B5</th>\n",
              "      <th>B6</th>\n",
              "      <th>B7</th>\n",
              "      <th>B8A</th>\n",
              "      <th>B8</th>\n",
              "      <th>B9</th>\n",
              "    </tr>\n",
              "  </thead>\n",
              "  <tbody>\n",
              "    <tr>\n",
              "      <th>0</th>\n",
              "      <td>TUPILIPALEM_A2</td>\n",
              "      <td>8.4</td>\n",
              "      <td>35</td>\n",
              "      <td>30</td>\n",
              "      <td>120</td>\n",
              "      <td>150</td>\n",
              "      <td>6300</td>\n",
              "      <td>388</td>\n",
              "      <td>1296</td>\n",
              "      <td>0.00</td>\n",
              "      <td>...</td>\n",
              "      <td>1500</td>\n",
              "      <td>1254</td>\n",
              "      <td>1163</td>\n",
              "      <td>926</td>\n",
              "      <td>1025</td>\n",
              "      <td>1062</td>\n",
              "      <td>1171</td>\n",
              "      <td>1188</td>\n",
              "      <td>920</td>\n",
              "      <td>185</td>\n",
              "    </tr>\n",
              "    <tr>\n",
              "      <th>1</th>\n",
              "      <td>TUPILIPALEM_A3</td>\n",
              "      <td>8.7</td>\n",
              "      <td>38</td>\n",
              "      <td>40</td>\n",
              "      <td>120</td>\n",
              "      <td>160</td>\n",
              "      <td>6800</td>\n",
              "      <td>472</td>\n",
              "      <td>1471</td>\n",
              "      <td>0.00</td>\n",
              "      <td>...</td>\n",
              "      <td>1477</td>\n",
              "      <td>1302</td>\n",
              "      <td>1167</td>\n",
              "      <td>887</td>\n",
              "      <td>899</td>\n",
              "      <td>918</td>\n",
              "      <td>1042</td>\n",
              "      <td>993</td>\n",
              "      <td>988</td>\n",
              "      <td>174</td>\n",
              "    </tr>\n",
              "    <tr>\n",
              "      <th>2</th>\n",
              "      <td>TUPILIPALEM_A4</td>\n",
              "      <td>8.7</td>\n",
              "      <td>39</td>\n",
              "      <td>40</td>\n",
              "      <td>110</td>\n",
              "      <td>150</td>\n",
              "      <td>6960</td>\n",
              "      <td>482</td>\n",
              "      <td>1488</td>\n",
              "      <td>0.00</td>\n",
              "      <td>...</td>\n",
              "      <td>1478</td>\n",
              "      <td>1186</td>\n",
              "      <td>1072</td>\n",
              "      <td>773</td>\n",
              "      <td>779</td>\n",
              "      <td>727</td>\n",
              "      <td>826</td>\n",
              "      <td>898</td>\n",
              "      <td>703</td>\n",
              "      <td>170</td>\n",
              "    </tr>\n",
              "    <tr>\n",
              "      <th>3</th>\n",
              "      <td>TUPILIPALEM_A5</td>\n",
              "      <td>8.7</td>\n",
              "      <td>40</td>\n",
              "      <td>40</td>\n",
              "      <td>120</td>\n",
              "      <td>160</td>\n",
              "      <td>7100</td>\n",
              "      <td>488</td>\n",
              "      <td>1491</td>\n",
              "      <td>0.00</td>\n",
              "      <td>...</td>\n",
              "      <td>1515</td>\n",
              "      <td>1208</td>\n",
              "      <td>989</td>\n",
              "      <td>798</td>\n",
              "      <td>881</td>\n",
              "      <td>879</td>\n",
              "      <td>992</td>\n",
              "      <td>1018</td>\n",
              "      <td>756</td>\n",
              "      <td>178</td>\n",
              "    </tr>\n",
              "    <tr>\n",
              "      <th>4</th>\n",
              "      <td>TUPILIPALEM_B2</td>\n",
              "      <td>8.6</td>\n",
              "      <td>36</td>\n",
              "      <td>50</td>\n",
              "      <td>110</td>\n",
              "      <td>160</td>\n",
              "      <td>6200</td>\n",
              "      <td>378</td>\n",
              "      <td>1302</td>\n",
              "      <td>0.00</td>\n",
              "      <td>...</td>\n",
              "      <td>1607</td>\n",
              "      <td>1237</td>\n",
              "      <td>1162</td>\n",
              "      <td>1111</td>\n",
              "      <td>1116</td>\n",
              "      <td>1217</td>\n",
              "      <td>1268</td>\n",
              "      <td>1254</td>\n",
              "      <td>828</td>\n",
              "      <td>227</td>\n",
              "    </tr>\n",
              "    <tr>\n",
              "      <th>...</th>\n",
              "      <td>...</td>\n",
              "      <td>...</td>\n",
              "      <td>...</td>\n",
              "      <td>...</td>\n",
              "      <td>...</td>\n",
              "      <td>...</td>\n",
              "      <td>...</td>\n",
              "      <td>...</td>\n",
              "      <td>...</td>\n",
              "      <td>...</td>\n",
              "      <td>...</td>\n",
              "      <td>...</td>\n",
              "      <td>...</td>\n",
              "      <td>...</td>\n",
              "      <td>...</td>\n",
              "      <td>...</td>\n",
              "      <td>...</td>\n",
              "      <td>...</td>\n",
              "      <td>...</td>\n",
              "      <td>...</td>\n",
              "      <td>...</td>\n",
              "    </tr>\n",
              "    <tr>\n",
              "      <th>61</th>\n",
              "      <td>TUPILIPALEM_B4</td>\n",
              "      <td>8.1</td>\n",
              "      <td>40</td>\n",
              "      <td>0</td>\n",
              "      <td>150</td>\n",
              "      <td>150</td>\n",
              "      <td>7600</td>\n",
              "      <td>476</td>\n",
              "      <td>1572</td>\n",
              "      <td>0.06</td>\n",
              "      <td>...</td>\n",
              "      <td>1396</td>\n",
              "      <td>994</td>\n",
              "      <td>828</td>\n",
              "      <td>645</td>\n",
              "      <td>851</td>\n",
              "      <td>932</td>\n",
              "      <td>882</td>\n",
              "      <td>836</td>\n",
              "      <td>639</td>\n",
              "      <td>136</td>\n",
              "    </tr>\n",
              "    <tr>\n",
              "      <th>62</th>\n",
              "      <td>TUPILIPALEM_B5</td>\n",
              "      <td>8.3</td>\n",
              "      <td>40</td>\n",
              "      <td>30</td>\n",
              "      <td>140</td>\n",
              "      <td>170</td>\n",
              "      <td>7800</td>\n",
              "      <td>520</td>\n",
              "      <td>1579</td>\n",
              "      <td>0.05</td>\n",
              "      <td>...</td>\n",
              "      <td>1377</td>\n",
              "      <td>987</td>\n",
              "      <td>788</td>\n",
              "      <td>611</td>\n",
              "      <td>951</td>\n",
              "      <td>1093</td>\n",
              "      <td>1191</td>\n",
              "      <td>1163</td>\n",
              "      <td>604</td>\n",
              "      <td>128</td>\n",
              "    </tr>\n",
              "    <tr>\n",
              "      <th>63</th>\n",
              "      <td>TUPILIPALEM_B6</td>\n",
              "      <td>8.3</td>\n",
              "      <td>39</td>\n",
              "      <td>30</td>\n",
              "      <td>120</td>\n",
              "      <td>150</td>\n",
              "      <td>7700</td>\n",
              "      <td>502</td>\n",
              "      <td>1566</td>\n",
              "      <td>0.05</td>\n",
              "      <td>...</td>\n",
              "      <td>1409</td>\n",
              "      <td>988</td>\n",
              "      <td>823</td>\n",
              "      <td>635</td>\n",
              "      <td>1114</td>\n",
              "      <td>1171</td>\n",
              "      <td>1313</td>\n",
              "      <td>1294</td>\n",
              "      <td>637</td>\n",
              "      <td>137</td>\n",
              "    </tr>\n",
              "    <tr>\n",
              "      <th>64</th>\n",
              "      <td>TUPILIPALEM_B7</td>\n",
              "      <td>8.6</td>\n",
              "      <td>40</td>\n",
              "      <td>40</td>\n",
              "      <td>90</td>\n",
              "      <td>130</td>\n",
              "      <td>7800</td>\n",
              "      <td>594</td>\n",
              "      <td>1612</td>\n",
              "      <td>0.04</td>\n",
              "      <td>...</td>\n",
              "      <td>1344</td>\n",
              "      <td>974</td>\n",
              "      <td>814</td>\n",
              "      <td>651</td>\n",
              "      <td>942</td>\n",
              "      <td>1153</td>\n",
              "      <td>1103</td>\n",
              "      <td>1162</td>\n",
              "      <td>710</td>\n",
              "      <td>93</td>\n",
              "    </tr>\n",
              "    <tr>\n",
              "      <th>65</th>\n",
              "      <td>TUPILIPALEM_B8</td>\n",
              "      <td>7.7</td>\n",
              "      <td>39</td>\n",
              "      <td>0</td>\n",
              "      <td>120</td>\n",
              "      <td>120</td>\n",
              "      <td>8100</td>\n",
              "      <td>586</td>\n",
              "      <td>603</td>\n",
              "      <td>0.04</td>\n",
              "      <td>...</td>\n",
              "      <td>1403</td>\n",
              "      <td>1022</td>\n",
              "      <td>810</td>\n",
              "      <td>649</td>\n",
              "      <td>822</td>\n",
              "      <td>738</td>\n",
              "      <td>839</td>\n",
              "      <td>797</td>\n",
              "      <td>601</td>\n",
              "      <td>135</td>\n",
              "    </tr>\n",
              "  </tbody>\n",
              "</table>\n",
              "<p>66 rows × 28 columns</p>\n",
              "</div>"
            ],
            "text/plain": [
              "            PondID   pH  Salinity  Carbonate  BiCarbonate  Alkalinity  \\\n",
              "0   TUPILIPALEM_A2  8.4        35         30          120         150   \n",
              "1   TUPILIPALEM_A3  8.7        38         40          120         160   \n",
              "2   TUPILIPALEM_A4  8.7        39         40          110         150   \n",
              "3   TUPILIPALEM_A5  8.7        40         40          120         160   \n",
              "4   TUPILIPALEM_B2  8.6        36         50          110         160   \n",
              "..             ...  ...       ...        ...          ...         ...   \n",
              "61  TUPILIPALEM_B4  8.1        40          0          150         150   \n",
              "62  TUPILIPALEM_B5  8.3        40         30          140         170   \n",
              "63  TUPILIPALEM_B6  8.3        39         30          120         150   \n",
              "64  TUPILIPALEM_B7  8.6        40         40           90         130   \n",
              "65  TUPILIPALEM_B8  7.7        39          0          120         120   \n",
              "\n",
              "    Hardness  Calcium  Magnesium  Ammonia  ...    B1    B2    B3    B4    B5  \\\n",
              "0       6300      388       1296     0.00  ...  1500  1254  1163   926  1025   \n",
              "1       6800      472       1471     0.00  ...  1477  1302  1167   887   899   \n",
              "2       6960      482       1488     0.00  ...  1478  1186  1072   773   779   \n",
              "3       7100      488       1491     0.00  ...  1515  1208   989   798   881   \n",
              "4       6200      378       1302     0.00  ...  1607  1237  1162  1111  1116   \n",
              "..       ...      ...        ...      ...  ...   ...   ...   ...   ...   ...   \n",
              "61      7600      476       1572     0.06  ...  1396   994   828   645   851   \n",
              "62      7800      520       1579     0.05  ...  1377   987   788   611   951   \n",
              "63      7700      502       1566     0.05  ...  1409   988   823   635  1114   \n",
              "64      7800      594       1612     0.04  ...  1344   974   814   651   942   \n",
              "65      8100      586        603     0.04  ...  1403  1022   810   649   822   \n",
              "\n",
              "      B6    B7   B8A   B8   B9  \n",
              "0   1062  1171  1188  920  185  \n",
              "1    918  1042   993  988  174  \n",
              "2    727   826   898  703  170  \n",
              "3    879   992  1018  756  178  \n",
              "4   1217  1268  1254  828  227  \n",
              "..   ...   ...   ...  ...  ...  \n",
              "61   932   882   836  639  136  \n",
              "62  1093  1191  1163  604  128  \n",
              "63  1171  1313  1294  637  137  \n",
              "64  1153  1103  1162  710   93  \n",
              "65   738   839   797  601  135  \n",
              "\n",
              "[66 rows x 28 columns]"
            ]
          },
          "execution_count": 74,
          "metadata": {},
          "output_type": "execute_result"
        }
      ],
      "source": [
        "dataframe"
      ]
    },
    {
      "cell_type": "code",
      "execution_count": 84,
      "metadata": {},
      "outputs": [
        {
          "name": "stdout",
          "output_type": "stream",
          "text": [
            "pH Minimum Value: 7.5\n",
            "Salinity Minimum Value: 15\n"
          ]
        }
      ],
      "source": [
        "print(\"pH Minimum Value:\", dataframe[\"pH\"].min())\n",
        "print(\"Salinity Minimum Value:\", dataframe[\"Salinity\"].min())"
      ]
    },
    {
      "cell_type": "code",
      "execution_count": 85,
      "metadata": {
        "id": "38c67PoInuwS"
      },
      "outputs": [],
      "source": [
        "bands = ['B1', 'B2', 'B3', 'B4', 'B5', 'B6', 'B7', 'B8', 'B8A', 'B9', 'B11', 'B12']\n",
        "parameters = [\"pH\", \"Salinity\", \"Ammonia\"]"
      ]
    },
    {
      "cell_type": "code",
      "execution_count": 86,
      "metadata": {},
      "outputs": [
        {
          "data": {
            "text/plain": [
              "pH          0.044325\n",
              "Salinity    0.187551\n",
              "Ammonia     0.062056\n",
              "dtype: float64"
            ]
          },
          "execution_count": 86,
          "metadata": {},
          "output_type": "execute_result"
        }
      ],
      "source": [
        "dataframe[[\"pH\", \"Salinity\", \"Ammonia\"]].std()/np.array([8.5, 45, 0.5])"
      ]
    },
    {
      "cell_type": "code",
      "execution_count": 87,
      "metadata": {},
      "outputs": [],
      "source": [
        "def calculateWQI(parameters):\n",
        "    # order of parameters ph salinity ammonia\n",
        "    permissibleValuesParameters = np.array([8.5, 45, 0.5])\n",
        "    summ = 0\n",
        "    sumWn = 0\n",
        "    weights = np.array(parameters.std()/permissibleValuesParameters)\n",
        "    weightsnormalized = weights/sum(weights)\n",
        "    for column, sn, Wn in zip(parameters.columns, permissibleValuesParameters, weightsnormalized):\n",
        "        vn = parameters[column]\n",
        "        if column==\"pH\":\n",
        "            vid = 7.5\n",
        "        elif column==\"Salinity\":\n",
        "            vid = 15\n",
        "        else:\n",
        "            vid = 0.0\n",
        "        qn = 100*(vn - vid)/(sn-vid)\n",
        "        summ = summ + (qn*Wn)\n",
        "        sumWn = sumWn + Wn\n",
        "    WQI = summ/sumWn\n",
        "    return WQI\n"
      ]
    },
    {
      "cell_type": "code",
      "execution_count": 88,
      "metadata": {},
      "outputs": [
        {
          "data": {
            "text/plain": [
              "(array([ 4.,  9.,  3.,  4.,  7.,  1.,  3., 10., 13., 12.]),\n",
              " array([ 3.86049261, 10.80644526, 17.75239791, 24.69835056, 31.64430322,\n",
              "        38.59025587, 45.53620852, 52.48216117, 59.42811383, 66.37406648,\n",
              "        73.32001913]),\n",
              " <BarContainer object of 10 artists>)"
            ]
          },
          "execution_count": 88,
          "metadata": {},
          "output_type": "execute_result"
        },
        {
          "data": {
            "image/png": "[encoded data removed]",
            "text/plain": [
              "<Figure size 640x480 with 1 Axes>"
            ]
          },
          "metadata": {},
          "output_type": "display_data"
        }
      ],
      "source": [
        "wqi = calculateWQI(dataframe[parameters])\n",
        "## plotting distribution of wqi\n",
        "plt.hist(wqi)"
      ]
    },
    {
      "cell_type": "code",
      "execution_count": 89,
      "metadata": {},
      "outputs": [
        {
          "name": "stdout",
          "output_type": "stream",
          "text": [
            "Mean WQI 45.392442955198746\n",
            "Standard Deviation WQI 22.111449426719723\n"
          ]
        }
      ],
      "source": [
        "## printing stats for ground truth wqi\n",
        "print(\"Mean WQI\", statistics.mean(wqi))\n",
        "print(\"Standard Deviation WQI\", statistics.stdev(wqi))"
      ]
    },
    {
      "cell_type": "code",
      "execution_count": 90,
      "metadata": {},
      "outputs": [],
      "source": [
        "### adding wqi as a dataframe \n",
        "dataframe[\"WQI\"] = wqi"
      ]
    },
    {
      "cell_type": "code",
      "execution_count": 93,
      "metadata": {},
      "outputs": [],
      "source": [
        "### model to predict WQI using bands as input\n",
        "def predictWQI(dataframe):\n",
        "    validationdataframe = dataframe[dataframe[\"Date of Image\"]==\"2023-07-09\"]\n",
        "    traindataframe = dataframe[dataframe[\"Date of Image\"]!=\"2023-07-09\"]\n",
        "    # traindataframe, validationdataframe = train_test_split(dataframe, test_size=0.227)\n",
        "    xTrain = traindataframe[bands]\n",
        "    yTrain = traindataframe[\"WQI\"]\n",
        "    xTest = validationdataframe[bands]\n",
        "    yTest = validationdataframe[\"WQI\"]\n",
        "    model = SVR(kernel='rbf', C=1.0, epsilon=1e-3)\n",
        "    model.fit(xTrain, yTrain)\n",
        "    prediction = model.predict(xTest)\n",
        "    prediction = prediction\n",
        "    print(\"MAE\", mean_absolute_error(yTest, prediction))\n",
        "    print(\"MSE\", mean_squared_error(yTest, prediction))\n",
        "    print(\"RMSE\", mean_squared_error(yTest, prediction, squared=False))\n",
        "    print(\"MAPE\", mean_absolute_percentage_error(yTest, prediction))\n",
        "    print(\"R2 Score\", r2_score(yTest, prediction))\n",
        "    plt.figure(figsize=(25,10))\n",
        "    plt.scatter(np.arange(1, len(yTest)+1), yTest, color=\"red\")\n",
        "    plt.plot(np.arange(1, len(yTest)+1), prediction, color=\"blue\")\n",
        "    return prediction"
      ]
    },
    {
      "cell_type": "code",
      "execution_count": 94,
      "metadata": {},
      "outputs": [
        {
          "name": "stdout",
          "output_type": "stream",
          "text": [
            "MAE 9.361205887793744\n",
            "MSE 119.67759998178552\n",
            "RMSE 10.939725772695837\n",
            "MAPE 0.2639866867552857\n",
            "R2 Score 0.6627360072695645\n"
          ]
        },
        {
          "data": {
            "image/png": "[encoded data removed]",
            "text/plain": [
              "<Figure size 2500x1000 with 1 Axes>"
            ]
          },
          "metadata": {},
          "output_type": "display_data"
        }
      ],
      "source": [
        "predictedWQI = predictWQI(dataframe)"
      ]
    },
    {
      "cell_type": "code",
      "execution_count": 63,
      "metadata": {},
      "outputs": [
        {
          "name": "stdout",
          "output_type": "stream",
          "text": [
            "Mean WQI 50.97146702108294\n",
            "Standard Deviation WQI 7.600041745512194\n"
          ]
        }
      ],
      "source": [
        "## printing stats for ground truth wqi\n",
        "print(\"Mean WQI\", statistics.mean(predictedWQI))\n",
        "print(\"Standard Deviation WQI\", statistics.stdev(predictedWQI))"
      ]
    },
    {
      "cell_type": "code",
      "execution_count": null,
      "metadata": {
        "id": "DpF_xL0eQ3sn"
      },
      "outputs": [],
      "source": [
        "\n",
        "\n",
        "#to train model to predict the WQI using band  indcies using ML\n",
        "def WQIandBands(df1,WQI):\n",
        "  print('-----For WQI prediction with Bands with SVR algo -----')\n",
        "  X_test = df1.loc[df1['Date of Image'] == '2023-07-09'][['B11',\t'B12'\t,'B1',\t'B2',\t'B3',\t'B4',\t'B5',\t'B6',\t'B7',\t'B8A',\t'B8',\t'B9']]\n",
        "  y_test = df1.loc[df1['Date of Image'] == '2023-07-09'][['pH']]\n",
        "  X_train = df1.loc[df1['Date of Image'] != '2023-07-09'][['B11',\t'B12'\t,'B1',\t'B2',\t'B3',\t'B4',\t'B5',\t'B6',\t'B7',\t'B8A',\t'B8',\t'B9']]\n",
        "  y_train = df1.loc[df1['Date of Image'] != '2023-07-09'][['pH']]\n",
        "  # X_train, X_test, y_train, y_test = train_test_split(Bandsndices, WQI, test_size=0.33, random_state=42)\n",
        "  model = SVR(kernel='rbf', C=1.0, epsilon=0.2)\n",
        "  model.fit(X_train, y_train)\n",
        "  prediction = model.predict(X_test)\n",
        "  print(\"MAE\", mean_absolute_error(y_test, prediction))\n",
        "  print(\"MSE\", mean_squared_error(y_test, prediction))\n",
        "  print(\"RMSE\", mean_squared_error(y_test, prediction, squared=False))\n",
        "  print(\"MAPE\", mean_absolute_percentage_error(y_test, prediction))\n",
        "  print(\"R2 Score\", r2_score(y_test, prediction))\n",
        "  return prediction\n",
        "\n",
        "\n",
        "def CM(actual, predicted):\n",
        "  fig = plt.figure()\n",
        "  plt.scatter(actual, predicted)\n",
        "  plt.show()\n",
        "\n",
        "def LRegression(WQI,GT):\n",
        "  X_train, X_test, y_train, y_test = train_test_split(WQI, GT, test_size=0.33, random_state=42)\n",
        "  model = LinearRegression().fit(X_train, y_train)\n",
        "  # model1 = SVR(kernel='rbf', C=1.0, epsilon=0.2).fit(X_train, y_train)\n",
        "  # model = RandomForestRegressor(max_depth=2, random_state=0).fit(X_train, y_train)\n",
        "  prediction = model.predict(X_test)\n",
        "  for x,y in zip(y_test.values,prediction):\n",
        "    print(x,'-',y)\n",
        "\n",
        "  CM(WQI,GT)\n",
        "  print(\"MAE\", mean_absolute_error(y_test, prediction))\n",
        "  print(\"MSE\", mean_squared_error(y_test, prediction))\n",
        "  print(\"RMSE\", mean_squared_error(y_test, prediction, squared=False))\n",
        "  print(\"MAPE\", mean_absolute_percentage_error(y_test, prediction))\n",
        "  print(\"R2 Score\", r2_score(y_test, prediction))\n",
        "  # return model.coef_,model.intercept_\n",
        "#to predict the parameters from WQI\n",
        "\n",
        "\n",
        "\n",
        "def WQIandParameters(WQI,GT):\n",
        "  print('-----For WQI with pH Regression relation-----')\n",
        "  LRegression(WQI,GT['pH'])\n",
        "  print('-----For WQI with Salinity  Regression relation-----')\n",
        "  LRegression(WQI,GT['Salinity'])\n",
        "  print('-----For WQI with Ammonia SVR relation-----')\n",
        "  LRegression(WQI,GT['Ammonia'])\n",
        "  return None\n",
        "\n"
      ]
    },
    {
      "attachments": {},
      "cell_type": "markdown",
      "metadata": {
        "id": "ir8KVILORrAn"
      },
      "source": [
        "## WQI with only bands"
      ]
    },
    {
      "cell_type": "code",
      "execution_count": null,
      "metadata": {
        "colab": {
          "base_uri": "https://localhost:8080/",
          "height": 1000
        },
        "id": "QMdCAN1SUn8e",
        "outputId": "303eb7af-68d1-4a1b-b2d2-8b204b88a4e3"
      },
      "outputs": [],
      "source": [
        "WQI = WQIcalculation(df1 ,GT1)\n",
        "# len(WQI)\n",
        "WQIandBands(df1,WQI)\n",
        "WQIandParameters(np.array(WQI).reshape(-1, 1),GT)"
      ]
    },
    {
      "cell_type": "code",
      "execution_count": null,
      "metadata": {
        "id": "L9mZXEFKCzRj"
      },
      "outputs": [],
      "source": []
    },
    {
      "cell_type": "code",
      "execution_count": null,
      "metadata": {
        "id": "MvgCXQ7SCzEk"
      },
      "outputs": [],
      "source": []
    },
    {
      "cell_type": "code",
      "execution_count": null,
      "metadata": {
        "id": "5peUdZ6ACzBG"
      },
      "outputs": [],
      "source": []
    },
    {
      "cell_type": "code",
      "execution_count": null,
      "metadata": {
        "id": "Cl7F2KKUCy_B"
      },
      "outputs": [],
      "source": []
    },
    {
      "cell_type": "code",
      "execution_count": null,
      "metadata": {
        "id": "PSJuo7abCy8o"
      },
      "outputs": [],
      "source": []
    },
    {
      "cell_type": "code",
      "execution_count": null,
      "metadata": {
        "id": "MOLEQcrwCy6W"
      },
      "outputs": [],
      "source": []
    },
    {
      "cell_type": "code",
      "execution_count": null,
      "metadata": {
        "id": "SoYf6tO3Cy4I"
      },
      "outputs": [],
      "source": []
    },
    {
      "cell_type": "code",
      "execution_count": null,
      "metadata": {
        "id": "eAEEjWz3Cysh"
      },
      "outputs": [],
      "source": []
    },
    {
      "cell_type": "code",
      "execution_count": null,
      "metadata": {
        "id": "_b_sxESwSSdG"
      },
      "outputs": [],
      "source": [
        "newdf = bandmath(normalized_Banddata,WQI)"
      ]
    },
    {
      "cell_type": "code",
      "execution_count": null,
      "metadata": {
        "colab": {
          "base_uri": "https://localhost:8080/"
        },
        "id": "AXDed9sqpVvR",
        "outputId": "ea584f8b-08d0-4242-8cf1-328c0e201821"
      },
      "outputs": [],
      "source": [
        "(newdf.columns)"
      ]
    },
    {
      "attachments": {},
      "cell_type": "markdown",
      "metadata": {
        "id": "g-MohxHjSSAX"
      },
      "source": []
    },
    {
      "attachments": {},
      "cell_type": "markdown",
      "metadata": {
        "id": "afH5m9yvRv0E"
      },
      "source": [
        "## WQI with  top  10 combination indices"
      ]
    },
    {
      "cell_type": "code",
      "execution_count": null,
      "metadata": {
        "colab": {
          "base_uri": "https://localhost:8080/"
        },
        "id": "1ITBJ6b5_WSN",
        "outputId": "1d52f0a9-be1b-4a6e-e50f-f5958a7f5b09"
      },
      "outputs": [],
      "source": [
        "corrwithWQI = newdf.corrwith(newdf['WQI_cal'])\n",
        "type(corrwithWQI)\n",
        "corrdict  = corrwithWQI.to_dict()\n",
        "sortedkeys = sorted(corrdict, key=corrdict.get, reverse=True)\n",
        "for r in sortedkeys[:11]:\n",
        "    print(r, corrdict[r])"
      ]
    },
    {
      "cell_type": "code",
      "execution_count": null,
      "metadata": {
        "colab": {
          "base_uri": "https://localhost:8080/",
          "height": 415
        },
        "id": "37Puh-UjC5U9",
        "outputId": "f7789028-d3b6-42f1-b848-8c22594c591b"
      },
      "outputs": [],
      "source": [
        "newtraindf = newdf[sortedkeys].drop('WQI_cal',axis = 1)\n",
        "scaler = StandardScaler()\n",
        "scaler.fit(newtraindf)\n",
        "newscaledtraindf = scaler.transform(newtraindf)\n",
        "WQIandBands(newscaledtraindf,WQI)"
      ]
    },
    {
      "cell_type": "code",
      "execution_count": null,
      "metadata": {
        "id": "mF5NvxzBFwM-"
      },
      "outputs": [],
      "source": [
        "# plt.scatter(df['norm_NarrowNIR_SWIR1'],df['WQI_cal'])\n",
        "# plt.scatter(df['norm_NarrowNIR_SWIR2'],df['WQI_cal'])\n",
        "# plt.scatter(df['norm_WaterVapour_SWIR2'],df['WQI_cal'])"
      ]
    },
    {
      "attachments": {},
      "cell_type": "markdown",
      "metadata": {
        "id": "5sjQ6U5pScCF"
      },
      "source": [
        "## WQI with  PCA 3 bands"
      ]
    },
    {
      "cell_type": "code",
      "execution_count": null,
      "metadata": {
        "id": "4z4M9chuSbaq"
      },
      "outputs": [],
      "source": [
        "pca = PCA(n_components=3)\n",
        "scaler = StandardScaler()\n",
        "scaler.fit(Banddata)\n",
        "scaled_banddata = scaler.transform(Banddata)\n",
        "pca = PCA(n_components=2)\n",
        "pca.fit(scaled_banddata)\n",
        "pca_banddata =  pca.transform(scaled_banddata)"
      ]
    },
    {
      "cell_type": "code",
      "execution_count": null,
      "metadata": {
        "colab": {
          "base_uri": "https://localhost:8080/"
        },
        "id": "ymHMEpLxTneH",
        "outputId": "c3824f57-27ac-43c6-9000-9185a710a920"
      },
      "outputs": [],
      "source": [
        "WQIandBands(pca_banddata,WQI)"
      ]
    },
    {
      "cell_type": "code",
      "execution_count": null,
      "metadata": {
        "id": "IFYtsN9lUULu"
      },
      "outputs": [],
      "source": []
    }
  ],
  "metadata": {
    "colab": {
      "provenance": []
    },
    "kernelspec": {
      "display_name": "base",
      "language": "python",
      "name": "base"
    },
    "language_info": {
      "codemirror_mode": {
        "name": "ipython",
        "version": 3
      },
      "file_extension": ".py",
      "mimetype": "text/x-python",
      "name": "python",
      "nbconvert_exporter": "python",
      "pygments_lexer": "ipython3",
      "version": "3.9.13"
    }
  },
  "nbformat": 4,
  "nbformat_minor": 0
}

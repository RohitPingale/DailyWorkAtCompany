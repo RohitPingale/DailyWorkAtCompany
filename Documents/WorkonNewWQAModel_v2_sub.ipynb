{
  "cells": [
    {
      "cell_type": "code",
      "source": [
        "from google.colab import drive\n",
        "drive.mount('/content/drive')"
      ],
      "metadata": {
        "colab": {
          "base_uri": "https://localhost:8080/"
        },
        "id": "cY8jdrRQTNmB",
        "outputId": "ff5f7b7f-2a1f-4f29-8358-9f0316dcf97a"
      },
      "execution_count": 1,
      "outputs": [
        {
          "output_type": "stream",
          "name": "stdout",
          "text": [
            "Mounted at /content/drive\n"
          ]
        }
      ]
    },
    {
      "cell_type": "code",
      "execution_count": 2,
      "metadata": {
        "id": "gL8IylRfU_mL"
      },
      "outputs": [],
      "source": [
        "import pandas as pd\n",
        "import seaborn as sns\n",
        "import matplotlib.pyplot as plt\n",
        "import numpy as np\n",
        "import seaborn as sns\n",
        "from sklearn.model_selection import train_test_split, cross_val_score, cross_validate\n",
        "from sklearn.svm import SVR\n",
        "from sklearn.neural_network import MLPRegressor\n",
        "from sklearn.linear_model import LinearRegression\n",
        "from sklearn.decomposition import PCA\n",
        "import itertools\n",
        "from sklearn.metrics import mean_squared_error, r2_score, mean_absolute_error, mean_absolute_percentage_error\n",
        "from sklearn.model_selection import cross_val_score,KFold\n",
        "from sklearn.linear_model import LinearRegression\n",
        "from sklearn.metrics import make_scorer, mean_absolute_error, r2_score, confusion_matrix,ConfusionMatrixDisplay\n",
        "import numpy as np\n",
        "import xgboost as xgb\n",
        "from sklearn.ensemble import RandomForestRegressor\n",
        "from sklearn.preprocessing import StandardScaler,MinMaxScaler\n",
        "from itertools import combinations\n",
        "import statistics\n",
        "import math"
      ]
    },
    {
      "cell_type": "code",
      "execution_count": 3,
      "metadata": {
        "id": "ZRXP4L9w7BLA"
      },
      "outputs": [],
      "source": [
        "# dataframe = pd.read_csv('/content/drive/MyDrive/WQA_data/Asian_site_ard2.csv')\n",
        "# dataframe = pd.read_csv('/content/drive/MyDrive/WQA_data/AvantiCombined_NSR.csv')\n",
        "# dataframe = pd.read_csv('/content/drive/MyDrive/WQA_data/AvantiCombined_SR.csv')\n",
        "dataframe = pd.read_csv('/content/drive/MyDrive/WQA_data/dataframe-tve.csv')\n",
        "dataframe = dataframe[dataframe[\"Coincidence\"] < 1].reset_index()\n",
        "dataframe = dataframe.drop(columns=[\"index\"])\n",
        "dataframe = dataframe[dataframe['Salinity']>20]"
      ]
    },
    {
      "cell_type": "code",
      "execution_count": 4,
      "metadata": {
        "id": "Pb1V9w7ISFs5"
      },
      "outputs": [],
      "source": [
        "tempdf = pd.DataFrame()\n",
        "tempdf['Tmean'] = dataframe[['pH','Salinity','Ammonia']].mean()\n",
        "tempdf['Tstd'] = dataframe[['pH','Salinity','Ammonia']].std()\n",
        "for date in dataframe['Date of Image'].unique():\n",
        "  df = dataframe.loc[dataframe['Date of Image'] == date]\n",
        "  tempdf[f'{date}_mean'] = df[['pH','Salinity','Ammonia']].mean()\n",
        "  tempdf[f'{date}_std'] = df[['pH','Salinity','Ammonia']].std()"
      ]
    },
    {
      "cell_type": "code",
      "source": [
        "tempdf"
      ],
      "metadata": {
        "colab": {
          "base_uri": "https://localhost:8080/",
          "height": 143
        },
        "id": "nsbf_YtNnfiC",
        "outputId": "619f8279-70e4-4991-ce58-cf5e9f15a9c7"
      },
      "execution_count": 5,
      "outputs": [
        {
          "output_type": "execute_result",
          "data": {
            "text/plain": [
              "              Tmean      Tstd  2022-07-14_mean  2022-07-14_std  \\\n",
              "pH         8.205357  0.361522            8.600        0.106904   \n",
              "Salinity  33.678571  6.390638           37.875        1.807722   \n",
              "Ammonia    0.043750  0.032784            0.000        0.000000   \n",
              "\n",
              "          2022-09-12_mean  2022-09-12_std  2023-04-25_mean  2023-04-25_std  \\\n",
              "pH                8.43750        0.170783           7.6250        0.150000   \n",
              "Salinity         35.56250        3.898183          26.0000        3.366502   \n",
              "Ammonia           0.02625        0.015438           0.0275        0.009574   \n",
              "\n",
              "          2023-05-30_mean  2023-05-30_std  2023-07-09_mean  2023-07-09_std  \n",
              "pH               7.900000        0.264575         8.166667        0.276887  \n",
              "Salinity        24.923077        1.754116        39.066667        2.051712  \n",
              "Ammonia          0.074615        0.025038         0.063333        0.024398  "
            ],
            "text/html": [
              "\n",
              "\n",
              "  <div id=\"df-cc6a5400-859b-4ca2-a915-cadb47e0a6f8\">\n",
              "    <div class=\"colab-df-container\">\n",
              "      <div>\n",
              "<style scoped>\n",
              "    .dataframe tbody tr th:only-of-type {\n",
              "        vertical-align: middle;\n",
              "    }\n",
              "\n",
              "    .dataframe tbody tr th {\n",
              "        vertical-align: top;\n",
              "    }\n",
              "\n",
              "    .dataframe thead th {\n",
              "        text-align: right;\n",
              "    }\n",
              "</style>\n",
              "<table border=\"1\" class=\"dataframe\">\n",
              "  <thead>\n",
              "    <tr style=\"text-align: right;\">\n",
              "      <th></th>\n",
              "      <th>Tmean</th>\n",
              "      <th>Tstd</th>\n",
              "      <th>2022-07-14_mean</th>\n",
              "      <th>2022-07-14_std</th>\n",
              "      <th>2022-09-12_mean</th>\n",
              "      <th>2022-09-12_std</th>\n",
              "      <th>2023-04-25_mean</th>\n",
              "      <th>2023-04-25_std</th>\n",
              "      <th>2023-05-30_mean</th>\n",
              "      <th>2023-05-30_std</th>\n",
              "      <th>2023-07-09_mean</th>\n",
              "      <th>2023-07-09_std</th>\n",
              "    </tr>\n",
              "  </thead>\n",
              "  <tbody>\n",
              "    <tr>\n",
              "      <th>pH</th>\n",
              "      <td>8.205357</td>\n",
              "      <td>0.361522</td>\n",
              "      <td>8.600</td>\n",
              "      <td>0.106904</td>\n",
              "      <td>8.43750</td>\n",
              "      <td>0.170783</td>\n",
              "      <td>7.6250</td>\n",
              "      <td>0.150000</td>\n",
              "      <td>7.900000</td>\n",
              "      <td>0.264575</td>\n",
              "      <td>8.166667</td>\n",
              "      <td>0.276887</td>\n",
              "    </tr>\n",
              "    <tr>\n",
              "      <th>Salinity</th>\n",
              "      <td>33.678571</td>\n",
              "      <td>6.390638</td>\n",
              "      <td>37.875</td>\n",
              "      <td>1.807722</td>\n",
              "      <td>35.56250</td>\n",
              "      <td>3.898183</td>\n",
              "      <td>26.0000</td>\n",
              "      <td>3.366502</td>\n",
              "      <td>24.923077</td>\n",
              "      <td>1.754116</td>\n",
              "      <td>39.066667</td>\n",
              "      <td>2.051712</td>\n",
              "    </tr>\n",
              "    <tr>\n",
              "      <th>Ammonia</th>\n",
              "      <td>0.043750</td>\n",
              "      <td>0.032784</td>\n",
              "      <td>0.000</td>\n",
              "      <td>0.000000</td>\n",
              "      <td>0.02625</td>\n",
              "      <td>0.015438</td>\n",
              "      <td>0.0275</td>\n",
              "      <td>0.009574</td>\n",
              "      <td>0.074615</td>\n",
              "      <td>0.025038</td>\n",
              "      <td>0.063333</td>\n",
              "      <td>0.024398</td>\n",
              "    </tr>\n",
              "  </tbody>\n",
              "</table>\n",
              "</div>\n",
              "      <button class=\"colab-df-convert\" onclick=\"convertToInteractive('df-cc6a5400-859b-4ca2-a915-cadb47e0a6f8')\"\n",
              "              title=\"Convert this dataframe to an interactive table.\"\n",
              "              style=\"display:none;\">\n",
              "\n",
              "  <svg xmlns=\"http://www.w3.org/2000/svg\" height=\"24px\"viewBox=\"0 0 24 24\"\n",
              "       width=\"24px\">\n",
              "    <path d=\"M0 0h24v24H0V0z\" fill=\"none\"/>\n",
              "    <path d=\"M18.56 5.44l.94 2.06.94-2.06 2.06-.94-2.06-.94-.94-2.06-.94 2.06-2.06.94zm-11 1L8.5 8.5l.94-2.06 2.06-.94-2.06-.94L8.5 2.5l-.94 2.06-2.06.94zm10 10l.94 2.06.94-2.06 2.06-.94-2.06-.94-.94-2.06-.94 2.06-2.06.94z\"/><path d=\"M17.41 7.96l-1.37-1.37c-.4-.4-.92-.59-1.43-.59-.52 0-1.04.2-1.43.59L10.3 9.45l-7.72 7.72c-.78.78-.78 2.05 0 2.83L4 21.41c.39.39.9.59 1.41.59.51 0 1.02-.2 1.41-.59l7.78-7.78 2.81-2.81c.8-.78.8-2.07 0-2.86zM5.41 20L4 18.59l7.72-7.72 1.47 1.35L5.41 20z\"/>\n",
              "  </svg>\n",
              "      </button>\n",
              "\n",
              "\n",
              "\n",
              "    <div id=\"df-b1eec453-5097-41ee-8b01-326173298232\">\n",
              "      <button class=\"colab-df-quickchart\" onclick=\"quickchart('df-b1eec453-5097-41ee-8b01-326173298232')\"\n",
              "              title=\"Suggest charts.\"\n",
              "              style=\"display:none;\">\n",
              "\n",
              "<svg xmlns=\"http://www.w3.org/2000/svg\" height=\"24px\"viewBox=\"0 0 24 24\"\n",
              "     width=\"24px\">\n",
              "    <g>\n",
              "        <path d=\"M19 3H5c-1.1 0-2 .9-2 2v14c0 1.1.9 2 2 2h14c1.1 0 2-.9 2-2V5c0-1.1-.9-2-2-2zM9 17H7v-7h2v7zm4 0h-2V7h2v10zm4 0h-2v-4h2v4z\"/>\n",
              "    </g>\n",
              "</svg>\n",
              "      </button>\n",
              "    </div>\n",
              "\n",
              "<style>\n",
              "  .colab-df-quickchart {\n",
              "    background-color: #E8F0FE;\n",
              "    border: none;\n",
              "    border-radius: 50%;\n",
              "    cursor: pointer;\n",
              "    display: none;\n",
              "    fill: #1967D2;\n",
              "    height: 32px;\n",
              "    padding: 0 0 0 0;\n",
              "    width: 32px;\n",
              "  }\n",
              "\n",
              "  .colab-df-quickchart:hover {\n",
              "    background-color: #E2EBFA;\n",
              "    box-shadow: 0px 1px 2px rgba(60, 64, 67, 0.3), 0px 1px 3px 1px rgba(60, 64, 67, 0.15);\n",
              "    fill: #174EA6;\n",
              "  }\n",
              "\n",
              "  [theme=dark] .colab-df-quickchart {\n",
              "    background-color: #3B4455;\n",
              "    fill: #D2E3FC;\n",
              "  }\n",
              "\n",
              "  [theme=dark] .colab-df-quickchart:hover {\n",
              "    background-color: #434B5C;\n",
              "    box-shadow: 0px 1px 3px 1px rgba(0, 0, 0, 0.15);\n",
              "    filter: drop-shadow(0px 1px 2px rgba(0, 0, 0, 0.3));\n",
              "    fill: #FFFFFF;\n",
              "  }\n",
              "</style>\n",
              "\n",
              "    <script>\n",
              "      async function quickchart(key) {\n",
              "        const containerElement = document.querySelector('#' + key);\n",
              "        const charts = await google.colab.kernel.invokeFunction(\n",
              "            'suggestCharts', [key], {});\n",
              "      }\n",
              "    </script>\n",
              "\n",
              "      <script>\n",
              "\n",
              "function displayQuickchartButton(domScope) {\n",
              "  let quickchartButtonEl =\n",
              "    domScope.querySelector('#df-b1eec453-5097-41ee-8b01-326173298232 button.colab-df-quickchart');\n",
              "  quickchartButtonEl.style.display =\n",
              "    google.colab.kernel.accessAllowed ? 'block' : 'none';\n",
              "}\n",
              "\n",
              "        displayQuickchartButton(document);\n",
              "      </script>\n",
              "      <style>\n",
              "    .colab-df-container {\n",
              "      display:flex;\n",
              "      flex-wrap:wrap;\n",
              "      gap: 12px;\n",
              "    }\n",
              "\n",
              "    .colab-df-convert {\n",
              "      background-color: #E8F0FE;\n",
              "      border: none;\n",
              "      border-radius: 50%;\n",
              "      cursor: pointer;\n",
              "      display: none;\n",
              "      fill: #1967D2;\n",
              "      height: 32px;\n",
              "      padding: 0 0 0 0;\n",
              "      width: 32px;\n",
              "    }\n",
              "\n",
              "    .colab-df-convert:hover {\n",
              "      background-color: #E2EBFA;\n",
              "      box-shadow: 0px 1px 2px rgba(60, 64, 67, 0.3), 0px 1px 3px 1px rgba(60, 64, 67, 0.15);\n",
              "      fill: #174EA6;\n",
              "    }\n",
              "\n",
              "    [theme=dark] .colab-df-convert {\n",
              "      background-color: #3B4455;\n",
              "      fill: #D2E3FC;\n",
              "    }\n",
              "\n",
              "    [theme=dark] .colab-df-convert:hover {\n",
              "      background-color: #434B5C;\n",
              "      box-shadow: 0px 1px 3px 1px rgba(0, 0, 0, 0.15);\n",
              "      filter: drop-shadow(0px 1px 2px rgba(0, 0, 0, 0.3));\n",
              "      fill: #FFFFFF;\n",
              "    }\n",
              "  </style>\n",
              "\n",
              "      <script>\n",
              "        const buttonEl =\n",
              "          document.querySelector('#df-cc6a5400-859b-4ca2-a915-cadb47e0a6f8 button.colab-df-convert');\n",
              "        buttonEl.style.display =\n",
              "          google.colab.kernel.accessAllowed ? 'block' : 'none';\n",
              "\n",
              "        async function convertToInteractive(key) {\n",
              "          const element = document.querySelector('#df-cc6a5400-859b-4ca2-a915-cadb47e0a6f8');\n",
              "          const dataTable =\n",
              "            await google.colab.kernel.invokeFunction('convertToInteractive',\n",
              "                                                     [key], {});\n",
              "          if (!dataTable) return;\n",
              "\n",
              "          const docLinkHtml = 'Like what you see? Visit the ' +\n",
              "            '<a target=\"_blank\" href=https://colab.research.google.com/notebooks/data_table.ipynb>data table notebook</a>'\n",
              "            + ' to learn more about interactive tables.';\n",
              "          element.innerHTML = '';\n",
              "          dataTable['output_type'] = 'display_data';\n",
              "          await google.colab.output.renderOutput(dataTable, element);\n",
              "          const docLink = document.createElement('div');\n",
              "          docLink.innerHTML = docLinkHtml;\n",
              "          element.appendChild(docLink);\n",
              "        }\n",
              "      </script>\n",
              "    </div>\n",
              "  </div>\n"
            ]
          },
          "metadata": {},
          "execution_count": 5
        }
      ]
    },
    {
      "cell_type": "code",
      "source": [
        "dataframe.head()"
      ],
      "metadata": {
        "colab": {
          "base_uri": "https://localhost:8080/",
          "height": 235
        },
        "id": "rtc5RveLfbG3",
        "outputId": "b7a6b1a0-8766-4d79-94ee-c074d6d564e1"
      },
      "execution_count": 6,
      "outputs": [
        {
          "output_type": "execute_result",
          "data": {
            "text/plain": [
              "           PondID   pH  Salinity  Carbonate  BiCarbonate  Alkalinity  \\\n",
              "0  TUPILIPALEM_A2  8.4        35         30          120         150   \n",
              "1  TUPILIPALEM_A3  8.7        38         40          120         160   \n",
              "2  TUPILIPALEM_A4  8.7        39         40          110         150   \n",
              "3  TUPILIPALEM_A5  8.7        40         40          120         160   \n",
              "4  TUPILIPALEM_B2  8.6        36         50          110         160   \n",
              "\n",
              "   Hardness  Calcium  Magnesium  Ammonia  ...  B12    B2    B3    B4    B5  \\\n",
              "0      6300      388       1296      0.0  ...  612  1253  1154   919  1025   \n",
              "1      6800      472       1471      0.0  ...  484  1179  1065   794   854   \n",
              "2      6960      482       1488      0.0  ...  432  1114   969   708   779   \n",
              "3      7100      488       1491      0.0  ...  524  1127   950   798   734   \n",
              "4      6200      378       1302      0.0  ...  710  1236  1162  1108  1114   \n",
              "\n",
              "     B6    B7   B8   B8A   B9  \n",
              "0  1059  1171  920  1188  165  \n",
              "1   918  1042  737   993  131  \n",
              "2   727   825  641   897  170  \n",
              "3   844   963  614   952  157  \n",
              "4  1217  1268  828  1254  169  \n",
              "\n",
              "[5 rows x 26 columns]"
            ],
            "text/html": [
              "\n",
              "\n",
              "  <div id=\"df-ec9f6887-568b-47c7-bcf5-5667c51e4623\">\n",
              "    <div class=\"colab-df-container\">\n",
              "      <div>\n",
              "<style scoped>\n",
              "    .dataframe tbody tr th:only-of-type {\n",
              "        vertical-align: middle;\n",
              "    }\n",
              "\n",
              "    .dataframe tbody tr th {\n",
              "        vertical-align: top;\n",
              "    }\n",
              "\n",
              "    .dataframe thead th {\n",
              "        text-align: right;\n",
              "    }\n",
              "</style>\n",
              "<table border=\"1\" class=\"dataframe\">\n",
              "  <thead>\n",
              "    <tr style=\"text-align: right;\">\n",
              "      <th></th>\n",
              "      <th>PondID</th>\n",
              "      <th>pH</th>\n",
              "      <th>Salinity</th>\n",
              "      <th>Carbonate</th>\n",
              "      <th>BiCarbonate</th>\n",
              "      <th>Alkalinity</th>\n",
              "      <th>Hardness</th>\n",
              "      <th>Calcium</th>\n",
              "      <th>Magnesium</th>\n",
              "      <th>Ammonia</th>\n",
              "      <th>...</th>\n",
              "      <th>B12</th>\n",
              "      <th>B2</th>\n",
              "      <th>B3</th>\n",
              "      <th>B4</th>\n",
              "      <th>B5</th>\n",
              "      <th>B6</th>\n",
              "      <th>B7</th>\n",
              "      <th>B8</th>\n",
              "      <th>B8A</th>\n",
              "      <th>B9</th>\n",
              "    </tr>\n",
              "  </thead>\n",
              "  <tbody>\n",
              "    <tr>\n",
              "      <th>0</th>\n",
              "      <td>TUPILIPALEM_A2</td>\n",
              "      <td>8.4</td>\n",
              "      <td>35</td>\n",
              "      <td>30</td>\n",
              "      <td>120</td>\n",
              "      <td>150</td>\n",
              "      <td>6300</td>\n",
              "      <td>388</td>\n",
              "      <td>1296</td>\n",
              "      <td>0.0</td>\n",
              "      <td>...</td>\n",
              "      <td>612</td>\n",
              "      <td>1253</td>\n",
              "      <td>1154</td>\n",
              "      <td>919</td>\n",
              "      <td>1025</td>\n",
              "      <td>1059</td>\n",
              "      <td>1171</td>\n",
              "      <td>920</td>\n",
              "      <td>1188</td>\n",
              "      <td>165</td>\n",
              "    </tr>\n",
              "    <tr>\n",
              "      <th>1</th>\n",
              "      <td>TUPILIPALEM_A3</td>\n",
              "      <td>8.7</td>\n",
              "      <td>38</td>\n",
              "      <td>40</td>\n",
              "      <td>120</td>\n",
              "      <td>160</td>\n",
              "      <td>6800</td>\n",
              "      <td>472</td>\n",
              "      <td>1471</td>\n",
              "      <td>0.0</td>\n",
              "      <td>...</td>\n",
              "      <td>484</td>\n",
              "      <td>1179</td>\n",
              "      <td>1065</td>\n",
              "      <td>794</td>\n",
              "      <td>854</td>\n",
              "      <td>918</td>\n",
              "      <td>1042</td>\n",
              "      <td>737</td>\n",
              "      <td>993</td>\n",
              "      <td>131</td>\n",
              "    </tr>\n",
              "    <tr>\n",
              "      <th>2</th>\n",
              "      <td>TUPILIPALEM_A4</td>\n",
              "      <td>8.7</td>\n",
              "      <td>39</td>\n",
              "      <td>40</td>\n",
              "      <td>110</td>\n",
              "      <td>150</td>\n",
              "      <td>6960</td>\n",
              "      <td>482</td>\n",
              "      <td>1488</td>\n",
              "      <td>0.0</td>\n",
              "      <td>...</td>\n",
              "      <td>432</td>\n",
              "      <td>1114</td>\n",
              "      <td>969</td>\n",
              "      <td>708</td>\n",
              "      <td>779</td>\n",
              "      <td>727</td>\n",
              "      <td>825</td>\n",
              "      <td>641</td>\n",
              "      <td>897</td>\n",
              "      <td>170</td>\n",
              "    </tr>\n",
              "    <tr>\n",
              "      <th>3</th>\n",
              "      <td>TUPILIPALEM_A5</td>\n",
              "      <td>8.7</td>\n",
              "      <td>40</td>\n",
              "      <td>40</td>\n",
              "      <td>120</td>\n",
              "      <td>160</td>\n",
              "      <td>7100</td>\n",
              "      <td>488</td>\n",
              "      <td>1491</td>\n",
              "      <td>0.0</td>\n",
              "      <td>...</td>\n",
              "      <td>524</td>\n",
              "      <td>1127</td>\n",
              "      <td>950</td>\n",
              "      <td>798</td>\n",
              "      <td>734</td>\n",
              "      <td>844</td>\n",
              "      <td>963</td>\n",
              "      <td>614</td>\n",
              "      <td>952</td>\n",
              "      <td>157</td>\n",
              "    </tr>\n",
              "    <tr>\n",
              "      <th>4</th>\n",
              "      <td>TUPILIPALEM_B2</td>\n",
              "      <td>8.6</td>\n",
              "      <td>36</td>\n",
              "      <td>50</td>\n",
              "      <td>110</td>\n",
              "      <td>160</td>\n",
              "      <td>6200</td>\n",
              "      <td>378</td>\n",
              "      <td>1302</td>\n",
              "      <td>0.0</td>\n",
              "      <td>...</td>\n",
              "      <td>710</td>\n",
              "      <td>1236</td>\n",
              "      <td>1162</td>\n",
              "      <td>1108</td>\n",
              "      <td>1114</td>\n",
              "      <td>1217</td>\n",
              "      <td>1268</td>\n",
              "      <td>828</td>\n",
              "      <td>1254</td>\n",
              "      <td>169</td>\n",
              "    </tr>\n",
              "  </tbody>\n",
              "</table>\n",
              "<p>5 rows × 26 columns</p>\n",
              "</div>\n",
              "      <button class=\"colab-df-convert\" onclick=\"convertToInteractive('df-ec9f6887-568b-47c7-bcf5-5667c51e4623')\"\n",
              "              title=\"Convert this dataframe to an interactive table.\"\n",
              "              style=\"display:none;\">\n",
              "\n",
              "  <svg xmlns=\"http://www.w3.org/2000/svg\" height=\"24px\"viewBox=\"0 0 24 24\"\n",
              "       width=\"24px\">\n",
              "    <path d=\"M0 0h24v24H0V0z\" fill=\"none\"/>\n",
              "    <path d=\"M18.56 5.44l.94 2.06.94-2.06 2.06-.94-2.06-.94-.94-2.06-.94 2.06-2.06.94zm-11 1L8.5 8.5l.94-2.06 2.06-.94-2.06-.94L8.5 2.5l-.94 2.06-2.06.94zm10 10l.94 2.06.94-2.06 2.06-.94-2.06-.94-.94-2.06-.94 2.06-2.06.94z\"/><path d=\"M17.41 7.96l-1.37-1.37c-.4-.4-.92-.59-1.43-.59-.52 0-1.04.2-1.43.59L10.3 9.45l-7.72 7.72c-.78.78-.78 2.05 0 2.83L4 21.41c.39.39.9.59 1.41.59.51 0 1.02-.2 1.41-.59l7.78-7.78 2.81-2.81c.8-.78.8-2.07 0-2.86zM5.41 20L4 18.59l7.72-7.72 1.47 1.35L5.41 20z\"/>\n",
              "  </svg>\n",
              "      </button>\n",
              "\n",
              "\n",
              "\n",
              "    <div id=\"df-1dbb4a26-fc89-4ff4-bf99-80ede1bded95\">\n",
              "      <button class=\"colab-df-quickchart\" onclick=\"quickchart('df-1dbb4a26-fc89-4ff4-bf99-80ede1bded95')\"\n",
              "              title=\"Suggest charts.\"\n",
              "              style=\"display:none;\">\n",
              "\n",
              "<svg xmlns=\"http://www.w3.org/2000/svg\" height=\"24px\"viewBox=\"0 0 24 24\"\n",
              "     width=\"24px\">\n",
              "    <g>\n",
              "        <path d=\"M19 3H5c-1.1 0-2 .9-2 2v14c0 1.1.9 2 2 2h14c1.1 0 2-.9 2-2V5c0-1.1-.9-2-2-2zM9 17H7v-7h2v7zm4 0h-2V7h2v10zm4 0h-2v-4h2v4z\"/>\n",
              "    </g>\n",
              "</svg>\n",
              "      </button>\n",
              "    </div>\n",
              "\n",
              "<style>\n",
              "  .colab-df-quickchart {\n",
              "    background-color: #E8F0FE;\n",
              "    border: none;\n",
              "    border-radius: 50%;\n",
              "    cursor: pointer;\n",
              "    display: none;\n",
              "    fill: #1967D2;\n",
              "    height: 32px;\n",
              "    padding: 0 0 0 0;\n",
              "    width: 32px;\n",
              "  }\n",
              "\n",
              "  .colab-df-quickchart:hover {\n",
              "    background-color: #E2EBFA;\n",
              "    box-shadow: 0px 1px 2px rgba(60, 64, 67, 0.3), 0px 1px 3px 1px rgba(60, 64, 67, 0.15);\n",
              "    fill: #174EA6;\n",
              "  }\n",
              "\n",
              "  [theme=dark] .colab-df-quickchart {\n",
              "    background-color: #3B4455;\n",
              "    fill: #D2E3FC;\n",
              "  }\n",
              "\n",
              "  [theme=dark] .colab-df-quickchart:hover {\n",
              "    background-color: #434B5C;\n",
              "    box-shadow: 0px 1px 3px 1px rgba(0, 0, 0, 0.15);\n",
              "    filter: drop-shadow(0px 1px 2px rgba(0, 0, 0, 0.3));\n",
              "    fill: #FFFFFF;\n",
              "  }\n",
              "</style>\n",
              "\n",
              "    <script>\n",
              "      async function quickchart(key) {\n",
              "        const containerElement = document.querySelector('#' + key);\n",
              "        const charts = await google.colab.kernel.invokeFunction(\n",
              "            'suggestCharts', [key], {});\n",
              "      }\n",
              "    </script>\n",
              "\n",
              "      <script>\n",
              "\n",
              "function displayQuickchartButton(domScope) {\n",
              "  let quickchartButtonEl =\n",
              "    domScope.querySelector('#df-1dbb4a26-fc89-4ff4-bf99-80ede1bded95 button.colab-df-quickchart');\n",
              "  quickchartButtonEl.style.display =\n",
              "    google.colab.kernel.accessAllowed ? 'block' : 'none';\n",
              "}\n",
              "\n",
              "        displayQuickchartButton(document);\n",
              "      </script>\n",
              "      <style>\n",
              "    .colab-df-container {\n",
              "      display:flex;\n",
              "      flex-wrap:wrap;\n",
              "      gap: 12px;\n",
              "    }\n",
              "\n",
              "    .colab-df-convert {\n",
              "      background-color: #E8F0FE;\n",
              "      border: none;\n",
              "      border-radius: 50%;\n",
              "      cursor: pointer;\n",
              "      display: none;\n",
              "      fill: #1967D2;\n",
              "      height: 32px;\n",
              "      padding: 0 0 0 0;\n",
              "      width: 32px;\n",
              "    }\n",
              "\n",
              "    .colab-df-convert:hover {\n",
              "      background-color: #E2EBFA;\n",
              "      box-shadow: 0px 1px 2px rgba(60, 64, 67, 0.3), 0px 1px 3px 1px rgba(60, 64, 67, 0.15);\n",
              "      fill: #174EA6;\n",
              "    }\n",
              "\n",
              "    [theme=dark] .colab-df-convert {\n",
              "      background-color: #3B4455;\n",
              "      fill: #D2E3FC;\n",
              "    }\n",
              "\n",
              "    [theme=dark] .colab-df-convert:hover {\n",
              "      background-color: #434B5C;\n",
              "      box-shadow: 0px 1px 3px 1px rgba(0, 0, 0, 0.15);\n",
              "      filter: drop-shadow(0px 1px 2px rgba(0, 0, 0, 0.3));\n",
              "      fill: #FFFFFF;\n",
              "    }\n",
              "  </style>\n",
              "\n",
              "      <script>\n",
              "        const buttonEl =\n",
              "          document.querySelector('#df-ec9f6887-568b-47c7-bcf5-5667c51e4623 button.colab-df-convert');\n",
              "        buttonEl.style.display =\n",
              "          google.colab.kernel.accessAllowed ? 'block' : 'none';\n",
              "\n",
              "        async function convertToInteractive(key) {\n",
              "          const element = document.querySelector('#df-ec9f6887-568b-47c7-bcf5-5667c51e4623');\n",
              "          const dataTable =\n",
              "            await google.colab.kernel.invokeFunction('convertToInteractive',\n",
              "                                                     [key], {});\n",
              "          if (!dataTable) return;\n",
              "\n",
              "          const docLinkHtml = 'Like what you see? Visit the ' +\n",
              "            '<a target=\"_blank\" href=https://colab.research.google.com/notebooks/data_table.ipynb>data table notebook</a>'\n",
              "            + ' to learn more about interactive tables.';\n",
              "          element.innerHTML = '';\n",
              "          dataTable['output_type'] = 'display_data';\n",
              "          await google.colab.output.renderOutput(dataTable, element);\n",
              "          const docLink = document.createElement('div');\n",
              "          docLink.innerHTML = docLinkHtml;\n",
              "          element.appendChild(docLink);\n",
              "        }\n",
              "      </script>\n",
              "    </div>\n",
              "  </div>\n"
            ]
          },
          "metadata": {},
          "execution_count": 6
        }
      ]
    },
    {
      "cell_type": "code",
      "execution_count": 7,
      "metadata": {
        "colab": {
          "base_uri": "https://localhost:8080/"
        },
        "id": "c6ECWW42SFs7",
        "outputId": "a5d2a970-89d4-4d94-cb85-37f0dfcb4a13"
      },
      "outputs": [
        {
          "output_type": "stream",
          "name": "stdout",
          "text": [
            "pH Minimum Value: 7.5\n",
            "Salinity Minimum Value: 22\n"
          ]
        }
      ],
      "source": [
        "print(\"pH Minimum Value:\", dataframe[\"pH\"].min())\n",
        "print(\"Salinity Minimum Value:\", dataframe[\"Salinity\"].min())"
      ]
    },
    {
      "cell_type": "code",
      "execution_count": 8,
      "metadata": {
        "id": "38c67PoInuwS"
      },
      "outputs": [],
      "source": [
        "bands = ['B1', 'B2', 'B3', 'B4', 'B5', 'B6', 'B7', 'B8', 'B8A', 'B9', 'B11', 'B12']\n",
        "wavelengths = [442.7,\t492.4,559.8,664.6,704.1,740.5,782.8,832.8,864.7,945.1,1373.5,1613.7,2202.4]\n",
        "parameters = [\"pH\", \"Salinity\", \"Ammonia\"]"
      ]
    },
    {
      "cell_type": "code",
      "execution_count": 9,
      "metadata": {
        "colab": {
          "base_uri": "https://localhost:8080/"
        },
        "id": "giEqGV0LSFs9",
        "outputId": "e9a74462-8487-4050-e57f-0a2a5744edc3"
      },
      "outputs": [
        {
          "output_type": "execute_result",
          "data": {
            "text/plain": [
              "pH          0.042532\n",
              "Salinity    0.142014\n",
              "Ammonia     0.065567\n",
              "dtype: float64"
            ]
          },
          "metadata": {},
          "execution_count": 9
        }
      ],
      "source": [
        "dataframe[[\"pH\", \"Salinity\", \"Ammonia\"]].std()/np.array([8.5, 45, 0.5])"
      ]
    },
    {
      "cell_type": "markdown",
      "source": [
        "## WQI calculation"
      ],
      "metadata": {
        "id": "5oRA8WjLF86b"
      }
    },
    {
      "cell_type": "code",
      "execution_count": 10,
      "metadata": {
        "id": "qDlX4-pSSFs-"
      },
      "outputs": [],
      "source": [
        "# def derivative(dataframe):\n",
        "#     banddata = dataframe[bands]\n",
        "#     for wave,band in (wavelengths,bands):\n",
        "\n",
        "\n",
        "\n",
        "#     return None\n",
        "\n",
        "def calculateWQI(parameters):\n",
        "    # order of parameters ph salinity ammonia\n",
        "    expdf = pd.DataFrame()\n",
        "    permissibleValuesParameters = np.array([8.5, 45, 0.5])\n",
        "    summ = 0\n",
        "    sumWn = 0\n",
        "    weights =   np.array([0.2,0.6,0.2]) # np.array(parameters.std()/permissibleValuesParameters)\n",
        "    weightsnormalized = weights/sum(weights)\n",
        "    for column, sn, Wn in zip(parameters.columns, permissibleValuesParameters, weightsnormalized):\n",
        "        vn = parameters[column]\n",
        "        if column==\"pH\":\n",
        "            vid = 7.5\n",
        "        elif column==\"Salinity\":\n",
        "            vid = 15\n",
        "        else:\n",
        "            vid = 0.0\n",
        "        qn = 100*(vn - vid)/(sn-vid)\n",
        "\n",
        "        summ = summ + (qn*Wn)\n",
        "        sumWn = sumWn + Wn\n",
        "    expdf['summ'] = summ\n",
        "    expdf['qn'] = qn\n",
        "    WQI = summ/sumWn\n",
        "    return WQI,expdf\n",
        "\n",
        "def bandmath(bandMatrix,WQI):\n",
        "  df = pd.DataFrame()\n",
        "  cc = list(combinations(bandMatrix.columns,2))\n",
        "  print(cc)\n",
        "  for combination in cc:\n",
        "    a = combination[0]\n",
        "    b = combination[1]\n",
        "    diffIndex = bandMatrix[a] - bandMatrix[b]\n",
        "    normlizedIndex = (bandMatrix[a] - bandMatrix[b])/bandMatrix[a] + bandMatrix[b]\n",
        "    ratioIndex = bandMatrix[a] / bandMatrix[b]\n",
        "    df[f'diff_{a}_{b}'] = diffIndex\n",
        "    df[f'norm_{a}_{b}'] = normlizedIndex\n",
        "    df[f'ratio_{a}_{b}'] = ratioIndex\n",
        "  df['WQI_cal'] = WQI\n",
        "  return  df\n",
        "\n",
        "def pca(data):\n",
        "  pca = PCA(n_components=3)\n",
        "  pca.fit(data)\n",
        "  pca_data =  pca.transform(data)\n",
        "  return  pca_data\n",
        "\n",
        "def harmonizedWQIcalculation(GT):\n",
        "  min = np.array([7.5,9,0])\n",
        "  max = np.array([8.7,43,0.12])\n",
        "  permissibleWP = np.array([8.5,45,0.5])\n",
        "  weights =  np.array(GT.std()/permissibleWP)\n",
        "  weights_norm = weights/sum(weights)\n",
        "  numP = len(weights_norm)\n",
        "  rr = max - min\n",
        "  allWQI  = np.array([])\n",
        "  n = len(GT)\n",
        "  for val in GT.values:\n",
        "    i = 0\n",
        "    Tsumm = np.array([])\n",
        "    for para in val:\n",
        "        qi =None\n",
        "        summ = 0\n",
        "        if  min[i] <= para  <= 0.10*rr[i]:\n",
        "          qi = 5\n",
        "        if  0.1*min[i] <= para  <= 0.20*rr[i]:\n",
        "          qi = 15\n",
        "        if  0.20*rr[i] <= para  <= 0.30*rr[i]:\n",
        "          qi = 25\n",
        "        if  0.30*rr[i] <= para  <= 0.40*rr[i]:\n",
        "          qi = 35\n",
        "        if  0.40*rr[i] <= para  <= 0.50*rr[i]:\n",
        "          qi = 45\n",
        "        if  0.50*rr[i] <= para  <= 0.60*rr[i]:\n",
        "          qi = 55\n",
        "        if  0.60*rr[i] <= para  <= 0.70*rr[i]:\n",
        "          qi = 65\n",
        "        if  0.70*rr[i] <= para  <= 0.80*rr[i]:\n",
        "          qi = 75\n",
        "        if  0.80*rr[i] <= para  <= 0.90*rr[i]:\n",
        "          qi = 85\n",
        "        if  0.90*rr[i] <= para  <= max[i]:\n",
        "          qi = 95\n",
        "        # print(qi,para,rr[i])\n",
        "        summ += 1/qi\n",
        "        i+=1\n",
        "        Tsumm = np.append(Tsumm,summ)\n",
        "    WQI = sum([(weights_norm[i])*math.sqrt(i+1/Tsumm[i]**2) for i in range(numP)])/numP\n",
        "    allWQI = np.append(allWQI,WQI)\n",
        "\n",
        "  return allWQI\n"
      ]
    },
    {
      "cell_type": "code",
      "execution_count": 11,
      "metadata": {
        "colab": {
          "base_uri": "https://localhost:8080/",
          "height": 503
        },
        "id": "qJFquXhXSFs_",
        "outputId": "5a8b2dd2-e3d5-48ce-abbe-37b6aaaf8644"
      },
      "outputs": [
        {
          "output_type": "execute_result",
          "data": {
            "text/plain": [
              "(array([ 3.,  4.,  4.,  5.,  2.,  1.,  6.,  9., 11., 11.]),\n",
              " array([15.6 , 21.52, 27.44, 33.36, 39.28, 45.2 , 51.12, 57.04, 62.96,\n",
              "        68.88, 74.8 ]),\n",
              " <BarContainer object of 10 artists>)"
            ]
          },
          "metadata": {},
          "execution_count": 11
        },
        {
          "output_type": "display_data",
          "data": {
            "text/plain": [
              "<Figure size 640x480 with 1 Axes>"
            ],
            "image/png": "[encoded data removed]"
          },
          "metadata": {}
        }
      ],
      "source": [
        "wqi,expdf= calculateWQI(dataframe[parameters])\n",
        "## plotting distribution of wqi\n",
        "plt.hist(wqi)"
      ]
    },
    {
      "cell_type": "code",
      "execution_count": 12,
      "metadata": {
        "colab": {
          "base_uri": "https://localhost:8080/"
        },
        "id": "wlPSjgzkSFtA",
        "outputId": "b1a4e182-daa1-4bdb-a08d-829f6b302007"
      },
      "outputs": [
        {
          "output_type": "stream",
          "name": "stdout",
          "text": [
            "Mean WQI 53.21428571428571\n",
            "Standard Deviation WQI 17.430750555700833\n"
          ]
        }
      ],
      "source": [
        "\n",
        "## printing stats for ground truth wqi\n",
        "print(\"Mean WQI\", statistics.mean(wqi))\n",
        "print(\"Standard Deviation WQI\", statistics.stdev(wqi))"
      ]
    },
    {
      "cell_type": "markdown",
      "source": [
        "## Model for the WQI to indiviual parameter"
      ],
      "metadata": {
        "id": "lqgZ4lJ4Fq5h"
      }
    },
    {
      "cell_type": "code",
      "source": [
        "\n",
        "\n",
        "def CM(actual, predicted,x,y):\n",
        "  fig = plt.figure()\n",
        "  plt.scatter(actual, predicted)\n",
        "  # vs  = pd.DataFrame(validationdataframe)\n",
        "  # print(vs)\n",
        "  plt.scatter(x,y)\n",
        "  plt.show()\n",
        "\n",
        "def Presults(y_test, prediction):\n",
        "  print(\"MAE\", mean_absolute_error(y_test, prediction))\n",
        "  print(\"MSE\", mean_squared_error(y_test, prediction))\n",
        "  print(\"RMSE\", mean_squared_error(y_test, prediction, squared=False))\n",
        "  print(\"MAPE\", mean_absolute_percentage_error(y_test, prediction))\n",
        "  print(\"R2 Score\", r2_score(y_test, prediction))\n",
        "  # return model.coef_,model.intercept_\n",
        "\n",
        "def LRegression(dataframe,index,name,WQI_val,GT_val,):\n",
        "  # CM(dataframe[name],dataframe[index])\n",
        "  # for i ,j in zip(dataframe[index],WQI_val):\n",
        "  #   print(i,j)\n",
        "  # dataframe[index] = scaler.inverse_transform(np.array(dataframe[index]).reshape(-1, 1))\n",
        "  # WQI_val = scaler.inverse_transform(np.array(WQI_val).reshape(-1, 1))\n",
        "  # for i ,j in zip(dataframe[index],WQI_val):\n",
        "  #   print(i,j)\n",
        "\n",
        "  # validationdataframe = dataframe[dataframe[\"Date of Image\"]==\"2023-07-09\"]\n",
        "  # traindataframe = dataframe[dataframe[\"Date of Image\"]!=\"2023-07-09\"]\n",
        "\n",
        "  # CM(dataframe[name],dataframe[index],validationdataframe[name],validationdataframe[index])\n",
        "\n",
        "  # xTrain = np.array((traindataframe[index])).reshape(-1, 1)\n",
        "  # yTrain = traindataframe[name]\n",
        "  # xTest = np.array((validationdataframe[index])).reshape(-1, 1)\n",
        "  # yTest = validationdataframe[name]\n",
        "\n",
        "  xTrain, xTest, yTrain, yTest = train_test_split(dataframe[index], dataframe[name], test_size=0.33, random_state=42)\n",
        "  xTrain = np.array(xTrain).reshape(-1, 1)\n",
        "  yTrain = np.array(yTrain).reshape(-1, 1)\n",
        "  xTest = np.array(xTest).reshape(-1, 1)\n",
        "  yTest = np.array(yTest).reshape(-1, 1)\n",
        "\n",
        "  model = LinearRegression().fit(xTrain, yTrain)\n",
        "  # model = SVR(kernel='rbf', C=1.0, epsilon=1e-4).fit(xTrain, yTrain)\n",
        "  if name == 'Ammonia':\n",
        "  #   # print('hi')\n",
        "      model = RandomForestRegressor(max_depth=2, random_state=0).fit(xTrain, yTrain)\n",
        "  prediction = model.predict(xTest)\n",
        "  prediction_val = model.predict(WQI_val)\n",
        "  for x,y in zip(yTest,prediction):\n",
        "    print(x,'-',y)\n",
        "  plt.figure(figsize=(5,5))\n",
        "  plt.scatter(np.arange(1, len(yTest)+1), yTest, color=\"red\",label = 'Actual')\n",
        "  plt.scatter(np.arange(1, len(yTest)+1), prediction, color=\"blue\",label = 'Predicted')\n",
        "  # plt.scatter(yTest,prediction)\n",
        "  # lims = [max(max(yTest),max(prediction)),min(min(yTest),min(prediction))]\n",
        "\n",
        "  # plt.xlim([0.95*lims[1],1.05*lims[0]])\n",
        "  # plt.ylim([0.95*lims[1],1.05*lims[0]])\n",
        "  plt.legend()\n",
        "  plt.show()\n",
        "\n",
        "  Presults(yTest, prediction)\n",
        "  print(f\"validation results on {name}\")\n",
        "  Presults(GT_val,prediction_val)\n",
        "  for x,y in zip(GT_val,prediction_val):\n",
        "    print(x,'-',y)\n",
        "  print(f\"---------------------------------------\")\n",
        "\n",
        "\n",
        "#to predict the parameters from WQI\n",
        "\n",
        "\n",
        "\n",
        "def WQIandParameters(dataframe,index,predictedWQI,gtforRE):\n",
        "  print('-----For WQI with pH Regression relation-----')\n",
        "  LRegression(dataframe,index,'pH',predictedWQI,gtforRE['pH'])\n",
        "  print('-----For WQI with Salinity  Regression relation-----')\n",
        "  LRegression(dataframe,index,'Salinity',predictedWQI,gtforRE['Salinity'])\n",
        "  print('-----For WQI with Ammonia SVR relation-----')\n",
        "  LRegression(dataframe,index,'Ammonia',predictedWQI,gtforRE['Ammonia'])\n",
        "  return None\n",
        "\n"
      ],
      "metadata": {
        "id": "9bgyFpVGT9r-"
      },
      "execution_count": 13,
      "outputs": []
    },
    {
      "cell_type": "code",
      "source": [
        "# sns.pairplot(dataframe)\n",
        "dataframe[\"WQI\"] = wqi"
      ],
      "metadata": {
        "id": "2WAj7IdZn01S"
      },
      "execution_count": 14,
      "outputs": []
    },
    {
      "cell_type": "markdown",
      "source": [
        "## Model for Band to WQI index"
      ],
      "metadata": {
        "id": "Kahd67ZfF3OO"
      }
    },
    {
      "cell_type": "code",
      "execution_count": 15,
      "metadata": {
        "id": "iOOQBzR-SFtC"
      },
      "outputs": [],
      "source": [
        "\n",
        "def scaling(Banddata):\n",
        "    scaler = StandardScaler()\n",
        "    scaler.fit(Banddata)\n",
        "    dataframe = scaler.transform(Banddata)\n",
        "    return dataframe\n",
        "\n",
        "def pca(dataframe):\n",
        "  pca = PCA(n_components=3)\n",
        "  pca.fit(dataframe)\n",
        "  pca_df =  pca.transform(dataframe)\n",
        "  return pca_df\n",
        "\n",
        "# def weakmodel(xTrain, yTrain,xTest):\n",
        "#       models = [\n",
        "#         RandomForestRegressor(max_depth=3, random_state=0),\n",
        "#         xgb.XGBRegressor(),\n",
        "#         SVR(kernel='rbf', C=1.0, epsilon=1e-3)]\n",
        "\n",
        "#       preds = []\n",
        "#       for i, m in enumerate(models):\n",
        "#           m.fit(xTrain, yTrain)\n",
        "#           preds.append(m.predict(xTest))\n",
        "\n",
        "#       weights = [0.33, 0.33,0.33]\n",
        "#       preds = np.array(preds)\n",
        "#       print\n",
        "#       preds= np.sum(preds, axis = 0)/3\n",
        "#       return preds\n",
        "\n",
        "### model to predict WQI using bands as input\n",
        "def predictWQI(dataframe,pred,valpredict):\n",
        "    # validationdataframe = dataframe[dataframe[\"Date of Image\"]==\"2023-07-09\"]\n",
        "    # traindataframe = dataframe[dataframe[\"Date of Image\"]!=\"2023-07-09\"]\n",
        "\n",
        "    traindataframe, validationdataframe = train_test_split(dataframe, test_size=0.3, random_state=42)\n",
        "    traindataframe.to_csv('WQIModelTrain.csv')\n",
        "    validationdataframe.to_csv('WQIModelTest.csv')\n",
        "\n",
        "    validationdataframe2 = dataframe[dataframe[\"Date of Image\"]==\"2023-07-09\"]\n",
        "    traindataframe2 = scaling(dataframe[dataframe[\"Date of Image\"]==\"2023-07-09\"][bands])\n",
        "    # k =  10\n",
        "    # k_fold = KFold(n_splits = k,shuffle=True )\n",
        "\n",
        "\n",
        "    gtforRE = (validationdataframe[parameters])\n",
        "    gtforRE2 = (validationdataframe2[parameters])\n",
        "\n",
        "    xTrain = (scaling(traindataframe[bands]))\n",
        "    yTrain = traindataframe[pred]\n",
        "    xTest = (scaling(validationdataframe[bands]))\n",
        "    yTest = validationdataframe[pred]\n",
        "\n",
        "    model = SVR(kernel='rbf', C=2.0, epsilon=1e-4)\n",
        "    # model = RandomForestRegressor(max_depth=3, random_state=0)\n",
        "    # model = MLPRegressor(random_state=1, max_iter=100000)\n",
        "\n",
        "    model.fit(xTrain, yTrain)\n",
        "\n",
        "    # score = cross_val_score(model, dataframe[bands], dataframe[pred], cv = k_fold)\n",
        "    # print(sum(score) / len(score))\n",
        "    # print(score)\n",
        "    # prediction =  weakmodel(xTrain,yTrain,xTest)\n",
        "    prediction = model.predict(xTest)\n",
        "    # prediction = preds\n",
        "    # print(prediction,yTest)\n",
        "    predition2  = model.predict(traindataframe2)\n",
        "    prediction3 = model.predict(scaling(valpredict[bands]))\n",
        "\n",
        "    print(\"MAE\", mean_absolute_error(yTest, prediction))\n",
        "    print(\"MSE\", mean_squared_error(yTest, prediction))\n",
        "    print(\"RMSE\", mean_squared_error(yTest, prediction, squared=False))\n",
        "    print(\"MAPE\", mean_absolute_percentage_error(yTest, prediction))\n",
        "    print(\"R2 Score\", r2_score(yTest, prediction))\n",
        "    plt.figure(figsize=(25,10))\n",
        "    plt.scatter(np.arange(1, len(yTest)+1), yTest, color=\"red\")\n",
        "    plt.plot(np.arange(1, len(yTest)+1), prediction, color=\"blue\")\n",
        "    return prediction,predition2,prediction3,gtforRE,gtforRE2"
      ]
    },
    {
      "cell_type": "code",
      "source": [
        "(dataframe).corrwith(dataframe['WQI'],method = 'spearman')"
      ],
      "metadata": {
        "colab": {
          "base_uri": "https://localhost:8080/"
        },
        "id": "7OtOb2tJT95M",
        "outputId": "fb69321f-1541-460d-a549-8f5e1a8c6a5c"
      },
      "execution_count": 16,
      "outputs": [
        {
          "output_type": "stream",
          "name": "stderr",
          "text": [
            "<ipython-input-16-aa275eb3de0b>:1: FutureWarning: The default value of numeric_only in DataFrame.corrwith is deprecated. In a future version, it will default to False. Select only valid columns or specify the value of numeric_only to silence this warning.\n",
            "  (dataframe).corrwith(dataframe['WQI'],method = 'spearman')\n",
            "/usr/local/lib/python3.10/dist-packages/scipy/stats/_stats_py.py:4916: ConstantInputWarning: An input array is constant; the correlation coefficient is not defined.\n",
            "  warnings.warn(stats.ConstantInputWarning(warn_msg))\n"
          ]
        },
        {
          "output_type": "execute_result",
          "data": {
            "text/plain": [
              "pH             0.753315\n",
              "Salinity       0.902928\n",
              "Carbonate      0.691606\n",
              "BiCarbonate   -0.377968\n",
              "Alkalinity     0.103337\n",
              "Hardness       0.280152\n",
              "Calcium       -0.502205\n",
              "Magnesium      0.856039\n",
              "Ammonia       -0.289950\n",
              "Coincidence         NaN\n",
              "B1            -0.716810\n",
              "B10           -0.449607\n",
              "B11           -0.610715\n",
              "B12           -0.588089\n",
              "B2            -0.735281\n",
              "B3            -0.746779\n",
              "B4            -0.745920\n",
              "B5            -0.738990\n",
              "B6            -0.698106\n",
              "B7            -0.688148\n",
              "B8            -0.711749\n",
              "B8A           -0.684337\n",
              "B9            -0.614894\n",
              "WQI            1.000000\n",
              "dtype: float64"
            ]
          },
          "metadata": {},
          "execution_count": 16
        }
      ]
    },
    {
      "cell_type": "code",
      "source": [
        "\n",
        "plt.hist(dataframe['WQI'])"
      ],
      "metadata": {
        "colab": {
          "base_uri": "https://localhost:8080/",
          "height": 503
        },
        "id": "IoTnQp4FLzHr",
        "outputId": "8cef605c-9f83-45f3-ff64-16e02d3b7ac1"
      },
      "execution_count": 17,
      "outputs": [
        {
          "output_type": "execute_result",
          "data": {
            "text/plain": [
              "(array([ 3.,  4.,  4.,  5.,  2.,  1.,  6.,  9., 11., 11.]),\n",
              " array([15.6 , 21.52, 27.44, 33.36, 39.28, 45.2 , 51.12, 57.04, 62.96,\n",
              "        68.88, 74.8 ]),\n",
              " <BarContainer object of 10 artists>)"
            ]
          },
          "metadata": {},
          "execution_count": 17
        },
        {
          "output_type": "display_data",
          "data": {
            "text/plain": [
              "<Figure size 640x480 with 1 Axes>"
            ],
            "image/png": "[encoded data removed]"
          },
          "metadata": {}
        }
      ]
    },
    {
      "cell_type": "code",
      "source": [
        "\n",
        "\n",
        "print(dataframe['WQI'].head())\n",
        "scaler2 = MinMaxScaler()\n",
        "# scaler2 = StandardScaler()\n",
        "dataframe['WQI'] = scaler2.fit_transform(dataframe[['WQI']]).flatten()\n",
        "print(dataframe['WQI'].head())"
      ],
      "metadata": {
        "colab": {
          "base_uri": "https://localhost:8080/"
        },
        "id": "9abtzxlyOt3z",
        "outputId": "9ea6b88f-4493-40c8-c01c-1062a03143a2"
      },
      "execution_count": 18,
      "outputs": [
        {
          "output_type": "stream",
          "name": "stdout",
          "text": [
            "0    58.0\n",
            "1    70.0\n",
            "2    72.0\n",
            "3    74.0\n",
            "4    64.0\n",
            "Name: WQI, dtype: float64\n",
            "0    0.716216\n",
            "1    0.918919\n",
            "2    0.952703\n",
            "3    0.986486\n",
            "4    0.817568\n",
            "Name: WQI, dtype: float64\n"
          ]
        }
      ]
    },
    {
      "cell_type": "code",
      "source": [
        "validationset = pd.read_csv('/content/drive/MyDrive/WQA_data/testset.csv')\n",
        "\n",
        "validationset['pH'] = [8.0,8.1,8.1,7.8,7.5]\n",
        "validationset['Salinity'] = [30,30,25,20,22]\n",
        "validationset['Ammonia'] = [0.07,0.03,0.04,0.04,0.08]\n",
        "validationset['Carbonate'] = [0,10,10,0,0]\n",
        "validationset['BiCarbonate'] = [150,200,250,100,110]\n",
        "validationset['Alkalinity'] = [150,200,250,100,110]\n",
        "validationset['Hardness'] = [6800,6960,6500,7100,7500]\n",
        "validationset['Calcium'] = [684,688,644,1080,1102]\n",
        "validationset['Magnesium'] = [1232,1262,1126,1069,1121]\n",
        "validationset"
      ],
      "metadata": {
        "id": "SYqvX227Duok",
        "colab": {
          "base_uri": "https://localhost:8080/",
          "height": 235
        },
        "outputId": "403d6e57-b582-47ea-8771-ddab1500c753"
      },
      "execution_count": 19,
      "outputs": [
        {
          "output_type": "execute_result",
          "data": {
            "text/plain": [
              "     B1  B10   B11  B12    B2    B3    B4    B5    B6    B7  ...  PondID   pH  \\\n",
              "0  1209   96   691  437   954  1030   735   967   884   932  ...   BR_P1  8.0   \n",
              "1  1212   81  1029  623   933   834   590   884  1423  1755  ...   BR_P2  8.1   \n",
              "2  1198  102   921  532  1000   988   715   995  1026  1260  ...   BR_P3  8.1   \n",
              "3  2110  360  1342  958  1730  1556  1417  1502  1862  2148  ...    M_P1  7.8   \n",
              "4  2123  358  1340  976  1746  1605  1416  1492  1850  2141  ...    M_P2  7.5   \n",
              "\n",
              "   Salinity  Ammonia  Carbonate  BiCarbonate Alkalinity  Hardness  Calcium  \\\n",
              "0        30     0.07          0          150        150      6800      684   \n",
              "1        30     0.03         10          200        200      6960      688   \n",
              "2        25     0.04         10          250        250      6500      644   \n",
              "3        20     0.04          0          100        100      7100     1080   \n",
              "4        22     0.08          0          110        110      7500     1102   \n",
              "\n",
              "   Magnesium  \n",
              "0       1232  \n",
              "1       1262  \n",
              "2       1126  \n",
              "3       1069  \n",
              "4       1121  \n",
              "\n",
              "[5 rows x 26 columns]"
            ],
            "text/html": [
              "\n",
              "\n",
              "  <div id=\"df-15ec8da5-6f60-48e9-845a-09a595d6f9d6\">\n",
              "    <div class=\"colab-df-container\">\n",
              "      <div>\n",
              "<style scoped>\n",
              "    .dataframe tbody tr th:only-of-type {\n",
              "        vertical-align: middle;\n",
              "    }\n",
              "\n",
              "    .dataframe tbody tr th {\n",
              "        vertical-align: top;\n",
              "    }\n",
              "\n",
              "    .dataframe thead th {\n",
              "        text-align: right;\n",
              "    }\n",
              "</style>\n",
              "<table border=\"1\" class=\"dataframe\">\n",
              "  <thead>\n",
              "    <tr style=\"text-align: right;\">\n",
              "      <th></th>\n",
              "      <th>B1</th>\n",
              "      <th>B10</th>\n",
              "      <th>B11</th>\n",
              "      <th>B12</th>\n",
              "      <th>B2</th>\n",
              "      <th>B3</th>\n",
              "      <th>B4</th>\n",
              "      <th>B5</th>\n",
              "      <th>B6</th>\n",
              "      <th>B7</th>\n",
              "      <th>...</th>\n",
              "      <th>PondID</th>\n",
              "      <th>pH</th>\n",
              "      <th>Salinity</th>\n",
              "      <th>Ammonia</th>\n",
              "      <th>Carbonate</th>\n",
              "      <th>BiCarbonate</th>\n",
              "      <th>Alkalinity</th>\n",
              "      <th>Hardness</th>\n",
              "      <th>Calcium</th>\n",
              "      <th>Magnesium</th>\n",
              "    </tr>\n",
              "  </thead>\n",
              "  <tbody>\n",
              "    <tr>\n",
              "      <th>0</th>\n",
              "      <td>1209</td>\n",
              "      <td>96</td>\n",
              "      <td>691</td>\n",
              "      <td>437</td>\n",
              "      <td>954</td>\n",
              "      <td>1030</td>\n",
              "      <td>735</td>\n",
              "      <td>967</td>\n",
              "      <td>884</td>\n",
              "      <td>932</td>\n",
              "      <td>...</td>\n",
              "      <td>BR_P1</td>\n",
              "      <td>8.0</td>\n",
              "      <td>30</td>\n",
              "      <td>0.07</td>\n",
              "      <td>0</td>\n",
              "      <td>150</td>\n",
              "      <td>150</td>\n",
              "      <td>6800</td>\n",
              "      <td>684</td>\n",
              "      <td>1232</td>\n",
              "    </tr>\n",
              "    <tr>\n",
              "      <th>1</th>\n",
              "      <td>1212</td>\n",
              "      <td>81</td>\n",
              "      <td>1029</td>\n",
              "      <td>623</td>\n",
              "      <td>933</td>\n",
              "      <td>834</td>\n",
              "      <td>590</td>\n",
              "      <td>884</td>\n",
              "      <td>1423</td>\n",
              "      <td>1755</td>\n",
              "      <td>...</td>\n",
              "      <td>BR_P2</td>\n",
              "      <td>8.1</td>\n",
              "      <td>30</td>\n",
              "      <td>0.03</td>\n",
              "      <td>10</td>\n",
              "      <td>200</td>\n",
              "      <td>200</td>\n",
              "      <td>6960</td>\n",
              "      <td>688</td>\n",
              "      <td>1262</td>\n",
              "    </tr>\n",
              "    <tr>\n",
              "      <th>2</th>\n",
              "      <td>1198</td>\n",
              "      <td>102</td>\n",
              "      <td>921</td>\n",
              "      <td>532</td>\n",
              "      <td>1000</td>\n",
              "      <td>988</td>\n",
              "      <td>715</td>\n",
              "      <td>995</td>\n",
              "      <td>1026</td>\n",
              "      <td>1260</td>\n",
              "      <td>...</td>\n",
              "      <td>BR_P3</td>\n",
              "      <td>8.1</td>\n",
              "      <td>25</td>\n",
              "      <td>0.04</td>\n",
              "      <td>10</td>\n",
              "      <td>250</td>\n",
              "      <td>250</td>\n",
              "      <td>6500</td>\n",
              "      <td>644</td>\n",
              "      <td>1126</td>\n",
              "    </tr>\n",
              "    <tr>\n",
              "      <th>3</th>\n",
              "      <td>2110</td>\n",
              "      <td>360</td>\n",
              "      <td>1342</td>\n",
              "      <td>958</td>\n",
              "      <td>1730</td>\n",
              "      <td>1556</td>\n",
              "      <td>1417</td>\n",
              "      <td>1502</td>\n",
              "      <td>1862</td>\n",
              "      <td>2148</td>\n",
              "      <td>...</td>\n",
              "      <td>M_P1</td>\n",
              "      <td>7.8</td>\n",
              "      <td>20</td>\n",
              "      <td>0.04</td>\n",
              "      <td>0</td>\n",
              "      <td>100</td>\n",
              "      <td>100</td>\n",
              "      <td>7100</td>\n",
              "      <td>1080</td>\n",
              "      <td>1069</td>\n",
              "    </tr>\n",
              "    <tr>\n",
              "      <th>4</th>\n",
              "      <td>2123</td>\n",
              "      <td>358</td>\n",
              "      <td>1340</td>\n",
              "      <td>976</td>\n",
              "      <td>1746</td>\n",
              "      <td>1605</td>\n",
              "      <td>1416</td>\n",
              "      <td>1492</td>\n",
              "      <td>1850</td>\n",
              "      <td>2141</td>\n",
              "      <td>...</td>\n",
              "      <td>M_P2</td>\n",
              "      <td>7.5</td>\n",
              "      <td>22</td>\n",
              "      <td>0.08</td>\n",
              "      <td>0</td>\n",
              "      <td>110</td>\n",
              "      <td>110</td>\n",
              "      <td>7500</td>\n",
              "      <td>1102</td>\n",
              "      <td>1121</td>\n",
              "    </tr>\n",
              "  </tbody>\n",
              "</table>\n",
              "<p>5 rows × 26 columns</p>\n",
              "</div>\n",
              "      <button class=\"colab-df-convert\" onclick=\"convertToInteractive('df-15ec8da5-6f60-48e9-845a-09a595d6f9d6')\"\n",
              "              title=\"Convert this dataframe to an interactive table.\"\n",
              "              style=\"display:none;\">\n",
              "\n",
              "  <svg xmlns=\"http://www.w3.org/2000/svg\" height=\"24px\"viewBox=\"0 0 24 24\"\n",
              "       width=\"24px\">\n",
              "    <path d=\"M0 0h24v24H0V0z\" fill=\"none\"/>\n",
              "    <path d=\"M18.56 5.44l.94 2.06.94-2.06 2.06-.94-2.06-.94-.94-2.06-.94 2.06-2.06.94zm-11 1L8.5 8.5l.94-2.06 2.06-.94-2.06-.94L8.5 2.5l-.94 2.06-2.06.94zm10 10l.94 2.06.94-2.06 2.06-.94-2.06-.94-.94-2.06-.94 2.06-2.06.94z\"/><path d=\"M17.41 7.96l-1.37-1.37c-.4-.4-.92-.59-1.43-.59-.52 0-1.04.2-1.43.59L10.3 9.45l-7.72 7.72c-.78.78-.78 2.05 0 2.83L4 21.41c.39.39.9.59 1.41.59.51 0 1.02-.2 1.41-.59l7.78-7.78 2.81-2.81c.8-.78.8-2.07 0-2.86zM5.41 20L4 18.59l7.72-7.72 1.47 1.35L5.41 20z\"/>\n",
              "  </svg>\n",
              "      </button>\n",
              "\n",
              "\n",
              "\n",
              "    <div id=\"df-7b3f8e64-c620-4720-83e6-e587a22378f9\">\n",
              "      <button class=\"colab-df-quickchart\" onclick=\"quickchart('df-7b3f8e64-c620-4720-83e6-e587a22378f9')\"\n",
              "              title=\"Suggest charts.\"\n",
              "              style=\"display:none;\">\n",
              "\n",
              "<svg xmlns=\"http://www.w3.org/2000/svg\" height=\"24px\"viewBox=\"0 0 24 24\"\n",
              "     width=\"24px\">\n",
              "    <g>\n",
              "        <path d=\"M19 3H5c-1.1 0-2 .9-2 2v14c0 1.1.9 2 2 2h14c1.1 0 2-.9 2-2V5c0-1.1-.9-2-2-2zM9 17H7v-7h2v7zm4 0h-2V7h2v10zm4 0h-2v-4h2v4z\"/>\n",
              "    </g>\n",
              "</svg>\n",
              "      </button>\n",
              "    </div>\n",
              "\n",
              "<style>\n",
              "  .colab-df-quickchart {\n",
              "    background-color: #E8F0FE;\n",
              "    border: none;\n",
              "    border-radius: 50%;\n",
              "    cursor: pointer;\n",
              "    display: none;\n",
              "    fill: #1967D2;\n",
              "    height: 32px;\n",
              "    padding: 0 0 0 0;\n",
              "    width: 32px;\n",
              "  }\n",
              "\n",
              "  .colab-df-quickchart:hover {\n",
              "    background-color: #E2EBFA;\n",
              "    box-shadow: 0px 1px 2px rgba(60, 64, 67, 0.3), 0px 1px 3px 1px rgba(60, 64, 67, 0.15);\n",
              "    fill: #174EA6;\n",
              "  }\n",
              "\n",
              "  [theme=dark] .colab-df-quickchart {\n",
              "    background-color: #3B4455;\n",
              "    fill: #D2E3FC;\n",
              "  }\n",
              "\n",
              "  [theme=dark] .colab-df-quickchart:hover {\n",
              "    background-color: #434B5C;\n",
              "    box-shadow: 0px 1px 3px 1px rgba(0, 0, 0, 0.15);\n",
              "    filter: drop-shadow(0px 1px 2px rgba(0, 0, 0, 0.3));\n",
              "    fill: #FFFFFF;\n",
              "  }\n",
              "</style>\n",
              "\n",
              "    <script>\n",
              "      async function quickchart(key) {\n",
              "        const containerElement = document.querySelector('#' + key);\n",
              "        const charts = await google.colab.kernel.invokeFunction(\n",
              "            'suggestCharts', [key], {});\n",
              "      }\n",
              "    </script>\n",
              "\n",
              "      <script>\n",
              "\n",
              "function displayQuickchartButton(domScope) {\n",
              "  let quickchartButtonEl =\n",
              "    domScope.querySelector('#df-7b3f8e64-c620-4720-83e6-e587a22378f9 button.colab-df-quickchart');\n",
              "  quickchartButtonEl.style.display =\n",
              "    google.colab.kernel.accessAllowed ? 'block' : 'none';\n",
              "}\n",
              "\n",
              "        displayQuickchartButton(document);\n",
              "      </script>\n",
              "      <style>\n",
              "    .colab-df-container {\n",
              "      display:flex;\n",
              "      flex-wrap:wrap;\n",
              "      gap: 12px;\n",
              "    }\n",
              "\n",
              "    .colab-df-convert {\n",
              "      background-color: #E8F0FE;\n",
              "      border: none;\n",
              "      border-radius: 50%;\n",
              "      cursor: pointer;\n",
              "      display: none;\n",
              "      fill: #1967D2;\n",
              "      height: 32px;\n",
              "      padding: 0 0 0 0;\n",
              "      width: 32px;\n",
              "    }\n",
              "\n",
              "    .colab-df-convert:hover {\n",
              "      background-color: #E2EBFA;\n",
              "      box-shadow: 0px 1px 2px rgba(60, 64, 67, 0.3), 0px 1px 3px 1px rgba(60, 64, 67, 0.15);\n",
              "      fill: #174EA6;\n",
              "    }\n",
              "\n",
              "    [theme=dark] .colab-df-convert {\n",
              "      background-color: #3B4455;\n",
              "      fill: #D2E3FC;\n",
              "    }\n",
              "\n",
              "    [theme=dark] .colab-df-convert:hover {\n",
              "      background-color: #434B5C;\n",
              "      box-shadow: 0px 1px 3px 1px rgba(0, 0, 0, 0.15);\n",
              "      filter: drop-shadow(0px 1px 2px rgba(0, 0, 0, 0.3));\n",
              "      fill: #FFFFFF;\n",
              "    }\n",
              "  </style>\n",
              "\n",
              "      <script>\n",
              "        const buttonEl =\n",
              "          document.querySelector('#df-15ec8da5-6f60-48e9-845a-09a595d6f9d6 button.colab-df-convert');\n",
              "        buttonEl.style.display =\n",
              "          google.colab.kernel.accessAllowed ? 'block' : 'none';\n",
              "\n",
              "        async function convertToInteractive(key) {\n",
              "          const element = document.querySelector('#df-15ec8da5-6f60-48e9-845a-09a595d6f9d6');\n",
              "          const dataTable =\n",
              "            await google.colab.kernel.invokeFunction('convertToInteractive',\n",
              "                                                     [key], {});\n",
              "          if (!dataTable) return;\n",
              "\n",
              "          const docLinkHtml = 'Like what you see? Visit the ' +\n",
              "            '<a target=\"_blank\" href=https://colab.research.google.com/notebooks/data_table.ipynb>data table notebook</a>'\n",
              "            + ' to learn more about interactive tables.';\n",
              "          element.innerHTML = '';\n",
              "          dataTable['output_type'] = 'display_data';\n",
              "          await google.colab.output.renderOutput(dataTable, element);\n",
              "          const docLink = document.createElement('div');\n",
              "          docLink.innerHTML = docLinkHtml;\n",
              "          element.appendChild(docLink);\n",
              "        }\n",
              "      </script>\n",
              "    </div>\n",
              "  </div>\n"
            ]
          },
          "metadata": {},
          "execution_count": 19
        }
      ]
    },
    {
      "cell_type": "code",
      "source": [
        "\n",
        "predictedWQI,precitedWQIFixD,red3,gtforRE ,gtforRE2= predictWQI(dataframe,\"WQI\",(validationset))"
      ],
      "metadata": {
        "colab": {
          "base_uri": "https://localhost:8080/",
          "height": 756
        },
        "id": "rLk2kozB_qqv",
        "outputId": "a51c4eaf-5905-43e1-c9d8-047f2a4e529e"
      },
      "execution_count": 20,
      "outputs": [
        {
          "output_type": "stream",
          "name": "stdout",
          "text": [
            "MAE 0.1157440218319695\n",
            "MSE 0.02074588746431947\n",
            "RMSE 0.144034327381772\n",
            "MAPE 0.3808109734506127\n",
            "R2 Score 0.7659359608101399\n"
          ]
        },
        {
          "output_type": "display_data",
          "data": {
            "text/plain": [
              "<Figure size 2500x1000 with 1 Axes>"
            ],
            "image/png": "[encoded data removed]"
          },
          "metadata": {}
        }
      ]
    },
    {
      "cell_type": "code",
      "source": [
        "\n",
        "wqi,expdf= calculateWQI(validationset[parameters])\n",
        "## plotting distribution of wqi\n",
        "print(wqi)\n",
        "validationset['WQI'] = wqi\n",
        "validationset['WQI'] = scaler2.fit_transform(validationset[['WQI']]).flatten()\n",
        "# validationset['WQI'] = scaler2.fit_transform(np.array(wqi).reshape(1, -1))\n",
        "# plt.hist(wqi)\n",
        "WQIandParameters(dataframe,'WQI',np.array(red3).reshape(-1, 1),validationset[parameters])"
      ],
      "metadata": {
        "colab": {
          "base_uri": "https://localhost:8080/",
          "height": 1000
        },
        "id": "oLFyuelGIQZI",
        "outputId": "9d0ce8c0-829a-49cb-8334-e99f6dd80a1f"
      },
      "execution_count": 21,
      "outputs": [
        {
          "output_type": "stream",
          "name": "stdout",
          "text": [
            "0    42.8\n",
            "1    43.2\n",
            "2    33.6\n",
            "3    17.6\n",
            "4    17.2\n",
            "dtype: float64\n",
            "-----For WQI with pH Regression relation-----\n",
            "[8.4] - [8.2682444]\n",
            "[8.6] - [8.41144136]\n",
            "[7.6] - [7.75273536]\n",
            "[8.4] - [8.43435287]\n",
            "[8.6] - [8.27970016]\n",
            "[8.3] - [8.41144136]\n",
            "[7.9] - [7.90738807]\n",
            "[7.7] - [7.81574202]\n",
            "[7.7] - [8.12504744]\n",
            "[8.5] - [8.22242137]\n",
            "[7.7] - [7.93602746]\n",
            "[8.7] - [8.49735953]\n",
            "[7.6] - [7.7928305]\n",
            "[7.7] - [7.82719777]\n",
            "[8.6] - [8.3484347]\n",
            "[8.4] - [8.24533289]\n",
            "[8.6] - [8.38280197]\n",
            "[8.6] - [8.35416258]\n",
            "[8.1] - [8.37134621]\n"
          ]
        },
        {
          "output_type": "display_data",
          "data": {
            "text/plain": [
              "<Figure size 500x500 with 1 Axes>"
            ],
            "image/png": "[encoded data removed]"
          },
          "metadata": {}
        },
        {
          "output_type": "stream",
          "name": "stdout",
          "text": [
            "MAE 0.19285316388768226\n",
            "MSE 0.04643058424742017\n",
            "RMSE 0.21547757249287028\n",
            "MAPE 0.02353335196652986\n",
            "R2 Score 0.7144558617833272\n",
            "validation results on pH\n",
            "MAE 0.3247701739274538\n",
            "MSE 0.11949661489799253\n",
            "RMSE 0.3456828241292768\n",
            "MAPE 0.0413263384100287\n",
            "R2 Score -1.2980118249613972\n",
            "8.0 - [8.43606184]\n",
            "8.1 - [8.3386481]\n",
            "8.1 - [8.41019832]\n",
            "7.8 - [7.96130461]\n",
            "7.5 - [7.97763799]\n",
            "---------------------------------------\n",
            "-----For WQI with Salinity  Regression relation-----\n",
            "[35] - [35.43584339]\n",
            "[38] - [39.08316181]\n",
            "[24] - [22.30549707]\n",
            "[40] - [39.66673276]\n",
            "[33] - [35.72762886]\n",
            "[40] - [39.08316181]\n",
            "[25] - [26.24460097]\n",
            "[25] - [23.91031718]\n",
            "[35] - [31.78852497]\n",
            "[32] - [34.26870149]\n",
            "[30] - [26.97406465]\n",
            "[40] - [41.27155286]\n",
            "[25] - [23.32674623]\n",
            "[25] - [24.20210265]\n",
            "[35] - [37.4783417]\n",
            "[34] - [34.85227244]\n",
            "[37] - [38.35369813]\n",
            "[36] - [37.62423444]\n",
            "[40] - [38.06191265]\n"
          ]
        },
        {
          "output_type": "display_data",
          "data": {
            "text/plain": [
              "<Figure size 500x500 with 1 Axes>"
            ],
            "image/png": "[encoded data removed]"
          },
          "metadata": {}
        },
        {
          "output_type": "stream",
          "name": "stdout",
          "text": [
            "MAE 1.5800513756775196\n",
            "MSE 3.1646363514276787\n",
            "RMSE 1.7789424812027168\n",
            "MAPE 0.04942243128465314\n",
            "R2 Score 0.9007442464930154\n",
            "validation results on Salinity\n",
            "MAE 8.928526913028017\n",
            "MSE 87.68673046820878\n",
            "RMSE 9.364119310870018\n",
            "MAPE 0.3563735290612459\n",
            "R2 Score -4.269635244483701\n",
            "30 - [39.71026134]\n",
            "30 - [37.22907089]\n",
            "25 - [39.05150081]\n",
            "20 - [27.61788992]\n",
            "22 - [28.0339116]\n",
            "---------------------------------------\n",
            "-----For WQI with Ammonia SVR relation-----\n"
          ]
        },
        {
          "output_type": "stream",
          "name": "stderr",
          "text": [
            "<ipython-input-13-51c8a6173c99>:46: DataConversionWarning: A column-vector y was passed when a 1d array was expected. Please change the shape of y to (n_samples,), for example using ravel().\n",
            "  model = RandomForestRegressor(max_depth=2, random_state=0).fit(xTrain, yTrain)\n"
          ]
        },
        {
          "output_type": "stream",
          "name": "stdout",
          "text": [
            "[0.] - 0.03533944434770452\n",
            "[0.] - 0.03655200900054396\n",
            "[0.05] - 0.05609102129865352\n",
            "[0.04] - 0.030002383671539942\n",
            "[0.02] - 0.03533944434770452\n",
            "[0.05] - 0.03655200900054396\n",
            "[0.12] - 0.058194796828679035\n",
            "[0.06] - 0.052402473318855544\n",
            "[0.1] - 0.0471949507355824\n",
            "[0.02] - 0.03611769881382664\n",
            "[0.02] - 0.05951823117211339\n",
            "[0.] - 0.044260400654741267\n",
            "[0.07] - 0.05609102129865352\n",
            "[0.08] - 0.05257913998552221\n",
            "[0.04] - 0.03776550106403602\n",
            "[0.01] - 0.035615268523528705\n",
            "[0.] - 0.03753216773070269\n",
            "[0.] - 0.03776550106403602\n",
            "[0.08] - 0.03753216773070269\n"
          ]
        },
        {
          "output_type": "display_data",
          "data": {
            "text/plain": [
              "<Figure size 500x500 with 1 Axes>"
            ],
            "image/png": "[encoded data removed]"
          },
          "metadata": {}
        },
        {
          "output_type": "stream",
          "name": "stdout",
          "text": [
            "MAE 0.02767456543786526\n",
            "MSE 0.001043656311226438\n",
            "RMSE 0.03230566995476859\n",
            "MAPE 45379578922743.06\n",
            "R2 Score 0.20042460027006748\n",
            "validation results on Ammonia\n",
            "MAE 0.018319059196427945\n",
            "MSE 0.000502845463706646\n",
            "RMSE 0.022424216010970062\n",
            "MAPE 0.32760548277777624\n",
            "R2 Score -0.33735495666661164\n",
            "0.07 - 0.030002383671539942\n",
            "0.03 - 0.03704346643200138\n",
            "0.04 - 0.03655200900054396\n",
            "0.04 - 0.05854585021973244\n",
            "0.08 - 0.05743962799751021\n",
            "---------------------------------------\n"
          ]
        }
      ]
    },
    {
      "cell_type": "code",
      "execution_count": 22,
      "metadata": {
        "colab": {
          "base_uri": "https://localhost:8080/",
          "height": 1000
        },
        "id": "vOhKgF-_SFtC",
        "outputId": "59c385ee-d57a-490a-cbfa-f3b4aec453f6"
      },
      "outputs": [
        {
          "output_type": "stream",
          "name": "stdout",
          "text": [
            "0    0.716216\n",
            "1    0.918919\n",
            "2    0.952703\n",
            "3    0.986486\n",
            "4    0.817568\n",
            "Name: WQI, dtype: float64\n",
            "-----For WQI with pH Regression relation-----\n",
            "[8.4] - [8.2682444]\n",
            "[8.6] - [8.41144136]\n",
            "[7.6] - [7.75273536]\n",
            "[8.4] - [8.43435287]\n",
            "[8.6] - [8.27970016]\n",
            "[8.3] - [8.41144136]\n",
            "[7.9] - [7.90738807]\n",
            "[7.7] - [7.81574202]\n",
            "[7.7] - [8.12504744]\n",
            "[8.5] - [8.22242137]\n",
            "[7.7] - [7.93602746]\n",
            "[8.7] - [8.49735953]\n",
            "[7.6] - [7.7928305]\n",
            "[7.7] - [7.82719777]\n",
            "[8.6] - [8.3484347]\n",
            "[8.4] - [8.24533289]\n",
            "[8.6] - [8.38280197]\n",
            "[8.6] - [8.35416258]\n",
            "[8.1] - [8.37134621]\n"
          ]
        },
        {
          "output_type": "display_data",
          "data": {
            "text/plain": [
              "<Figure size 500x500 with 1 Axes>"
            ],
            "image/png": "[encoded data removed]"
          },
          "metadata": {}
        },
        {
          "output_type": "stream",
          "name": "stdout",
          "text": [
            "MAE 0.19285316388768226\n",
            "MSE 0.04643058424742017\n",
            "RMSE 0.21547757249287028\n",
            "MAPE 0.02353335196652986\n",
            "R2 Score 0.7144558617833272\n",
            "validation results on pH\n",
            "MAE 0.21192649197357838\n",
            "MSE 0.07113587679044374\n",
            "RMSE 0.26671309827311396\n",
            "MAPE 0.02647807692448612\n",
            "R2 Score 0.5845135733136975\n",
            "8.4 - [8.40488841]\n",
            "8.6 - [8.37397172]\n",
            "7.6 - [7.91258116]\n",
            "8.4 - [8.40488477]\n",
            "8.6 - [8.39311442]\n",
            "8.3 - [8.40492881]\n",
            "7.9 - [7.84319102]\n",
            "7.7 - [7.97805288]\n",
            "7.7 - [8.42942686]\n",
            "8.5 - [8.40141144]\n",
            "7.7 - [7.97653344]\n",
            "8.7 - [8.41834546]\n",
            "7.6 - [7.91065663]\n",
            "7.7 - [7.92602376]\n",
            "8.6 - [8.4199245]\n",
            "8.4 - [8.27987074]\n",
            "8.6 - [8.41539706]\n",
            "---------------------------------------\n",
            "-----For WQI with Salinity  Regression relation-----\n",
            "[35] - [35.43584339]\n",
            "[38] - [39.08316181]\n",
            "[24] - [22.30549707]\n",
            "[40] - [39.66673276]\n",
            "[33] - [35.72762886]\n",
            "[40] - [39.08316181]\n",
            "[25] - [26.24460097]\n",
            "[25] - [23.91031718]\n",
            "[35] - [31.78852497]\n",
            "[32] - [34.26870149]\n",
            "[30] - [26.97406465]\n",
            "[40] - [41.27155286]\n",
            "[25] - [23.32674623]\n",
            "[25] - [24.20210265]\n",
            "[35] - [37.4783417]\n",
            "[34] - [34.85227244]\n",
            "[37] - [38.35369813]\n",
            "[36] - [37.62423444]\n",
            "[40] - [38.06191265]\n"
          ]
        },
        {
          "output_type": "display_data",
          "data": {
            "text/plain": [
              "<Figure size 500x500 with 1 Axes>"
            ],
            "image/png": "[encoded data removed]"
          },
          "metadata": {}
        },
        {
          "output_type": "stream",
          "name": "stdout",
          "text": [
            "MAE 1.5800513756775196\n",
            "MSE 3.1646363514276787\n",
            "RMSE 1.7789424812027168\n",
            "MAPE 0.04942243128465314\n",
            "R2 Score 0.9007442464930154\n",
            "validation results on Salinity\n",
            "MAE 2.5297796736348874\n",
            "MSE 9.826657989027623\n",
            "RMSE 3.1347500680321585\n",
            "MAPE 0.07993385112211303\n",
            "R2 Score 0.6930497018126911\n",
            "35 - [38.916254]\n",
            "38 - [38.12878607]\n",
            "24 - [26.37687222]\n",
            "40 - [38.9161613]\n",
            "33 - [38.61636292]\n",
            "40 - [38.91728314]\n",
            "25 - [24.60946085]\n",
            "25 - [28.04447897]\n",
            "35 - [39.54126404]\n",
            "32 - [38.82769323]\n",
            "30 - [28.00577796]\n",
            "40 - [39.25901369]\n",
            "25 - [26.32785337]\n",
            "25 - [26.71926389]\n",
            "35 - [39.299233]\n",
            "34 - [35.73197367]\n",
            "37 - [39.18391602]\n",
            "---------------------------------------\n",
            "-----For WQI with Ammonia SVR relation-----\n"
          ]
        },
        {
          "output_type": "stream",
          "name": "stderr",
          "text": [
            "<ipython-input-13-51c8a6173c99>:46: DataConversionWarning: A column-vector y was passed when a 1d array was expected. Please change the shape of y to (n_samples,), for example using ravel().\n",
            "  model = RandomForestRegressor(max_depth=2, random_state=0).fit(xTrain, yTrain)\n"
          ]
        },
        {
          "output_type": "stream",
          "name": "stdout",
          "text": [
            "[0.] - 0.03533944434770452\n",
            "[0.] - 0.03655200900054396\n",
            "[0.05] - 0.05609102129865352\n",
            "[0.04] - 0.030002383671539942\n",
            "[0.02] - 0.03533944434770452\n",
            "[0.05] - 0.03655200900054396\n",
            "[0.12] - 0.058194796828679035\n",
            "[0.06] - 0.052402473318855544\n",
            "[0.1] - 0.0471949507355824\n",
            "[0.02] - 0.03611769881382664\n",
            "[0.02] - 0.05951823117211339\n",
            "[0.] - 0.044260400654741267\n",
            "[0.07] - 0.05609102129865352\n",
            "[0.08] - 0.05257913998552221\n",
            "[0.04] - 0.03776550106403602\n",
            "[0.01] - 0.035615268523528705\n",
            "[0.] - 0.03753216773070269\n",
            "[0.] - 0.03776550106403602\n",
            "[0.08] - 0.03753216773070269\n"
          ]
        },
        {
          "output_type": "display_data",
          "data": {
            "text/plain": [
              "<Figure size 500x500 with 1 Axes>"
            ],
            "image/png": "[encoded data removed]"
          },
          "metadata": {}
        },
        {
          "output_type": "stream",
          "name": "stdout",
          "text": [
            "MAE 0.02767456543786526\n",
            "MSE 0.001043656311226438\n",
            "RMSE 0.03230566995476859\n",
            "MAPE 45379578922743.06\n",
            "R2 Score 0.20042460027006748\n",
            "validation results on Ammonia\n",
            "MAE 0.025673856374793306\n",
            "MSE 0.0010213405906539365\n",
            "RMSE 0.03195841971459065\n",
            "MAPE 35937583984560.38\n",
            "R2 Score 0.19616712772606837\n",
            "0.0 - 0.036987723286258246\n",
            "0.0 - 0.03753216773070269\n",
            "0.05 - 0.058194796828679035\n",
            "0.04 - 0.036987723286258246\n",
            "0.02 - 0.036987723286258246\n",
            "0.05 - 0.036987723286258246\n",
            "0.12 - 0.05445106306244529\n",
            "0.06 - 0.05743962799751021\n",
            "0.1 - 0.030002383671539942\n",
            "0.02 - 0.036987723286258246\n",
            "0.02 - 0.05743962799751021\n",
            "0.0 - 0.03056790091291925\n",
            "0.07 - 0.058194796828679035\n",
            "0.08 - 0.05951823117211339\n",
            "0.04 - 0.03056790091291925\n",
            "0.01 - 0.03533944434770452\n",
            "0.0 - 0.03056790091291925\n",
            "---------------------------------------\n"
          ]
        }
      ],
      "source": [
        "\n",
        "# WQIandParameters(np.array(predictedWQI).reshape(-1, 1),gtforRE)\n",
        "\n",
        "print(dataframe[\"WQI\"].head())\n",
        "\n",
        "# dataframe['WQI'] = scaler2.inverse_transform(dataframe[['WQI']]).flatten()\n",
        "# print(dataframe[\"WQI\"].head())\n",
        "WQIandParameters(dataframe,'WQI',predictedWQI.reshape(-1, 1),gtforRE)\n",
        "# WQIandParameters(dataframe,'WQI',precitedWQIFixD.reshape(-1, 1),gtforRE2)"
      ]
    },
    {
      "cell_type": "code",
      "execution_count": 23,
      "metadata": {
        "id": "MzyP8XbMSFtD",
        "colab": {
          "base_uri": "https://localhost:8080/",
          "height": 558
        },
        "outputId": "6d79fba2-f96a-43cc-8d91-e21a0801f20b"
      },
      "outputs": [
        {
          "output_type": "stream",
          "name": "stdout",
          "text": [
            "Mean WQI 0.6699365732392693\n",
            "Standard Deviation WQI 0.2780777105098268\n"
          ]
        },
        {
          "output_type": "execute_result",
          "data": {
            "text/plain": [
              "(array([ 1.,  3.,  2.,  0.,  0.,  0.,  0.,  1.,  0., 10.]),\n",
              " array([0.214812  , 0.28396593, 0.35311986, 0.42227379, 0.49142772,\n",
              "        0.56058165, 0.62973558, 0.69888951, 0.76804345, 0.83719738,\n",
              "        0.90635131]),\n",
              " <BarContainer object of 10 artists>)"
            ]
          },
          "metadata": {},
          "execution_count": 23
        },
        {
          "output_type": "display_data",
          "data": {
            "text/plain": [
              "<Figure size 640x480 with 1 Axes>"
            ],
            "image/png": "[encoded data removed]"
          },
          "metadata": {}
        }
      ],
      "source": [
        "#\n",
        "## printing stats for ground truth wqi\n",
        "print(\"Mean WQI\", statistics.mean(predictedWQI))\n",
        "print(\"Standard Deviation WQI\", statistics.stdev(predictedWQI))\n",
        "plt.hist(predictedWQI)"
      ]
    },
    {
      "cell_type": "code",
      "source": [],
      "metadata": {
        "id": "uvXeU2IFi0fj"
      },
      "execution_count": 23,
      "outputs": []
    },
    {
      "cell_type": "code",
      "source": [
        "from sklearn.svm import LinearSVR\n",
        "from sklearn.multioutput import MultiOutputRegressor\n",
        "from sklearn.model_selection import RepeatedKFold\n",
        "from numpy import absolute,mean,std\n",
        "from sklearn.linear_model import Ridge,HuberRegressor"
      ],
      "metadata": {
        "id": "2Lzbgc6viqGH"
      },
      "execution_count": 24,
      "outputs": []
    },
    {
      "cell_type": "code",
      "source": [
        "# model = LinearSVR()\n",
        "# model = Ridge(alpha = .002,random_state=123)\n",
        "model = HuberRegressor(max_iter = 1000)\n",
        "# define the direct multioutput wrapper model\n",
        "wrapper = MultiOutputRegressor(model)"
      ],
      "metadata": {
        "id": "wYvLtofsiqCt"
      },
      "execution_count": 25,
      "outputs": []
    },
    {
      "cell_type": "code",
      "source": [
        "X = np.array(dataframe['WQI']).reshape(-1, 1)\n",
        "y = dataframe[parameters]\n"
      ],
      "metadata": {
        "id": "JTAKJjNPiqAh"
      },
      "execution_count": 26,
      "outputs": []
    },
    {
      "cell_type": "code",
      "source": [
        "cv = RepeatedKFold(n_splits=10, n_repeats=3, random_state=1)\n",
        "# evaluate the model and collect the scores\n",
        "n_scores = cross_val_score(wrapper, X, y, scoring='neg_mean_absolute_error', cv=cv, n_jobs=-1)\n",
        "# force the scores to be positive\n",
        "n_scores = absolute(n_scores)\n",
        "# summarize performance\n",
        "print('MAE: %.3f (%.3f)' % (mean(n_scores), std(n_scores)))"
      ],
      "metadata": {
        "id": "zJCPduU-wQnM",
        "colab": {
          "base_uri": "https://localhost:8080/"
        },
        "outputId": "4f7dbdf6-f2fe-4a5f-9e68-733ac4fa1e15"
      },
      "execution_count": 27,
      "outputs": [
        {
          "output_type": "stream",
          "name": "stdout",
          "text": [
            "MAE: 0.635 (0.184)\n"
          ]
        }
      ]
    },
    {
      "cell_type": "code",
      "source": [
        "validationdataframe = dataframe[dataframe[\"Date of Image\"]==\"2023-07-09\"]\n",
        "traindataframe = dataframe[dataframe[\"Date of Image\"]!=\"2023-07-09\"]\n",
        "xTrain = np.array(traindataframe['WQI']).reshape(-1, 1)\n",
        "yTrain = traindataframe[parameters]\n",
        "xTest =  np.array(validationdataframe['WQI']).reshape(-1, 1)\n",
        "yTest = validationdataframe[parameters]\n",
        "\n",
        "# xTrain, xTest, yTrain, yTest = train_test_split(np.array(dataframe['WQI']).reshape(-1, 1), dataframe[parameters], test_size=0.33, random_state=42)"
      ],
      "metadata": {
        "id": "f2Ftc8Rxip-B"
      },
      "execution_count": 28,
      "outputs": []
    },
    {
      "cell_type": "code",
      "source": [
        "regr = wrapper.fit(xTrain, yTrain)\n",
        "prediction = regr.predict(xTest)\n",
        "Presults(yTest, prediction)"
      ],
      "metadata": {
        "id": "dGrpIn0bip7k",
        "colab": {
          "base_uri": "https://localhost:8080/"
        },
        "outputId": "f4718583-1028-4d55-eb9b-ae380a5c1b8a"
      },
      "execution_count": 29,
      "outputs": [
        {
          "output_type": "stream",
          "name": "stdout",
          "text": [
            "MAE 0.971611303277836\n",
            "MSE 2.8380060817887904\n",
            "RMSE 1.1068310376464383\n",
            "MAPE 0.2632482238024373\n",
            "R2 Score -1.994446509667089\n"
          ]
        }
      ]
    },
    {
      "cell_type": "code",
      "source": [
        "for index, col in enumerate(yTest.columns):\n",
        "  yTest[f'{col}_pred'] = prediction[:,index]"
      ],
      "metadata": {
        "id": "_dFhq56ZxawW",
        "colab": {
          "base_uri": "https://localhost:8080/"
        },
        "outputId": "bde236ba-d6f4-4fae-828d-c3050457c96f"
      },
      "execution_count": 30,
      "outputs": [
        {
          "output_type": "stream",
          "name": "stderr",
          "text": [
            "<ipython-input-30-ed4dba7d913f>:2: SettingWithCopyWarning: \n",
            "A value is trying to be set on a copy of a slice from a DataFrame.\n",
            "Try using .loc[row_indexer,col_indexer] = value instead\n",
            "\n",
            "See the caveats in the documentation: https://pandas.pydata.org/pandas-docs/stable/user_guide/indexing.html#returning-a-view-versus-a-copy\n",
            "  yTest[f'{col}_pred'] = prediction[:,index]\n",
            "<ipython-input-30-ed4dba7d913f>:2: SettingWithCopyWarning: \n",
            "A value is trying to be set on a copy of a slice from a DataFrame.\n",
            "Try using .loc[row_indexer,col_indexer] = value instead\n",
            "\n",
            "See the caveats in the documentation: https://pandas.pydata.org/pandas-docs/stable/user_guide/indexing.html#returning-a-view-versus-a-copy\n",
            "  yTest[f'{col}_pred'] = prediction[:,index]\n",
            "<ipython-input-30-ed4dba7d913f>:2: SettingWithCopyWarning: \n",
            "A value is trying to be set on a copy of a slice from a DataFrame.\n",
            "Try using .loc[row_indexer,col_indexer] = value instead\n",
            "\n",
            "See the caveats in the documentation: https://pandas.pydata.org/pandas-docs/stable/user_guide/indexing.html#returning-a-view-versus-a-copy\n",
            "  yTest[f'{col}_pred'] = prediction[:,index]\n"
          ]
        }
      ]
    },
    {
      "cell_type": "code",
      "source": [
        "yTest"
      ],
      "metadata": {
        "id": "jIQSFlTSxaf0",
        "colab": {
          "base_uri": "https://localhost:8080/",
          "height": 519
        },
        "outputId": "91206bb7-2809-4db7-a5c6-b6fdbd38cbc5"
      },
      "execution_count": 31,
      "outputs": [
        {
          "output_type": "execute_result",
          "data": {
            "text/plain": [
              "     pH  Salinity  Ammonia   pH_pred  Salinity_pred  Ammonia_pred\n",
              "51  8.0        35     0.04  8.260028      32.558056      0.031651\n",
              "52  8.5        40     0.08  8.716535      39.526371      0.007669\n",
              "53  8.1        40     0.08  8.547458      36.945514      0.016551\n",
              "54  8.2        40     0.05  8.564366      37.203600      0.015663\n",
              "55  7.9        36     0.08  8.293843      33.074228      0.029875\n",
              "56  7.7        35     0.10  8.183943      31.396670      0.035648\n",
              "57  8.5        40     0.12  8.750351      40.042543      0.005892\n",
              "58  8.2        40     0.04  8.555912      37.074557      0.016107\n",
              "59  8.4        42     0.05  8.733443      39.784457      0.006780\n",
              "60  8.0        40     0.07  8.496735      36.171257      0.019216\n",
              "61  8.1        40     0.06  8.530551      36.687428      0.017439\n",
              "62  8.3        40     0.05  8.606635      37.848814      0.013442\n",
              "63  8.3        39     0.05  8.564366      37.203600      0.015663\n",
              "64  8.6        40     0.04  8.724989      39.655414      0.007225\n",
              "65  7.7        39     0.04  8.302297      33.203271      0.029430"
            ],
            "text/html": [
              "\n",
              "\n",
              "  <div id=\"df-30f28ed0-9215-421d-8f96-290fd5de0cfc\">\n",
              "    <div class=\"colab-df-container\">\n",
              "      <div>\n",
              "<style scoped>\n",
              "    .dataframe tbody tr th:only-of-type {\n",
              "        vertical-align: middle;\n",
              "    }\n",
              "\n",
              "    .dataframe tbody tr th {\n",
              "        vertical-align: top;\n",
              "    }\n",
              "\n",
              "    .dataframe thead th {\n",
              "        text-align: right;\n",
              "    }\n",
              "</style>\n",
              "<table border=\"1\" class=\"dataframe\">\n",
              "  <thead>\n",
              "    <tr style=\"text-align: right;\">\n",
              "      <th></th>\n",
              "      <th>pH</th>\n",
              "      <th>Salinity</th>\n",
              "      <th>Ammonia</th>\n",
              "      <th>pH_pred</th>\n",
              "      <th>Salinity_pred</th>\n",
              "      <th>Ammonia_pred</th>\n",
              "    </tr>\n",
              "  </thead>\n",
              "  <tbody>\n",
              "    <tr>\n",
              "      <th>51</th>\n",
              "      <td>8.0</td>\n",
              "      <td>35</td>\n",
              "      <td>0.04</td>\n",
              "      <td>8.260028</td>\n",
              "      <td>32.558056</td>\n",
              "      <td>0.031651</td>\n",
              "    </tr>\n",
              "    <tr>\n",
              "      <th>52</th>\n",
              "      <td>8.5</td>\n",
              "      <td>40</td>\n",
              "      <td>0.08</td>\n",
              "      <td>8.716535</td>\n",
              "      <td>39.526371</td>\n",
              "      <td>0.007669</td>\n",
              "    </tr>\n",
              "    <tr>\n",
              "      <th>53</th>\n",
              "      <td>8.1</td>\n",
              "      <td>40</td>\n",
              "      <td>0.08</td>\n",
              "      <td>8.547458</td>\n",
              "      <td>36.945514</td>\n",
              "      <td>0.016551</td>\n",
              "    </tr>\n",
              "    <tr>\n",
              "      <th>54</th>\n",
              "      <td>8.2</td>\n",
              "      <td>40</td>\n",
              "      <td>0.05</td>\n",
              "      <td>8.564366</td>\n",
              "      <td>37.203600</td>\n",
              "      <td>0.015663</td>\n",
              "    </tr>\n",
              "    <tr>\n",
              "      <th>55</th>\n",
              "      <td>7.9</td>\n",
              "      <td>36</td>\n",
              "      <td>0.08</td>\n",
              "      <td>8.293843</td>\n",
              "      <td>33.074228</td>\n",
              "      <td>0.029875</td>\n",
              "    </tr>\n",
              "    <tr>\n",
              "      <th>56</th>\n",
              "      <td>7.7</td>\n",
              "      <td>35</td>\n",
              "      <td>0.10</td>\n",
              "      <td>8.183943</td>\n",
              "      <td>31.396670</td>\n",
              "      <td>0.035648</td>\n",
              "    </tr>\n",
              "    <tr>\n",
              "      <th>57</th>\n",
              "      <td>8.5</td>\n",
              "      <td>40</td>\n",
              "      <td>0.12</td>\n",
              "      <td>8.750351</td>\n",
              "      <td>40.042543</td>\n",
              "      <td>0.005892</td>\n",
              "    </tr>\n",
              "    <tr>\n",
              "      <th>58</th>\n",
              "      <td>8.2</td>\n",
              "      <td>40</td>\n",
              "      <td>0.04</td>\n",
              "      <td>8.555912</td>\n",
              "      <td>37.074557</td>\n",
              "      <td>0.016107</td>\n",
              "    </tr>\n",
              "    <tr>\n",
              "      <th>59</th>\n",
              "      <td>8.4</td>\n",
              "      <td>42</td>\n",
              "      <td>0.05</td>\n",
              "      <td>8.733443</td>\n",
              "      <td>39.784457</td>\n",
              "      <td>0.006780</td>\n",
              "    </tr>\n",
              "    <tr>\n",
              "      <th>60</th>\n",
              "      <td>8.0</td>\n",
              "      <td>40</td>\n",
              "      <td>0.07</td>\n",
              "      <td>8.496735</td>\n",
              "      <td>36.171257</td>\n",
              "      <td>0.019216</td>\n",
              "    </tr>\n",
              "    <tr>\n",
              "      <th>61</th>\n",
              "      <td>8.1</td>\n",
              "      <td>40</td>\n",
              "      <td>0.06</td>\n",
              "      <td>8.530551</td>\n",
              "      <td>36.687428</td>\n",
              "      <td>0.017439</td>\n",
              "    </tr>\n",
              "    <tr>\n",
              "      <th>62</th>\n",
              "      <td>8.3</td>\n",
              "      <td>40</td>\n",
              "      <td>0.05</td>\n",
              "      <td>8.606635</td>\n",
              "      <td>37.848814</td>\n",
              "      <td>0.013442</td>\n",
              "    </tr>\n",
              "    <tr>\n",
              "      <th>63</th>\n",
              "      <td>8.3</td>\n",
              "      <td>39</td>\n",
              "      <td>0.05</td>\n",
              "      <td>8.564366</td>\n",
              "      <td>37.203600</td>\n",
              "      <td>0.015663</td>\n",
              "    </tr>\n",
              "    <tr>\n",
              "      <th>64</th>\n",
              "      <td>8.6</td>\n",
              "      <td>40</td>\n",
              "      <td>0.04</td>\n",
              "      <td>8.724989</td>\n",
              "      <td>39.655414</td>\n",
              "      <td>0.007225</td>\n",
              "    </tr>\n",
              "    <tr>\n",
              "      <th>65</th>\n",
              "      <td>7.7</td>\n",
              "      <td>39</td>\n",
              "      <td>0.04</td>\n",
              "      <td>8.302297</td>\n",
              "      <td>33.203271</td>\n",
              "      <td>0.029430</td>\n",
              "    </tr>\n",
              "  </tbody>\n",
              "</table>\n",
              "</div>\n",
              "      <button class=\"colab-df-convert\" onclick=\"convertToInteractive('df-30f28ed0-9215-421d-8f96-290fd5de0cfc')\"\n",
              "              title=\"Convert this dataframe to an interactive table.\"\n",
              "              style=\"display:none;\">\n",
              "\n",
              "  <svg xmlns=\"http://www.w3.org/2000/svg\" height=\"24px\"viewBox=\"0 0 24 24\"\n",
              "       width=\"24px\">\n",
              "    <path d=\"M0 0h24v24H0V0z\" fill=\"none\"/>\n",
              "    <path d=\"M18.56 5.44l.94 2.06.94-2.06 2.06-.94-2.06-.94-.94-2.06-.94 2.06-2.06.94zm-11 1L8.5 8.5l.94-2.06 2.06-.94-2.06-.94L8.5 2.5l-.94 2.06-2.06.94zm10 10l.94 2.06.94-2.06 2.06-.94-2.06-.94-.94-2.06-.94 2.06-2.06.94z\"/><path d=\"M17.41 7.96l-1.37-1.37c-.4-.4-.92-.59-1.43-.59-.52 0-1.04.2-1.43.59L10.3 9.45l-7.72 7.72c-.78.78-.78 2.05 0 2.83L4 21.41c.39.39.9.59 1.41.59.51 0 1.02-.2 1.41-.59l7.78-7.78 2.81-2.81c.8-.78.8-2.07 0-2.86zM5.41 20L4 18.59l7.72-7.72 1.47 1.35L5.41 20z\"/>\n",
              "  </svg>\n",
              "      </button>\n",
              "\n",
              "\n",
              "\n",
              "    <div id=\"df-0e0f8fa8-8d0c-4f99-8472-9d42f6e8357e\">\n",
              "      <button class=\"colab-df-quickchart\" onclick=\"quickchart('df-0e0f8fa8-8d0c-4f99-8472-9d42f6e8357e')\"\n",
              "              title=\"Suggest charts.\"\n",
              "              style=\"display:none;\">\n",
              "\n",
              "<svg xmlns=\"http://www.w3.org/2000/svg\" height=\"24px\"viewBox=\"0 0 24 24\"\n",
              "     width=\"24px\">\n",
              "    <g>\n",
              "        <path d=\"M19 3H5c-1.1 0-2 .9-2 2v14c0 1.1.9 2 2 2h14c1.1 0 2-.9 2-2V5c0-1.1-.9-2-2-2zM9 17H7v-7h2v7zm4 0h-2V7h2v10zm4 0h-2v-4h2v4z\"/>\n",
              "    </g>\n",
              "</svg>\n",
              "      </button>\n",
              "    </div>\n",
              "\n",
              "<style>\n",
              "  .colab-df-quickchart {\n",
              "    background-color: #E8F0FE;\n",
              "    border: none;\n",
              "    border-radius: 50%;\n",
              "    cursor: pointer;\n",
              "    display: none;\n",
              "    fill: #1967D2;\n",
              "    height: 32px;\n",
              "    padding: 0 0 0 0;\n",
              "    width: 32px;\n",
              "  }\n",
              "\n",
              "  .colab-df-quickchart:hover {\n",
              "    background-color: #E2EBFA;\n",
              "    box-shadow: 0px 1px 2px rgba(60, 64, 67, 0.3), 0px 1px 3px 1px rgba(60, 64, 67, 0.15);\n",
              "    fill: #174EA6;\n",
              "  }\n",
              "\n",
              "  [theme=dark] .colab-df-quickchart {\n",
              "    background-color: #3B4455;\n",
              "    fill: #D2E3FC;\n",
              "  }\n",
              "\n",
              "  [theme=dark] .colab-df-quickchart:hover {\n",
              "    background-color: #434B5C;\n",
              "    box-shadow: 0px 1px 3px 1px rgba(0, 0, 0, 0.15);\n",
              "    filter: drop-shadow(0px 1px 2px rgba(0, 0, 0, 0.3));\n",
              "    fill: #FFFFFF;\n",
              "  }\n",
              "</style>\n",
              "\n",
              "    <script>\n",
              "      async function quickchart(key) {\n",
              "        const containerElement = document.querySelector('#' + key);\n",
              "        const charts = await google.colab.kernel.invokeFunction(\n",
              "            'suggestCharts', [key], {});\n",
              "      }\n",
              "    </script>\n",
              "\n",
              "      <script>\n",
              "\n",
              "function displayQuickchartButton(domScope) {\n",
              "  let quickchartButtonEl =\n",
              "    domScope.querySelector('#df-0e0f8fa8-8d0c-4f99-8472-9d42f6e8357e button.colab-df-quickchart');\n",
              "  quickchartButtonEl.style.display =\n",
              "    google.colab.kernel.accessAllowed ? 'block' : 'none';\n",
              "}\n",
              "\n",
              "        displayQuickchartButton(document);\n",
              "      </script>\n",
              "      <style>\n",
              "    .colab-df-container {\n",
              "      display:flex;\n",
              "      flex-wrap:wrap;\n",
              "      gap: 12px;\n",
              "    }\n",
              "\n",
              "    .colab-df-convert {\n",
              "      background-color: #E8F0FE;\n",
              "      border: none;\n",
              "      border-radius: 50%;\n",
              "      cursor: pointer;\n",
              "      display: none;\n",
              "      fill: #1967D2;\n",
              "      height: 32px;\n",
              "      padding: 0 0 0 0;\n",
              "      width: 32px;\n",
              "    }\n",
              "\n",
              "    .colab-df-convert:hover {\n",
              "      background-color: #E2EBFA;\n",
              "      box-shadow: 0px 1px 2px rgba(60, 64, 67, 0.3), 0px 1px 3px 1px rgba(60, 64, 67, 0.15);\n",
              "      fill: #174EA6;\n",
              "    }\n",
              "\n",
              "    [theme=dark] .colab-df-convert {\n",
              "      background-color: #3B4455;\n",
              "      fill: #D2E3FC;\n",
              "    }\n",
              "\n",
              "    [theme=dark] .colab-df-convert:hover {\n",
              "      background-color: #434B5C;\n",
              "      box-shadow: 0px 1px 3px 1px rgba(0, 0, 0, 0.15);\n",
              "      filter: drop-shadow(0px 1px 2px rgba(0, 0, 0, 0.3));\n",
              "      fill: #FFFFFF;\n",
              "    }\n",
              "  </style>\n",
              "\n",
              "      <script>\n",
              "        const buttonEl =\n",
              "          document.querySelector('#df-30f28ed0-9215-421d-8f96-290fd5de0cfc button.colab-df-convert');\n",
              "        buttonEl.style.display =\n",
              "          google.colab.kernel.accessAllowed ? 'block' : 'none';\n",
              "\n",
              "        async function convertToInteractive(key) {\n",
              "          const element = document.querySelector('#df-30f28ed0-9215-421d-8f96-290fd5de0cfc');\n",
              "          const dataTable =\n",
              "            await google.colab.kernel.invokeFunction('convertToInteractive',\n",
              "                                                     [key], {});\n",
              "          if (!dataTable) return;\n",
              "\n",
              "          const docLinkHtml = 'Like what you see? Visit the ' +\n",
              "            '<a target=\"_blank\" href=https://colab.research.google.com/notebooks/data_table.ipynb>data table notebook</a>'\n",
              "            + ' to learn more about interactive tables.';\n",
              "          element.innerHTML = '';\n",
              "          dataTable['output_type'] = 'display_data';\n",
              "          await google.colab.output.renderOutput(dataTable, element);\n",
              "          const docLink = document.createElement('div');\n",
              "          docLink.innerHTML = docLinkHtml;\n",
              "          element.appendChild(docLink);\n",
              "        }\n",
              "      </script>\n",
              "    </div>\n",
              "  </div>\n"
            ]
          },
          "metadata": {},
          "execution_count": 31
        }
      ]
    },
    {
      "cell_type": "code",
      "source": [
        "Presults(yTest['pH'], yTest['pH_pred']),Presults(yTest['Salinity'], yTest['Salinity_pred']),Presults(yTest['Ammonia'], yTest['Ammonia_pred'])"
      ],
      "metadata": {
        "id": "oOnQIQWA0tpf",
        "colab": {
          "base_uri": "https://localhost:8080/"
        },
        "outputId": "de646223-54ee-459f-aa0a-5920d538ff2e"
      },
      "execution_count": 32,
      "outputs": [
        {
          "output_type": "stream",
          "name": "stdout",
          "text": [
            "MAE 0.35543019780500856\n",
            "MSE 0.14078322300496485\n",
            "RMSE 0.3752109046988971\n",
            "MAPE 0.04398042552619241\n",
            "R2 Score -0.9674674022432983\n",
            "MAE 2.5139537689444214\n",
            "MSE 8.370520930009217\n",
            "RMSE 2.8931852567730982\n",
            "MAPE 0.06497866065510685\n",
            "R2 Score -1.1305058928190879\n",
            "MAE 0.04544994308407813\n",
            "MSE 0.0027140923521882664\n",
            "RMSE 0.05209695146731972\n",
            "MAPE 0.6807855852260126\n",
            "R2 Score -3.885366233938881\n"
          ]
        },
        {
          "output_type": "execute_result",
          "data": {
            "text/plain": [
              "(None, None, None)"
            ]
          },
          "metadata": {},
          "execution_count": 32
        }
      ]
    },
    {
      "cell_type": "code",
      "source": [
        "unkval = predictedWQI.reshape(-1, 1)\n",
        "kval = gtforRE.copy()\n",
        "prediction = regr.predict(unkval)\n",
        "Presults(gtforRE, prediction)"
      ],
      "metadata": {
        "id": "l8T-0GR_z5n1",
        "colab": {
          "base_uri": "https://localhost:8080/"
        },
        "outputId": "3084ab7a-1e4f-4fa9-9f0b-2dd9cf48192f"
      },
      "execution_count": 33,
      "outputs": [
        {
          "output_type": "stream",
          "name": "stdout",
          "text": [
            "MAE 0.8499724341015037\n",
            "MSE 2.4172249120229883\n",
            "RMSE 0.9986486899276753\n",
            "MAPE 4975163573463.439\n",
            "R2 Score 0.4960116408030169\n"
          ]
        }
      ]
    },
    {
      "cell_type": "code",
      "source": [
        "for index, col in enumerate(kval.columns):\n",
        "  kval[f'{col}_pred'] = prediction[:,index]"
      ],
      "metadata": {
        "id": "nMUwua_y0dOG"
      },
      "execution_count": 34,
      "outputs": []
    },
    {
      "cell_type": "code",
      "source": [
        "kval"
      ],
      "metadata": {
        "id": "m8EUdxjq0lfZ",
        "colab": {
          "base_uri": "https://localhost:8080/",
          "height": 582
        },
        "outputId": "9f989bab-e1fd-4315-ce06-f2dd1776e11f"
      },
      "execution_count": 35,
      "outputs": [
        {
          "output_type": "execute_result",
          "data": {
            "text/plain": [
              "     pH  Salinity  Ammonia   pH_pred  Salinity_pred  Ammonia_pred\n",
              "0   8.4        35     0.00  8.596964      37.701183      0.013950\n",
              "5   8.6        38     0.00  8.551333      37.004664      0.016347\n",
              "45  7.6        24     0.05  7.870361      26.610036      0.052122\n",
              "13  8.4        40     0.04  8.596958      37.701101      0.013951\n",
              "19  8.6        33     0.02  8.579586      37.435928      0.014863\n",
              "62  8.3        40     0.05  8.597023      37.702093      0.013947\n",
              "48  7.9        25     0.12  7.767948      25.046752      0.057502\n",
              "37  7.7        25     0.06  7.966992      28.085043      0.047046\n",
              "56  7.7        35     0.10  8.633180      38.254008      0.012048\n",
              "12  8.5        32     0.02  8.591832      37.622851      0.014220\n",
              "66  7.7        30     0.02  7.964749      28.050811      0.047163\n",
              "3   8.7        40     0.00  8.616825      38.004356      0.012907\n",
              "46  7.6        25     0.07  7.867521      26.566679      0.052271\n",
              "41  7.7        25     0.08  7.890201      26.912883      0.051080\n",
              "8   8.6        35     0.04  8.619156      38.039930      0.012784\n",
              "17  8.4        34     0.01  8.412449      34.884671      0.023644\n",
              "6   8.6        37     0.00  8.612474      37.937932      0.013135"
            ],
            "text/html": [
              "\n",
              "\n",
              "  <div id=\"df-4ac97e67-bd70-488e-9698-9b0f6063dcae\">\n",
              "    <div class=\"colab-df-container\">\n",
              "      <div>\n",
              "<style scoped>\n",
              "    .dataframe tbody tr th:only-of-type {\n",
              "        vertical-align: middle;\n",
              "    }\n",
              "\n",
              "    .dataframe tbody tr th {\n",
              "        vertical-align: top;\n",
              "    }\n",
              "\n",
              "    .dataframe thead th {\n",
              "        text-align: right;\n",
              "    }\n",
              "</style>\n",
              "<table border=\"1\" class=\"dataframe\">\n",
              "  <thead>\n",
              "    <tr style=\"text-align: right;\">\n",
              "      <th></th>\n",
              "      <th>pH</th>\n",
              "      <th>Salinity</th>\n",
              "      <th>Ammonia</th>\n",
              "      <th>pH_pred</th>\n",
              "      <th>Salinity_pred</th>\n",
              "      <th>Ammonia_pred</th>\n",
              "    </tr>\n",
              "  </thead>\n",
              "  <tbody>\n",
              "    <tr>\n",
              "      <th>0</th>\n",
              "      <td>8.4</td>\n",
              "      <td>35</td>\n",
              "      <td>0.00</td>\n",
              "      <td>8.596964</td>\n",
              "      <td>37.701183</td>\n",
              "      <td>0.013950</td>\n",
              "    </tr>\n",
              "    <tr>\n",
              "      <th>5</th>\n",
              "      <td>8.6</td>\n",
              "      <td>38</td>\n",
              "      <td>0.00</td>\n",
              "      <td>8.551333</td>\n",
              "      <td>37.004664</td>\n",
              "      <td>0.016347</td>\n",
              "    </tr>\n",
              "    <tr>\n",
              "      <th>45</th>\n",
              "      <td>7.6</td>\n",
              "      <td>24</td>\n",
              "      <td>0.05</td>\n",
              "      <td>7.870361</td>\n",
              "      <td>26.610036</td>\n",
              "      <td>0.052122</td>\n",
              "    </tr>\n",
              "    <tr>\n",
              "      <th>13</th>\n",
              "      <td>8.4</td>\n",
              "      <td>40</td>\n",
              "      <td>0.04</td>\n",
              "      <td>8.596958</td>\n",
              "      <td>37.701101</td>\n",
              "      <td>0.013951</td>\n",
              "    </tr>\n",
              "    <tr>\n",
              "      <th>19</th>\n",
              "      <td>8.6</td>\n",
              "      <td>33</td>\n",
              "      <td>0.02</td>\n",
              "      <td>8.579586</td>\n",
              "      <td>37.435928</td>\n",
              "      <td>0.014863</td>\n",
              "    </tr>\n",
              "    <tr>\n",
              "      <th>62</th>\n",
              "      <td>8.3</td>\n",
              "      <td>40</td>\n",
              "      <td>0.05</td>\n",
              "      <td>8.597023</td>\n",
              "      <td>37.702093</td>\n",
              "      <td>0.013947</td>\n",
              "    </tr>\n",
              "    <tr>\n",
              "      <th>48</th>\n",
              "      <td>7.9</td>\n",
              "      <td>25</td>\n",
              "      <td>0.12</td>\n",
              "      <td>7.767948</td>\n",
              "      <td>25.046752</td>\n",
              "      <td>0.057502</td>\n",
              "    </tr>\n",
              "    <tr>\n",
              "      <th>37</th>\n",
              "      <td>7.7</td>\n",
              "      <td>25</td>\n",
              "      <td>0.06</td>\n",
              "      <td>7.966992</td>\n",
              "      <td>28.085043</td>\n",
              "      <td>0.047046</td>\n",
              "    </tr>\n",
              "    <tr>\n",
              "      <th>56</th>\n",
              "      <td>7.7</td>\n",
              "      <td>35</td>\n",
              "      <td>0.10</td>\n",
              "      <td>8.633180</td>\n",
              "      <td>38.254008</td>\n",
              "      <td>0.012048</td>\n",
              "    </tr>\n",
              "    <tr>\n",
              "      <th>12</th>\n",
              "      <td>8.5</td>\n",
              "      <td>32</td>\n",
              "      <td>0.02</td>\n",
              "      <td>8.591832</td>\n",
              "      <td>37.622851</td>\n",
              "      <td>0.014220</td>\n",
              "    </tr>\n",
              "    <tr>\n",
              "      <th>66</th>\n",
              "      <td>7.7</td>\n",
              "      <td>30</td>\n",
              "      <td>0.02</td>\n",
              "      <td>7.964749</td>\n",
              "      <td>28.050811</td>\n",
              "      <td>0.047163</td>\n",
              "    </tr>\n",
              "    <tr>\n",
              "      <th>3</th>\n",
              "      <td>8.7</td>\n",
              "      <td>40</td>\n",
              "      <td>0.00</td>\n",
              "      <td>8.616825</td>\n",
              "      <td>38.004356</td>\n",
              "      <td>0.012907</td>\n",
              "    </tr>\n",
              "    <tr>\n",
              "      <th>46</th>\n",
              "      <td>7.6</td>\n",
              "      <td>25</td>\n",
              "      <td>0.07</td>\n",
              "      <td>7.867521</td>\n",
              "      <td>26.566679</td>\n",
              "      <td>0.052271</td>\n",
              "    </tr>\n",
              "    <tr>\n",
              "      <th>41</th>\n",
              "      <td>7.7</td>\n",
              "      <td>25</td>\n",
              "      <td>0.08</td>\n",
              "      <td>7.890201</td>\n",
              "      <td>26.912883</td>\n",
              "      <td>0.051080</td>\n",
              "    </tr>\n",
              "    <tr>\n",
              "      <th>8</th>\n",
              "      <td>8.6</td>\n",
              "      <td>35</td>\n",
              "      <td>0.04</td>\n",
              "      <td>8.619156</td>\n",
              "      <td>38.039930</td>\n",
              "      <td>0.012784</td>\n",
              "    </tr>\n",
              "    <tr>\n",
              "      <th>17</th>\n",
              "      <td>8.4</td>\n",
              "      <td>34</td>\n",
              "      <td>0.01</td>\n",
              "      <td>8.412449</td>\n",
              "      <td>34.884671</td>\n",
              "      <td>0.023644</td>\n",
              "    </tr>\n",
              "    <tr>\n",
              "      <th>6</th>\n",
              "      <td>8.6</td>\n",
              "      <td>37</td>\n",
              "      <td>0.00</td>\n",
              "      <td>8.612474</td>\n",
              "      <td>37.937932</td>\n",
              "      <td>0.013135</td>\n",
              "    </tr>\n",
              "  </tbody>\n",
              "</table>\n",
              "</div>\n",
              "      <button class=\"colab-df-convert\" onclick=\"convertToInteractive('df-4ac97e67-bd70-488e-9698-9b0f6063dcae')\"\n",
              "              title=\"Convert this dataframe to an interactive table.\"\n",
              "              style=\"display:none;\">\n",
              "\n",
              "  <svg xmlns=\"http://www.w3.org/2000/svg\" height=\"24px\"viewBox=\"0 0 24 24\"\n",
              "       width=\"24px\">\n",
              "    <path d=\"M0 0h24v24H0V0z\" fill=\"none\"/>\n",
              "    <path d=\"M18.56 5.44l.94 2.06.94-2.06 2.06-.94-2.06-.94-.94-2.06-.94 2.06-2.06.94zm-11 1L8.5 8.5l.94-2.06 2.06-.94-2.06-.94L8.5 2.5l-.94 2.06-2.06.94zm10 10l.94 2.06.94-2.06 2.06-.94-2.06-.94-.94-2.06-.94 2.06-2.06.94z\"/><path d=\"M17.41 7.96l-1.37-1.37c-.4-.4-.92-.59-1.43-.59-.52 0-1.04.2-1.43.59L10.3 9.45l-7.72 7.72c-.78.78-.78 2.05 0 2.83L4 21.41c.39.39.9.59 1.41.59.51 0 1.02-.2 1.41-.59l7.78-7.78 2.81-2.81c.8-.78.8-2.07 0-2.86zM5.41 20L4 18.59l7.72-7.72 1.47 1.35L5.41 20z\"/>\n",
              "  </svg>\n",
              "      </button>\n",
              "\n",
              "\n",
              "\n",
              "    <div id=\"df-a0d08ddd-072f-4366-98bd-73cc85b1b3d9\">\n",
              "      <button class=\"colab-df-quickchart\" onclick=\"quickchart('df-a0d08ddd-072f-4366-98bd-73cc85b1b3d9')\"\n",
              "              title=\"Suggest charts.\"\n",
              "              style=\"display:none;\">\n",
              "\n",
              "<svg xmlns=\"http://www.w3.org/2000/svg\" height=\"24px\"viewBox=\"0 0 24 24\"\n",
              "     width=\"24px\">\n",
              "    <g>\n",
              "        <path d=\"M19 3H5c-1.1 0-2 .9-2 2v14c0 1.1.9 2 2 2h14c1.1 0 2-.9 2-2V5c0-1.1-.9-2-2-2zM9 17H7v-7h2v7zm4 0h-2V7h2v10zm4 0h-2v-4h2v4z\"/>\n",
              "    </g>\n",
              "</svg>\n",
              "      </button>\n",
              "    </div>\n",
              "\n",
              "<style>\n",
              "  .colab-df-quickchart {\n",
              "    background-color: #E8F0FE;\n",
              "    border: none;\n",
              "    border-radius: 50%;\n",
              "    cursor: pointer;\n",
              "    display: none;\n",
              "    fill: #1967D2;\n",
              "    height: 32px;\n",
              "    padding: 0 0 0 0;\n",
              "    width: 32px;\n",
              "  }\n",
              "\n",
              "  .colab-df-quickchart:hover {\n",
              "    background-color: #E2EBFA;\n",
              "    box-shadow: 0px 1px 2px rgba(60, 64, 67, 0.3), 0px 1px 3px 1px rgba(60, 64, 67, 0.15);\n",
              "    fill: #174EA6;\n",
              "  }\n",
              "\n",
              "  [theme=dark] .colab-df-quickchart {\n",
              "    background-color: #3B4455;\n",
              "    fill: #D2E3FC;\n",
              "  }\n",
              "\n",
              "  [theme=dark] .colab-df-quickchart:hover {\n",
              "    background-color: #434B5C;\n",
              "    box-shadow: 0px 1px 3px 1px rgba(0, 0, 0, 0.15);\n",
              "    filter: drop-shadow(0px 1px 2px rgba(0, 0, 0, 0.3));\n",
              "    fill: #FFFFFF;\n",
              "  }\n",
              "</style>\n",
              "\n",
              "    <script>\n",
              "      async function quickchart(key) {\n",
              "        const containerElement = document.querySelector('#' + key);\n",
              "        const charts = await google.colab.kernel.invokeFunction(\n",
              "            'suggestCharts', [key], {});\n",
              "      }\n",
              "    </script>\n",
              "\n",
              "      <script>\n",
              "\n",
              "function displayQuickchartButton(domScope) {\n",
              "  let quickchartButtonEl =\n",
              "    domScope.querySelector('#df-a0d08ddd-072f-4366-98bd-73cc85b1b3d9 button.colab-df-quickchart');\n",
              "  quickchartButtonEl.style.display =\n",
              "    google.colab.kernel.accessAllowed ? 'block' : 'none';\n",
              "}\n",
              "\n",
              "        displayQuickchartButton(document);\n",
              "      </script>\n",
              "      <style>\n",
              "    .colab-df-container {\n",
              "      display:flex;\n",
              "      flex-wrap:wrap;\n",
              "      gap: 12px;\n",
              "    }\n",
              "\n",
              "    .colab-df-convert {\n",
              "      background-color: #E8F0FE;\n",
              "      border: none;\n",
              "      border-radius: 50%;\n",
              "      cursor: pointer;\n",
              "      display: none;\n",
              "      fill: #1967D2;\n",
              "      height: 32px;\n",
              "      padding: 0 0 0 0;\n",
              "      width: 32px;\n",
              "    }\n",
              "\n",
              "    .colab-df-convert:hover {\n",
              "      background-color: #E2EBFA;\n",
              "      box-shadow: 0px 1px 2px rgba(60, 64, 67, 0.3), 0px 1px 3px 1px rgba(60, 64, 67, 0.15);\n",
              "      fill: #174EA6;\n",
              "    }\n",
              "\n",
              "    [theme=dark] .colab-df-convert {\n",
              "      background-color: #3B4455;\n",
              "      fill: #D2E3FC;\n",
              "    }\n",
              "\n",
              "    [theme=dark] .colab-df-convert:hover {\n",
              "      background-color: #434B5C;\n",
              "      box-shadow: 0px 1px 3px 1px rgba(0, 0, 0, 0.15);\n",
              "      filter: drop-shadow(0px 1px 2px rgba(0, 0, 0, 0.3));\n",
              "      fill: #FFFFFF;\n",
              "    }\n",
              "  </style>\n",
              "\n",
              "      <script>\n",
              "        const buttonEl =\n",
              "          document.querySelector('#df-4ac97e67-bd70-488e-9698-9b0f6063dcae button.colab-df-convert');\n",
              "        buttonEl.style.display =\n",
              "          google.colab.kernel.accessAllowed ? 'block' : 'none';\n",
              "\n",
              "        async function convertToInteractive(key) {\n",
              "          const element = document.querySelector('#df-4ac97e67-bd70-488e-9698-9b0f6063dcae');\n",
              "          const dataTable =\n",
              "            await google.colab.kernel.invokeFunction('convertToInteractive',\n",
              "                                                     [key], {});\n",
              "          if (!dataTable) return;\n",
              "\n",
              "          const docLinkHtml = 'Like what you see? Visit the ' +\n",
              "            '<a target=\"_blank\" href=https://colab.research.google.com/notebooks/data_table.ipynb>data table notebook</a>'\n",
              "            + ' to learn more about interactive tables.';\n",
              "          element.innerHTML = '';\n",
              "          dataTable['output_type'] = 'display_data';\n",
              "          await google.colab.output.renderOutput(dataTable, element);\n",
              "          const docLink = document.createElement('div');\n",
              "          docLink.innerHTML = docLinkHtml;\n",
              "          element.appendChild(docLink);\n",
              "        }\n",
              "      </script>\n",
              "    </div>\n",
              "  </div>\n"
            ]
          },
          "metadata": {},
          "execution_count": 35
        }
      ]
    },
    {
      "cell_type": "code",
      "source": [
        "Presults(kval['pH'], kval['pH_pred']),Presults(kval['Salinity'], kval['Salinity_pred']),Presults(kval['Ammonia'], kval['Ammonia_pred'])"
      ],
      "metadata": {
        "id": "VPLgiCjO16lN",
        "colab": {
          "base_uri": "https://localhost:8080/"
        },
        "outputId": "d94de5a7-b0c4-4c58-9ee7-470b365b181d"
      },
      "execution_count": 36,
      "outputs": [
        {
          "output_type": "stream",
          "name": "stdout",
          "text": [
            "MAE 0.19436283766941637\n",
            "MSE 0.08206491986835128\n",
            "RMSE 0.28646975384558715\n",
            "MAPE 0.024628143871603135\n",
            "R2 Score 0.5206798334285867\n",
            "MAE 2.3314628491982656\n",
            "MSE 7.168582261550603\n",
            "RMSE 2.677420822648282\n",
            "MAPE 0.07339363664379818\n",
            "R2 Score 0.7760786561188798\n",
            "MAE 0.024091615436828834\n",
            "MSE 0.0010275546500111638\n",
            "RMSE 0.0320554932891566\n",
            "MAPE 14925490720390.22\n",
            "R2 Score 0.19127643286158402\n"
          ]
        },
        {
          "output_type": "execute_result",
          "data": {
            "text/plain": [
              "(None, None, None)"
            ]
          },
          "metadata": {},
          "execution_count": 36
        }
      ]
    },
    {
      "cell_type": "code",
      "source": [
        "from sklearn.linear_model import Perceptron\n",
        "from sklearn.preprocessing import PolynomialFeatures\n",
        "from scipy.optimize import fsolve"
      ],
      "metadata": {
        "id": "lA5nMtEqcq6C"
      },
      "execution_count": 37,
      "outputs": []
    },
    {
      "cell_type": "code",
      "source": [
        "validationdataframe = dataframe[dataframe[\"Date of Image\"]==\"2023-07-09\"]\n",
        "traindataframe = dataframe[dataframe[\"Date of Image\"]!=\"2023-07-09\"]\n",
        "X_new = np.array(traindataframe['WQI']).reshape(-1, 1)\n",
        "y_new = np.asarray(traindataframe[parameters])\n",
        "\n",
        "X_new_val = np.array(validationdataframe['WQI']).reshape(-1, 1)\n",
        "y_new_val = np.asarray(validationdataframe[parameters])\n"
      ],
      "metadata": {
        "id": "BGwoE7AId4vg"
      },
      "execution_count": 38,
      "outputs": []
    },
    {
      "cell_type": "code",
      "source": [
        "# y_new = np.array(dataframe['WQI'],dtype=np.float64).reshape(-1, 1).ravel()\n",
        "# X_new = np.asarray(dataframe['pH']).reshape(-1, 1)"
      ],
      "metadata": {
        "id": "UhIbRozEeQtC"
      },
      "execution_count": 39,
      "outputs": []
    },
    {
      "cell_type": "code",
      "source": [
        "X_new.shape"
      ],
      "metadata": {
        "id": "TbqxDRZtwX7o",
        "colab": {
          "base_uri": "https://localhost:8080/"
        },
        "outputId": "c9a90ea3-fb2d-4890-88a4-8899574684cc"
      },
      "execution_count": 40,
      "outputs": [
        {
          "output_type": "execute_result",
          "data": {
            "text/plain": [
              "(41, 1)"
            ]
          },
          "metadata": {},
          "execution_count": 40
        }
      ]
    },
    {
      "cell_type": "code",
      "source": [
        "y_new.shape"
      ],
      "metadata": {
        "id": "cdHX-M98jfLs",
        "colab": {
          "base_uri": "https://localhost:8080/"
        },
        "outputId": "2bdf3375-d1d5-4ad7-c460-97f2f6f93249"
      },
      "execution_count": 41,
      "outputs": [
        {
          "output_type": "execute_result",
          "data": {
            "text/plain": [
              "(41, 3)"
            ]
          },
          "metadata": {},
          "execution_count": 41
        }
      ]
    },
    {
      "cell_type": "code",
      "source": [
        "pf = PolynomialFeatures(degree = 4).fit(X_new)\n",
        "X_poly = pf.transform(X_new).astype(float)\n",
        "X_poly[0]\n",
        "regression_model = LinearRegression()\n",
        "\n",
        "regression_model.fit(X_poly, y_new)\n",
        "\n",
        "y_pred = regression_model.predict(X_poly)\n",
        "print(regression_model.coef_)\n",
        "\n",
        "mean_squared_error(y_new, y_pred, squared=False)"
      ],
      "metadata": {
        "id": "XvK8Ksoc5AiS",
        "colab": {
          "base_uri": "https://localhost:8080/"
        },
        "outputId": "cda06033-f1cb-4092-be11-b81dd9625b88"
      },
      "execution_count": 42,
      "outputs": [
        {
          "output_type": "stream",
          "name": "stdout",
          "text": [
            "[[  0.          -0.28155634  11.43904381 -20.14468049  10.22068342]\n",
            " [  0.          22.92691108 -75.24333805 150.31158332 -80.13685595]\n",
            " [  0.           0.47443262  -1.95735501   2.55676108  -1.10349891]]\n"
          ]
        },
        {
          "output_type": "execute_result",
          "data": {
            "text/plain": [
              "0.5827771802500589"
            ]
          },
          "metadata": {},
          "execution_count": 42
        }
      ]
    },
    {
      "cell_type": "code",
      "source": [
        "Y_val_pred = regression_model.predict(pf.transform(X_new_val).astype(float))"
      ],
      "metadata": {
        "id": "YI_daQaJW6mV"
      },
      "execution_count": 43,
      "outputs": []
    },
    {
      "cell_type": "code",
      "source": [
        "Presults(y_new[:,0],y_pred[:,0])\n",
        "Presults(y_new_val[:,0],Y_val_pred[:,0])\n",
        "plt.figure()\n",
        "plt.scatter(y_new_val[:,0],Y_val_pred[:,0])\n",
        "plt.show()"
      ],
      "metadata": {
        "id": "mH4ztLqdV-h7",
        "colab": {
          "base_uri": "https://localhost:8080/",
          "height": 612
        },
        "outputId": "a91970d2-cd9b-4ffe-bf71-fb9a74765bdf"
      },
      "execution_count": 44,
      "outputs": [
        {
          "output_type": "stream",
          "name": "stdout",
          "text": [
            "MAE 0.11823699540780773\n",
            "MSE 0.024812783580793547\n",
            "RMSE 0.15752074016075962\n",
            "MAPE 0.014394250598289086\n",
            "R2 Score 0.8327976862049469\n",
            "MAE 0.34734460920715066\n",
            "MSE 0.1539570704613658\n",
            "RMSE 0.3923736362975548\n",
            "MAPE 0.04329089308013987\n",
            "R2 Score -1.1515739660749893\n"
          ]
        },
        {
          "output_type": "display_data",
          "data": {
            "text/plain": [
              "<Figure size 640x480 with 1 Axes>"
            ],
            "image/png": "[encoded data removed]"
          },
          "metadata": {}
        }
      ]
    },
    {
      "cell_type": "code",
      "source": [
        "# from scipy.optimize import fsolve\n",
        "# sub_X_poly = X_poly[:3]\n",
        "# sub_y_new = y_new[:3]\n",
        "# def f(w):\n",
        "#     f = np.zeros(len(sub_X_poly))\n",
        "#     for i in range(len(f)):\n",
        "#         f[i] = X_poly[i,0] +X_poly[i,1]*w[0] +X_poly[i,2] *w[1]+\\\n",
        "#              X_poly[i,3]*w[2] + X_poly[i,4] *(w[0]**2) +X_poly[i,5]*(w[1]**2) +\\\n",
        "#              X_poly[i,6]*(w[2]**2) +X_poly[i,7]*(w[0]*w[1]) +X_poly[i,8]*(w[1]*w[2])+\\\n",
        "#              X_poly[i,9]*(w[0]*w[2]) - sub_y_new[i]\n",
        "#       # f[i] = X_poly[i,0] +X_poly[i,1]*w[0] +X_poly[i,2] *w[1]+\\\n",
        "#       #        X_poly[i,3]*w[2] + X_poly[i,4] *(w[0]**2) +X_poly[i,5]*(w[1]**2) +\\\n",
        "#       #        X_poly[i,6]*(w[2]**2) +X_poly[i,7]*(w[0]*w[1]) +X_poly[i,8]*(w[1]*w[2])+\\\n",
        "#       #        X_poly[i,9]*(w[0]*w[2]) - sub_y_new[i]\n",
        "#     return f\n",
        "# # z = fsolve(f,[1,1]); print(z)\n",
        "# # z = fsolve(f,[-2,-2]); print(z)\n",
        "# # generate an initial guess\n",
        "# initialGuess=[0,0,0]\n",
        "\n",
        "# # solve the problem\n",
        "# solutionInfo=fsolve(f,initialGuess,full_output=1)\n"
      ],
      "metadata": {
        "id": "biOFWjILt7RQ"
      },
      "execution_count": 45,
      "outputs": []
    },
    {
      "cell_type": "markdown",
      "source": [
        "# HQWI Index\n"
      ],
      "metadata": {
        "id": "ZX8liNdgiqeR"
      }
    },
    {
      "cell_type": "code",
      "source": [
        "allWQI = harmonizedWQIcalculation(dataframe[parameters])\n",
        "dataframe['HWQI'] = allWQI\n",
        "scaler3 = MinMaxScaler()\n",
        "dataframe['HWQI'] = scaler3.fit_transform(dataframe[['HWQI']]).flatten()"
      ],
      "metadata": {
        "id": "1D8eDm7Xy5NU"
      },
      "execution_count": 46,
      "outputs": []
    },
    {
      "cell_type": "code",
      "source": [
        "plt.hist(dataframe['HWQI'])"
      ],
      "metadata": {
        "id": "t3VUfmNl0-Ih",
        "colab": {
          "base_uri": "https://localhost:8080/",
          "height": 485
        },
        "outputId": "3cb07022-6ba4-4566-829e-c8f2d28de767"
      },
      "execution_count": 47,
      "outputs": [
        {
          "output_type": "execute_result",
          "data": {
            "text/plain": [
              "(array([ 4.,  3.,  1., 20.,  5., 15.,  3.,  3.,  0.,  2.]),\n",
              " array([0. , 0.1, 0.2, 0.3, 0.4, 0.5, 0.6, 0.7, 0.8, 0.9, 1. ]),\n",
              " <BarContainer object of 10 artists>)"
            ]
          },
          "metadata": {},
          "execution_count": 47
        },
        {
          "output_type": "display_data",
          "data": {
            "text/plain": [
              "<Figure size 640x480 with 1 Axes>"
            ],
            "image/png": "[encoded data removed]"
          },
          "metadata": {}
        }
      ]
    },
    {
      "cell_type": "code",
      "source": [
        "(dataframe).corrwith(dataframe['HWQI'])"
      ],
      "metadata": {
        "id": "NfV555NHy5J6",
        "colab": {
          "base_uri": "https://localhost:8080/"
        },
        "outputId": "dde6cdb1-80c6-49f1-e087-70c9322c812a"
      },
      "execution_count": 48,
      "outputs": [
        {
          "output_type": "stream",
          "name": "stderr",
          "text": [
            "<ipython-input-48-0036a586283d>:1: FutureWarning: The default value of numeric_only in DataFrame.corrwith is deprecated. In a future version, it will default to False. Select only valid columns or specify the value of numeric_only to silence this warning.\n",
            "  (dataframe).corrwith(dataframe['HWQI'])\n"
          ]
        },
        {
          "output_type": "execute_result",
          "data": {
            "text/plain": [
              "pH             0.106968\n",
              "Salinity       0.559821\n",
              "Carbonate     -0.014115\n",
              "BiCarbonate   -0.051408\n",
              "Alkalinity    -0.010036\n",
              "Hardness       0.433366\n",
              "Calcium       -0.268119\n",
              "Magnesium      0.457176\n",
              "Ammonia        0.585113\n",
              "Coincidence         NaN\n",
              "B1            -0.494090\n",
              "B10           -0.388352\n",
              "B11           -0.323860\n",
              "B12           -0.368513\n",
              "B2            -0.551185\n",
              "B3            -0.596716\n",
              "B4            -0.556939\n",
              "B5            -0.448563\n",
              "B6            -0.405611\n",
              "B7            -0.383047\n",
              "B8            -0.440615\n",
              "B8A           -0.398462\n",
              "B9            -0.454930\n",
              "WQI            0.498885\n",
              "HWQI           1.000000\n",
              "dtype: float64"
            ]
          },
          "metadata": {},
          "execution_count": 48
        }
      ]
    },
    {
      "cell_type": "code",
      "source": [
        "# predictedWQI,gtforRE = predictWQI(dataframe,\"HWQI\")\n",
        "# WQIandParameters(np.array(predictedWQI).reshape(-1, 1),gtforRE)\n",
        "# WQIandParameters(dataframe,'HWQI',predictedWQI.reshape(-1, 1),gtforRE)\n",
        "# WQIandParameters(dataframe,'HWQI',predictedWQI.reshape(-1, 1),gtforRE,scaler3)\n",
        "# WQIandParameters(np.array(dataframe['HWQI']).reshape(-1, 1),dataframe[parameters],predictedWQI.reshape(-1, 1),gtforRE)"
      ],
      "metadata": {
        "id": "WxfJWWry6eBp"
      },
      "execution_count": 49,
      "outputs": []
    },
    {
      "cell_type": "code",
      "source": [],
      "metadata": {
        "id": "7t_D5uWvJX3f"
      },
      "execution_count": 49,
      "outputs": []
    },
    {
      "cell_type": "code",
      "source": [],
      "metadata": {
        "id": "2F4vA4A7JXz5"
      },
      "execution_count": 49,
      "outputs": []
    },
    {
      "cell_type": "code",
      "source": [],
      "metadata": {
        "id": "BUqUxK3cJXxU"
      },
      "execution_count": 49,
      "outputs": []
    },
    {
      "cell_type": "code",
      "source": [],
      "metadata": {
        "id": "0AiKN_HfJXux"
      },
      "execution_count": 49,
      "outputs": []
    },
    {
      "cell_type": "code",
      "source": [],
      "metadata": {
        "id": "DOgXd5muJXsI"
      },
      "execution_count": 49,
      "outputs": []
    },
    {
      "cell_type": "code",
      "source": [
        "## Not good code"
      ],
      "metadata": {
        "id": "z0PQwPmPT9nA"
      },
      "execution_count": 50,
      "outputs": []
    },
    {
      "cell_type": "code",
      "execution_count": 51,
      "metadata": {
        "id": "DpF_xL0eQ3sn"
      },
      "outputs": [],
      "source": [
        "\n",
        "\n",
        "# #to train model to predict the WQI using band  indcies using ML\n",
        "# def WQIandBands(df1,WQI):\n",
        "#   print('-----For WQI prediction with Bands with SVR algo -----')\n",
        "#   X_test = df1.loc[df1['Date of Image'] == '2023-07-09'][['B11',\t'B12'\t,'B1',\t'B2',\t'B3',\t'B4',\t'B5',\t'B6',\t'B7',\t'B8A',\t'B8',\t'B9']]\n",
        "#   y_test = df1.loc[df1['Date of Image'] == '2023-07-09'][['pH']]\n",
        "#   X_train = df1.loc[df1['Date of Image'] != '2023-07-09'][['B11',\t'B12'\t,'B1',\t'B2',\t'B3',\t'B4',\t'B5',\t'B6',\t'B7',\t'B8A',\t'B8',\t'B9']]\n",
        "#   y_train = df1.loc[df1['Date of Image'] != '2023-07-09'][['pH']]\n",
        "#   # X_train, X_test, y_train, y_test = train_test_split(Bandsndices, WQI, test_size=0.33, random_state=42)\n",
        "#   model = SVR(kernel='rbf', C=1.0, epsilon=0.2)\n",
        "#   model.fit(X_train, y_train)\n",
        "#   prediction = model.predict(X_test)\n",
        "#   print(\"MAE\", mean_absolute_error(y_test, prediction))\n",
        "#   print(\"MSE\", mean_squared_error(y_test, prediction))\n",
        "#   print(\"RMSE\", mean_squared_error(y_test, prediction, squared=False))\n",
        "#   print(\"MAPE\", mean_absolute_percentage_error(y_test, prediction))\n",
        "#   print(\"R2 Score\", r2_score(y_test, prediction))\n",
        "#   return prediction\n",
        "\n",
        "\n",
        "# def CM(actual, predicted):\n",
        "#   fig = plt.figure()\n",
        "#   plt.scatter(actual, predicted)\n",
        "#   plt.show()\n",
        "\n",
        "# def LRegression(WQI,GT):\n",
        "#   X_train, X_test, y_train, y_test = train_test_split(WQI, GT, test_size=0.33, random_state=42)\n",
        "#   model = LinearRegression().fit(X_train, y_train)\n",
        "#   # model1 = SVR(kernel='rbf', C=1.0, epsilon=0.2).fit(X_train, y_train)\n",
        "#   # model = RandomForestRegressor(max_depth=2, random_state=0).fit(X_train, y_train)\n",
        "#   prediction = model.predict(X_test)\n",
        "#   for x,y in zip(y_test.values,prediction):\n",
        "#     print(x,'-',y)\n",
        "\n",
        "#   CM(WQI,GT)\n",
        "#   print(\"MAE\", mean_absolute_error(y_test, prediction))\n",
        "#   print(\"MSE\", mean_squared_error(y_test, prediction))\n",
        "#   print(\"RMSE\", mean_squared_error(y_test, prediction, squared=False))\n",
        "#   print(\"MAPE\", mean_absolute_percentage_error(y_test, prediction))\n",
        "#   print(\"R2 Score\", r2_score(y_test, prediction))\n",
        "#   # return model.coef_,model.intercept_\n",
        "# #to predict the parameters from WQI\n",
        "\n",
        "\n",
        "\n",
        "# def WQIandParameters(WQI,GT):\n",
        "#   print('-----For WQI with pH Regression relation-----')\n",
        "#   LRegression(WQI,GT['pH'])\n",
        "#   print('-----For WQI with Salinity  Regression relation-----')\n",
        "#   LRegression(WQI,GT['Salinity'])\n",
        "#   print('-----For WQI with Ammonia SVR relation-----')\n",
        "#   LRegression(WQI,GT['Ammonia'])\n",
        "#   return None\n",
        "\n"
      ]
    },
    {
      "cell_type": "markdown",
      "metadata": {
        "id": "ir8KVILORrAn"
      },
      "source": [
        "## WQI with only bands"
      ]
    },
    {
      "cell_type": "code",
      "execution_count": 52,
      "metadata": {
        "id": "QMdCAN1SUn8e"
      },
      "outputs": [],
      "source": [
        "# WQI = WQIcalculation(df1 ,GT1)\n",
        "# # len(WQI)\n",
        "# WQIandBands(df1,WQI)\n",
        "# WQIandParameters(np.array(WQI).reshape(-1, 1),GT)"
      ]
    },
    {
      "cell_type": "code",
      "execution_count": 52,
      "metadata": {
        "id": "L9mZXEFKCzRj"
      },
      "outputs": [],
      "source": []
    },
    {
      "cell_type": "code",
      "execution_count": 52,
      "metadata": {
        "id": "MvgCXQ7SCzEk"
      },
      "outputs": [],
      "source": []
    },
    {
      "cell_type": "code",
      "execution_count": 52,
      "metadata": {
        "id": "5peUdZ6ACzBG"
      },
      "outputs": [],
      "source": []
    },
    {
      "cell_type": "code",
      "execution_count": 52,
      "metadata": {
        "id": "Cl7F2KKUCy_B"
      },
      "outputs": [],
      "source": []
    },
    {
      "cell_type": "code",
      "execution_count": 52,
      "metadata": {
        "id": "PSJuo7abCy8o"
      },
      "outputs": [],
      "source": []
    },
    {
      "cell_type": "code",
      "execution_count": 52,
      "metadata": {
        "id": "MOLEQcrwCy6W"
      },
      "outputs": [],
      "source": []
    },
    {
      "cell_type": "code",
      "execution_count": 52,
      "metadata": {
        "id": "SoYf6tO3Cy4I"
      },
      "outputs": [],
      "source": []
    },
    {
      "cell_type": "code",
      "execution_count": 52,
      "metadata": {
        "id": "eAEEjWz3Cysh"
      },
      "outputs": [],
      "source": []
    },
    {
      "cell_type": "markdown",
      "metadata": {
        "id": "g-MohxHjSSAX"
      },
      "source": []
    },
    {
      "cell_type": "markdown",
      "metadata": {
        "id": "afH5m9yvRv0E"
      },
      "source": [
        "## WQI with  top  10 combination indices"
      ]
    },
    {
      "cell_type": "code",
      "execution_count": 53,
      "metadata": {
        "id": "1ITBJ6b5_WSN"
      },
      "outputs": [],
      "source": [
        "#   corrwithWQI = newdf.corrwith(newdf['WQI_cal'])\n",
        "# type(corrwithWQI)\n",
        "# corrdict  = corrwithWQI.to_dict()\n",
        "# sortedkeys = sorted(corrdict, key=corrdict.get, reverse=True)\n",
        "# for r in sortedkeys[:11]:\n",
        "#     print(r, corrdict[r])"
      ]
    },
    {
      "cell_type": "code",
      "execution_count": 54,
      "metadata": {
        "id": "37Puh-UjC5U9"
      },
      "outputs": [],
      "source": [
        "# newtraindf = newdf[sortedkeys].drop('WQI_cal',axis = 1)\n",
        "# scaler = StandardScaler()\n",
        "# scaler.fit(newtraindf)\n",
        "# newscaledtraindf = scaler.transform(newtraindf)\n",
        "# WQIandBands(newscaledtraindf,WQI)"
      ]
    },
    {
      "cell_type": "code",
      "execution_count": 55,
      "metadata": {
        "id": "mF5NvxzBFwM-"
      },
      "outputs": [],
      "source": [
        "# plt.scatter(df['norm_NarrowNIR_SWIR1'],df['WQI_cal'])\n",
        "# plt.scatter(df['norm_NarrowNIR_SWIR2'],df['WQI_cal'])\n",
        "# plt.scatter(df['norm_WaterVapour_SWIR2'],df['WQI_cal'])"
      ]
    },
    {
      "cell_type": "markdown",
      "metadata": {
        "id": "5sjQ6U5pScCF"
      },
      "source": [
        "## WQI with  PCA 3 bands"
      ]
    }
  ],
  "metadata": {
    "colab": {
      "provenance": []
    },
    "kernelspec": {
      "display_name": "base",
      "language": "python",
      "name": "base"
    },
    "language_info": {
      "codemirror_mode": {
        "name": "ipython",
        "version": 3
      },
      "file_extension": ".py",
      "mimetype": "text/x-python",
      "name": "python",
      "nbconvert_exporter": "python",
      "pygments_lexer": "ipython3",
      "version": "3.9.13"
    }
  },
  "nbformat": 4,
  "nbformat_minor": 0
}
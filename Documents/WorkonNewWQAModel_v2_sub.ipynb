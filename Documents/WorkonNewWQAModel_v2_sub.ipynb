{
  "cells": [
    {
      "cell_type": "code",
      "source": [
        "from google.colab import drive\n",
        "drive.mount('/content/drive')"
      ],
      "metadata": {
        "colab": {
          "base_uri": "https://localhost:8080/"
        },
        "id": "cY8jdrRQTNmB",
        "outputId": "7820678d-c0bb-4467-ed46-4a4e8ca23dae"
      },
      "execution_count": 1,
      "outputs": [
        {
          "output_type": "stream",
          "name": "stdout",
          "text": [
            "Mounted at /content/drive\n"
          ]
        }
      ]
    },
    {
      "cell_type": "code",
      "execution_count": 2,
      "metadata": {
        "id": "gL8IylRfU_mL"
      },
      "outputs": [],
      "source": [
        "import pandas as pd\n",
        "import seaborn as sns\n",
        "import matplotlib.pyplot as plt\n",
        "import numpy as np\n",
        "import seaborn as sns\n",
        "from sklearn.model_selection import train_test_split, cross_val_score, cross_validate\n",
        "from sklearn.svm import SVR\n",
        "from sklearn.neural_network import MLPRegressor\n",
        "from sklearn.linear_model import LinearRegression\n",
        "from sklearn.decomposition import PCA\n",
        "import itertools\n",
        "from sklearn.metrics import mean_squared_error, r2_score, mean_absolute_error, mean_absolute_percentage_error\n",
        "from sklearn.model_selection import cross_val_score,KFold\n",
        "from sklearn.linear_model import LinearRegression\n",
        "from sklearn.metrics import make_scorer, mean_absolute_error, r2_score, confusion_matrix,ConfusionMatrixDisplay\n",
        "import numpy as np\n",
        "import xgboost as xgb\n",
        "from sklearn.ensemble import RandomForestRegressor\n",
        "from sklearn.preprocessing import StandardScaler,MinMaxScaler\n",
        "from itertools import combinations\n",
        "import statistics\n",
        "import math"
      ]
    },
    {
      "cell_type": "code",
      "execution_count": 3,
      "metadata": {
        "id": "ZRXP4L9w7BLA"
      },
      "outputs": [],
      "source": [
        "# dataframe = pd.read_csv('/content/drive/MyDrive/WQA_data/Asian_site_ard2.csv')\n",
        "dataframe = pd.read_csv('/content/drive/MyDrive/WQA_data/AvantiCombined_NSR.csv')\n",
        "# dataframe = pd.read_csv('/content/drive/MyDrive/WQA_data/AvantiCombined_SR.csv')\n",
        "dataframe = dataframe[dataframe[\"Coincidence\"] < 1].reset_index()\n",
        "dataframe = dataframe.drop(columns=[\"index\"])\n",
        "dataframe = dataframe[dataframe['Salinity']>20]"
      ]
    },
    {
      "cell_type": "code",
      "execution_count": 4,
      "metadata": {
        "id": "Pb1V9w7ISFs5"
      },
      "outputs": [],
      "source": [
        "tempdf = pd.DataFrame()\n",
        "tempdf['Tmean'] = dataframe[['pH','Salinity','Ammonia']].mean()\n",
        "tempdf['Tstd'] = dataframe[['pH','Salinity','Ammonia']].std()\n",
        "for date in dataframe['Date of Image'].unique():\n",
        "  df = dataframe.loc[dataframe['Date of Image'] == date]\n",
        "  tempdf[f'{date}_mean'] = df[['pH','Salinity','Ammonia']].mean()\n",
        "  tempdf[f'{date}_std'] = df[['pH','Salinity','Ammonia']].std()"
      ]
    },
    {
      "cell_type": "code",
      "source": [
        "tempdf"
      ],
      "metadata": {
        "colab": {
          "base_uri": "https://localhost:8080/",
          "height": 205
        },
        "id": "nsbf_YtNnfiC",
        "outputId": "17fdd790-f49e-44ab-de8d-3e692d3bb68f"
      },
      "execution_count": 5,
      "outputs": [
        {
          "output_type": "execute_result",
          "data": {
            "text/plain": [
              "              Tmean      Tstd  2022-07-14_mean  2022-07-14_std  \\\n",
              "pH         8.205357  0.361522            8.600        0.106904   \n",
              "Salinity  33.678571  6.390638           37.875        1.807722   \n",
              "Ammonia    0.043750  0.032784            0.000        0.000000   \n",
              "\n",
              "          2022-09-12_mean  2022-09-12_std  2023-04-25_mean  2023-04-25_std  \\\n",
              "pH                8.43750        0.170783           7.6250        0.150000   \n",
              "Salinity         35.56250        3.898183          26.0000        3.366502   \n",
              "Ammonia           0.02625        0.015438           0.0275        0.009574   \n",
              "\n",
              "          2023-05-30_mean  2023-05-30_std  2023-07-09_mean  2023-07-09_std  \n",
              "pH               7.900000        0.264575         8.166667        0.276887  \n",
              "Salinity        24.923077        1.754116        39.066667        2.051712  \n",
              "Ammonia          0.074615        0.025038         0.063333        0.024398  "
            ],
            "text/html": [
              "\n",
              "\n",
              "  <div id=\"df-31849302-70af-4a02-8e90-a3d5535c5e6a\">\n",
              "    <div class=\"colab-df-container\">\n",
              "      <div>\n",
              "<style scoped>\n",
              "    .dataframe tbody tr th:only-of-type {\n",
              "        vertical-align: middle;\n",
              "    }\n",
              "\n",
              "    .dataframe tbody tr th {\n",
              "        vertical-align: top;\n",
              "    }\n",
              "\n",
              "    .dataframe thead th {\n",
              "        text-align: right;\n",
              "    }\n",
              "</style>\n",
              "<table border=\"1\" class=\"dataframe\">\n",
              "  <thead>\n",
              "    <tr style=\"text-align: right;\">\n",
              "      <th></th>\n",
              "      <th>Tmean</th>\n",
              "      <th>Tstd</th>\n",
              "      <th>2022-07-14_mean</th>\n",
              "      <th>2022-07-14_std</th>\n",
              "      <th>2022-09-12_mean</th>\n",
              "      <th>2022-09-12_std</th>\n",
              "      <th>2023-04-25_mean</th>\n",
              "      <th>2023-04-25_std</th>\n",
              "      <th>2023-05-30_mean</th>\n",
              "      <th>2023-05-30_std</th>\n",
              "      <th>2023-07-09_mean</th>\n",
              "      <th>2023-07-09_std</th>\n",
              "    </tr>\n",
              "  </thead>\n",
              "  <tbody>\n",
              "    <tr>\n",
              "      <th>pH</th>\n",
              "      <td>8.205357</td>\n",
              "      <td>0.361522</td>\n",
              "      <td>8.600</td>\n",
              "      <td>0.106904</td>\n",
              "      <td>8.43750</td>\n",
              "      <td>0.170783</td>\n",
              "      <td>7.6250</td>\n",
              "      <td>0.150000</td>\n",
              "      <td>7.900000</td>\n",
              "      <td>0.264575</td>\n",
              "      <td>8.166667</td>\n",
              "      <td>0.276887</td>\n",
              "    </tr>\n",
              "    <tr>\n",
              "      <th>Salinity</th>\n",
              "      <td>33.678571</td>\n",
              "      <td>6.390638</td>\n",
              "      <td>37.875</td>\n",
              "      <td>1.807722</td>\n",
              "      <td>35.56250</td>\n",
              "      <td>3.898183</td>\n",
              "      <td>26.0000</td>\n",
              "      <td>3.366502</td>\n",
              "      <td>24.923077</td>\n",
              "      <td>1.754116</td>\n",
              "      <td>39.066667</td>\n",
              "      <td>2.051712</td>\n",
              "    </tr>\n",
              "    <tr>\n",
              "      <th>Ammonia</th>\n",
              "      <td>0.043750</td>\n",
              "      <td>0.032784</td>\n",
              "      <td>0.000</td>\n",
              "      <td>0.000000</td>\n",
              "      <td>0.02625</td>\n",
              "      <td>0.015438</td>\n",
              "      <td>0.0275</td>\n",
              "      <td>0.009574</td>\n",
              "      <td>0.074615</td>\n",
              "      <td>0.025038</td>\n",
              "      <td>0.063333</td>\n",
              "      <td>0.024398</td>\n",
              "    </tr>\n",
              "  </tbody>\n",
              "</table>\n",
              "</div>\n",
              "      <button class=\"colab-df-convert\" onclick=\"convertToInteractive('df-31849302-70af-4a02-8e90-a3d5535c5e6a')\"\n",
              "              title=\"Convert this dataframe to an interactive table.\"\n",
              "              style=\"display:none;\">\n",
              "\n",
              "  <svg xmlns=\"http://www.w3.org/2000/svg\" height=\"24px\"viewBox=\"0 0 24 24\"\n",
              "       width=\"24px\">\n",
              "    <path d=\"M0 0h24v24H0V0z\" fill=\"none\"/>\n",
              "    <path d=\"M18.56 5.44l.94 2.06.94-2.06 2.06-.94-2.06-.94-.94-2.06-.94 2.06-2.06.94zm-11 1L8.5 8.5l.94-2.06 2.06-.94-2.06-.94L8.5 2.5l-.94 2.06-2.06.94zm10 10l.94 2.06.94-2.06 2.06-.94-2.06-.94-.94-2.06-.94 2.06-2.06.94z\"/><path d=\"M17.41 7.96l-1.37-1.37c-.4-.4-.92-.59-1.43-.59-.52 0-1.04.2-1.43.59L10.3 9.45l-7.72 7.72c-.78.78-.78 2.05 0 2.83L4 21.41c.39.39.9.59 1.41.59.51 0 1.02-.2 1.41-.59l7.78-7.78 2.81-2.81c.8-.78.8-2.07 0-2.86zM5.41 20L4 18.59l7.72-7.72 1.47 1.35L5.41 20z\"/>\n",
              "  </svg>\n",
              "      </button>\n",
              "\n",
              "\n",
              "\n",
              "    <div id=\"df-611a120d-7c32-4c53-9d61-f3a2559b3e2c\">\n",
              "      <button class=\"colab-df-quickchart\" onclick=\"quickchart('df-611a120d-7c32-4c53-9d61-f3a2559b3e2c')\"\n",
              "              title=\"Suggest charts.\"\n",
              "              style=\"display:none;\">\n",
              "\n",
              "<svg xmlns=\"http://www.w3.org/2000/svg\" height=\"24px\"viewBox=\"0 0 24 24\"\n",
              "     width=\"24px\">\n",
              "    <g>\n",
              "        <path d=\"M19 3H5c-1.1 0-2 .9-2 2v14c0 1.1.9 2 2 2h14c1.1 0 2-.9 2-2V5c0-1.1-.9-2-2-2zM9 17H7v-7h2v7zm4 0h-2V7h2v10zm4 0h-2v-4h2v4z\"/>\n",
              "    </g>\n",
              "</svg>\n",
              "      </button>\n",
              "    </div>\n",
              "\n",
              "<style>\n",
              "  .colab-df-quickchart {\n",
              "    background-color: #E8F0FE;\n",
              "    border: none;\n",
              "    border-radius: 50%;\n",
              "    cursor: pointer;\n",
              "    display: none;\n",
              "    fill: #1967D2;\n",
              "    height: 32px;\n",
              "    padding: 0 0 0 0;\n",
              "    width: 32px;\n",
              "  }\n",
              "\n",
              "  .colab-df-quickchart:hover {\n",
              "    background-color: #E2EBFA;\n",
              "    box-shadow: 0px 1px 2px rgba(60, 64, 67, 0.3), 0px 1px 3px 1px rgba(60, 64, 67, 0.15);\n",
              "    fill: #174EA6;\n",
              "  }\n",
              "\n",
              "  [theme=dark] .colab-df-quickchart {\n",
              "    background-color: #3B4455;\n",
              "    fill: #D2E3FC;\n",
              "  }\n",
              "\n",
              "  [theme=dark] .colab-df-quickchart:hover {\n",
              "    background-color: #434B5C;\n",
              "    box-shadow: 0px 1px 3px 1px rgba(0, 0, 0, 0.15);\n",
              "    filter: drop-shadow(0px 1px 2px rgba(0, 0, 0, 0.3));\n",
              "    fill: #FFFFFF;\n",
              "  }\n",
              "</style>\n",
              "\n",
              "    <script>\n",
              "      async function quickchart(key) {\n",
              "        const containerElement = document.querySelector('#' + key);\n",
              "        const charts = await google.colab.kernel.invokeFunction(\n",
              "            'suggestCharts', [key], {});\n",
              "      }\n",
              "    </script>\n",
              "\n",
              "      <script>\n",
              "\n",
              "function displayQuickchartButton(domScope) {\n",
              "  let quickchartButtonEl =\n",
              "    domScope.querySelector('#df-611a120d-7c32-4c53-9d61-f3a2559b3e2c button.colab-df-quickchart');\n",
              "  quickchartButtonEl.style.display =\n",
              "    google.colab.kernel.accessAllowed ? 'block' : 'none';\n",
              "}\n",
              "\n",
              "        displayQuickchartButton(document);\n",
              "      </script>\n",
              "      <style>\n",
              "    .colab-df-container {\n",
              "      display:flex;\n",
              "      flex-wrap:wrap;\n",
              "      gap: 12px;\n",
              "    }\n",
              "\n",
              "    .colab-df-convert {\n",
              "      background-color: #E8F0FE;\n",
              "      border: none;\n",
              "      border-radius: 50%;\n",
              "      cursor: pointer;\n",
              "      display: none;\n",
              "      fill: #1967D2;\n",
              "      height: 32px;\n",
              "      padding: 0 0 0 0;\n",
              "      width: 32px;\n",
              "    }\n",
              "\n",
              "    .colab-df-convert:hover {\n",
              "      background-color: #E2EBFA;\n",
              "      box-shadow: 0px 1px 2px rgba(60, 64, 67, 0.3), 0px 1px 3px 1px rgba(60, 64, 67, 0.15);\n",
              "      fill: #174EA6;\n",
              "    }\n",
              "\n",
              "    [theme=dark] .colab-df-convert {\n",
              "      background-color: #3B4455;\n",
              "      fill: #D2E3FC;\n",
              "    }\n",
              "\n",
              "    [theme=dark] .colab-df-convert:hover {\n",
              "      background-color: #434B5C;\n",
              "      box-shadow: 0px 1px 3px 1px rgba(0, 0, 0, 0.15);\n",
              "      filter: drop-shadow(0px 1px 2px rgba(0, 0, 0, 0.3));\n",
              "      fill: #FFFFFF;\n",
              "    }\n",
              "  </style>\n",
              "\n",
              "      <script>\n",
              "        const buttonEl =\n",
              "          document.querySelector('#df-31849302-70af-4a02-8e90-a3d5535c5e6a button.colab-df-convert');\n",
              "        buttonEl.style.display =\n",
              "          google.colab.kernel.accessAllowed ? 'block' : 'none';\n",
              "\n",
              "        async function convertToInteractive(key) {\n",
              "          const element = document.querySelector('#df-31849302-70af-4a02-8e90-a3d5535c5e6a');\n",
              "          const dataTable =\n",
              "            await google.colab.kernel.invokeFunction('convertToInteractive',\n",
              "                                                     [key], {});\n",
              "          if (!dataTable) return;\n",
              "\n",
              "          const docLinkHtml = 'Like what you see? Visit the ' +\n",
              "            '<a target=\"_blank\" href=https://colab.research.google.com/notebooks/data_table.ipynb>data table notebook</a>'\n",
              "            + ' to learn more about interactive tables.';\n",
              "          element.innerHTML = '';\n",
              "          dataTable['output_type'] = 'display_data';\n",
              "          await google.colab.output.renderOutput(dataTable, element);\n",
              "          const docLink = document.createElement('div');\n",
              "          docLink.innerHTML = docLinkHtml;\n",
              "          element.appendChild(docLink);\n",
              "        }\n",
              "      </script>\n",
              "    </div>\n",
              "  </div>\n"
            ]
          },
          "metadata": {},
          "execution_count": 5
        }
      ]
    },
    {
      "cell_type": "code",
      "source": [
        "dataframe.head()"
      ],
      "metadata": {
        "colab": {
          "base_uri": "https://localhost:8080/",
          "height": 235
        },
        "id": "rtc5RveLfbG3",
        "outputId": "8348ef77-9b1e-4924-da37-28449da5ef5d"
      },
      "execution_count": 6,
      "outputs": [
        {
          "output_type": "execute_result",
          "data": {
            "text/plain": [
              "           PondID   pH  Salinity  Carbonate  BiCarbonate  Alkalinity  \\\n",
              "0  TUPILIPALEM_A2  8.4        35         30          120         150   \n",
              "1  TUPILIPALEM_A3  8.7        38         40          120         160   \n",
              "2  TUPILIPALEM_A4  8.7        39         40          110         150   \n",
              "3  TUPILIPALEM_A5  8.7        40         40          120         160   \n",
              "4  TUPILIPALEM_B2  8.6        36         50          110         160   \n",
              "\n",
              "   Hardness  Calcium  Magnesium  Ammonia  ...  B12    B2    B3    B4    B5  \\\n",
              "0      6300      388       1296      0.0  ...  612  1253  1154   919  1025   \n",
              "1      6800      472       1471      0.0  ...  484  1179  1065   794   854   \n",
              "2      6960      482       1488      0.0  ...  432  1114   969   708   779   \n",
              "3      7100      488       1491      0.0  ...  524  1127   950   798   734   \n",
              "4      6200      378       1302      0.0  ...  710  1236  1162  1108  1114   \n",
              "\n",
              "     B6    B7   B8   B8A   B9  \n",
              "0  1059  1171  920  1188  165  \n",
              "1   918  1042  737   993  131  \n",
              "2   727   825  641   897  170  \n",
              "3   844   963  614   952  157  \n",
              "4  1217  1268  828  1254  169  \n",
              "\n",
              "[5 rows x 26 columns]"
            ],
            "text/html": [
              "\n",
              "\n",
              "  <div id=\"df-eccc7356-2bde-4042-9800-d1742264790c\">\n",
              "    <div class=\"colab-df-container\">\n",
              "      <div>\n",
              "<style scoped>\n",
              "    .dataframe tbody tr th:only-of-type {\n",
              "        vertical-align: middle;\n",
              "    }\n",
              "\n",
              "    .dataframe tbody tr th {\n",
              "        vertical-align: top;\n",
              "    }\n",
              "\n",
              "    .dataframe thead th {\n",
              "        text-align: right;\n",
              "    }\n",
              "</style>\n",
              "<table border=\"1\" class=\"dataframe\">\n",
              "  <thead>\n",
              "    <tr style=\"text-align: right;\">\n",
              "      <th></th>\n",
              "      <th>PondID</th>\n",
              "      <th>pH</th>\n",
              "      <th>Salinity</th>\n",
              "      <th>Carbonate</th>\n",
              "      <th>BiCarbonate</th>\n",
              "      <th>Alkalinity</th>\n",
              "      <th>Hardness</th>\n",
              "      <th>Calcium</th>\n",
              "      <th>Magnesium</th>\n",
              "      <th>Ammonia</th>\n",
              "      <th>...</th>\n",
              "      <th>B12</th>\n",
              "      <th>B2</th>\n",
              "      <th>B3</th>\n",
              "      <th>B4</th>\n",
              "      <th>B5</th>\n",
              "      <th>B6</th>\n",
              "      <th>B7</th>\n",
              "      <th>B8</th>\n",
              "      <th>B8A</th>\n",
              "      <th>B9</th>\n",
              "    </tr>\n",
              "  </thead>\n",
              "  <tbody>\n",
              "    <tr>\n",
              "      <th>0</th>\n",
              "      <td>TUPILIPALEM_A2</td>\n",
              "      <td>8.4</td>\n",
              "      <td>35</td>\n",
              "      <td>30</td>\n",
              "      <td>120</td>\n",
              "      <td>150</td>\n",
              "      <td>6300</td>\n",
              "      <td>388</td>\n",
              "      <td>1296</td>\n",
              "      <td>0.0</td>\n",
              "      <td>...</td>\n",
              "      <td>612</td>\n",
              "      <td>1253</td>\n",
              "      <td>1154</td>\n",
              "      <td>919</td>\n",
              "      <td>1025</td>\n",
              "      <td>1059</td>\n",
              "      <td>1171</td>\n",
              "      <td>920</td>\n",
              "      <td>1188</td>\n",
              "      <td>165</td>\n",
              "    </tr>\n",
              "    <tr>\n",
              "      <th>1</th>\n",
              "      <td>TUPILIPALEM_A3</td>\n",
              "      <td>8.7</td>\n",
              "      <td>38</td>\n",
              "      <td>40</td>\n",
              "      <td>120</td>\n",
              "      <td>160</td>\n",
              "      <td>6800</td>\n",
              "      <td>472</td>\n",
              "      <td>1471</td>\n",
              "      <td>0.0</td>\n",
              "      <td>...</td>\n",
              "      <td>484</td>\n",
              "      <td>1179</td>\n",
              "      <td>1065</td>\n",
              "      <td>794</td>\n",
              "      <td>854</td>\n",
              "      <td>918</td>\n",
              "      <td>1042</td>\n",
              "      <td>737</td>\n",
              "      <td>993</td>\n",
              "      <td>131</td>\n",
              "    </tr>\n",
              "    <tr>\n",
              "      <th>2</th>\n",
              "      <td>TUPILIPALEM_A4</td>\n",
              "      <td>8.7</td>\n",
              "      <td>39</td>\n",
              "      <td>40</td>\n",
              "      <td>110</td>\n",
              "      <td>150</td>\n",
              "      <td>6960</td>\n",
              "      <td>482</td>\n",
              "      <td>1488</td>\n",
              "      <td>0.0</td>\n",
              "      <td>...</td>\n",
              "      <td>432</td>\n",
              "      <td>1114</td>\n",
              "      <td>969</td>\n",
              "      <td>708</td>\n",
              "      <td>779</td>\n",
              "      <td>727</td>\n",
              "      <td>825</td>\n",
              "      <td>641</td>\n",
              "      <td>897</td>\n",
              "      <td>170</td>\n",
              "    </tr>\n",
              "    <tr>\n",
              "      <th>3</th>\n",
              "      <td>TUPILIPALEM_A5</td>\n",
              "      <td>8.7</td>\n",
              "      <td>40</td>\n",
              "      <td>40</td>\n",
              "      <td>120</td>\n",
              "      <td>160</td>\n",
              "      <td>7100</td>\n",
              "      <td>488</td>\n",
              "      <td>1491</td>\n",
              "      <td>0.0</td>\n",
              "      <td>...</td>\n",
              "      <td>524</td>\n",
              "      <td>1127</td>\n",
              "      <td>950</td>\n",
              "      <td>798</td>\n",
              "      <td>734</td>\n",
              "      <td>844</td>\n",
              "      <td>963</td>\n",
              "      <td>614</td>\n",
              "      <td>952</td>\n",
              "      <td>157</td>\n",
              "    </tr>\n",
              "    <tr>\n",
              "      <th>4</th>\n",
              "      <td>TUPILIPALEM_B2</td>\n",
              "      <td>8.6</td>\n",
              "      <td>36</td>\n",
              "      <td>50</td>\n",
              "      <td>110</td>\n",
              "      <td>160</td>\n",
              "      <td>6200</td>\n",
              "      <td>378</td>\n",
              "      <td>1302</td>\n",
              "      <td>0.0</td>\n",
              "      <td>...</td>\n",
              "      <td>710</td>\n",
              "      <td>1236</td>\n",
              "      <td>1162</td>\n",
              "      <td>1108</td>\n",
              "      <td>1114</td>\n",
              "      <td>1217</td>\n",
              "      <td>1268</td>\n",
              "      <td>828</td>\n",
              "      <td>1254</td>\n",
              "      <td>169</td>\n",
              "    </tr>\n",
              "  </tbody>\n",
              "</table>\n",
              "<p>5 rows × 26 columns</p>\n",
              "</div>\n",
              "      <button class=\"colab-df-convert\" onclick=\"convertToInteractive('df-eccc7356-2bde-4042-9800-d1742264790c')\"\n",
              "              title=\"Convert this dataframe to an interactive table.\"\n",
              "              style=\"display:none;\">\n",
              "\n",
              "  <svg xmlns=\"http://www.w3.org/2000/svg\" height=\"24px\"viewBox=\"0 0 24 24\"\n",
              "       width=\"24px\">\n",
              "    <path d=\"M0 0h24v24H0V0z\" fill=\"none\"/>\n",
              "    <path d=\"M18.56 5.44l.94 2.06.94-2.06 2.06-.94-2.06-.94-.94-2.06-.94 2.06-2.06.94zm-11 1L8.5 8.5l.94-2.06 2.06-.94-2.06-.94L8.5 2.5l-.94 2.06-2.06.94zm10 10l.94 2.06.94-2.06 2.06-.94-2.06-.94-.94-2.06-.94 2.06-2.06.94z\"/><path d=\"M17.41 7.96l-1.37-1.37c-.4-.4-.92-.59-1.43-.59-.52 0-1.04.2-1.43.59L10.3 9.45l-7.72 7.72c-.78.78-.78 2.05 0 2.83L4 21.41c.39.39.9.59 1.41.59.51 0 1.02-.2 1.41-.59l7.78-7.78 2.81-2.81c.8-.78.8-2.07 0-2.86zM5.41 20L4 18.59l7.72-7.72 1.47 1.35L5.41 20z\"/>\n",
              "  </svg>\n",
              "      </button>\n",
              "\n",
              "\n",
              "\n",
              "    <div id=\"df-b726d730-81a8-49b6-ba02-88ef988763c9\">\n",
              "      <button class=\"colab-df-quickchart\" onclick=\"quickchart('df-b726d730-81a8-49b6-ba02-88ef988763c9')\"\n",
              "              title=\"Suggest charts.\"\n",
              "              style=\"display:none;\">\n",
              "\n",
              "<svg xmlns=\"http://www.w3.org/2000/svg\" height=\"24px\"viewBox=\"0 0 24 24\"\n",
              "     width=\"24px\">\n",
              "    <g>\n",
              "        <path d=\"M19 3H5c-1.1 0-2 .9-2 2v14c0 1.1.9 2 2 2h14c1.1 0 2-.9 2-2V5c0-1.1-.9-2-2-2zM9 17H7v-7h2v7zm4 0h-2V7h2v10zm4 0h-2v-4h2v4z\"/>\n",
              "    </g>\n",
              "</svg>\n",
              "      </button>\n",
              "    </div>\n",
              "\n",
              "<style>\n",
              "  .colab-df-quickchart {\n",
              "    background-color: #E8F0FE;\n",
              "    border: none;\n",
              "    border-radius: 50%;\n",
              "    cursor: pointer;\n",
              "    display: none;\n",
              "    fill: #1967D2;\n",
              "    height: 32px;\n",
              "    padding: 0 0 0 0;\n",
              "    width: 32px;\n",
              "  }\n",
              "\n",
              "  .colab-df-quickchart:hover {\n",
              "    background-color: #E2EBFA;\n",
              "    box-shadow: 0px 1px 2px rgba(60, 64, 67, 0.3), 0px 1px 3px 1px rgba(60, 64, 67, 0.15);\n",
              "    fill: #174EA6;\n",
              "  }\n",
              "\n",
              "  [theme=dark] .colab-df-quickchart {\n",
              "    background-color: #3B4455;\n",
              "    fill: #D2E3FC;\n",
              "  }\n",
              "\n",
              "  [theme=dark] .colab-df-quickchart:hover {\n",
              "    background-color: #434B5C;\n",
              "    box-shadow: 0px 1px 3px 1px rgba(0, 0, 0, 0.15);\n",
              "    filter: drop-shadow(0px 1px 2px rgba(0, 0, 0, 0.3));\n",
              "    fill: #FFFFFF;\n",
              "  }\n",
              "</style>\n",
              "\n",
              "    <script>\n",
              "      async function quickchart(key) {\n",
              "        const containerElement = document.querySelector('#' + key);\n",
              "        const charts = await google.colab.kernel.invokeFunction(\n",
              "            'suggestCharts', [key], {});\n",
              "      }\n",
              "    </script>\n",
              "\n",
              "      <script>\n",
              "\n",
              "function displayQuickchartButton(domScope) {\n",
              "  let quickchartButtonEl =\n",
              "    domScope.querySelector('#df-b726d730-81a8-49b6-ba02-88ef988763c9 button.colab-df-quickchart');\n",
              "  quickchartButtonEl.style.display =\n",
              "    google.colab.kernel.accessAllowed ? 'block' : 'none';\n",
              "}\n",
              "\n",
              "        displayQuickchartButton(document);\n",
              "      </script>\n",
              "      <style>\n",
              "    .colab-df-container {\n",
              "      display:flex;\n",
              "      flex-wrap:wrap;\n",
              "      gap: 12px;\n",
              "    }\n",
              "\n",
              "    .colab-df-convert {\n",
              "      background-color: #E8F0FE;\n",
              "      border: none;\n",
              "      border-radius: 50%;\n",
              "      cursor: pointer;\n",
              "      display: none;\n",
              "      fill: #1967D2;\n",
              "      height: 32px;\n",
              "      padding: 0 0 0 0;\n",
              "      width: 32px;\n",
              "    }\n",
              "\n",
              "    .colab-df-convert:hover {\n",
              "      background-color: #E2EBFA;\n",
              "      box-shadow: 0px 1px 2px rgba(60, 64, 67, 0.3), 0px 1px 3px 1px rgba(60, 64, 67, 0.15);\n",
              "      fill: #174EA6;\n",
              "    }\n",
              "\n",
              "    [theme=dark] .colab-df-convert {\n",
              "      background-color: #3B4455;\n",
              "      fill: #D2E3FC;\n",
              "    }\n",
              "\n",
              "    [theme=dark] .colab-df-convert:hover {\n",
              "      background-color: #434B5C;\n",
              "      box-shadow: 0px 1px 3px 1px rgba(0, 0, 0, 0.15);\n",
              "      filter: drop-shadow(0px 1px 2px rgba(0, 0, 0, 0.3));\n",
              "      fill: #FFFFFF;\n",
              "    }\n",
              "  </style>\n",
              "\n",
              "      <script>\n",
              "        const buttonEl =\n",
              "          document.querySelector('#df-eccc7356-2bde-4042-9800-d1742264790c button.colab-df-convert');\n",
              "        buttonEl.style.display =\n",
              "          google.colab.kernel.accessAllowed ? 'block' : 'none';\n",
              "\n",
              "        async function convertToInteractive(key) {\n",
              "          const element = document.querySelector('#df-eccc7356-2bde-4042-9800-d1742264790c');\n",
              "          const dataTable =\n",
              "            await google.colab.kernel.invokeFunction('convertToInteractive',\n",
              "                                                     [key], {});\n",
              "          if (!dataTable) return;\n",
              "\n",
              "          const docLinkHtml = 'Like what you see? Visit the ' +\n",
              "            '<a target=\"_blank\" href=https://colab.research.google.com/notebooks/data_table.ipynb>data table notebook</a>'\n",
              "            + ' to learn more about interactive tables.';\n",
              "          element.innerHTML = '';\n",
              "          dataTable['output_type'] = 'display_data';\n",
              "          await google.colab.output.renderOutput(dataTable, element);\n",
              "          const docLink = document.createElement('div');\n",
              "          docLink.innerHTML = docLinkHtml;\n",
              "          element.appendChild(docLink);\n",
              "        }\n",
              "      </script>\n",
              "    </div>\n",
              "  </div>\n"
            ]
          },
          "metadata": {},
          "execution_count": 6
        }
      ]
    },
    {
      "cell_type": "code",
      "execution_count": 7,
      "metadata": {
        "colab": {
          "base_uri": "https://localhost:8080/"
        },
        "id": "c6ECWW42SFs7",
        "outputId": "002320ab-c848-41bb-bda6-0eefbbffdc69"
      },
      "outputs": [
        {
          "output_type": "stream",
          "name": "stdout",
          "text": [
            "pH Minimum Value: 7.5\n",
            "Salinity Minimum Value: 22\n"
          ]
        }
      ],
      "source": [
        "print(\"pH Minimum Value:\", dataframe[\"pH\"].min())\n",
        "print(\"Salinity Minimum Value:\", dataframe[\"Salinity\"].min())"
      ]
    },
    {
      "cell_type": "code",
      "execution_count": 8,
      "metadata": {
        "id": "38c67PoInuwS"
      },
      "outputs": [],
      "source": [
        "bands = ['B1', 'B2', 'B3', 'B4', 'B5', 'B6', 'B7', 'B8', 'B8A', 'B9', 'B11', 'B12']\n",
        "wavelengths = [442.7,\t492.4,559.8,664.6,704.1,740.5,782.8,832.8,864.7,945.1,1373.5,1613.7,2202.4]\n",
        "parameters = [\"pH\", \"Salinity\", \"Ammonia\"]"
      ]
    },
    {
      "cell_type": "code",
      "execution_count": 9,
      "metadata": {
        "colab": {
          "base_uri": "https://localhost:8080/"
        },
        "id": "giEqGV0LSFs9",
        "outputId": "e5204aab-5c5d-4183-c2a2-ab6e03591c98"
      },
      "outputs": [
        {
          "output_type": "execute_result",
          "data": {
            "text/plain": [
              "pH          0.042532\n",
              "Salinity    0.142014\n",
              "Ammonia     0.065567\n",
              "dtype: float64"
            ]
          },
          "metadata": {},
          "execution_count": 9
        }
      ],
      "source": [
        "dataframe[[\"pH\", \"Salinity\", \"Ammonia\"]].std()/np.array([8.5, 45, 0.5])"
      ]
    },
    {
      "cell_type": "markdown",
      "source": [
        "## WQI calculation"
      ],
      "metadata": {
        "id": "5oRA8WjLF86b"
      }
    },
    {
      "cell_type": "code",
      "execution_count": 10,
      "metadata": {
        "id": "qDlX4-pSSFs-"
      },
      "outputs": [],
      "source": [
        "# def derivative(dataframe):\n",
        "#     banddata = dataframe[bands]\n",
        "#     for wave,band in (wavelengths,bands):\n",
        "\n",
        "\n",
        "\n",
        "#     return None\n",
        "\n",
        "def calculateWQI(parameters):\n",
        "    # order of parameters ph salinity ammonia\n",
        "    expdf = pd.DataFrame()\n",
        "    permissibleValuesParameters = np.array([8.5, 45, 0.5])\n",
        "    summ = 0\n",
        "    sumWn = 0\n",
        "    weights =   np.array([0.3,0.30,0.4]) # np.array(parameters.std()/permissibleValuesParameters)\n",
        "    weightsnormalized = weights/sum(weights)\n",
        "    for column, sn, Wn in zip(parameters.columns, permissibleValuesParameters, weightsnormalized):\n",
        "        vn = parameters[column]\n",
        "        if column==\"pH\":\n",
        "            vid = 7.5\n",
        "        elif column==\"Salinity\":\n",
        "            vid = 15\n",
        "        else:\n",
        "            vid = 0.0\n",
        "        qn = 100*(vn - vid)/(sn-vid)\n",
        "\n",
        "        summ = summ + (qn*Wn)\n",
        "        sumWn = sumWn + Wn\n",
        "    expdf['summ'] = summ\n",
        "    expdf['qn'] = qn\n",
        "    WQI = summ/sumWn\n",
        "    return WQI,expdf\n",
        "\n",
        "def bandmath(bandMatrix,WQI):\n",
        "  df = pd.DataFrame()\n",
        "  cc = list(combinations(bandMatrix.columns,2))\n",
        "  print(cc)\n",
        "  for combination in cc:\n",
        "    a = combination[0]\n",
        "    b = combination[1]\n",
        "    diffIndex = bandMatrix[a] - bandMatrix[b]\n",
        "    normlizedIndex = (bandMatrix[a] - bandMatrix[b])/bandMatrix[a] + bandMatrix[b]\n",
        "    ratioIndex = bandMatrix[a] / bandMatrix[b]\n",
        "    df[f'diff_{a}_{b}'] = diffIndex\n",
        "    df[f'norm_{a}_{b}'] = normlizedIndex\n",
        "    df[f'ratio_{a}_{b}'] = ratioIndex\n",
        "  df['WQI_cal'] = WQI\n",
        "  return  df\n",
        "\n",
        "def pca(data):\n",
        "  pca = PCA(n_components=3)\n",
        "  pca.fit(data)\n",
        "  pca_data =  pca.transform(data)\n",
        "  return  pca_data\n",
        "\n",
        "def harmonizedWQIcalculation(GT):\n",
        "  min = np.array([7.5,9,0])\n",
        "  max = np.array([8.7,43,0.12])\n",
        "  permissibleWP = np.array([8.5,45,0.5])\n",
        "  weights =  np.array(GT.std()/permissibleWP)\n",
        "  weights_norm = weights/sum(weights)\n",
        "  numP = len(weights_norm)\n",
        "  rr = max - min\n",
        "  allWQI  = np.array([])\n",
        "  n = len(GT)\n",
        "  for val in GT.values:\n",
        "    i = 0\n",
        "    Tsumm = np.array([])\n",
        "    for para in val:\n",
        "        qi =None\n",
        "        summ = 0\n",
        "        if  min[i] <= para  <= 0.10*rr[i]:\n",
        "          qi = 5\n",
        "        if  0.1*min[i] <= para  <= 0.20*rr[i]:\n",
        "          qi = 15\n",
        "        if  0.20*rr[i] <= para  <= 0.30*rr[i]:\n",
        "          qi = 25\n",
        "        if  0.30*rr[i] <= para  <= 0.40*rr[i]:\n",
        "          qi = 35\n",
        "        if  0.40*rr[i] <= para  <= 0.50*rr[i]:\n",
        "          qi = 45\n",
        "        if  0.50*rr[i] <= para  <= 0.60*rr[i]:\n",
        "          qi = 55\n",
        "        if  0.60*rr[i] <= para  <= 0.70*rr[i]:\n",
        "          qi = 65\n",
        "        if  0.70*rr[i] <= para  <= 0.80*rr[i]:\n",
        "          qi = 75\n",
        "        if  0.80*rr[i] <= para  <= 0.90*rr[i]:\n",
        "          qi = 85\n",
        "        if  0.90*rr[i] <= para  <= max[i]:\n",
        "          qi = 95\n",
        "        # print(qi,para,rr[i])\n",
        "        summ += 1/qi\n",
        "        i+=1\n",
        "        Tsumm = np.append(Tsumm,summ)\n",
        "    WQI = sum([(weights_norm[i])*math.sqrt(i+1/Tsumm[i]**2) for i in range(numP)])/numP\n",
        "    allWQI = np.append(allWQI,WQI)\n",
        "\n",
        "  return allWQI\n"
      ]
    },
    {
      "cell_type": "code",
      "execution_count": 11,
      "metadata": {
        "colab": {
          "base_uri": "https://localhost:8080/",
          "height": 499
        },
        "id": "qJFquXhXSFs_",
        "outputId": "9c91db69-01a1-4f4a-f926-0febdeeec087"
      },
      "outputs": [
        {
          "output_type": "execute_result",
          "data": {
            "text/plain": [
              "(array([ 2.,  4.,  4.,  2.,  7.,  4.,  6., 10., 12.,  5.]),\n",
              " array([10.2 , 15.64, 21.08, 26.52, 31.96, 37.4 , 42.84, 48.28, 53.72,\n",
              "        59.16, 64.6 ]),\n",
              " <BarContainer object of 10 artists>)"
            ]
          },
          "metadata": {},
          "execution_count": 11
        },
        {
          "output_type": "display_data",
          "data": {
            "text/plain": [
              "<Figure size 640x480 with 1 Axes>"
            ],
            "image/png": "[encoded data removed]"
          },
          "metadata": {}
        }
      ],
      "source": [
        "wqi,expdf= calculateWQI(dataframe[parameters])\n",
        "## plotting distribution of wqi\n",
        "plt.hist(wqi)"
      ]
    },
    {
      "cell_type": "code",
      "execution_count": 12,
      "metadata": {
        "colab": {
          "base_uri": "https://localhost:8080/"
        },
        "id": "wlPSjgzkSFtA",
        "outputId": "62c686c7-7b77-4f3b-fbcd-72d3e7a27eb0"
      },
      "outputs": [
        {
          "output_type": "stream",
          "name": "stdout",
          "text": [
            "Mean WQI 43.33928571428571\n",
            "Standard Deviation WQI 14.363383731133558\n"
          ]
        }
      ],
      "source": [
        "\n",
        "## printing stats for ground truth wqi\n",
        "print(\"Mean WQI\", statistics.mean(wqi))\n",
        "print(\"Standard Deviation WQI\", statistics.stdev(wqi))"
      ]
    },
    {
      "cell_type": "markdown",
      "source": [
        "## Model for the WQI to indiviual parameter"
      ],
      "metadata": {
        "id": "lqgZ4lJ4Fq5h"
      }
    },
    {
      "cell_type": "code",
      "source": [
        "def CM(actual, predicted):\n",
        "  fig = plt.figure()\n",
        "  plt.scatter(actual, predicted)\n",
        "  plt.show()\n",
        "\n",
        "def Presults(y_test, prediction):\n",
        "  print(\"MAE\", mean_absolute_error(y_test, prediction))\n",
        "  print(\"MSE\", mean_squared_error(y_test, prediction))\n",
        "  print(\"RMSE\", mean_squared_error(y_test, prediction, squared=False))\n",
        "  print(\"MAPE\", mean_absolute_percentage_error(y_test, prediction))\n",
        "  print(\"R2 Score\", r2_score(y_test, prediction))\n",
        "  # return model.coef_,model.intercept_\n",
        "\n",
        "def LRegression(dataframe,index,name,WQI_val,GT_val,scaler):\n",
        "  CM(dataframe[name],dataframe[index])\n",
        "  # for i ,j in zip(dataframe[index],WQI_val):\n",
        "  #   print(i,j)\n",
        "  # dataframe[index] = scaler.inverse_transform(np.array(dataframe[index]).reshape(-1, 1))\n",
        "  # WQI_val = scaler.inverse_transform(np.array(WQI_val).reshape(-1, 1))\n",
        "  # for i ,j in zip(dataframe[index],WQI_val):\n",
        "  #   print(i,j)\n",
        "\n",
        "  validationdataframe = dataframe[dataframe[\"Date of Image\"]==\"2023-07-09\"]\n",
        "  traindataframe = dataframe[dataframe[\"Date of Image\"]!=\"2023-07-09\"]\n",
        "  # print(WQI, GT)\n",
        "\n",
        "  xTrain = np.array((traindataframe[index])).reshape(-1, 1)\n",
        "  yTrain = traindataframe[name]\n",
        "  xTest = np.array((validationdataframe[index])).reshape(-1, 1)\n",
        "  yTest = validationdataframe[name]\n",
        "  # X_train, X_test, y_train, y_test = train_test_split(WQI, GT, test_size=0.33, random_state=42)\n",
        "  # model = LinearRegression().fit(xTrain, yTrain)\n",
        "  # # model = SVR(kernel='rbf', C=2.0, epsilon=0.2).fit(xTrain, yTrain)\n",
        "  # if name == 'Ammonia':\n",
        "  #   # print('hi')\n",
        "  model = RandomForestRegressor(max_depth=2, random_state=0).fit(xTrain, yTrain)\n",
        "  prediction = model.predict(xTest)\n",
        "  prediction_val = model.predict(WQI_val)\n",
        "  for x,y in zip(yTest.values,prediction):\n",
        "    print(x,'-',y)\n",
        "  Presults(yTest, prediction)\n",
        "  print(f\"validation results on {name}\")\n",
        "  Presults(GT_val,prediction_val)\n",
        "  for x,y in zip(GT_val,prediction_val):\n",
        "    print(x,'-',y)\n",
        "  print(f\"---------------------------------------\")\n",
        "\n",
        "\n",
        "#to predict the parameters from WQI\n",
        "\n",
        "\n",
        "\n",
        "def WQIandParameters(dataframe,index,predictedWQI,gtforRE,scaler):\n",
        "  print('-----For WQI with pH Regression relation-----')\n",
        "  LRegression(dataframe,index,'pH',predictedWQI,gtforRE['pH'],scaler)\n",
        "  print('-----For WQI with Salinity  Regression relation-----')\n",
        "  LRegression(dataframe,index,'Salinity',predictedWQI,gtforRE['Salinity'],scaler)\n",
        "  print('-----For WQI with Ammonia SVR relation-----')\n",
        "  LRegression(dataframe,index,'Ammonia',predictedWQI,gtforRE['Ammonia'],scaler)\n",
        "  return None\n",
        "\n"
      ],
      "metadata": {
        "id": "9bgyFpVGT9r-"
      },
      "execution_count": 13,
      "outputs": []
    },
    {
      "cell_type": "code",
      "execution_count": 14,
      "metadata": {
        "id": "OHLH7id8SFtB"
      },
      "outputs": [],
      "source": [
        "### adding wqi as a dataframe\n",
        "\n",
        "dataframe[\"WQI\"] = wqi\n",
        "# print(wqi)\n",
        "scaler2 = MinMaxScaler()\n",
        "dataframe['WQI'] = scaler2.fit_transform(dataframe[['WQI']]).flatten()\n",
        "# print(dataframe['WQI'])"
      ]
    },
    {
      "cell_type": "code",
      "source": [
        "# sns.pairplot(dataframe)"
      ],
      "metadata": {
        "id": "2WAj7IdZn01S"
      },
      "execution_count": 15,
      "outputs": []
    },
    {
      "cell_type": "markdown",
      "source": [
        "## Model for Band to WQI index"
      ],
      "metadata": {
        "id": "Kahd67ZfF3OO"
      }
    },
    {
      "cell_type": "code",
      "execution_count": 16,
      "metadata": {
        "id": "iOOQBzR-SFtC"
      },
      "outputs": [],
      "source": [
        "\n",
        "def scaling(Banddata):\n",
        "    scaler = StandardScaler()\n",
        "    scaler.fit(Banddata)\n",
        "    dataframe = scaler.transform(Banddata)\n",
        "    return dataframe\n",
        "\n",
        "def pca(dataframe):\n",
        "  pca = PCA(n_components=3)\n",
        "  pca.fit(dataframe)\n",
        "  pca_df =  pca.transform(dataframe)\n",
        "  return pca_df\n",
        "\n",
        "# def weakmodel(xTrain, yTrain,xTest):\n",
        "#       models = [\n",
        "#         RandomForestRegressor(max_depth=3, random_state=0),\n",
        "#         xgb.XGBRegressor(),\n",
        "#         SVR(kernel='rbf', C=1.0, epsilon=1e-3)]\n",
        "\n",
        "#       preds = []\n",
        "#       for i, m in enumerate(models):\n",
        "#           m.fit(xTrain, yTrain)\n",
        "#           preds.append(m.predict(xTest))\n",
        "\n",
        "#       weights = [0.33, 0.33,0.33]\n",
        "#       preds = np.array(preds)\n",
        "#       print\n",
        "#       preds= np.sum(preds, axis = 0)/3\n",
        "#       return preds\n",
        "\n",
        "### model to predict WQI using bands as input\n",
        "def predictWQI(dataframe,pred):\n",
        "    # validationdataframe = dataframe[dataframe[\"Date of Image\"]==\"2023-07-09\"]\n",
        "    # traindataframe = dataframe[dataframe[\"Date of Image\"]!=\"2023-07-09\"]\n",
        "\n",
        "    traindataframe, validationdataframe = train_test_split(dataframe, test_size=0.3, random_state=42)\n",
        "    # traindataframe.to_csv('WQIModelTrain.csv')\n",
        "    # validationdataframe.to_csv('WQIModelTest.csv')\n",
        "\n",
        "    # validationdataframe = dataframe[dataframe[\"Date of Image\"]==\"2022-09-12\"]\n",
        "    # traindataframe = dataframe[dataframe[\"Date of Image\"]!=\"2022-09-12\"]\n",
        "    # k =  10\n",
        "    # k_fold = KFold(n_splits = k,shuffle=True )\n",
        "\n",
        "\n",
        "    gtforRE = (validationdataframe[parameters])\n",
        "\n",
        "    xTrain = (scaling(traindataframe[bands]))\n",
        "    yTrain = traindataframe[pred]\n",
        "    xTest = (scaling(validationdataframe[bands]))\n",
        "    yTest = validationdataframe[pred]\n",
        "\n",
        "    model = SVR(kernel='rbf', C=2.0, epsilon=1e-4)\n",
        "    # model = RandomForestRegressor(max_depth=3, random_state=0)\n",
        "    # model = MLPRegressor(random_state=1, max_iter=100000)\n",
        "\n",
        "    model.fit(xTrain, yTrain)\n",
        "\n",
        "    # score = cross_val_score(model, dataframe[bands], dataframe[pred], cv = k_fold)\n",
        "    # print(sum(score) / len(score))\n",
        "    # print(score)\n",
        "    # prediction =  weakmodel(xTrain,yTrain,xTest)\n",
        "    prediction = model.predict(xTest)\n",
        "    # prediction = preds\n",
        "    # print(prediction,yTest)\n",
        "\n",
        "    print(\"MAE\", mean_absolute_error(yTest, prediction))\n",
        "    print(\"MSE\", mean_squared_error(yTest, prediction))\n",
        "    print(\"RMSE\", mean_squared_error(yTest, prediction, squared=False))\n",
        "    print(\"MAPE\", mean_absolute_percentage_error(yTest, prediction))\n",
        "    print(\"R2 Score\", r2_score(yTest, prediction))\n",
        "    plt.figure(figsize=(25,10))\n",
        "    plt.scatter(np.arange(1, len(yTest)+1), yTest, color=\"red\")\n",
        "    plt.plot(np.arange(1, len(yTest)+1), prediction, color=\"blue\")\n",
        "    return prediction,gtforRE"
      ]
    },
    {
      "cell_type": "code",
      "source": [
        "(dataframe).corrwith(dataframe['WQI'])"
      ],
      "metadata": {
        "colab": {
          "base_uri": "https://localhost:8080/"
        },
        "id": "7OtOb2tJT95M",
        "outputId": "b9d8414c-88a2-4d0b-f9d6-139cdaadc5fd"
      },
      "execution_count": 17,
      "outputs": [
        {
          "output_type": "stream",
          "name": "stderr",
          "text": [
            "<ipython-input-17-d8a89629dacb>:1: FutureWarning: The default value of numeric_only in DataFrame.corrwith is deprecated. In a future version, it will default to False. Select only valid columns or specify the value of numeric_only to silence this warning.\n",
            "  (dataframe).corrwith(dataframe['WQI'])\n"
          ]
        },
        {
          "output_type": "execute_result",
          "data": {
            "text/plain": [
              "pH             0.916739\n",
              "Salinity       0.824501\n",
              "Carbonate      0.809570\n",
              "BiCarbonate   -0.060075\n",
              "Alkalinity     0.200227\n",
              "Hardness       0.013418\n",
              "Calcium       -0.783747\n",
              "Magnesium      0.785480\n",
              "Ammonia       -0.323462\n",
              "Coincidence         NaN\n",
              "B1            -0.730466\n",
              "B10           -0.336950\n",
              "B11           -0.587356\n",
              "B12           -0.549838\n",
              "B2            -0.731258\n",
              "B3            -0.671447\n",
              "B4            -0.706197\n",
              "B5            -0.684023\n",
              "B6            -0.673379\n",
              "B7            -0.668033\n",
              "B8            -0.692346\n",
              "B8A           -0.640661\n",
              "B9            -0.467050\n",
              "WQI            1.000000\n",
              "dtype: float64"
            ]
          },
          "metadata": {},
          "execution_count": 17
        }
      ]
    },
    {
      "cell_type": "code",
      "source": [
        "\n",
        "plt.hist(dataframe['WQI'])"
      ],
      "metadata": {
        "colab": {
          "base_uri": "https://localhost:8080/",
          "height": 482
        },
        "id": "IoTnQp4FLzHr",
        "outputId": "836f2fa4-c00b-490d-e60d-fb27881e33d8"
      },
      "execution_count": 18,
      "outputs": [
        {
          "output_type": "execute_result",
          "data": {
            "text/plain": [
              "(array([ 2.,  4.,  4.,  2.,  7.,  4.,  6., 10., 12.,  5.]),\n",
              " array([0. , 0.1, 0.2, 0.3, 0.4, 0.5, 0.6, 0.7, 0.8, 0.9, 1. ]),\n",
              " <BarContainer object of 10 artists>)"
            ]
          },
          "metadata": {},
          "execution_count": 18
        },
        {
          "output_type": "display_data",
          "data": {
            "text/plain": [
              "<Figure size 640x480 with 1 Axes>"
            ],
            "image/png": "[encoded data removed]"
          },
          "metadata": {}
        }
      ]
    },
    {
      "cell_type": "code",
      "execution_count": 19,
      "metadata": {
        "colab": {
          "base_uri": "https://localhost:8080/",
          "height": 1000
        },
        "id": "vOhKgF-_SFtC",
        "outputId": "d5664e6f-4bda-4cef-ae24-b42438170221"
      },
      "outputs": [
        {
          "output_type": "stream",
          "name": "stdout",
          "text": [
            "MAE 0.13102919426021173\n",
            "MSE 0.033983642365155865\n",
            "RMSE 0.18434652794440112\n",
            "MAPE 0.5910193142273392\n",
            "R2 Score 0.574314011771455\n",
            "0     0.676471\n",
            "1     0.897059\n",
            "2     0.915441\n",
            "3     0.933824\n",
            "4     0.805147\n",
            "5     0.841912\n",
            "6     0.823529\n",
            "7     0.823529\n",
            "8     0.845588\n",
            "9     0.775735\n",
            "10    0.841912\n",
            "11    0.566176\n",
            "12    0.705882\n",
            "13    0.827206\n",
            "14    0.871324\n",
            "15    0.841912\n",
            "16    0.672794\n",
            "17    0.672794\n",
            "18    0.801471\n",
            "19    0.779412\n",
            "20    0.562500\n",
            "21    0.636029\n",
            "22    0.775735\n",
            "23    0.761029\n",
            "24    0.000000\n",
            "25    0.025735\n",
            "37    0.194853\n",
            "38    0.257353\n",
            "39    0.470588\n",
            "40    0.485294\n",
            "41    0.224265\n",
            "42    0.470588\n",
            "43    0.470588\n",
            "45    0.106618\n",
            "46    0.154412\n",
            "47    0.345588\n",
            "48    0.393382\n",
            "49    0.172794\n",
            "50    0.481618\n",
            "51    0.514706\n",
            "52    0.941176\n",
            "53    0.720588\n",
            "54    0.731618\n",
            "55    0.536765\n",
            "56    0.437500\n",
            "57    1.000000\n",
            "58    0.716912\n",
            "59    0.878676\n",
            "60    0.650735\n",
            "61    0.691176\n",
            "62    0.786765\n",
            "63    0.768382\n",
            "64    0.937500\n",
            "65    0.422794\n",
            "66    0.227941\n",
            "67    0.242647\n",
            "Name: WQI, dtype: float64\n",
            "0     47.0\n",
            "1     59.0\n",
            "2     60.0\n",
            "3     61.0\n",
            "4     54.0\n",
            "5     56.0\n",
            "6     55.0\n",
            "7     55.0\n",
            "8     56.2\n",
            "9     52.4\n",
            "10    56.0\n",
            "11    41.0\n",
            "12    48.6\n",
            "13    55.2\n",
            "14    57.6\n",
            "15    56.0\n",
            "16    46.8\n",
            "17    46.8\n",
            "18    53.8\n",
            "19    52.6\n",
            "20    40.8\n",
            "21    44.8\n",
            "22    52.4\n",
            "23    51.6\n",
            "24    10.2\n",
            "25    11.6\n",
            "37    20.8\n",
            "38    24.2\n",
            "39    35.8\n",
            "40    36.6\n",
            "41    22.4\n",
            "42    35.8\n",
            "43    35.8\n",
            "45    16.0\n",
            "46    18.6\n",
            "47    29.0\n",
            "48    31.6\n",
            "49    19.6\n",
            "50    36.4\n",
            "51    38.2\n",
            "52    61.4\n",
            "53    49.4\n",
            "54    50.0\n",
            "55    39.4\n",
            "56    34.0\n",
            "57    64.6\n",
            "58    49.2\n",
            "59    58.0\n",
            "60    45.6\n",
            "61    47.8\n",
            "62    53.0\n",
            "63    52.0\n",
            "64    61.2\n",
            "65    33.2\n",
            "66    22.6\n",
            "67    23.4\n",
            "Name: WQI, dtype: float64\n",
            "-----For WQI with pH Regression relation-----\n"
          ]
        },
        {
          "output_type": "display_data",
          "data": {
            "text/plain": [
              "<Figure size 2500x1000 with 1 Axes>"
            ],
            "image/png": "[encoded data removed]"
          },
          "metadata": {}
        },
        {
          "output_type": "display_data",
          "data": {
            "text/plain": [
              "<Figure size 640x480 with 1 Axes>"
            ],
            "image/png": "[encoded data removed]"
          },
          "metadata": {}
        },
        {
          "output_type": "stream",
          "name": "stdout",
          "text": [
            "8.0 - 8.204462680753199\n",
            "8.5 - 8.564144957926189\n",
            "8.1 - 8.522396088744113\n",
            "8.2 - 8.541455639487488\n",
            "7.9 - 8.22765093572933\n",
            "7.7 - 8.19532415261467\n",
            "8.5 - 8.564144957926189\n",
            "8.2 - 8.501081650842833\n",
            "8.4 - 8.556498039828803\n",
            "8.0 - 8.317732735785661\n",
            "8.1 - 8.428493002947043\n",
            "8.3 - 8.545506144537992\n",
            "8.3 - 8.541455639487488\n",
            "8.6 - 8.564144957926189\n",
            "7.7 - 7.9715506895881925\n",
            "MAE 0.2545168238848667\n",
            "MSE 0.08102324637806925\n",
            "RMSE 0.2846458262087629\n",
            "MAPE 0.031597790883326024\n",
            "R2 Score -0.13231244938295572\n",
            "validation results on pH\n",
            "MAE 0.5839454869476924\n",
            "MSE 0.5122034043909375\n",
            "RMSE 0.7156838718253594\n",
            "MAPE 0.06899950555193636\n",
            "R2 Score -1.9916488251612976\n",
            "8.4 - 7.592525101287602\n",
            "8.6 - 7.592525101287602\n",
            "7.6 - 7.592525101287602\n",
            "8.4 - 7.592525101287602\n",
            "8.6 - 7.592525101287602\n",
            "8.3 - 7.592525101287602\n",
            "7.9 - 7.592525101287602\n",
            "7.7 - 7.592525101287602\n",
            "7.7 - 7.592525101287602\n",
            "8.5 - 7.592525101287602\n",
            "7.7 - 7.592525101287602\n",
            "8.7 - 7.592525101287602\n",
            "7.6 - 7.592525101287602\n",
            "7.7 - 7.592525101287602\n",
            "8.6 - 7.592525101287602\n",
            "8.4 - 7.592525101287602\n",
            "8.6 - 7.592525101287602\n",
            "---------------------------------------\n",
            "-----For WQI with Salinity  Regression relation-----\n"
          ]
        },
        {
          "output_type": "display_data",
          "data": {
            "text/plain": [
              "<Figure size 640x480 with 1 Axes>"
            ],
            "image/png": "[encoded data removed]"
          },
          "metadata": {}
        },
        {
          "output_type": "stream",
          "name": "stdout",
          "text": [
            "35 - 26.00475428248222\n",
            "40 - 38.68624958649881\n",
            "40 - 35.29066108858239\n",
            "40 - 35.29066108858239\n",
            "36 - 28.547191427395617\n",
            "35 - 25.653084751849455\n",
            "40 - 38.68624958649881\n",
            "40 - 35.29066108858239\n",
            "42 - 38.65860252767528\n",
            "40 - 35.29066108858239\n",
            "40 - 35.29066108858239\n",
            "40 - 35.29066108858239\n",
            "39 - 35.29066108858239\n",
            "40 - 38.68624958649881\n",
            "39 - 25.68710184586655\n",
            "MAE 5.223725919010515\n",
            "MSE 37.61507157514246\n",
            "RMSE 6.133112715020201\n",
            "MAPE 0.13680273464609333\n",
            "R2 Score -8.573971837564539\n",
            "validation results on Salinity\n",
            "MAE 8.696119756877101\n",
            "MSE 107.63633965639805\n",
            "RMSE 10.374793475361235\n",
            "MAPE 0.24291179016710937\n",
            "R2 Score -2.3621813835602063\n",
            "35 - 23.83329200782878\n",
            "38 - 23.83329200782878\n",
            "24 - 23.83329200782878\n",
            "40 - 23.83329200782878\n",
            "33 - 23.83329200782878\n",
            "40 - 23.83329200782878\n",
            "25 - 23.83329200782878\n",
            "25 - 23.83329200782878\n",
            "35 - 23.83329200782878\n",
            "32 - 23.83329200782878\n",
            "30 - 23.83329200782878\n",
            "40 - 23.83329200782878\n",
            "25 - 23.83329200782878\n",
            "25 - 23.83329200782878\n",
            "35 - 23.83329200782878\n",
            "34 - 23.83329200782878\n",
            "37 - 23.83329200782878\n",
            "---------------------------------------\n",
            "-----For WQI with Ammonia SVR relation-----\n"
          ]
        },
        {
          "output_type": "display_data",
          "data": {
            "text/plain": [
              "<Figure size 640x480 with 1 Axes>"
            ],
            "image/png": "[encoded data removed]"
          },
          "metadata": {}
        },
        {
          "output_type": "stream",
          "name": "stdout",
          "text": [
            "0.04 - 0.07329455117294126\n",
            "0.08 - 0.008200750360750363\n",
            "0.08 - 0.01713312906698901\n",
            "0.05 - 0.017310271924131867\n",
            "0.08 - 0.03889171592315643\n",
            "0.1 - 0.07284157498246507\n",
            "0.12 - 0.008200750360750363\n",
            "0.04 - 0.01713312906698901\n",
            "0.05 - 0.016741945551072515\n",
            "0.07 - 0.01713312906698901\n",
            "0.06 - 0.01713312906698901\n",
            "0.05 - 0.017310271924131867\n",
            "0.05 - 0.017310271924131867\n",
            "0.04 - 0.008200750360750363\n",
            "0.04 - 0.07284157498246507\n",
            "MAE 0.04417302043840731\n",
            "MSE 0.002446635270956682\n",
            "RMSE 0.04946347410925239\n",
            "MAPE 0.701114301725608\n",
            "R2 Score -3.403943487722028\n",
            "validation results on Ammonia\n",
            "MAE 0.03041422087716205\n",
            "MSE 0.0013028572809021535\n",
            "RMSE 0.0360951143633339\n",
            "MAPE 48406368341551.82\n",
            "R2 Score -0.02539693404336152\n",
            "0.0 - 0.04568058497058496\n",
            "0.0 - 0.04568058497058496\n",
            "0.05 - 0.04568058497058496\n",
            "0.04 - 0.04568058497058496\n",
            "0.02 - 0.04568058497058496\n",
            "0.05 - 0.04568058497058496\n",
            "0.12 - 0.04568058497058496\n",
            "0.06 - 0.04568058497058496\n",
            "0.1 - 0.04568058497058496\n",
            "0.02 - 0.04568058497058496\n",
            "0.02 - 0.04568058497058496\n",
            "0.0 - 0.04568058497058496\n",
            "0.07 - 0.04568058497058496\n",
            "0.08 - 0.04568058497058496\n",
            "0.04 - 0.04568058497058496\n",
            "0.01 - 0.04568058497058496\n",
            "0.0 - 0.04568058497058496\n",
            "---------------------------------------\n"
          ]
        }
      ],
      "source": [
        "predictedWQI,gtforRE = predictWQI(dataframe,\"WQI\")\n",
        "# WQIandParameters(np.array(predictedWQI).reshape(-1, 1),gtforRE)\n",
        "\n",
        "print(dataframe[\"WQI\"])\n",
        "\n",
        "dataframe['WQI'] = scaler2.inverse_transform(dataframe[['WQI']]).flatten()\n",
        "print(dataframe[\"WQI\"])\n",
        "\n",
        "WQIandParameters(dataframe,'WQI',predictedWQI.reshape(-1, 1),gtforRE,scaler2)"
      ]
    },
    {
      "cell_type": "code",
      "execution_count": 20,
      "metadata": {
        "colab": {
          "base_uri": "https://localhost:8080/",
          "height": 551
        },
        "id": "MzyP8XbMSFtD",
        "outputId": "2d45c0b8-0cbf-469b-edae-f28762334c6f"
      },
      "outputs": [
        {
          "output_type": "stream",
          "name": "stdout",
          "text": [
            "Mean WQI 0.6622530511208694\n",
            "Standard Deviation WQI 0.1789234535514426\n"
          ]
        },
        {
          "output_type": "execute_result",
          "data": {
            "text/plain": [
              "(array([1., 1., 3., 1., 0., 0., 0., 2., 3., 6.]),\n",
              " array([0.3305685 , 0.38207316, 0.43357782, 0.48508247, 0.53658713,\n",
              "        0.58809178, 0.63959644, 0.6911011 , 0.74260575, 0.79411041,\n",
              "        0.84561506]),\n",
              " <BarContainer object of 10 artists>)"
            ]
          },
          "metadata": {},
          "execution_count": 20
        },
        {
          "output_type": "display_data",
          "data": {
            "text/plain": [
              "<Figure size 640x480 with 1 Axes>"
            ],
            "image/png": "[encoded data removed]"
          },
          "metadata": {}
        }
      ],
      "source": [
        "#\n",
        "## printing stats for ground truth wqi\n",
        "print(\"Mean WQI\", statistics.mean(predictedWQI))\n",
        "print(\"Standard Deviation WQI\", statistics.stdev(predictedWQI))\n",
        "plt.hist(predictedWQI)"
      ]
    },
    {
      "cell_type": "code",
      "source": [
        "allWQI = harmonizedWQIcalculation(dataframe[parameters])\n",
        "dataframe['HWQI'] = allWQI\n",
        "scaler3 = MinMaxScaler()\n",
        "dataframe['HWQI'] = scaler3.fit_transform(dataframe[['HWQI']]).flatten()"
      ],
      "metadata": {
        "id": "1D8eDm7Xy5NU"
      },
      "execution_count": 21,
      "outputs": []
    },
    {
      "cell_type": "code",
      "source": [
        "plt.hist(dataframe['HWQI'])"
      ],
      "metadata": {
        "colab": {
          "base_uri": "https://localhost:8080/",
          "height": 482
        },
        "id": "t3VUfmNl0-Ih",
        "outputId": "44da069a-d069-47eb-cb3a-6a1a95db57c3"
      },
      "execution_count": 22,
      "outputs": [
        {
          "output_type": "execute_result",
          "data": {
            "text/plain": [
              "(array([ 4.,  3.,  1., 20.,  5., 15.,  3.,  3.,  0.,  2.]),\n",
              " array([0. , 0.1, 0.2, 0.3, 0.4, 0.5, 0.6, 0.7, 0.8, 0.9, 1. ]),\n",
              " <BarContainer object of 10 artists>)"
            ]
          },
          "metadata": {},
          "execution_count": 22
        },
        {
          "output_type": "display_data",
          "data": {
            "text/plain": [
              "<Figure size 640x480 with 1 Axes>"
            ],
            "image/png": "[encoded data removed]"
          },
          "metadata": {}
        }
      ]
    },
    {
      "cell_type": "code",
      "source": [
        "(dataframe).corrwith(dataframe['HWQI'])"
      ],
      "metadata": {
        "colab": {
          "base_uri": "https://localhost:8080/"
        },
        "id": "NfV555NHy5J6",
        "outputId": "85ed8d4b-8e3f-442b-b3fa-86af907b396f"
      },
      "execution_count": 23,
      "outputs": [
        {
          "output_type": "stream",
          "name": "stderr",
          "text": [
            "<ipython-input-23-0036a586283d>:1: FutureWarning: The default value of numeric_only in DataFrame.corrwith is deprecated. In a future version, it will default to False. Select only valid columns or specify the value of numeric_only to silence this warning.\n",
            "  (dataframe).corrwith(dataframe['HWQI'])\n"
          ]
        },
        {
          "output_type": "execute_result",
          "data": {
            "text/plain": [
              "pH             0.106968\n",
              "Salinity       0.559821\n",
              "Carbonate     -0.014115\n",
              "BiCarbonate   -0.051408\n",
              "Alkalinity    -0.010036\n",
              "Hardness       0.433366\n",
              "Calcium       -0.268119\n",
              "Magnesium      0.457176\n",
              "Ammonia        0.585113\n",
              "Coincidence         NaN\n",
              "B1            -0.494090\n",
              "B10           -0.388352\n",
              "B11           -0.323860\n",
              "B12           -0.368513\n",
              "B2            -0.551185\n",
              "B3            -0.596716\n",
              "B4            -0.556939\n",
              "B5            -0.448563\n",
              "B6            -0.405611\n",
              "B7            -0.383047\n",
              "B8            -0.440615\n",
              "B8A           -0.398462\n",
              "B9            -0.454930\n",
              "WQI            0.436688\n",
              "HWQI           1.000000\n",
              "dtype: float64"
            ]
          },
          "metadata": {},
          "execution_count": 23
        }
      ]
    },
    {
      "cell_type": "code",
      "source": [
        "predictedWQI,gtforRE = predictWQI(dataframe,\"HWQI\")\n",
        "# WQIandParameters(np.array(predictedWQI).reshape(-1, 1),gtforRE)\n",
        "WQIandParameters(dataframe,'HWQI',predictedWQI.reshape(-1, 1),gtforRE,scaler3)\n",
        "# WQIandParameters(np.array(dataframe['HWQI']).reshape(-1, 1),dataframe[parameters],predictedWQI.reshape(-1, 1),gtforRE)"
      ],
      "metadata": {
        "colab": {
          "base_uri": "https://localhost:8080/",
          "height": 1000
        },
        "id": "WxfJWWry6eBp",
        "outputId": "1de36099-1a49-4e58-c599-3a4d4c3ad349"
      },
      "execution_count": 24,
      "outputs": [
        {
          "output_type": "stream",
          "name": "stdout",
          "text": [
            "MAE 0.12318718758377578\n",
            "MSE 0.020119450836273735\n",
            "RMSE 0.14184305001047368\n",
            "MAPE 0.30348872567131285\n",
            "R2 Score 0.28484028318838084\n",
            "-----For WQI with pH Regression relation-----\n"
          ]
        },
        {
          "output_type": "display_data",
          "data": {
            "text/plain": [
              "<Figure size 2500x1000 with 1 Axes>"
            ],
            "image/png": "[encoded data removed]"
          },
          "metadata": {}
        },
        {
          "output_type": "display_data",
          "data": {
            "text/plain": [
              "<Figure size 640x480 with 1 Axes>"
            ],
            "image/png": "[encoded data removed]"
          },
          "metadata": {}
        },
        {
          "output_type": "stream",
          "name": "stdout",
          "text": [
            "8.0 - 8.157301907152783\n",
            "8.5 - 8.090540546978822\n",
            "8.1 - 8.090540546978822\n",
            "8.2 - 8.100628209316485\n",
            "7.9 - 8.090540546978822\n",
            "7.7 - 8.090540546978822\n",
            "8.5 - 8.090540546978822\n",
            "8.2 - 8.157301907152783\n",
            "8.4 - 8.100628209316485\n",
            "8.0 - 8.090540546978822\n",
            "8.1 - 8.090540546978822\n",
            "8.3 - 8.100628209316485\n",
            "8.3 - 8.100628209316485\n",
            "8.6 - 8.157301907152783\n",
            "7.7 - 8.157301907152783\n",
            "MAE 0.22712977438368256\n",
            "MSE 0.07621255705791258\n",
            "RMSE 0.2760662186105221\n",
            "MAPE 0.027758056887331652\n",
            "R2 Score -0.0650823191323191\n",
            "validation results on pH\n",
            "MAE 0.35262969355947776\n",
            "MSE 0.15522432285689522\n",
            "RMSE 0.3939851810117929\n",
            "MAPE 0.042971571997568174\n",
            "R2 Score 0.09337450877844111\n",
            "8.4 - 8.177708355338465\n",
            "8.6 - 8.160860553769325\n",
            "7.6 - 7.859215865384617\n",
            "8.4 - 8.165431982340754\n",
            "8.6 - 8.157301907152783\n",
            "8.3 - 8.090540546978822\n",
            "7.9 - 7.967785476038391\n",
            "7.7 - 8.508657308109935\n",
            "7.7 - 8.090540546978822\n",
            "8.5 - 8.100628209316485\n",
            "7.7 - 7.919968029886783\n",
            "8.7 - 8.160860553769325\n",
            "7.6 - 7.85654919871795\n",
            "7.7 - 7.85654919871795\n",
            "8.6 - 8.100628209316485\n",
            "8.4 - 7.8647313415750935\n",
            "8.6 - 8.285869173765787\n",
            "---------------------------------------\n",
            "-----For WQI with Salinity  Regression relation-----\n"
          ]
        },
        {
          "output_type": "display_data",
          "data": {
            "text/plain": [
              "<Figure size 640x480 with 1 Axes>"
            ],
            "image/png": "[encoded data removed]"
          },
          "metadata": {}
        },
        {
          "output_type": "stream",
          "name": "stdout",
          "text": [
            "35 - 32.794667970918994\n",
            "40 - 29.97797491092498\n",
            "40 - 29.97797491092498\n",
            "40 - 33.02761144423728\n",
            "36 - 29.97797491092498\n",
            "35 - 29.97797491092498\n",
            "40 - 29.97797491092498\n",
            "40 - 32.794667970918994\n",
            "42 - 33.02761144423728\n",
            "40 - 29.97797491092498\n",
            "40 - 29.97797491092498\n",
            "40 - 33.02761144423728\n",
            "39 - 33.02761144423728\n",
            "40 - 32.794667970918994\n",
            "39 - 32.794667970918994\n",
            "MAE 7.524337197526668\n",
            "MSE 61.61968644325821\n",
            "RMSE 7.84982079051861\n",
            "MAPE 0.19075274016310986\n",
            "R2 Score -14.68374372141753\n",
            "validation results on Salinity\n",
            "MAE 4.369225311857927\n",
            "MSE 30.5911576421303\n",
            "RMSE 5.530927376320386\n",
            "MAPE 0.13097075068231065\n",
            "R2 Score 0.04443962834244963\n",
            "35 - 32.496838298417586\n",
            "38 - 32.54445734603663\n",
            "24 - 26.08156290931291\n",
            "40 - 32.54445734603663\n",
            "33 - 32.794667970918994\n",
            "40 - 29.97797491092498\n",
            "25 - 25.810869434359986\n",
            "25 - 36.00858494839643\n",
            "35 - 29.97797491092498\n",
            "32 - 33.02761144423728\n",
            "30 - 25.04540706515706\n",
            "40 - 32.496838298417586\n",
            "25 - 25.726241480741486\n",
            "25 - 25.726241480741486\n",
            "35 - 33.02761144423728\n",
            "34 - 25.629120268620273\n",
            "37 - 32.56893353651282\n",
            "---------------------------------------\n",
            "-----For WQI with Ammonia SVR relation-----\n"
          ]
        },
        {
          "output_type": "display_data",
          "data": {
            "text/plain": [
              "<Figure size 640x480 with 1 Axes>"
            ],
            "image/png": "[encoded data removed]"
          },
          "metadata": {}
        },
        {
          "output_type": "stream",
          "name": "stdout",
          "text": [
            "0.04 - 0.05981950005266489\n",
            "0.08 - 0.0915725321900322\n",
            "0.08 - 0.0915725321900322\n",
            "0.05 - 0.06167239327055811\n",
            "0.08 - 0.0915725321900322\n",
            "0.1 - 0.0915725321900322\n",
            "0.12 - 0.0915725321900322\n",
            "0.04 - 0.05981950005266489\n",
            "0.05 - 0.06167239327055811\n",
            "0.07 - 0.0915725321900322\n",
            "0.06 - 0.0915725321900322\n",
            "0.05 - 0.06167239327055811\n",
            "0.05 - 0.06167239327055811\n",
            "0.04 - 0.05981950005266489\n",
            "0.04 - 0.05981950005266489\n",
            "MAE 0.01671234465753257\n",
            "MSE 0.0003239561310416002\n",
            "RMSE 0.01799878137657103\n",
            "MAPE 0.30035130455600884\n",
            "R2 Score 0.4168789641251196\n",
            "validation results on Ammonia\n",
            "MAE 0.0407431813746978\n",
            "MSE 0.0021020692232694396\n",
            "RMSE 0.04584832846756182\n",
            "MAPE 68861353408072.2\n",
            "R2 Score -0.654406333128726\n",
            "0.0 - 0.06921560527594404\n",
            "0.0 - 0.07009457220273706\n",
            "0.05 - 0.041776536207988546\n",
            "0.04 - 0.06292866671933156\n",
            "0.02 - 0.05981950005266489\n",
            "0.05 - 0.0915725321900322\n",
            "0.12 - 0.041325172571624894\n",
            "0.06 - 0.010692125369305834\n",
            "0.1 - 0.0915725321900322\n",
            "0.02 - 0.06167239327055811\n",
            "0.02 - 0.041776536207988546\n",
            "0.0 - 0.07009457220273706\n",
            "0.07 - 0.041776536207988546\n",
            "0.08 - 0.041776536207988546\n",
            "0.04 - 0.06207239327055812\n",
            "0.01 - 0.041776536207988546\n",
            "0.0 - 0.05053021452425096\n",
            "---------------------------------------\n"
          ]
        }
      ]
    },
    {
      "cell_type": "code",
      "source": [],
      "metadata": {
        "id": "7t_D5uWvJX3f"
      },
      "execution_count": 24,
      "outputs": []
    },
    {
      "cell_type": "code",
      "source": [],
      "metadata": {
        "id": "2F4vA4A7JXz5"
      },
      "execution_count": 24,
      "outputs": []
    },
    {
      "cell_type": "code",
      "source": [],
      "metadata": {
        "id": "BUqUxK3cJXxU"
      },
      "execution_count": 24,
      "outputs": []
    },
    {
      "cell_type": "code",
      "source": [],
      "metadata": {
        "id": "0AiKN_HfJXux"
      },
      "execution_count": 24,
      "outputs": []
    },
    {
      "cell_type": "code",
      "source": [],
      "metadata": {
        "id": "DOgXd5muJXsI"
      },
      "execution_count": 24,
      "outputs": []
    },
    {
      "cell_type": "code",
      "source": [
        "## Not good code"
      ],
      "metadata": {
        "id": "z0PQwPmPT9nA"
      },
      "execution_count": 25,
      "outputs": []
    },
    {
      "cell_type": "code",
      "execution_count": 26,
      "metadata": {
        "id": "DpF_xL0eQ3sn"
      },
      "outputs": [],
      "source": [
        "\n",
        "\n",
        "# #to train model to predict the WQI using band  indcies using ML\n",
        "# def WQIandBands(df1,WQI):\n",
        "#   print('-----For WQI prediction with Bands with SVR algo -----')\n",
        "#   X_test = df1.loc[df1['Date of Image'] == '2023-07-09'][['B11',\t'B12'\t,'B1',\t'B2',\t'B3',\t'B4',\t'B5',\t'B6',\t'B7',\t'B8A',\t'B8',\t'B9']]\n",
        "#   y_test = df1.loc[df1['Date of Image'] == '2023-07-09'][['pH']]\n",
        "#   X_train = df1.loc[df1['Date of Image'] != '2023-07-09'][['B11',\t'B12'\t,'B1',\t'B2',\t'B3',\t'B4',\t'B5',\t'B6',\t'B7',\t'B8A',\t'B8',\t'B9']]\n",
        "#   y_train = df1.loc[df1['Date of Image'] != '2023-07-09'][['pH']]\n",
        "#   # X_train, X_test, y_train, y_test = train_test_split(Bandsndices, WQI, test_size=0.33, random_state=42)\n",
        "#   model = SVR(kernel='rbf', C=1.0, epsilon=0.2)\n",
        "#   model.fit(X_train, y_train)\n",
        "#   prediction = model.predict(X_test)\n",
        "#   print(\"MAE\", mean_absolute_error(y_test, prediction))\n",
        "#   print(\"MSE\", mean_squared_error(y_test, prediction))\n",
        "#   print(\"RMSE\", mean_squared_error(y_test, prediction, squared=False))\n",
        "#   print(\"MAPE\", mean_absolute_percentage_error(y_test, prediction))\n",
        "#   print(\"R2 Score\", r2_score(y_test, prediction))\n",
        "#   return prediction\n",
        "\n",
        "\n",
        "# def CM(actual, predicted):\n",
        "#   fig = plt.figure()\n",
        "#   plt.scatter(actual, predicted)\n",
        "#   plt.show()\n",
        "\n",
        "# def LRegression(WQI,GT):\n",
        "#   X_train, X_test, y_train, y_test = train_test_split(WQI, GT, test_size=0.33, random_state=42)\n",
        "#   model = LinearRegression().fit(X_train, y_train)\n",
        "#   # model1 = SVR(kernel='rbf', C=1.0, epsilon=0.2).fit(X_train, y_train)\n",
        "#   # model = RandomForestRegressor(max_depth=2, random_state=0).fit(X_train, y_train)\n",
        "#   prediction = model.predict(X_test)\n",
        "#   for x,y in zip(y_test.values,prediction):\n",
        "#     print(x,'-',y)\n",
        "\n",
        "#   CM(WQI,GT)\n",
        "#   print(\"MAE\", mean_absolute_error(y_test, prediction))\n",
        "#   print(\"MSE\", mean_squared_error(y_test, prediction))\n",
        "#   print(\"RMSE\", mean_squared_error(y_test, prediction, squared=False))\n",
        "#   print(\"MAPE\", mean_absolute_percentage_error(y_test, prediction))\n",
        "#   print(\"R2 Score\", r2_score(y_test, prediction))\n",
        "#   # return model.coef_,model.intercept_\n",
        "# #to predict the parameters from WQI\n",
        "\n",
        "\n",
        "\n",
        "# def WQIandParameters(WQI,GT):\n",
        "#   print('-----For WQI with pH Regression relation-----')\n",
        "#   LRegression(WQI,GT['pH'])\n",
        "#   print('-----For WQI with Salinity  Regression relation-----')\n",
        "#   LRegression(WQI,GT['Salinity'])\n",
        "#   print('-----For WQI with Ammonia SVR relation-----')\n",
        "#   LRegression(WQI,GT['Ammonia'])\n",
        "#   return None\n",
        "\n"
      ]
    },
    {
      "cell_type": "markdown",
      "metadata": {
        "id": "ir8KVILORrAn"
      },
      "source": [
        "## WQI with only bands"
      ]
    },
    {
      "cell_type": "code",
      "execution_count": 27,
      "metadata": {
        "id": "QMdCAN1SUn8e"
      },
      "outputs": [],
      "source": [
        "# WQI = WQIcalculation(df1 ,GT1)\n",
        "# # len(WQI)\n",
        "# WQIandBands(df1,WQI)\n",
        "# WQIandParameters(np.array(WQI).reshape(-1, 1),GT)"
      ]
    },
    {
      "cell_type": "code",
      "execution_count": 27,
      "metadata": {
        "id": "L9mZXEFKCzRj"
      },
      "outputs": [],
      "source": []
    },
    {
      "cell_type": "code",
      "execution_count": 27,
      "metadata": {
        "id": "MvgCXQ7SCzEk"
      },
      "outputs": [],
      "source": []
    },
    {
      "cell_type": "code",
      "execution_count": 27,
      "metadata": {
        "id": "5peUdZ6ACzBG"
      },
      "outputs": [],
      "source": []
    },
    {
      "cell_type": "code",
      "execution_count": 27,
      "metadata": {
        "id": "Cl7F2KKUCy_B"
      },
      "outputs": [],
      "source": []
    },
    {
      "cell_type": "code",
      "execution_count": 27,
      "metadata": {
        "id": "PSJuo7abCy8o"
      },
      "outputs": [],
      "source": []
    },
    {
      "cell_type": "code",
      "execution_count": 27,
      "metadata": {
        "id": "MOLEQcrwCy6W"
      },
      "outputs": [],
      "source": []
    },
    {
      "cell_type": "code",
      "execution_count": 27,
      "metadata": {
        "id": "SoYf6tO3Cy4I"
      },
      "outputs": [],
      "source": []
    },
    {
      "cell_type": "code",
      "execution_count": 27,
      "metadata": {
        "id": "eAEEjWz3Cysh"
      },
      "outputs": [],
      "source": []
    },
    {
      "cell_type": "markdown",
      "metadata": {
        "id": "g-MohxHjSSAX"
      },
      "source": []
    },
    {
      "cell_type": "markdown",
      "metadata": {
        "id": "afH5m9yvRv0E"
      },
      "source": [
        "## WQI with  top  10 combination indices"
      ]
    },
    {
      "cell_type": "code",
      "execution_count": 28,
      "metadata": {
        "id": "1ITBJ6b5_WSN"
      },
      "outputs": [],
      "source": [
        "#   corrwithWQI = newdf.corrwith(newdf['WQI_cal'])\n",
        "# type(corrwithWQI)\n",
        "# corrdict  = corrwithWQI.to_dict()\n",
        "# sortedkeys = sorted(corrdict, key=corrdict.get, reverse=True)\n",
        "# for r in sortedkeys[:11]:\n",
        "#     print(r, corrdict[r])"
      ]
    },
    {
      "cell_type": "code",
      "execution_count": 29,
      "metadata": {
        "id": "37Puh-UjC5U9"
      },
      "outputs": [],
      "source": [
        "# newtraindf = newdf[sortedkeys].drop('WQI_cal',axis = 1)\n",
        "# scaler = StandardScaler()\n",
        "# scaler.fit(newtraindf)\n",
        "# newscaledtraindf = scaler.transform(newtraindf)\n",
        "# WQIandBands(newscaledtraindf,WQI)"
      ]
    },
    {
      "cell_type": "code",
      "execution_count": 30,
      "metadata": {
        "id": "mF5NvxzBFwM-"
      },
      "outputs": [],
      "source": [
        "# plt.scatter(df['norm_NarrowNIR_SWIR1'],df['WQI_cal'])\n",
        "# plt.scatter(df['norm_NarrowNIR_SWIR2'],df['WQI_cal'])\n",
        "# plt.scatter(df['norm_WaterVapour_SWIR2'],df['WQI_cal'])"
      ]
    },
    {
      "cell_type": "markdown",
      "metadata": {
        "id": "5sjQ6U5pScCF"
      },
      "source": [
        "## WQI with  PCA 3 bands"
      ]
    }
  ],
  "metadata": {
    "colab": {
      "provenance": []
    },
    "kernelspec": {
      "display_name": "base",
      "language": "python",
      "name": "base"
    },
    "language_info": {
      "codemirror_mode": {
        "name": "ipython",
        "version": 3
      },
      "file_extension": ".py",
      "mimetype": "text/x-python",
      "name": "python",
      "nbconvert_exporter": "python",
      "pygments_lexer": "ipython3",
      "version": "3.9.13"
    }
  },
  "nbformat": 4,
  "nbformat_minor": 0
}
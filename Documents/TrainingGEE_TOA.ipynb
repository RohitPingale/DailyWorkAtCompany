{
  "cells": [
    {
      "cell_type": "code",
      "execution_count": 1,
      "metadata": {
        "id": "fAQus6ELPxHy"
      },
      "outputs": [],
      "source": [
        "import pandas as pd\n",
        "import seaborn as sns\n",
        "import matplotlib.pyplot as plt\n",
        "import numpy as np\n",
        "from sklearn.metrics import mean_absolute_error\n",
        "\n",
        "import warnings\n",
        "warnings.simplefilter(action=\"ignore\", category=FutureWarning)\n",
        "import pickle\n",
        "import pandas\n",
        "import pandas as pd\n",
        "import seaborn as sns\n",
        "import matplotlib.pyplot as plt\n",
        "import numpy as np\n",
        "from sklearn.model_selection import train_test_split, cross_val_score, cross_validate\n",
        "from sklearn.svm import SVR\n",
        "import itertools\n",
        "from sklearn.metrics import mean_squared_error, r2_score, mean_absolute_error, mean_absolute_percentage_error\n",
        "from sklearn.model_selection import cross_val_score\n",
        "from sklearn.linear_model import LinearRegression\n",
        "from sklearn.metrics import make_scorer, mean_absolute_error, r2_score\n",
        "import numpy as nps\n",
        "from itertools import combinations"
      ]
    },
    {
      "cell_type": "code",
      "source": [
        "from google.colab import drive\n",
        "drive.mount('/content/drive')"
      ],
      "metadata": {
        "colab": {
          "base_uri": "https://localhost:8080/"
        },
        "id": "BfaGgqnI_e9x",
        "outputId": "61224910-4369-4f5f-8962-887aecfce723"
      },
      "execution_count": 2,
      "outputs": [
        {
          "output_type": "stream",
          "name": "stdout",
          "text": [
            "Mounted at /content/drive\n"
          ]
        }
      ]
    },
    {
      "cell_type": "code",
      "execution_count": 3,
      "metadata": {
        "id": "_PYgYVV7PxH2"
      },
      "outputs": [],
      "source": [
        "##### only for testing the new ponds ################\n",
        "\n",
        "\n",
        "import numpy as np\n",
        "########### define training features and reset index####################################\n",
        "\n",
        "\n",
        "def train_inf(train,test,param,scale):\n",
        "  ph=[]\n",
        "  sal=[]\n",
        "  amm=[]\n",
        "  mag=[]\n",
        "  cal=[]\n",
        "  hard=[]\n",
        "  alk=[]\n",
        "  carb=[]\n",
        "  bicarb=[]\n",
        "  print(\"==================\")\n",
        "  print(param)\n",
        "  print(\"==================\")\n",
        "  print()\n",
        "  df_train = train\n",
        "  df_test = test\n",
        "\n",
        "  df_train = df_train[[\"B1\", \"B2\", \"B3\",\"B4\", \"B5\", \\\n",
        "                       \"B6\", \"B7\", \"B8\", \"B8A\", \"B9\", \"B11\", \"B12\", \"pH\", \"Salinity\", \"Carbonate\", \"BiCarbonate\",\\\n",
        "                       \"Alkalinity\", \"Hardness\",\"Calcium\", \"Magnesium\",\"Ammonia\"]]\n",
        "\n",
        "\n",
        "  df_train = df_train.reset_index()\n",
        "\n",
        "  df_test = df_test[[\"B1\", \"B2\", \"B3\",\"B4\", \"B5\", \\\n",
        "                       \"B6\", \"B7\", \"B8\", \"B8A\", \"B9\", \"B11\", \"B12\", \"pH\", \"Salinity\", \"Carbonate\", \"BiCarbonate\",\\\n",
        "                       \"Alkalinity\", \"Hardness\",\"Calcium\", \"Magnesium\",\"Ammonia\"]]\n",
        "\n",
        "  df_test = df_test.reset_index()\n",
        "  print('------------------------------------------------------------------')\n",
        "  #print(df_test.loc[0].dtypes)\n",
        "  ###################get the index val #########################\n",
        "  minimum = df_train[param].min()\n",
        "  baseline_index = np.where([df_train[param]==minimum])[1][0]\n",
        "  print('baseline val : ', minimum)\n",
        "  print('baseline_index : ', baseline_index)\n",
        "  print(\"___________________________________\")\n",
        "\n",
        "\n",
        "\n",
        "  ##################drop the baseline row and subtract that from training data and val data##########################\n",
        "  baseline = df_train.loc[baseline_index]\n",
        "  df_train = df_train.drop(baseline_index)\n",
        "\n",
        "  df_train = df_train-baseline\n",
        "\n",
        "  df_test = df_test-baseline\n",
        "\n",
        "\n",
        "  xTrain = df_train[[\"B1\", \"B2\", \"B3\",\"B4\", \"B5\", \\\n",
        "                       \"B6\", \"B7\", \"B8\", \"B8A\", \"B9\", \"B11\", \"B12\",]]\n",
        "\n",
        "  yTrain = df_train[[param]]/int(scale)\n",
        "  if param=='Ammonia':\n",
        "   # df_test = df_test[df_test['Ammonia'].notna()]\n",
        "    yTrain = df_train[[param]]*int(scale)\n",
        "\n",
        "  xTest = df_test[[\"B1\", \"B2\", \"B3\",\"B4\", \"B5\", \\\n",
        "                       \"B6\", \"B7\", \"B8\", \"B8A\", \"B9\", \"B11\", \"B12\"]]\n",
        "  yTest = df_test[[param]]\n",
        "\n",
        "  #model = pickle.load(open('/content/{}.sav'.format(params[num]), 'rb'))\n",
        "  model  = SVR(kernel='rbf', C=1.0, epsilon=0.2)\n",
        "  model.fit(xTrain, yTrain)\n",
        "\n",
        "  pred = model.predict(xTest)\n",
        "\n",
        "  prediction = pred*int(scale)\n",
        "  if param=='Ammonia':\n",
        "    prediction = pred/int(scale)\n",
        "\n",
        "\n",
        "  yTest = yTest + minimum\n",
        "  prediction = prediction + minimum\n",
        "\n",
        "\n",
        "  ##### to save the models\n",
        "  filename = '/content/{}.sav'.format(param)\n",
        "  pickle.dump(model, open(filename, 'wb'))\n",
        "\n",
        "  print(\"Test results\")\n",
        "  print(\"___________________________\")\n",
        "  ### uncomment the below code if GT values are present\n",
        "\n",
        "  print(\"MAE\", mean_absolute_error(yTest, prediction))\n",
        "  # # print(\"MSE\", mean_squared_error(yTest, prediction))\n",
        "  # # print(\"RMSE\", mean_squared_error(yTest, prediction, squared=False))\n",
        "  print(\"MAPE\", mean_absolute_percentage_error(yTest, prediction))\n",
        "  print(\"R2 Score\", r2_score(yTest, prediction))\n",
        "\n",
        "  print()\n",
        "  print(print(' Predicted' ))\n",
        "  for i,j in zip(list(yTest[param]),prediction):\n",
        "    print(i,j)\n",
        "\n",
        "  print(\"===========================================================================\")\n",
        "  print()\n",
        "  return prediction, baseline, minimum"
      ]
    },
    {
      "cell_type": "code",
      "source": [
        "dataframe = pd.read_csv(\"/content/drive/MyDrive/WQA_data/dataframe-tve.csv\")\n",
        "print(\"Total samples\", len(dataframe))\n",
        "dataframe = dataframe[dataframe[\"Coincidence\"] == 0]\n",
        "dataframe = dataframe[dataframe[\"Salinity\"]>20]\n",
        "print(len(dataframe))\n",
        "trainingset = dataframe\n",
        "# validationset = dataframe[dataframe[\"Date of Image\"]==\"2023-07-09\"]\n",
        "# trainingset = dataframe.drop(validationset.index)"
      ],
      "metadata": {
        "colab": {
          "base_uri": "https://localhost:8080/"
        },
        "id": "QHCtLDdnfrKL",
        "outputId": "cd5df49e-86ce-4418-a55f-512eace1ac55"
      },
      "execution_count": 4,
      "outputs": [
        {
          "output_type": "stream",
          "name": "stdout",
          "text": [
            "Total samples 179\n",
            "56\n"
          ]
        }
      ]
    },
    {
      "cell_type": "code",
      "source": [
        "max(trainingset['Alkalinity'])"
      ],
      "metadata": {
        "colab": {
          "base_uri": "https://localhost:8080/"
        },
        "id": "Ep_7axw4hIm6",
        "outputId": "9abf9331-e027-49f6-897a-10e99d6527d0"
      },
      "execution_count": 5,
      "outputs": [
        {
          "output_type": "execute_result",
          "data": {
            "text/plain": [
              "200"
            ]
          },
          "metadata": {},
          "execution_count": 5
        }
      ]
    },
    {
      "cell_type": "code",
      "source": [
        "validationset = pd.read_csv('/content/drive/MyDrive/WQA_data/testset.csv')\n",
        "\n",
        "validationset['pH'] = [8.0,8.1,8.1,7.8,7.5]\n",
        "validationset['Salinity'] = [30,30,25,20,22]\n",
        "validationset['Ammonia'] = [0.07,0.03,0.04,0.04,0.08]\n",
        "validationset['Carbonate'] = [0,10,10,0,0]\n",
        "validationset['BiCarbonate'] = [150,200,250,100,110]\n",
        "validationset['Alkalinity'] = [150,200,250,100,110]\n",
        "validationset['Hardness'] = [6800,6960,6500,7100,7500]\n",
        "validationset['Calcium'] = [684,688,644,1080,1102]\n",
        "validationset['Magnesium'] = [1232,1262,1126,1069,1121]\n"
      ],
      "metadata": {
        "id": "Q5S_lh5P1M9e"
      },
      "execution_count": 6,
      "outputs": []
    },
    {
      "cell_type": "code",
      "source": [
        "validationset"
      ],
      "metadata": {
        "colab": {
          "base_uri": "https://localhost:8080/",
          "height": 235
        },
        "id": "aV2q50MIFp8q",
        "outputId": "29312387-05aa-4ea8-86bd-8965940a2ac8"
      },
      "execution_count": 7,
      "outputs": [
        {
          "output_type": "execute_result",
          "data": {
            "text/plain": [
              "     B1  B10   B11  B12    B2    B3    B4    B5    B6    B7  ...  PondID   pH  \\\n",
              "0  1209   96   691  437   954  1030   735   967   884   932  ...   BR_P1  8.0   \n",
              "1  1212   81  1029  623   933   834   590   884  1423  1755  ...   BR_P2  8.1   \n",
              "2  1198  102   921  532  1000   988   715   995  1026  1260  ...   BR_P3  8.1   \n",
              "3  2110  360  1342  958  1730  1556  1417  1502  1862  2148  ...    M_P1  7.8   \n",
              "4  2123  358  1340  976  1746  1605  1416  1492  1850  2141  ...    M_P2  7.5   \n",
              "\n",
              "   Salinity  Ammonia  Carbonate  BiCarbonate Alkalinity  Hardness  Calcium  \\\n",
              "0        30     0.07          0          150        150      6800      684   \n",
              "1        30     0.03         10          200        200      6960      688   \n",
              "2        25     0.04         10          250        250      6500      644   \n",
              "3        20     0.04          0          100        100      7100     1080   \n",
              "4        22     0.08          0          110        110      7500     1102   \n",
              "\n",
              "   Magnesium  \n",
              "0       1232  \n",
              "1       1262  \n",
              "2       1126  \n",
              "3       1069  \n",
              "4       1121  \n",
              "\n",
              "[5 rows x 26 columns]"
            ],
            "text/html": [
              "\n",
              "\n",
              "  <div id=\"df-4d672e96-ed05-4eb6-a3eb-5a3608065f50\">\n",
              "    <div class=\"colab-df-container\">\n",
              "      <div>\n",
              "<style scoped>\n",
              "    .dataframe tbody tr th:only-of-type {\n",
              "        vertical-align: middle;\n",
              "    }\n",
              "\n",
              "    .dataframe tbody tr th {\n",
              "        vertical-align: top;\n",
              "    }\n",
              "\n",
              "    .dataframe thead th {\n",
              "        text-align: right;\n",
              "    }\n",
              "</style>\n",
              "<table border=\"1\" class=\"dataframe\">\n",
              "  <thead>\n",
              "    <tr style=\"text-align: right;\">\n",
              "      <th></th>\n",
              "      <th>B1</th>\n",
              "      <th>B10</th>\n",
              "      <th>B11</th>\n",
              "      <th>B12</th>\n",
              "      <th>B2</th>\n",
              "      <th>B3</th>\n",
              "      <th>B4</th>\n",
              "      <th>B5</th>\n",
              "      <th>B6</th>\n",
              "      <th>B7</th>\n",
              "      <th>...</th>\n",
              "      <th>PondID</th>\n",
              "      <th>pH</th>\n",
              "      <th>Salinity</th>\n",
              "      <th>Ammonia</th>\n",
              "      <th>Carbonate</th>\n",
              "      <th>BiCarbonate</th>\n",
              "      <th>Alkalinity</th>\n",
              "      <th>Hardness</th>\n",
              "      <th>Calcium</th>\n",
              "      <th>Magnesium</th>\n",
              "    </tr>\n",
              "  </thead>\n",
              "  <tbody>\n",
              "    <tr>\n",
              "      <th>0</th>\n",
              "      <td>1209</td>\n",
              "      <td>96</td>\n",
              "      <td>691</td>\n",
              "      <td>437</td>\n",
              "      <td>954</td>\n",
              "      <td>1030</td>\n",
              "      <td>735</td>\n",
              "      <td>967</td>\n",
              "      <td>884</td>\n",
              "      <td>932</td>\n",
              "      <td>...</td>\n",
              "      <td>BR_P1</td>\n",
              "      <td>8.0</td>\n",
              "      <td>30</td>\n",
              "      <td>0.07</td>\n",
              "      <td>0</td>\n",
              "      <td>150</td>\n",
              "      <td>150</td>\n",
              "      <td>6800</td>\n",
              "      <td>684</td>\n",
              "      <td>1232</td>\n",
              "    </tr>\n",
              "    <tr>\n",
              "      <th>1</th>\n",
              "      <td>1212</td>\n",
              "      <td>81</td>\n",
              "      <td>1029</td>\n",
              "      <td>623</td>\n",
              "      <td>933</td>\n",
              "      <td>834</td>\n",
              "      <td>590</td>\n",
              "      <td>884</td>\n",
              "      <td>1423</td>\n",
              "      <td>1755</td>\n",
              "      <td>...</td>\n",
              "      <td>BR_P2</td>\n",
              "      <td>8.1</td>\n",
              "      <td>30</td>\n",
              "      <td>0.03</td>\n",
              "      <td>10</td>\n",
              "      <td>200</td>\n",
              "      <td>200</td>\n",
              "      <td>6960</td>\n",
              "      <td>688</td>\n",
              "      <td>1262</td>\n",
              "    </tr>\n",
              "    <tr>\n",
              "      <th>2</th>\n",
              "      <td>1198</td>\n",
              "      <td>102</td>\n",
              "      <td>921</td>\n",
              "      <td>532</td>\n",
              "      <td>1000</td>\n",
              "      <td>988</td>\n",
              "      <td>715</td>\n",
              "      <td>995</td>\n",
              "      <td>1026</td>\n",
              "      <td>1260</td>\n",
              "      <td>...</td>\n",
              "      <td>BR_P3</td>\n",
              "      <td>8.1</td>\n",
              "      <td>25</td>\n",
              "      <td>0.04</td>\n",
              "      <td>10</td>\n",
              "      <td>250</td>\n",
              "      <td>250</td>\n",
              "      <td>6500</td>\n",
              "      <td>644</td>\n",
              "      <td>1126</td>\n",
              "    </tr>\n",
              "    <tr>\n",
              "      <th>3</th>\n",
              "      <td>2110</td>\n",
              "      <td>360</td>\n",
              "      <td>1342</td>\n",
              "      <td>958</td>\n",
              "      <td>1730</td>\n",
              "      <td>1556</td>\n",
              "      <td>1417</td>\n",
              "      <td>1502</td>\n",
              "      <td>1862</td>\n",
              "      <td>2148</td>\n",
              "      <td>...</td>\n",
              "      <td>M_P1</td>\n",
              "      <td>7.8</td>\n",
              "      <td>20</td>\n",
              "      <td>0.04</td>\n",
              "      <td>0</td>\n",
              "      <td>100</td>\n",
              "      <td>100</td>\n",
              "      <td>7100</td>\n",
              "      <td>1080</td>\n",
              "      <td>1069</td>\n",
              "    </tr>\n",
              "    <tr>\n",
              "      <th>4</th>\n",
              "      <td>2123</td>\n",
              "      <td>358</td>\n",
              "      <td>1340</td>\n",
              "      <td>976</td>\n",
              "      <td>1746</td>\n",
              "      <td>1605</td>\n",
              "      <td>1416</td>\n",
              "      <td>1492</td>\n",
              "      <td>1850</td>\n",
              "      <td>2141</td>\n",
              "      <td>...</td>\n",
              "      <td>M_P2</td>\n",
              "      <td>7.5</td>\n",
              "      <td>22</td>\n",
              "      <td>0.08</td>\n",
              "      <td>0</td>\n",
              "      <td>110</td>\n",
              "      <td>110</td>\n",
              "      <td>7500</td>\n",
              "      <td>1102</td>\n",
              "      <td>1121</td>\n",
              "    </tr>\n",
              "  </tbody>\n",
              "</table>\n",
              "<p>5 rows × 26 columns</p>\n",
              "</div>\n",
              "      <button class=\"colab-df-convert\" onclick=\"convertToInteractive('df-4d672e96-ed05-4eb6-a3eb-5a3608065f50')\"\n",
              "              title=\"Convert this dataframe to an interactive table.\"\n",
              "              style=\"display:none;\">\n",
              "\n",
              "  <svg xmlns=\"http://www.w3.org/2000/svg\" height=\"24px\"viewBox=\"0 0 24 24\"\n",
              "       width=\"24px\">\n",
              "    <path d=\"M0 0h24v24H0V0z\" fill=\"none\"/>\n",
              "    <path d=\"M18.56 5.44l.94 2.06.94-2.06 2.06-.94-2.06-.94-.94-2.06-.94 2.06-2.06.94zm-11 1L8.5 8.5l.94-2.06 2.06-.94-2.06-.94L8.5 2.5l-.94 2.06-2.06.94zm10 10l.94 2.06.94-2.06 2.06-.94-2.06-.94-.94-2.06-.94 2.06-2.06.94z\"/><path d=\"M17.41 7.96l-1.37-1.37c-.4-.4-.92-.59-1.43-.59-.52 0-1.04.2-1.43.59L10.3 9.45l-7.72 7.72c-.78.78-.78 2.05 0 2.83L4 21.41c.39.39.9.59 1.41.59.51 0 1.02-.2 1.41-.59l7.78-7.78 2.81-2.81c.8-.78.8-2.07 0-2.86zM5.41 20L4 18.59l7.72-7.72 1.47 1.35L5.41 20z\"/>\n",
              "  </svg>\n",
              "      </button>\n",
              "\n",
              "\n",
              "\n",
              "    <div id=\"df-696aacce-a0b1-43de-b1b1-2a79e50c5b0e\">\n",
              "      <button class=\"colab-df-quickchart\" onclick=\"quickchart('df-696aacce-a0b1-43de-b1b1-2a79e50c5b0e')\"\n",
              "              title=\"Suggest charts.\"\n",
              "              style=\"display:none;\">\n",
              "\n",
              "<svg xmlns=\"http://www.w3.org/2000/svg\" height=\"24px\"viewBox=\"0 0 24 24\"\n",
              "     width=\"24px\">\n",
              "    <g>\n",
              "        <path d=\"M19 3H5c-1.1 0-2 .9-2 2v14c0 1.1.9 2 2 2h14c1.1 0 2-.9 2-2V5c0-1.1-.9-2-2-2zM9 17H7v-7h2v7zm4 0h-2V7h2v10zm4 0h-2v-4h2v4z\"/>\n",
              "    </g>\n",
              "</svg>\n",
              "      </button>\n",
              "    </div>\n",
              "\n",
              "<style>\n",
              "  .colab-df-quickchart {\n",
              "    background-color: #E8F0FE;\n",
              "    border: none;\n",
              "    border-radius: 50%;\n",
              "    cursor: pointer;\n",
              "    display: none;\n",
              "    fill: #1967D2;\n",
              "    height: 32px;\n",
              "    padding: 0 0 0 0;\n",
              "    width: 32px;\n",
              "  }\n",
              "\n",
              "  .colab-df-quickchart:hover {\n",
              "    background-color: #E2EBFA;\n",
              "    box-shadow: 0px 1px 2px rgba(60, 64, 67, 0.3), 0px 1px 3px 1px rgba(60, 64, 67, 0.15);\n",
              "    fill: #174EA6;\n",
              "  }\n",
              "\n",
              "  [theme=dark] .colab-df-quickchart {\n",
              "    background-color: #3B4455;\n",
              "    fill: #D2E3FC;\n",
              "  }\n",
              "\n",
              "  [theme=dark] .colab-df-quickchart:hover {\n",
              "    background-color: #434B5C;\n",
              "    box-shadow: 0px 1px 3px 1px rgba(0, 0, 0, 0.15);\n",
              "    filter: drop-shadow(0px 1px 2px rgba(0, 0, 0, 0.3));\n",
              "    fill: #FFFFFF;\n",
              "  }\n",
              "</style>\n",
              "\n",
              "    <script>\n",
              "      async function quickchart(key) {\n",
              "        const containerElement = document.querySelector('#' + key);\n",
              "        const charts = await google.colab.kernel.invokeFunction(\n",
              "            'suggestCharts', [key], {});\n",
              "      }\n",
              "    </script>\n",
              "\n",
              "      <script>\n",
              "\n",
              "function displayQuickchartButton(domScope) {\n",
              "  let quickchartButtonEl =\n",
              "    domScope.querySelector('#df-696aacce-a0b1-43de-b1b1-2a79e50c5b0e button.colab-df-quickchart');\n",
              "  quickchartButtonEl.style.display =\n",
              "    google.colab.kernel.accessAllowed ? 'block' : 'none';\n",
              "}\n",
              "\n",
              "        displayQuickchartButton(document);\n",
              "      </script>\n",
              "      <style>\n",
              "    .colab-df-container {\n",
              "      display:flex;\n",
              "      flex-wrap:wrap;\n",
              "      gap: 12px;\n",
              "    }\n",
              "\n",
              "    .colab-df-convert {\n",
              "      background-color: #E8F0FE;\n",
              "      border: none;\n",
              "      border-radius: 50%;\n",
              "      cursor: pointer;\n",
              "      display: none;\n",
              "      fill: #1967D2;\n",
              "      height: 32px;\n",
              "      padding: 0 0 0 0;\n",
              "      width: 32px;\n",
              "    }\n",
              "\n",
              "    .colab-df-convert:hover {\n",
              "      background-color: #E2EBFA;\n",
              "      box-shadow: 0px 1px 2px rgba(60, 64, 67, 0.3), 0px 1px 3px 1px rgba(60, 64, 67, 0.15);\n",
              "      fill: #174EA6;\n",
              "    }\n",
              "\n",
              "    [theme=dark] .colab-df-convert {\n",
              "      background-color: #3B4455;\n",
              "      fill: #D2E3FC;\n",
              "    }\n",
              "\n",
              "    [theme=dark] .colab-df-convert:hover {\n",
              "      background-color: #434B5C;\n",
              "      box-shadow: 0px 1px 3px 1px rgba(0, 0, 0, 0.15);\n",
              "      filter: drop-shadow(0px 1px 2px rgba(0, 0, 0, 0.3));\n",
              "      fill: #FFFFFF;\n",
              "    }\n",
              "  </style>\n",
              "\n",
              "      <script>\n",
              "        const buttonEl =\n",
              "          document.querySelector('#df-4d672e96-ed05-4eb6-a3eb-5a3608065f50 button.colab-df-convert');\n",
              "        buttonEl.style.display =\n",
              "          google.colab.kernel.accessAllowed ? 'block' : 'none';\n",
              "\n",
              "        async function convertToInteractive(key) {\n",
              "          const element = document.querySelector('#df-4d672e96-ed05-4eb6-a3eb-5a3608065f50');\n",
              "          const dataTable =\n",
              "            await google.colab.kernel.invokeFunction('convertToInteractive',\n",
              "                                                     [key], {});\n",
              "          if (!dataTable) return;\n",
              "\n",
              "          const docLinkHtml = 'Like what you see? Visit the ' +\n",
              "            '<a target=\"_blank\" href=https://colab.research.google.com/notebooks/data_table.ipynb>data table notebook</a>'\n",
              "            + ' to learn more about interactive tables.';\n",
              "          element.innerHTML = '';\n",
              "          dataTable['output_type'] = 'display_data';\n",
              "          await google.colab.output.renderOutput(dataTable, element);\n",
              "          const docLink = document.createElement('div');\n",
              "          docLink.innerHTML = docLinkHtml;\n",
              "          element.appendChild(docLink);\n",
              "        }\n",
              "      </script>\n",
              "    </div>\n",
              "  </div>\n"
            ]
          },
          "metadata": {},
          "execution_count": 7
        }
      ]
    },
    {
      "cell_type": "code",
      "source": [
        "bands = [\"B1\", \"B2\", \"B3\",\"B4\", \"B5\",  \"B6\", \"B7\", \"B8\", \"B8A\", \"B9\", \"B11\", \"B12\"]\n",
        "parameters = [\"pH\", \"Salinity\", \"Carbonate\", \"BiCarbonate\",\\\n",
        "                       \"Alkalinity\", \"Hardness\",\"Calcium\", \"Magnesium\",\"Ammonia\"]\n",
        "X_train, X_test, y_train, y_test = train_test_split(trainingset[bands], trainingset[parameters], test_size=0.33,random_state=42)"
      ],
      "metadata": {
        "id": "APPGbCG1SNb1"
      },
      "execution_count": 8,
      "outputs": []
    },
    {
      "cell_type": "code",
      "source": [
        "X_train[parameters] = y_train\n",
        "X_test[parameters] = y_test\n",
        "trainingset,validationset = X_train,X_test"
      ],
      "metadata": {
        "id": "nIPkNtM4SqdV"
      },
      "execution_count": 9,
      "outputs": []
    },
    {
      "cell_type": "code",
      "source": [
        "ph,ph_baseline, ph_minimum =train_inf(trainingset,validationset,'pH',1)\n",
        "print(ph_baseline, ph_minimum)\n",
        "sal,sal_baseline, sal_minimum=train_inf(trainingset,validationset,'Salinity',10)\n",
        "print(sal_baseline, sal_minimum)\n",
        "amm,amm_baseline, amm_minimum =train_inf(trainingset,validationset,'Ammonia',100)\n",
        "print(amm_baseline, amm_minimum)\n",
        "mag,mag_baseline, mag_minimum = train_inf(trainingset,validationset,'Magnesium',1000)\n",
        "print(mag_baseline, mag_minimum)\n",
        "cal,cal_baseline, cal_minimum =train_inf(trainingset,validationset,'Calcium',1000)\n",
        "print(cal_baseline, cal_minimum)\n",
        "carb,carb_baseline, carb_minimum=train_inf(trainingset,validationset,'Carbonate',100)\n",
        "print(carb_baseline,carb_minimum)\n",
        "bicarb,bicarb_baseline, bicarb_minimum=train_inf(trainingset,validationset,'BiCarbonate',100)\n",
        "print(bicarb_baseline, bicarb_minimum)\n",
        "hard,hard_baseline, hard_minimum=train_inf(trainingset,validationset,'Hardness',1000)\n",
        "print(hard_baseline, hard_minimum)\n",
        "alk,alk_baseline, alk_minimum=train_inf(trainingset,validationset,'Alkalinity',100)\n",
        "print(alk_baseline, alk_minimum)\n",
        "\n",
        "# pH =  0.3238, 0.0404\n",
        "# Salinity =  2.5328, 0.0643\n",
        "# Ammonia = 0.03262, 0.4457\n",
        "#mag = 323.5788, 0.2513\n",
        "#cal = 91.0132, 0.1686\n",
        "#carb = 15.3062, 4.0716\n",
        "#bicarb = 34.7371, 0.2287\n",
        "#hard = 960.6905, 0.1233\n",
        "#alk = 23.9199, 0.1406\n",
        "# sal = [1778.0,1683.0,1891.0,2268.0,2457.0,2654.0,2960.0,2793.0,3142.0,682.0,4002.0,3492.0]\n",
        "# amm = [1461.0,1253.0,1154.0,919.0,1025.0,1059.0,1171.0,920.0,1188.0,165.0,980.0,612.0]\n",
        "# mag =[1403.00,975.00,800.00,628.00,818.00,738.00,839.00,579.00,797.00,135.00,744.00,336.00]\n",
        "# cal = [1551.00,1256.00,1189.00,912.00,1198.00,923.00,985.00,731.00,880.00,230.00,811.00,575.00]\n",
        "# carb = [1672.00,1320.00,1195.00,945.00,1090.00,1003.00,1026.00,760.00,900.00,145.00,639.00,454.00]\n",
        "# bicarb = [1497.0,1187.0,1055.0,809.0,926.0,862.0,923.0,711.0,942.0,160.0,789.0,481.0]\n",
        "# hard = [1497.0,1187.0,1055.0,809.0,926.0,862.0,923.0,711.0,942.0,160.0,789.0,481.0]\n",
        "# alk = [1403.00,975.00,800.00,628.00,818.00,738.00,839.00,579.00,797.00,135.00,744.00,336.00]\n"
      ],
      "metadata": {
        "colab": {
          "base_uri": "https://localhost:8080/"
        },
        "id": "K3EQ8TYsfrGc",
        "outputId": "6b5f2114-df97-4887-91be-93aa61d68731"
      },
      "execution_count": 10,
      "outputs": [
        {
          "output_type": "stream",
          "name": "stdout",
          "text": [
            "==================\n",
            "pH\n",
            "==================\n",
            "\n",
            "------------------------------------------------------------------\n",
            "baseline val :  7.5\n",
            "baseline_index :  7\n",
            "___________________________________\n",
            "Test results\n",
            "___________________________\n",
            "MAE 0.24310744349938776\n",
            "MAPE 0.030211576447264955\n",
            "R2 Score 0.5263368221633086\n",
            "\n",
            " Predicted\n",
            "None\n",
            "8.4 8.399300020251351\n",
            "8.6 8.38720677942306\n",
            "7.6 8.016006341630428\n",
            "8.4 8.345085368865751\n",
            "8.6 8.382907234506426\n",
            "8.3 8.171884191289772\n",
            "7.9 8.000798550655599\n",
            "7.7 8.000793261767521\n",
            "7.7 8.262420123113996\n",
            "8.5 8.370239055717834\n",
            "7.7 8.031993604331856\n",
            "8.7 8.405236939869926\n",
            "7.6 8.00688492345708\n",
            "7.7 8.0073138760036\n",
            "8.6 8.337237311659354\n",
            "8.4 8.2806882691531\n",
            "8.6 8.401996410492936\n",
            "8.6 8.313262264666465\n",
            "8.1 8.387874591424264\n",
            "===========================================================================\n",
            "\n",
            "index            90.00\n",
            "B1             1869.00\n",
            "B2             1548.00\n",
            "B3             1403.00\n",
            "B4             1232.00\n",
            "B5             1351.00\n",
            "B6             1298.00\n",
            "B7             1406.00\n",
            "B8             1173.00\n",
            "B8A            1355.00\n",
            "B9              304.00\n",
            "B11            1012.00\n",
            "B12             721.00\n",
            "pH                7.50\n",
            "Salinity         22.00\n",
            "Carbonate         0.00\n",
            "BiCarbonate     170.00\n",
            "Alkalinity      170.00\n",
            "Hardness       6400.00\n",
            "Calcium         864.00\n",
            "Magnesium       981.00\n",
            "Ammonia           0.04\n",
            "Name: 7, dtype: float64 7.5\n",
            "==================\n",
            "Salinity\n",
            "==================\n",
            "\n",
            "------------------------------------------------------------------\n",
            "baseline val :  22\n",
            "baseline_index :  7\n",
            "___________________________________\n",
            "Test results\n",
            "___________________________\n",
            "MAE 1.711936936846396\n",
            "MAPE 0.05199735048033832\n",
            "R2 Score 0.8393795323736379\n",
            "\n",
            " Predicted\n",
            "None\n",
            "35.0 36.9805142546524\n",
            "38.0 37.854025993885415\n",
            "24.0 25.814519399006734\n",
            "40.0 36.76836628202241\n",
            "33.0 36.86450908595515\n",
            "40.0 38.793812202382796\n",
            "25.0 24.41591543708932\n",
            "25.0 25.74675143889022\n",
            "35.0 38.54228931875643\n",
            "32.0 37.850094272871885\n",
            "30.0 28.93752929151588\n",
            "40.0 38.348663035873784\n",
            "25.0 25.77087918575272\n",
            "25.0 25.99572723758612\n",
            "35.0 37.77475314038297\n",
            "34.0 34.0641390787209\n",
            "37.0 37.91937000406901\n",
            "36.0 36.06933983303719\n",
            "40.0 38.7477722068306\n",
            "===========================================================================\n",
            "\n",
            "index            90.00\n",
            "B1             1869.00\n",
            "B2             1548.00\n",
            "B3             1403.00\n",
            "B4             1232.00\n",
            "B5             1351.00\n",
            "B6             1298.00\n",
            "B7             1406.00\n",
            "B8             1173.00\n",
            "B8A            1355.00\n",
            "B9              304.00\n",
            "B11            1012.00\n",
            "B12             721.00\n",
            "pH                7.50\n",
            "Salinity         22.00\n",
            "Carbonate         0.00\n",
            "BiCarbonate     170.00\n",
            "Alkalinity      170.00\n",
            "Hardness       6400.00\n",
            "Calcium         864.00\n",
            "Magnesium       981.00\n",
            "Ammonia           0.04\n",
            "Name: 7, dtype: float64 22\n",
            "==================\n",
            "Ammonia\n",
            "==================\n",
            "\n",
            "------------------------------------------------------------------\n",
            "baseline val :  0.0\n",
            "baseline_index :  18\n",
            "___________________________________\n",
            "Test results\n",
            "___________________________\n",
            "MAE 0.021572309738027776\n",
            "MAPE 36725676628913.9\n",
            "R2 Score 0.4446882639144609\n",
            "\n",
            " Predicted\n",
            "None\n",
            "0.0 0.02651694528630482\n",
            "0.0 0.030296679930932303\n",
            "0.05 0.059252685834600916\n",
            "0.04 0.026959750547422577\n",
            "0.02 0.026809383958817278\n",
            "0.05 0.05137259406202786\n",
            "0.12 0.06591579812574493\n",
            "0.06 0.06415711333964264\n",
            "0.1 0.047738252478471944\n",
            "0.02 0.029346533607930297\n",
            "0.02 0.02754464915807475\n",
            "0.0 0.03798349135234985\n",
            "0.07 0.0620707055377038\n",
            "0.08 0.06037201283352138\n",
            "0.04 0.02832672813684124\n",
            "0.01 0.023126310374896066\n",
            "0.0 0.03338897294264681\n",
            "0.0 0.026753939283526224\n",
            "0.08 0.035292166449516146\n",
            "===========================================================================\n",
            "\n",
            "index             1.0\n",
            "B1             1433.0\n",
            "B2             1179.0\n",
            "B3             1065.0\n",
            "B4              794.0\n",
            "B5              854.0\n",
            "B6              918.0\n",
            "B7             1042.0\n",
            "B8              737.0\n",
            "B8A             993.0\n",
            "B9              131.0\n",
            "B11             713.0\n",
            "B12             484.0\n",
            "pH                8.7\n",
            "Salinity         38.0\n",
            "Carbonate        40.0\n",
            "BiCarbonate     120.0\n",
            "Alkalinity      160.0\n",
            "Hardness       6800.0\n",
            "Calcium         472.0\n",
            "Magnesium      1471.0\n",
            "Ammonia           0.0\n",
            "Name: 18, dtype: float64 0.0\n",
            "==================\n",
            "Magnesium\n",
            "==================\n",
            "\n",
            "------------------------------------------------------------------\n",
            "baseline val :  603\n",
            "baseline_index :  9\n",
            "___________________________________\n",
            "Test results\n",
            "___________________________\n",
            "MAE 79.24593239230722\n",
            "MAPE 0.06235248406704694\n",
            "R2 Score 0.7679898967773385\n",
            "\n",
            " Predicted\n",
            "None\n",
            "1296.0 1398.182709900248\n",
            "1441.0 1434.9217780915696\n",
            "951.0 1068.7833693175555\n",
            "1572.0 1369.3745332345345\n",
            "1284.0 1397.982119001721\n",
            "1579.0 1444.79465634887\n",
            "966.0 1069.1487312942654\n",
            "1042.0 1069.7973311378958\n",
            "1471.0 1441.409055876431\n",
            "1224.0 1427.643163349114\n",
            "1212.0 1212.7327895013095\n",
            "1491.0 1441.006839563417\n",
            "984.0 1067.9496481193823\n",
            "1026.0 1068.558755359426\n",
            "1412.0 1413.7602661863712\n",
            "1352.0 1335.367942187309\n",
            "1402.0 1434.801416076207\n",
            "1302.0 1370.963823941444\n",
            "1603.0 1435.7566024289713\n",
            "===========================================================================\n",
            "\n",
            "index           145.00\n",
            "B1             1403.00\n",
            "B2              975.00\n",
            "B3              800.00\n",
            "B4              628.00\n",
            "B5              818.00\n",
            "B6              738.00\n",
            "B7              839.00\n",
            "B8              579.00\n",
            "B8A             797.00\n",
            "B9              135.00\n",
            "B11             744.00\n",
            "B12             336.00\n",
            "pH                7.70\n",
            "Salinity         39.00\n",
            "Carbonate         0.00\n",
            "BiCarbonate     120.00\n",
            "Alkalinity      120.00\n",
            "Hardness       8100.00\n",
            "Calcium         586.00\n",
            "Magnesium       603.00\n",
            "Ammonia           0.04\n",
            "Name: 9, dtype: float64 603\n",
            "==================\n",
            "Calcium\n",
            "==================\n",
            "\n",
            "------------------------------------------------------------------\n",
            "baseline val :  308\n",
            "baseline_index :  19\n",
            "___________________________________\n"
          ]
        },
        {
          "output_type": "stream",
          "name": "stderr",
          "text": [
            "/usr/local/lib/python3.10/dist-packages/sklearn/utils/validation.py:1143: DataConversionWarning: A column-vector y was passed when a 1d array was expected. Please change the shape of y to (n_samples, ), for example using ravel().\n",
            "  y = column_or_1d(y, warn=True)\n",
            "/usr/local/lib/python3.10/dist-packages/sklearn/utils/validation.py:1143: DataConversionWarning: A column-vector y was passed when a 1d array was expected. Please change the shape of y to (n_samples, ), for example using ravel().\n",
            "  y = column_or_1d(y, warn=True)\n",
            "/usr/local/lib/python3.10/dist-packages/sklearn/utils/validation.py:1143: DataConversionWarning: A column-vector y was passed when a 1d array was expected. Please change the shape of y to (n_samples, ), for example using ravel().\n",
            "  y = column_or_1d(y, warn=True)\n",
            "/usr/local/lib/python3.10/dist-packages/sklearn/utils/validation.py:1143: DataConversionWarning: A column-vector y was passed when a 1d array was expected. Please change the shape of y to (n_samples, ), for example using ravel().\n",
            "  y = column_or_1d(y, warn=True)\n",
            "/usr/local/lib/python3.10/dist-packages/sklearn/utils/validation.py:1143: DataConversionWarning: A column-vector y was passed when a 1d array was expected. Please change the shape of y to (n_samples, ), for example using ravel().\n",
            "  y = column_or_1d(y, warn=True)\n"
          ]
        },
        {
          "output_type": "stream",
          "name": "stdout",
          "text": [
            "Test results\n",
            "___________________________\n",
            "MAE 138.05713526459053\n",
            "MAPE 0.279742529882682\n",
            "R2 Score 0.6162760170409709\n",
            "\n",
            " Predicted\n",
            "None\n",
            "388.0 507.00669679048565\n",
            "384.0 521.3130907598522\n",
            "874.0 776.1279278222992\n",
            "466.0 479.37945066996826\n",
            "352.0 518.1790666292367\n",
            "520.0 582.0480055813564\n",
            "902.0 738.991372342244\n",
            "908.0 766.2552735634489\n",
            "566.0 585.2151005048463\n",
            "302.0 514.3022453922179\n",
            "1126.0 754.4616043728693\n",
            "488.0 556.054444237415\n",
            "924.0 766.2341008975299\n",
            "924.0 776.2263267451838\n",
            "336.0 495.824756326232\n",
            "368.0 579.8122581173607\n",
            "354.0 545.8197711002106\n",
            "378.0 517.6754347801161\n",
            "520.0 477.2481451185025\n",
            "===========================================================================\n",
            "\n",
            "index            52.00\n",
            "B1             1543.00\n",
            "B2             1268.00\n",
            "B3             1253.00\n",
            "B4              971.00\n",
            "B5             1159.00\n",
            "B6             1052.00\n",
            "B7             1046.00\n",
            "B8              874.00\n",
            "B8A            1058.00\n",
            "B9              293.00\n",
            "B11             849.00\n",
            "B12             603.00\n",
            "pH                8.30\n",
            "Salinity         35.00\n",
            "Carbonate        20.00\n",
            "BiCarbonate    1150.00\n",
            "Alkalinity      170.00\n",
            "Hardness       6100.00\n",
            "Calcium         308.00\n",
            "Magnesium      1416.00\n",
            "Ammonia           0.01\n",
            "Name: 19, dtype: float64 308\n",
            "==================\n",
            "Carbonate\n",
            "==================\n",
            "\n",
            "------------------------------------------------------------------\n",
            "baseline val :  0\n",
            "baseline_index :  0\n",
            "___________________________________\n",
            "Test results\n",
            "___________________________\n",
            "MAE 14.237514833870097\n",
            "MAPE 2.8997811584420292e+16\n",
            "R2 Score 0.27078696885038533\n",
            "\n",
            " Predicted\n",
            "None\n",
            "30.0 25.239166774477045\n",
            "40.0 25.547071941414657\n",
            "0.0 15.040422776967818\n",
            "30.0 21.364869631763867\n",
            "50.0 27.444281815918515\n",
            "30.0 19.34808189006334\n",
            "0.0 16.725187469840446\n",
            "0.0 16.312932161863642\n",
            "0.0 20.04188631953299\n",
            "30.0 26.426025133855024\n",
            "0.0 23.18581312660486\n",
            "40.0 24.520208639867384\n",
            "0.0 15.648336158337504\n",
            "0.0 15.382766708961634\n",
            "40.0 23.203381480035564\n",
            "30.0 25.33771094626931\n",
            "30.0 26.1489809002202\n",
            "50.0 21.583610311365632\n",
            "10.0 24.338826586673495\n",
            "===========================================================================\n",
            "\n",
            "index           118.00\n",
            "B1             2000.00\n",
            "B2             1776.00\n",
            "B3             1589.00\n",
            "B4             1477.00\n",
            "B5             1574.00\n",
            "B6             1707.00\n",
            "B7             1853.00\n",
            "B8             1561.00\n",
            "B8A            1861.00\n",
            "B9              358.00\n",
            "B11            1534.00\n",
            "B12             993.00\n",
            "pH                7.80\n",
            "Salinity         27.00\n",
            "Carbonate         0.00\n",
            "BiCarbonate     160.00\n",
            "Alkalinity      160.00\n",
            "Hardness       7000.00\n",
            "Calcium         944.00\n",
            "Magnesium      1102.00\n",
            "Ammonia           0.04\n",
            "Name: 0, dtype: float64 0\n",
            "==================\n",
            "BiCarbonate\n",
            "==================\n",
            "\n",
            "------------------------------------------------------------------\n",
            "baseline val :  90\n",
            "baseline_index :  3\n",
            "___________________________________\n",
            "Test results\n",
            "___________________________\n",
            "MAE 23.930317410986493\n",
            "MAPE 0.1935672943120172\n",
            "R2 Score -0.8751550421911105\n",
            "\n",
            " Predicted\n",
            "None\n",
            "120.0 149.2839726703658\n",
            "110.0 143.45808849657703\n",
            "130.0 168.3368236415592\n",
            "140.0 156.978048824477\n",
            "130.0 142.11716300332722\n",
            "140.0 142.377696892381\n",
            "150.0 159.09084644624195\n",
            "130.0 162.02903748807591\n",
            "160.0 140.99180462142934\n",
            "130.0 145.28512237628158\n",
            "170.0 178.26328713400827\n",
            "120.0 134.09740564912676\n",
            "130.0 164.9658656378358\n",
            "150.0 167.09039378059398\n",
            "130.0 151.27802033601745\n",
            "130.0 161.72352386886104\n",
            "90.0 137.1523510930429\n",
            "110.0 158.27493385492787\n",
            "170.0 146.13474576352817\n",
            "===========================================================================\n",
            "\n",
            "index           144.00\n",
            "B1             1344.00\n",
            "B2              952.00\n",
            "B3              701.00\n",
            "B4              542.00\n",
            "B5              659.00\n",
            "B6              665.00\n",
            "B7              595.00\n",
            "B8              501.00\n",
            "B8A             502.00\n",
            "B9               93.00\n",
            "B11             438.00\n",
            "B12             268.00\n",
            "pH                8.60\n",
            "Salinity         40.00\n",
            "Carbonate        40.00\n",
            "BiCarbonate      90.00\n",
            "Alkalinity      130.00\n",
            "Hardness       7800.00\n",
            "Calcium         594.00\n",
            "Magnesium      1612.00\n",
            "Ammonia           0.04\n",
            "Name: 3, dtype: float64 90\n",
            "==================\n",
            "Hardness\n",
            "==================\n",
            "\n",
            "------------------------------------------------------------------\n",
            "baseline val :  5800\n",
            "baseline_index :  15\n",
            "___________________________________\n",
            "Test results\n",
            "___________________________\n",
            "MAE 570.7967962419829\n",
            "MAPE 0.09506691420295542\n",
            "R2 Score 0.08452773061701935\n",
            "\n",
            " Predicted\n",
            "None\n",
            "6300.0 6625.863886783061\n",
            "6700.0 6807.326186986354\n",
            "6600.0 6937.052661491221\n",
            "7280.0 6587.571857943261\n",
            "5880.0 6475.846855857924\n",
            "7800.0 7853.77195951632\n",
            "6800.0 6804.260816243188\n",
            "6700.0 6941.132814162271\n",
            "7400.0 7706.087577548447\n",
            "5300.0 6679.019391153496\n",
            "8200.0 6456.52786580443\n",
            "7100.0 7203.691416625038\n",
            "7040.0 6944.516046421861\n",
            "6800.0 6968.4151259707105\n",
            "6200.0 6659.129692899461\n",
            "5880.0 6372.058830770366\n",
            "4500.0 6943.988187337286\n",
            "6200.0 6646.085108885922\n",
            "7900.0 7049.975613463841\n",
            "===========================================================================\n",
            "\n",
            "index           129.00\n",
            "B1             2019.00\n",
            "B2             1719.00\n",
            "B3             1576.00\n",
            "B4             1465.00\n",
            "B5             1601.00\n",
            "B6             1787.00\n",
            "B7             2047.00\n",
            "B8             1517.00\n",
            "B8A            2075.00\n",
            "B9              368.00\n",
            "B11            1817.00\n",
            "B12            1194.00\n",
            "pH                7.60\n",
            "Salinity         22.00\n",
            "Carbonate         0.00\n",
            "BiCarbonate     140.00\n",
            "Alkalinity      140.00\n",
            "Hardness       5800.00\n",
            "Calcium         756.00\n",
            "Magnesium       871.00\n",
            "Ammonia           0.12\n",
            "Name: 15, dtype: float64 5800\n",
            "==================\n",
            "Alkalinity\n",
            "==================\n",
            "\n",
            "------------------------------------------------------------------\n",
            "baseline val :  120\n",
            "baseline_index :  9\n",
            "___________________________________\n",
            "Test results\n",
            "___________________________\n",
            "MAE 14.950720812268226\n",
            "MAPE 0.10312814768807634\n",
            "R2 Score -0.5170429794279221\n",
            "\n",
            " Predicted\n",
            "None\n",
            "150.0 165.4181416056619\n",
            "150.0 166.28167174722986\n",
            "130.0 173.23675858063854\n",
            "170.0 173.09606917991073\n",
            "180.0 167.75344791459793\n",
            "170.0 163.56631812196503\n",
            "150.0 162.09911502597916\n",
            "130.0 160.8813358785418\n",
            "160.0 164.85925749373516\n",
            "160.0 168.22334359614118\n",
            "170.0 176.53967434485068\n",
            "160.0 161.65500972468254\n",
            "130.0 166.55600119123656\n",
            "150.0 169.0590297358175\n",
            "170.0 169.0864592929048\n",
            "160.0 175.19003874242796\n",
            "140.0 165.77941129391024\n",
            "160.0 171.12414309264102\n",
            "180.0 165.52908047084074\n",
            "===========================================================================\n",
            "\n",
            "index           145.00\n",
            "B1             1403.00\n",
            "B2              975.00\n",
            "B3              800.00\n",
            "B4              628.00\n",
            "B5              818.00\n",
            "B6              738.00\n",
            "B7              839.00\n",
            "B8              579.00\n",
            "B8A             797.00\n",
            "B9              135.00\n",
            "B11             744.00\n",
            "B12             336.00\n",
            "pH                7.70\n",
            "Salinity         39.00\n",
            "Carbonate         0.00\n",
            "BiCarbonate     120.00\n",
            "Alkalinity      120.00\n",
            "Hardness       8100.00\n",
            "Calcium         586.00\n",
            "Magnesium       603.00\n",
            "Ammonia           0.04\n",
            "Name: 9, dtype: float64 120\n"
          ]
        },
        {
          "output_type": "stream",
          "name": "stderr",
          "text": [
            "/usr/local/lib/python3.10/dist-packages/sklearn/utils/validation.py:1143: DataConversionWarning: A column-vector y was passed when a 1d array was expected. Please change the shape of y to (n_samples, ), for example using ravel().\n",
            "  y = column_or_1d(y, warn=True)\n",
            "/usr/local/lib/python3.10/dist-packages/sklearn/utils/validation.py:1143: DataConversionWarning: A column-vector y was passed when a 1d array was expected. Please change the shape of y to (n_samples, ), for example using ravel().\n",
            "  y = column_or_1d(y, warn=True)\n",
            "/usr/local/lib/python3.10/dist-packages/sklearn/utils/validation.py:1143: DataConversionWarning: A column-vector y was passed when a 1d array was expected. Please change the shape of y to (n_samples, ), for example using ravel().\n",
            "  y = column_or_1d(y, warn=True)\n",
            "/usr/local/lib/python3.10/dist-packages/sklearn/utils/validation.py:1143: DataConversionWarning: A column-vector y was passed when a 1d array was expected. Please change the shape of y to (n_samples, ), for example using ravel().\n",
            "  y = column_or_1d(y, warn=True)\n"
          ]
        }
      ]
    },
    {
      "cell_type": "code",
      "source": [
        "##### only for testing the new ponds ################\n",
        "\n",
        "\n",
        "import numpy as np\n",
        "########### define training features and reset index####################################\n",
        "\n",
        "\n",
        "def test_inf(param,test_data):\n",
        "\n",
        "\n",
        "  pH = [1584.00, 1376.00, 1321.0, 1296.00,1437.00,1501.00,1639.00,\\\n",
        "                  1483.00,1574.00,241.00,1097.00,666.00,7.5,1]\n",
        "\n",
        "  Salinity = [1778.0,1683.0,1891.0,2268.0,2457.0,2654.0,2960.0,2793.0,\\\n",
        "         3142.0,682.0,4002.0,3492.0,21,10]\n",
        "  Ammonia = [1461.0,1253.0,1154.0,919.0,1025.0,1059.0,1171.0,920.0,\\\n",
        "         1188.0,165.0,980.0,612.0,0.0,100]\n",
        "  Magnesium =[1403.00,975.00,800.00,628.00,818.00,738.00,839.00,579.00,\\\n",
        "        797.00,135.00,744.00,336.00,603,1000]\n",
        "  Calcium = [1551.00,1256.00,1189.00,912.00,1198.00,923.00,985.00,731.00,\\\n",
        "         880.00,230.00,811.00,575.00,300,1000]\n",
        "  Carbonate = [1672.00,1320.00,1195.00,945.00,1090.00,1003.00,1026.00,\\\n",
        "          760.00,900.00,145.00,639.00,454.00,0,100]\n",
        "  Bicarbonate = [1497.0,1187.0,1055.0,809.0,926.0,862.0,923.0,711.0,\\\n",
        "            942.0,160.0,789.0,481.0,90,100]\n",
        "  Hardness = [1497.0,1187.0,1055.0,809.0,926.0,862.0,923.0,711.0,942.0,\\\n",
        "          160.0,789.0,481.0,4500,1000]\n",
        "  Alkalinity = [1403.00,975.00,800.00,628.00,818.00,738.00,839.00,579.00,\\\n",
        "         797.00,135.00,744.00,336.00,120,100]\n",
        "\n",
        "  baselines = {'pH':pH,'Salinity':Salinity,'Ammonia':Ammonia,\\\n",
        "               'Magnesium':Magnesium,'Calcium':Calcium,'Carbonate':Carbonate,\\\n",
        "                'Bicarbonate':Bicarbonate,'Hardness':Hardness,'Alkalinity':Alkalinity}\n",
        "\n",
        "  baseline = pd.Series(baselines[param][:-2], index =[\"B1\", \"B2\", \"B3\", \"B4\",\\\n",
        "                  'B5','B6','B7','B8','B8A','B9','B11','B12'])\n",
        "\n",
        "  minimum = baselines[param][-2]\n",
        "  scale = baselines[param][-1]\n",
        "  test_data = test_data[[\"B1\", \"B2\", \"B3\",\"B4\", \"B5\", \\\n",
        "                       \"B6\", \"B7\", \"B8\", \"B8A\", \"B9\", \"B11\", \"B12\"]]\n",
        "  test_data = test_data.subtract(baseline, axis = 1)\n",
        "\n",
        "  model = pickle.load(open('/content/{}.sav'.format(param), 'rb'))\n",
        "  pred = model.predict(test_data)\n",
        "  prediction = pred*int(scale)\n",
        "  if param=='Ammonia':\n",
        "    prediction = pred/int(scale)\n",
        "  prediction = prediction + minimum\n",
        "\n",
        "  return prediction"
      ],
      "metadata": {
        "id": "V4UJxzJdfrDv"
      },
      "execution_count": 11,
      "outputs": []
    },
    {
      "cell_type": "code",
      "source": [
        "pred= test_inf('pH',validationset)\n",
        "print(pred)"
      ],
      "metadata": {
        "colab": {
          "base_uri": "https://localhost:8080/"
        },
        "id": "P3id5sy42-5U",
        "outputId": "4ff8cc0e-8aac-40b0-d9ce-73f739f079f2"
      },
      "execution_count": 12,
      "outputs": [
        {
          "output_type": "stream",
          "name": "stdout",
          "text": [
            "[8.35790144 8.33571419 7.96936213 8.27418145 8.31287836 8.20941366\n",
            " 8.05308709 8.00776655 8.26386583 8.31149976 8.06155068 8.34560413\n",
            " 7.98283546 7.96275636 8.27813816 8.23547818 8.33422531 8.252759\n",
            " 8.38538161]\n"
          ]
        }
      ]
    },
    {
      "cell_type": "code",
      "source": [
        "##### only for testing the new ponds ################\n",
        "\n",
        "\n",
        "import numpy as np\n",
        "########### define training features and reset index####################################\n",
        "\n",
        "\n",
        "def test_inf(model,param,test_data,baseline_bands,baseline_val,scale):\n",
        "\n",
        "  df_test = test\n",
        "\n",
        "  df_test = df_test[[\"B1\", \"B2\", \"B3\",\"B4\", \"B5\", \\\n",
        "                       \"B6\", \"B7\", \"B8\", \"B8A\", \"B9\", \"B11\", \"B12\"]]\n",
        "\n",
        "  df_test = df_test.reset_index()\n",
        "  print('------------------------------------------------------------------')\n",
        "  print(df_test.loc[0].dtypes)\n",
        "  ##################get the index val #########################\n",
        "  baseline_index = np.where([df_train[param]==minimum])[1][0]\n",
        "  print('baseline val : ', minimum)\n",
        "  print('baseline_index : ', baseline_index)\n",
        "  print(\"___________________________________\")\n",
        "\n",
        "\n",
        "\n",
        "  ##################drop the baseline row and subtract that from training data and val data##########################\n",
        "  # baseline = df_train.loc[baseline_index]\n",
        "  # df_train = df_train.drop(baseline_index)\n",
        "\n",
        "  # df_train = df_train-baseline\n",
        "\n",
        "  df_test = df_test-baseline\n",
        "\n",
        "\n",
        "  # xTrain = df_train[[\"B1\", \"B2\", \"B3\",\"B4\", \"B5\", \\\n",
        "  #                      \"B6\", \"B7\", \"B8\", \"B8A\", \"B9\", \"B11\", \"B12\",]]\n",
        "\n",
        "  # yTrain = df_train[[param]]/int(scale)\n",
        "  # if param=='Ammonia':\n",
        "  #   df_test = df_test[df_test['Ammonia'].notna()]\n",
        "  #   yTrain = df_train[[param]]*int(scale)\n",
        "\n",
        "  # xTest = df_test[[\"B1\", \"B2\", \"B3\",\"B4\", \"B5\", \\\n",
        "  #                      \"B6\", \"B7\", \"B8\", \"B8A\", \"B9\", \"B11\", \"B12\",]]\n",
        "  # yTest = df_test[[param]]\n",
        "\n",
        "  model = pickle.load(open('/content/{}.sav'.format(params[num]), 'rb'))\n",
        "  #model  = SVR(kernel='rbf', C=1.0, epsilon=0.2)\n",
        "  # model.fit(xTrain, yTrain)\n",
        "\n",
        "  pred = model.predict(df_test)\n",
        "\n",
        "  prediction = pred*int(scale)\n",
        "  if param=='Ammonia':\n",
        "    prediction = pred/int(scale)\n",
        "\n",
        "\n",
        "  #yTest = yTest + minimum\n",
        "  prediction = prediction + baseline_val\n",
        "\n",
        "\n",
        "  # ##### to save the models\n",
        "  # filename = '/content/{}.sav'.format(param)\n",
        "  # pickle.dump(model, open(filename, 'wb'))\n",
        "\n",
        "  # print(\"Test results\")\n",
        "  # print(\"___________________________\")\n",
        "\n",
        "\n",
        "  # print(\"===========================================================================\")\n",
        "  # print()\n",
        "  return prediction"
      ],
      "metadata": {
        "id": "EKTbgIZwy442"
      },
      "execution_count": 13,
      "outputs": []
    },
    {
      "cell_type": "markdown",
      "source": [],
      "metadata": {
        "id": "Tb5IDpWNy4nZ"
      }
    },
    {
      "cell_type": "markdown",
      "source": [],
      "metadata": {
        "id": "8Knq5i2qy4i7"
      }
    },
    {
      "cell_type": "code",
      "source": [
        "testingset_tup = pd.read_csv('/content/Tup_TS.csv')\n",
        "testingset_vav = pd.read_csv('/content/Vav_TS.csv')\n"
      ],
      "metadata": {
        "id": "y2A9vYxih4Vz",
        "colab": {
          "base_uri": "https://localhost:8080/",
          "height": 341
        },
        "outputId": "9c89682f-1100-42da-a094-81d912155d13"
      },
      "execution_count": 14,
      "outputs": [
        {
          "output_type": "error",
          "ename": "FileNotFoundError",
          "evalue": "ignored",
          "traceback": [
            "\u001b[0;31m---------------------------------------------------------------------------\u001b[0m",
            "\u001b[0;31mFileNotFoundError\u001b[0m                         Traceback (most recent call last)",
            "\u001b[0;32m<ipython-input-14-b0473cdf51e6>\u001b[0m in \u001b[0;36m<cell line: 1>\u001b[0;34m()\u001b[0m\n\u001b[0;32m----> 1\u001b[0;31m \u001b[0mtestingset_tup\u001b[0m \u001b[0;34m=\u001b[0m \u001b[0mpd\u001b[0m\u001b[0;34m.\u001b[0m\u001b[0mread_csv\u001b[0m\u001b[0;34m(\u001b[0m\u001b[0;34m'/content/Tup_TS.csv'\u001b[0m\u001b[0;34m)\u001b[0m\u001b[0;34m\u001b[0m\u001b[0;34m\u001b[0m\u001b[0m\n\u001b[0m\u001b[1;32m      2\u001b[0m \u001b[0mtestingset_vav\u001b[0m \u001b[0;34m=\u001b[0m \u001b[0mpd\u001b[0m\u001b[0;34m.\u001b[0m\u001b[0mread_csv\u001b[0m\u001b[0;34m(\u001b[0m\u001b[0;34m'/content/Vav_TS.csv'\u001b[0m\u001b[0;34m)\u001b[0m\u001b[0;34m\u001b[0m\u001b[0;34m\u001b[0m\u001b[0m\n",
            "\u001b[0;32m/usr/local/lib/python3.10/dist-packages/pandas/util/_decorators.py\u001b[0m in \u001b[0;36mwrapper\u001b[0;34m(*args, **kwargs)\u001b[0m\n\u001b[1;32m    209\u001b[0m                 \u001b[0;32melse\u001b[0m\u001b[0;34m:\u001b[0m\u001b[0;34m\u001b[0m\u001b[0;34m\u001b[0m\u001b[0m\n\u001b[1;32m    210\u001b[0m                     \u001b[0mkwargs\u001b[0m\u001b[0;34m[\u001b[0m\u001b[0mnew_arg_name\u001b[0m\u001b[0;34m]\u001b[0m \u001b[0;34m=\u001b[0m \u001b[0mnew_arg_value\u001b[0m\u001b[0;34m\u001b[0m\u001b[0;34m\u001b[0m\u001b[0m\n\u001b[0;32m--> 211\u001b[0;31m             \u001b[0;32mreturn\u001b[0m \u001b[0mfunc\u001b[0m\u001b[0;34m(\u001b[0m\u001b[0;34m*\u001b[0m\u001b[0margs\u001b[0m\u001b[0;34m,\u001b[0m \u001b[0;34m**\u001b[0m\u001b[0mkwargs\u001b[0m\u001b[0;34m)\u001b[0m\u001b[0;34m\u001b[0m\u001b[0;34m\u001b[0m\u001b[0m\n\u001b[0m\u001b[1;32m    212\u001b[0m \u001b[0;34m\u001b[0m\u001b[0m\n\u001b[1;32m    213\u001b[0m         \u001b[0;32mreturn\u001b[0m \u001b[0mcast\u001b[0m\u001b[0;34m(\u001b[0m\u001b[0mF\u001b[0m\u001b[0;34m,\u001b[0m \u001b[0mwrapper\u001b[0m\u001b[0;34m)\u001b[0m\u001b[0;34m\u001b[0m\u001b[0;34m\u001b[0m\u001b[0m\n",
            "\u001b[0;32m/usr/local/lib/python3.10/dist-packages/pandas/util/_decorators.py\u001b[0m in \u001b[0;36mwrapper\u001b[0;34m(*args, **kwargs)\u001b[0m\n\u001b[1;32m    329\u001b[0m                     \u001b[0mstacklevel\u001b[0m\u001b[0;34m=\u001b[0m\u001b[0mfind_stack_level\u001b[0m\u001b[0;34m(\u001b[0m\u001b[0;34m)\u001b[0m\u001b[0;34m,\u001b[0m\u001b[0;34m\u001b[0m\u001b[0;34m\u001b[0m\u001b[0m\n\u001b[1;32m    330\u001b[0m                 )\n\u001b[0;32m--> 331\u001b[0;31m             \u001b[0;32mreturn\u001b[0m \u001b[0mfunc\u001b[0m\u001b[0;34m(\u001b[0m\u001b[0;34m*\u001b[0m\u001b[0margs\u001b[0m\u001b[0;34m,\u001b[0m \u001b[0;34m**\u001b[0m\u001b[0mkwargs\u001b[0m\u001b[0;34m)\u001b[0m\u001b[0;34m\u001b[0m\u001b[0;34m\u001b[0m\u001b[0m\n\u001b[0m\u001b[1;32m    332\u001b[0m \u001b[0;34m\u001b[0m\u001b[0m\n\u001b[1;32m    333\u001b[0m         \u001b[0;31m# error: \"Callable[[VarArg(Any), KwArg(Any)], Any]\" has no\u001b[0m\u001b[0;34m\u001b[0m\u001b[0;34m\u001b[0m\u001b[0m\n",
            "\u001b[0;32m/usr/local/lib/python3.10/dist-packages/pandas/io/parsers/readers.py\u001b[0m in \u001b[0;36mread_csv\u001b[0;34m(filepath_or_buffer, sep, delimiter, header, names, index_col, usecols, squeeze, prefix, mangle_dupe_cols, dtype, engine, converters, true_values, false_values, skipinitialspace, skiprows, skipfooter, nrows, na_values, keep_default_na, na_filter, verbose, skip_blank_lines, parse_dates, infer_datetime_format, keep_date_col, date_parser, dayfirst, cache_dates, iterator, chunksize, compression, thousands, decimal, lineterminator, quotechar, quoting, doublequote, escapechar, comment, encoding, encoding_errors, dialect, error_bad_lines, warn_bad_lines, on_bad_lines, delim_whitespace, low_memory, memory_map, float_precision, storage_options)\u001b[0m\n\u001b[1;32m    948\u001b[0m     \u001b[0mkwds\u001b[0m\u001b[0;34m.\u001b[0m\u001b[0mupdate\u001b[0m\u001b[0;34m(\u001b[0m\u001b[0mkwds_defaults\u001b[0m\u001b[0;34m)\u001b[0m\u001b[0;34m\u001b[0m\u001b[0;34m\u001b[0m\u001b[0m\n\u001b[1;32m    949\u001b[0m \u001b[0;34m\u001b[0m\u001b[0m\n\u001b[0;32m--> 950\u001b[0;31m     \u001b[0;32mreturn\u001b[0m \u001b[0m_read\u001b[0m\u001b[0;34m(\u001b[0m\u001b[0mfilepath_or_buffer\u001b[0m\u001b[0;34m,\u001b[0m \u001b[0mkwds\u001b[0m\u001b[0;34m)\u001b[0m\u001b[0;34m\u001b[0m\u001b[0;34m\u001b[0m\u001b[0m\n\u001b[0m\u001b[1;32m    951\u001b[0m \u001b[0;34m\u001b[0m\u001b[0m\n\u001b[1;32m    952\u001b[0m \u001b[0;34m\u001b[0m\u001b[0m\n",
            "\u001b[0;32m/usr/local/lib/python3.10/dist-packages/pandas/io/parsers/readers.py\u001b[0m in \u001b[0;36m_read\u001b[0;34m(filepath_or_buffer, kwds)\u001b[0m\n\u001b[1;32m    603\u001b[0m \u001b[0;34m\u001b[0m\u001b[0m\n\u001b[1;32m    604\u001b[0m     \u001b[0;31m# Create the parser.\u001b[0m\u001b[0;34m\u001b[0m\u001b[0;34m\u001b[0m\u001b[0m\n\u001b[0;32m--> 605\u001b[0;31m     \u001b[0mparser\u001b[0m \u001b[0;34m=\u001b[0m \u001b[0mTextFileReader\u001b[0m\u001b[0;34m(\u001b[0m\u001b[0mfilepath_or_buffer\u001b[0m\u001b[0;34m,\u001b[0m \u001b[0;34m**\u001b[0m\u001b[0mkwds\u001b[0m\u001b[0;34m)\u001b[0m\u001b[0;34m\u001b[0m\u001b[0;34m\u001b[0m\u001b[0m\n\u001b[0m\u001b[1;32m    606\u001b[0m \u001b[0;34m\u001b[0m\u001b[0m\n\u001b[1;32m    607\u001b[0m     \u001b[0;32mif\u001b[0m \u001b[0mchunksize\u001b[0m \u001b[0;32mor\u001b[0m \u001b[0miterator\u001b[0m\u001b[0;34m:\u001b[0m\u001b[0;34m\u001b[0m\u001b[0;34m\u001b[0m\u001b[0m\n",
            "\u001b[0;32m/usr/local/lib/python3.10/dist-packages/pandas/io/parsers/readers.py\u001b[0m in \u001b[0;36m__init__\u001b[0;34m(self, f, engine, **kwds)\u001b[0m\n\u001b[1;32m   1440\u001b[0m \u001b[0;34m\u001b[0m\u001b[0m\n\u001b[1;32m   1441\u001b[0m         \u001b[0mself\u001b[0m\u001b[0;34m.\u001b[0m\u001b[0mhandles\u001b[0m\u001b[0;34m:\u001b[0m \u001b[0mIOHandles\u001b[0m \u001b[0;34m|\u001b[0m \u001b[0;32mNone\u001b[0m \u001b[0;34m=\u001b[0m \u001b[0;32mNone\u001b[0m\u001b[0;34m\u001b[0m\u001b[0;34m\u001b[0m\u001b[0m\n\u001b[0;32m-> 1442\u001b[0;31m         \u001b[0mself\u001b[0m\u001b[0;34m.\u001b[0m\u001b[0m_engine\u001b[0m \u001b[0;34m=\u001b[0m \u001b[0mself\u001b[0m\u001b[0;34m.\u001b[0m\u001b[0m_make_engine\u001b[0m\u001b[0;34m(\u001b[0m\u001b[0mf\u001b[0m\u001b[0;34m,\u001b[0m \u001b[0mself\u001b[0m\u001b[0;34m.\u001b[0m\u001b[0mengine\u001b[0m\u001b[0;34m)\u001b[0m\u001b[0;34m\u001b[0m\u001b[0;34m\u001b[0m\u001b[0m\n\u001b[0m\u001b[1;32m   1443\u001b[0m \u001b[0;34m\u001b[0m\u001b[0m\n\u001b[1;32m   1444\u001b[0m     \u001b[0;32mdef\u001b[0m \u001b[0mclose\u001b[0m\u001b[0;34m(\u001b[0m\u001b[0mself\u001b[0m\u001b[0;34m)\u001b[0m \u001b[0;34m->\u001b[0m \u001b[0;32mNone\u001b[0m\u001b[0;34m:\u001b[0m\u001b[0;34m\u001b[0m\u001b[0;34m\u001b[0m\u001b[0m\n",
            "\u001b[0;32m/usr/local/lib/python3.10/dist-packages/pandas/io/parsers/readers.py\u001b[0m in \u001b[0;36m_make_engine\u001b[0;34m(self, f, engine)\u001b[0m\n\u001b[1;32m   1733\u001b[0m                 \u001b[0;32mif\u001b[0m \u001b[0;34m\"b\"\u001b[0m \u001b[0;32mnot\u001b[0m \u001b[0;32min\u001b[0m \u001b[0mmode\u001b[0m\u001b[0;34m:\u001b[0m\u001b[0;34m\u001b[0m\u001b[0;34m\u001b[0m\u001b[0m\n\u001b[1;32m   1734\u001b[0m                     \u001b[0mmode\u001b[0m \u001b[0;34m+=\u001b[0m \u001b[0;34m\"b\"\u001b[0m\u001b[0;34m\u001b[0m\u001b[0;34m\u001b[0m\u001b[0m\n\u001b[0;32m-> 1735\u001b[0;31m             self.handles = get_handle(\n\u001b[0m\u001b[1;32m   1736\u001b[0m                 \u001b[0mf\u001b[0m\u001b[0;34m,\u001b[0m\u001b[0;34m\u001b[0m\u001b[0;34m\u001b[0m\u001b[0m\n\u001b[1;32m   1737\u001b[0m                 \u001b[0mmode\u001b[0m\u001b[0;34m,\u001b[0m\u001b[0;34m\u001b[0m\u001b[0;34m\u001b[0m\u001b[0m\n",
            "\u001b[0;32m/usr/local/lib/python3.10/dist-packages/pandas/io/common.py\u001b[0m in \u001b[0;36mget_handle\u001b[0;34m(path_or_buf, mode, encoding, compression, memory_map, is_text, errors, storage_options)\u001b[0m\n\u001b[1;32m    854\u001b[0m         \u001b[0;32mif\u001b[0m \u001b[0mioargs\u001b[0m\u001b[0;34m.\u001b[0m\u001b[0mencoding\u001b[0m \u001b[0;32mand\u001b[0m \u001b[0;34m\"b\"\u001b[0m \u001b[0;32mnot\u001b[0m \u001b[0;32min\u001b[0m \u001b[0mioargs\u001b[0m\u001b[0;34m.\u001b[0m\u001b[0mmode\u001b[0m\u001b[0;34m:\u001b[0m\u001b[0;34m\u001b[0m\u001b[0;34m\u001b[0m\u001b[0m\n\u001b[1;32m    855\u001b[0m             \u001b[0;31m# Encoding\u001b[0m\u001b[0;34m\u001b[0m\u001b[0;34m\u001b[0m\u001b[0m\n\u001b[0;32m--> 856\u001b[0;31m             handle = open(\n\u001b[0m\u001b[1;32m    857\u001b[0m                 \u001b[0mhandle\u001b[0m\u001b[0;34m,\u001b[0m\u001b[0;34m\u001b[0m\u001b[0;34m\u001b[0m\u001b[0m\n\u001b[1;32m    858\u001b[0m                 \u001b[0mioargs\u001b[0m\u001b[0;34m.\u001b[0m\u001b[0mmode\u001b[0m\u001b[0;34m,\u001b[0m\u001b[0;34m\u001b[0m\u001b[0;34m\u001b[0m\u001b[0m\n",
            "\u001b[0;31mFileNotFoundError\u001b[0m: [Errno 2] No such file or directory: '/content/Tup_TS.csv'"
          ]
        }
      ]
    },
    {
      "cell_type": "code",
      "source": [
        "ph_tup =test_inf(trainingset,testingset_tup,'pH',1)\n",
        "sal_tup=test_inf(trainingset,testingset_tup,'Salinity',10)\n",
        "amm_tup =test_inf(trainingset,testingset_tup,'Ammonia',100)\n",
        "\n",
        "testingset_tup['predicted_pH'] = ph_tup\n",
        "testingset_tup['predicted_salinity'] = sal_tup\n",
        "testingset_tup['predicted_ammonia'] = amm_tup\n",
        "\n",
        "ph_vav =test_inf(trainingset,testingset_vav,'pH',1)\n",
        "sal_vav =test_inf(trainingset,testingset_vav,'Salinity',10)\n",
        "amm_vav =test_inf(trainingset,testingset_vav,'Ammonia',100)\n",
        "\n",
        "testingset_vav['predicted_pH'] = ph_vav\n",
        "testingset_vav['predicted_salinity'] = sal_vav\n",
        "testingset_vav['predicted_ammonia'] = amm_vav"
      ],
      "metadata": {
        "id": "9KvrxeAffrA2"
      },
      "execution_count": null,
      "outputs": []
    },
    {
      "cell_type": "code",
      "source": [],
      "metadata": {
        "id": "-H46Urwcv7L-"
      },
      "execution_count": null,
      "outputs": []
    },
    {
      "cell_type": "code",
      "source": [
        "ponds = []\n",
        "for i in range(len(testingset_tup)):\n",
        "  ponds.append('T_'+testingset_tup['PondID'].loc[i].split('_')[1])\n",
        "\n",
        "testingset_tup['pond'] = ponds\n",
        "\n",
        "ponds = []\n",
        "for i in range(len(testingset_vav)):\n",
        "  ponds.append('T_'+testingset_vav['PondID'].loc[i].split('_')[1])\n",
        "\n",
        "testingset_vav['pond'] = ponds\n",
        "\n",
        "test_tup = testingset_tup[[\"PondID\",\t\"predicted_pH\",\t\"predicted_salinity\",\t\"predicted_ammonia\",\t\"pond\"]].to_csv('/content/tupilipalem_ts.csv',index=False)\n",
        "test_vav = testingset_vav[[\"PondID\",\t\"predicted_pH\",\t\"predicted_salinity\",\t\"predicted_ammonia\",\t\"pond\"]].to_csv('/content/vavilipalem_ts.csv',index=False)\n",
        "\n"
      ],
      "metadata": {
        "id": "16Tc9a-_fq-Y"
      },
      "execution_count": null,
      "outputs": []
    },
    {
      "cell_type": "code",
      "source": [
        "testingset_eru = pd.read_csv('/content/Eru_TS.csv')\n",
        "\n",
        "\n",
        "ph_eru =test_inf(trainingset,testingset_eru,'pH',1)\n",
        "sal_eru=test_inf(trainingset,testingset_eru,'Salinity',10)\n",
        "amm_eru =test_inf(trainingset,testingset_eru,'Ammonia',100)\n",
        "\n",
        "testingset_eru['predicted_pH'] = ph_eru\n",
        "testingset_eru['predicted_salinity'] = sal_eru\n",
        "testingset_eru['predicted_ammonia'] = amm_eru\n",
        "\n",
        "ponds = []\n",
        "for i in range(len(testingset_eru)):\n",
        "  ponds.append('E_'+testingset_eru['PondID'].loc[i].split('_')[0])\n",
        "\n",
        "testingset_eru['pond'] = ponds\n",
        "\n",
        "\n",
        "test_eru = testingset_eru[[\"PondID\",\t\"predicted_pH\",\t\"predicted_salinity\",\t\"predicted_ammonia\",\t\"pond\"]].to_csv('/content/eruru_ts.csv',index=False)\n",
        "\n",
        "\n"
      ],
      "metadata": {
        "id": "J8ELxwH6fqzc"
      },
      "execution_count": null,
      "outputs": []
    },
    {
      "cell_type": "code",
      "source": [
        "testingset_eru"
      ],
      "metadata": {
        "id": "dXQoR3-BhuhG"
      },
      "execution_count": null,
      "outputs": []
    },
    {
      "cell_type": "code",
      "source": [],
      "metadata": {
        "id": "9IB5p6ePhunG"
      },
      "execution_count": null,
      "outputs": []
    },
    {
      "cell_type": "code",
      "execution_count": null,
      "metadata": {
        "id": "QdbF2VpKPxH4"
      },
      "outputs": [],
      "source": [
        "##### only for testing the new ponds ################\n",
        "\n",
        "\n",
        "import numpy as np\n",
        "\n",
        "########### define training features and reset index####################################\n",
        "\n",
        "\n",
        "def train_inf_absolute(train,test,param,scale):\n",
        "  ph=[]\n",
        "  sal=[]\n",
        "  amm=[]\n",
        "  mag=[]\n",
        "  cal=[]\n",
        "  hard=[]\n",
        "  alk=[]\n",
        "  carb=[]\n",
        "  bicarb=[]\n",
        "  print(\"==================\")\n",
        "  print(param)\n",
        "  print(\"==================\")\n",
        "  print()\n",
        "  df_train = train\n",
        "  df_test = test\n",
        "\n",
        "  df_train = df_train[[\"B1\", \"B2\", \"B3\",\"B4\", \"B5\", \\\n",
        "                       \"B6\", \"B7\", \"B8\", \"B8A\", \"B9\", \"B11\", \"B12\", \"pH\", \"Salinity\", \"Carbonate\", \"BiCarbonate\",\\\n",
        "                       \"Alkalinity\", \"Hardness\",\"Calcium\", \"Magnesium\", \"Ammonia\"]]\n",
        "  df_train = df_train.reset_index()\n",
        "\n",
        "  df_test = df_test[[\"B1\", \"B2\", \"B3\",\"B4\", \"B5\", \\\n",
        "                       \"B6\", \"B7\", \"B8\", \"B8A\", \"B9\", \"B11\", \"B12\", \"pH\", \"Salinity\", \"Carbonate\", \"BiCarbonate\",\\\n",
        "                       \"Alkalinity\", \"Hardness\",\"Calcium\", \"Magnesium\", \"Ammonia\"]]\n",
        "\n",
        "  ###################get the index val #########################\n",
        "  minimum = df_train[param].min()\n",
        "  baseline_index = np.where([df_train[param]==minimum])[1][0]\n",
        "  print('baseline val : ', minimum)\n",
        "  print('baseline_index : ', baseline_index)\n",
        "  print(\"___________________________________\")\n",
        "\n",
        "\n",
        "\n",
        "  ##################drop the baseline row and subtract that from training data and val data##########################\n",
        "  baseline = df_train.loc[baseline_index]\n",
        "  df_train = df_train.drop(baseline_index)\n",
        "\n",
        "  df_train = df_train\n",
        "  df_test = df_test\n",
        "\n",
        "\n",
        "  xTrain = df_train[[\"B1\", \"B2\", \"B3\",\"B4\", \"B5\", \\\n",
        "                       \"B6\", \"B7\", \"B8\", \"B8A\", \"B9\", \"B11\", \"B12\"]]\n",
        "  yTrain = df_train[[param]]/int(scale)\n",
        "  if param=='Ammonia':\n",
        "    df_test = df_test[df_test['Ammonia'].notna()]\n",
        "    yTrain = df_train[[param]]*int(scale)\n",
        "\n",
        "  xTest = df_test[[\"B1\", \"B2\", \"B3\",\"B4\", \"B5\", \\\n",
        "                       \"B6\", \"B7\", \"B8\", \"B8A\", \"B9\", \"B11\", \"B12\"]]\n",
        "  yTest = df_test[[param]]\n",
        "\n",
        "  #model = pickle.load(open('/content/{}.sav'.format(params[num]), 'rb'))\n",
        "  model  = SVR(kernel='rbf', C=1.0, epsilon=0.2)\n",
        "  model.fit(xTrain, yTrain)\n",
        "\n",
        "  pred = model.predict(xTest)\n",
        "\n",
        "  prediction = pred*int(scale)\n",
        "  if param=='Ammonia':\n",
        "    prediction = pred/int(scale)\n",
        "\n",
        "\n",
        "  yTest = yTest\n",
        "  prediction = prediction\n",
        "\n",
        "\n",
        "  ##### to save the models\n",
        "  # filename = '/content/{}.sav'.format(params[num])\n",
        "  # pickle.dump(model, open(filename, 'wb'))\n",
        "\n",
        "  print(\"Test results\")\n",
        "  print(\"___________________________\")\n",
        "  ### uncomment the below code if GT values are present\n",
        "\n",
        "  print(\"MAE\", mean_absolute_error(yTest, prediction))\n",
        "  # # print(\"MSE\", mean_squared_error(yTest, prediction))\n",
        "  # # print(\"RMSE\", mean_squared_error(yTest, prediction, squared=False))\n",
        "  # print(\"MAPE\", mean_absolute_percentage_error(yTest, prediction))\n",
        "#   print(\"R2 Score\", r2_score(yTest, prediction))\n",
        "\n",
        "  print()\n",
        "  print(print('Ground Truth - Predicted' ))\n",
        "  for i,j in zip(list(yTest[param]),prediction):\n",
        "    print(i, j)\n",
        "\n",
        "  print(\"===========================================================================\")\n",
        "  print()\n",
        "  return prediction"
      ]
    },
    {
      "cell_type": "markdown",
      "metadata": {
        "id": "5bNDHiA-PxH5"
      },
      "source": [
        "# toa"
      ]
    },
    {
      "cell_type": "markdown",
      "metadata": {
        "id": "pmpdcjmvPxH6"
      },
      "source": [
        "\\## training baseline model coincidence = 0"
      ]
    },
    {
      "cell_type": "code",
      "source": [
        "import pandas as pd\n",
        "import seaborn as sns\n",
        "import matplotlib.pyplot as plt\n",
        "import numpy as np\n",
        "from sklearn.metrics import mean_absolute_error\n",
        "\n",
        "import warnings\n",
        "warnings.simplefilter(action=\"ignore\", category=FutureWarning)\n",
        "import pickle\n",
        "import pandas\n",
        "import pandas as pd\n",
        "import seaborn as sns\n",
        "import matplotlib.pyplot as plt\n",
        "import numpy as np\n",
        "from sklearn.model_selection import train_test_split, cross_val_score, cross_validate\n",
        "from sklearn.svm import SVR\n",
        "import itertools\n",
        "from sklearn.metrics import mean_squared_error, r2_score, mean_absolute_error, mean_absolute_percentage_error\n",
        "from sklearn.model_selection import cross_val_score\n",
        "from sklearn.linear_model import LinearRegression\n",
        "from sklearn.metrics import make_scorer, mean_absolute_error, r2_score\n",
        "import numpy as nps\n",
        "from itertools import combinations"
      ],
      "metadata": {
        "id": "r-5FL56QQHlW"
      },
      "execution_count": null,
      "outputs": []
    },
    {
      "cell_type": "code",
      "source": [
        "kotatest = pd.read_csv('/content/kotatestnew.csv')\n",
        "kotatest"
      ],
      "metadata": {
        "id": "dxCkaSroTHmE"
      },
      "execution_count": null,
      "outputs": []
    },
    {
      "cell_type": "code",
      "source": [
        "newtestdata = pd.read_csv('/content/newtestdata.csv')\n",
        "newtestdata"
      ],
      "metadata": {
        "id": "xm1XAwYETRto"
      },
      "execution_count": null,
      "outputs": []
    },
    {
      "cell_type": "code",
      "source": [
        "testtesttest = pd.read_csv('/content/drive/MyDrive/WQA_data/testtesttest.csv')\n",
        "testtesttest"
      ],
      "metadata": {
        "id": "2X8F_sVvTZJ-"
      },
      "execution_count": null,
      "outputs": []
    },
    {
      "cell_type": "code",
      "execution_count": null,
      "metadata": {
        "id": "xbeMip8MPxH7"
      },
      "outputs": [],
      "source": [
        "dataframe = pd.read_csv(\"/content/drive/MyDrive/WQA_data/dataframe-tve.csv\")\n",
        "print(\"Total samples\", len(dataframe))\n",
        "#dataframe = dataframe[dataframe[\"Coincidence\"]<3]\n"
      ]
    },
    {
      "cell_type": "code",
      "execution_count": null,
      "metadata": {
        "id": "YDRgKkKyPxH7"
      },
      "outputs": [],
      "source": [
        "#dataframe = dataframe[dataframe[\"Coincidence\"]<3]\n",
        "dataframe = dataframe[dataframe[\"Salinity\"]>20]"
      ]
    },
    {
      "cell_type": "code",
      "execution_count": null,
      "metadata": {
        "id": "99JTNMFHPxH8"
      },
      "outputs": [],
      "source": [
        "for l in dataframe[\"PondID\"].unique():\n",
        "    print(\"Samples for date \",l,\": \",len(dataframe[dataframe[\"PondID\"]==l]))"
      ]
    },
    {
      "cell_type": "code",
      "execution_count": null,
      "metadata": {
        "id": "qrNIxqcOPxH8"
      },
      "outputs": [],
      "source": [
        "dataframe.columns"
      ]
    },
    {
      "cell_type": "code",
      "execution_count": null,
      "metadata": {
        "id": "2WZi-cEcPxH9"
      },
      "outputs": [],
      "source": [
        "for l in dataframe[\"Date of Image\"].unique():\n",
        "    print(\"Samples for date \",l,\": \",len(dataframe[dataframe[\"Date of Image\"]==l]))"
      ]
    },
    {
      "cell_type": "code",
      "source": [],
      "metadata": {
        "id": "ENsGhQMXVzli"
      },
      "execution_count": null,
      "outputs": []
    },
    {
      "cell_type": "code",
      "execution_count": null,
      "metadata": {
        "id": "ktESbG5XPxH9"
      },
      "outputs": [],
      "source": [
        "### selecting 09-07-2023 for testing\n",
        "\n",
        "validationset = dataframe[dataframe[\"Date of Image\"]==\"2023-07-09\"]\n",
        "trainingset = dataframe.drop(validationset.index)"
      ]
    },
    {
      "cell_type": "code",
      "source": [
        "testtesttest = testtesttest.drop(testtesttest.index)"
      ],
      "metadata": {
        "id": "NtcjCdUO7F8V"
      },
      "execution_count": null,
      "outputs": []
    },
    {
      "cell_type": "code",
      "source": [
        "testtesttest"
      ],
      "metadata": {
        "id": "tAdqP3B97Mlf"
      },
      "execution_count": null,
      "outputs": []
    },
    {
      "cell_type": "code",
      "execution_count": null,
      "metadata": {
        "id": "K854lCJpPxH9"
      },
      "outputs": [],
      "source": [
        "trainingset"
      ]
    },
    {
      "cell_type": "code",
      "execution_count": null,
      "metadata": {
        "id": "Tl7wPJCYPxH-"
      },
      "outputs": [],
      "source": [
        "validationset"
      ]
    },
    {
      "cell_type": "code",
      "source": [
        "ph_pred = [8.283518646989906,\n",
        "           8.39827259582833,\n",
        "\n",
        "           8.437517215870502,\n",
        "\n",
        "\n",
        "           8.357304765423109,\n",
        "           8.338181272065539,\n",
        "          8.504697922084581,\n",
        "           8.476198416646447,\n",
        "           8.437434493930766,\n",
        "           8.420368313222493,\n",
        "\n",
        "          ]\n",
        "\n",
        "ph_actual = [8.0 ,8.5 ,8.2  ,8.5 ,8.2 ,8.4 ,8.0  ,8.3 ,8.3 ]\n",
        "\n",
        "\n",
        "sal_actual = [35.0,\n",
        "40.0,\n",
        "40.0,\n",
        "40.0,\n",
        "36.0,\n",
        "35.0,\n",
        "42.0,\n",
        "40.0,\n",
        "40.0,\n",
        "40.0,\n",
        "39.0]\n",
        "sal_pred = [\n",
        " 35.766733763215015,\n",
        " 36.78327574116457,\n",
        " 36.790536886494635,\n",
        " 38.37429978113569,\n",
        " 38.52655930503117,\n",
        " 36.70495239515186,\n",
        " 39.29663954283452,\n",
        " 38.75871428895375,\n",
        " 37.57778259804472,\n",
        " 38.336066926496706,\n",
        " 37.108181099216765]\n",
        "\n",
        "\n",
        "amm_actual = [\n",
        "    0.04,\n",
        "0.05,\n",
        "0.04,\n",
        "0.05,\n",
        "0.05,\n",
        "0.04,\n",
        "0.04\n",
        " ]\n",
        "\n",
        "amm_pred =[\n",
        " 0.03785122426086872,\n",
        " 0.02922070951671172,\n",
        " 0.03432068166529676,\n",
        " 0.03229762133762642,\n",
        " 0.03288830991278609,\n",
        " 0.036672636438224104,\n",
        " 0.029969836577737857]"
      ],
      "metadata": {
        "id": "ezsOhwTcwR4a"
      },
      "execution_count": null,
      "outputs": []
    },
    {
      "cell_type": "code",
      "source": [
        "\n",
        "plt.figure(figsize=(9,5))\n",
        "plt.scatter(np.arange(1, len(amm_pred)+1), amm_actual, label=\"Ground Truth\")\n",
        "plt.scatter(np.arange(1, len(amm_pred)+1), amm_pred,color = 'red')\n",
        "plt.plot(np.arange(1, len(amm_pred)+1), amm_pred, color=\"red\", label=\"Prediction\")\n",
        "plt.ylim(0.0,0.1)\n",
        "plt.ylabel(\"Ammonia\")\n",
        "plt.xlabel(\"Sample Index\")\n",
        "plt.legend()\n",
        "plt.legend( fontsize=\"8\", loc =\"lower right\")\n",
        "plt.grid()"
      ],
      "metadata": {
        "id": "pdF09zg05xWC"
      },
      "execution_count": null,
      "outputs": []
    },
    {
      "cell_type": "code",
      "source": [
        "\n",
        "plt.figure(figsize=(9,5))\n",
        "plt.scatter(np.arange(1, len(sal_pred)+1), sal_actual, label=\"Ground Truth\")\n",
        "plt.scatter(np.arange(1, len(sal_pred)+1), sal_pred,color = 'red')\n",
        "plt.plot(np.arange(1, len(sal_pred)+1), sal_pred, color=\"red\", label=\"Prediction\")\n",
        "plt.ylim(15,48)\n",
        "plt.ylabel(\"Salinity\")\n",
        "plt.xlabel(\"Sample Index\")\n",
        "plt.legend()\n",
        "plt.legend( fontsize=\"8\", loc =\"lower right\")\n",
        "plt.grid()"
      ],
      "metadata": {
        "id": "EtUBQAVr4n17"
      },
      "execution_count": null,
      "outputs": []
    },
    {
      "cell_type": "code",
      "source": [
        "\n",
        "\n",
        "plt.figure(figsize=(9,5))\n",
        "plt.scatter(np.arange(1, len(ph_pred)+1), ph_actual, label=\"Ground Truth\")\n",
        "plt.scatter(np.arange(1, len(ph_pred)+1), ph_pred,color = 'red')\n",
        "plt.plot(np.arange(1, len(ph_pred)+1), ph_pred, color=\"red\", label=\"Prediction\")\n",
        "plt.ylim(6, 9)\n",
        "plt.ylabel(\"pH\")\n",
        "plt.xlabel(\"Sample Index\")\n",
        "plt.legend()\n",
        "plt.legend( fontsize=\"8\", loc =\"lower right\")\n",
        "plt.grid()"
      ],
      "metadata": {
        "id": "OOK331Zgf64n"
      },
      "execution_count": null,
      "outputs": []
    },
    {
      "cell_type": "code",
      "source": [
        "ph_actual = [8.4,8.7,8.2]\n",
        "ph_pred = [8.222875312028107,8.460432532556236,7.910295014017632]\n",
        "\n",
        "sal_actual = [27.0,\n",
        "40.0,\n",
        "25.0]\n",
        "sal_pred = [\n",
        " 29.581858147672648,\n",
        " 33.787225134101774,\n",
        " 25.020637273885164]\n",
        "\n",
        "amm_actual = [0.0 ,\n",
        "0.01,\n",
        "0.06]\n",
        "amm_pred = [\n",
        "0.032489317509076535,\n",
        " 0.016459947872140838,\n",
        " 0.061422380041368144]\n"
      ],
      "metadata": {
        "id": "73_CzAuuK9rb"
      },
      "execution_count": null,
      "outputs": []
    },
    {
      "cell_type": "code",
      "source": [
        "ph_actual = [8.4,8.7,8.2,8.0]\n",
        "ph_pred = [8.222875312028107,8.460432532556236,7.910295014017632,8.0883445397316]\n",
        "\n",
        "sal_actual = [27.0,\n",
        "40.0,\n",
        "25.0,\n",
        "34.0]\n",
        "sal_pred = [\n",
        " 29.581858147672648,\n",
        " 33.787225134101774,\n",
        " 25.020637273885164,\n",
        " 30.672317744182976]\n",
        "\n",
        "amm_actual = [0.0 ,\n",
        "0.01,\n",
        "0.06]\n",
        "amm_pred = [\n",
        "0.032489317509076535,\n",
        " 0.016459947872140838,\n",
        " 0.061422380041368144]\n"
      ],
      "metadata": {
        "id": "nSSevYgkFywE"
      },
      "execution_count": null,
      "outputs": []
    },
    {
      "cell_type": "code",
      "source": [
        "\n",
        "plt.figure(figsize=(9,5))\n",
        "plt.scatter(np.arange(1, len(amm_pred)+1), amm_actual, label=\"Ground Truth\")\n",
        "plt.scatter(np.arange(1, len(amm_pred)+1), amm_pred,color = 'red')\n",
        "plt.plot(np.arange(1, len(amm_pred)+1), amm_pred, color=\"red\", label=\"Prediction\")\n",
        "plt.ylim(0.0,0.1)\n",
        "plt.ylabel(\"Ammonia\")\n",
        "plt.xlabel(\"Sample Index\")\n",
        "plt.legend()\n",
        "plt.legend( fontsize=\"8\", loc =\"lower right\")\n",
        "plt.grid()"
      ],
      "metadata": {
        "id": "qVLo-dkdFyt6"
      },
      "execution_count": null,
      "outputs": []
    },
    {
      "cell_type": "code",
      "source": [
        "\n",
        "plt.figure(figsize=(9,5))\n",
        "plt.scatter(np.arange(1, len(sal_pred)+1), sal_actual, label=\"Ground Truth\",s=85)\n",
        "plt.scatter(np.arange(1, len(sal_pred)+1), sal_pred,color = 'red')\n",
        "plt.plot(np.arange(1, len(sal_pred)+1), sal_pred, color=\"red\", label=\"Prediction\")\n",
        "plt.ylim(15,48)\n",
        "plt.ylabel(\"Salinity\")\n",
        "plt.xlabel(\"Sample Index\")\n",
        "plt.legend()\n",
        "plt.legend( fontsize=\"8\", loc =\"lower right\")\n",
        "plt.grid()"
      ],
      "metadata": {
        "id": "tSzffIJ_FyoU"
      },
      "execution_count": null,
      "outputs": []
    },
    {
      "cell_type": "code",
      "source": [
        "\n",
        "\n",
        "plt.figure(figsize=(9,5))\n",
        "plt.scatter(np.arange(1, len(ph_pred)+1), ph_actual, label=\"Ground Truth\")\n",
        "plt.scatter(np.arange(1, len(ph_pred)+1), ph_pred,color = 'red')\n",
        "plt.plot(np.arange(1, len(ph_pred)+1), ph_pred, color=\"red\", label=\"Prediction\")\n",
        "plt.ylim(6, 9)\n",
        "plt.ylabel(\"pH\")\n",
        "plt.xlabel(\"Sample Index\")\n",
        "plt.legend()\n",
        "plt.legend( fontsize=\"8\", loc =\"lower right\")\n",
        "plt.grid()"
      ],
      "metadata": {
        "id": "zxUu1ZH2FykR"
      },
      "execution_count": null,
      "outputs": []
    },
    {
      "cell_type": "code",
      "source": [],
      "metadata": {
        "id": "UMfBPlRVFyg7"
      },
      "execution_count": null,
      "outputs": []
    },
    {
      "cell_type": "code",
      "source": [
        "validationset.columns"
      ],
      "metadata": {
        "id": "WfhboMf67WEn"
      },
      "execution_count": null,
      "outputs": []
    },
    {
      "cell_type": "code",
      "source": [
        "testtesttest.columns"
      ],
      "metadata": {
        "id": "Jg0LAxUp7cat"
      },
      "execution_count": null,
      "outputs": []
    },
    {
      "cell_type": "code",
      "source": [
        "dataframe = pd.read_csv(\"/content/drive/MyDrive/WQA_data/dataframe-tve.csv\")\n",
        "print(\"Total samples\", len(dataframe))\n",
        "#dataframe = dataframe[dataframe[\"Coincidence\"]<3]\n",
        "dataframe = dataframe[dataframe[\"Salinity\"]>20]\n",
        "print(len(dataframe))\n",
        "validationset = dataframe[dataframe[\"Date of Image\"]==\"2023-07-09\"]\n",
        "trainingset = dataframe.drop(validationset.index)"
      ],
      "metadata": {
        "id": "2bVEhYDg8UOb"
      },
      "execution_count": null,
      "outputs": []
    },
    {
      "cell_type": "code",
      "source": [
        "trainingset = trainingset[trainingset['Coincidence']==0]"
      ],
      "metadata": {
        "id": "lTJpcKN-vjMm"
      },
      "execution_count": null,
      "outputs": []
    },
    {
      "cell_type": "code",
      "source": [
        "trainingset"
      ],
      "metadata": {
        "id": "zl4--oZZvrNF"
      },
      "execution_count": null,
      "outputs": []
    },
    {
      "cell_type": "code",
      "source": [
        "testtesttest"
      ],
      "metadata": {
        "id": "KEM2bFFV_5EI"
      },
      "execution_count": null,
      "outputs": []
    },
    {
      "cell_type": "code",
      "source": [
        "\n",
        "#= testtesttest.loc[:3]\n",
        "ocean = testtesttest.loc[3]"
      ],
      "metadata": {
        "id": "0sE4WbGD9_BM"
      },
      "execution_count": null,
      "outputs": []
    },
    {
      "cell_type": "code",
      "source": [
        "ocean"
      ],
      "metadata": {
        "id": "3Jai1LZ2-NdE"
      },
      "execution_count": null,
      "outputs": []
    },
    {
      "cell_type": "code",
      "source": [
        "validationset =testtesttest\n",
        "# trainingset = dataframe"
      ],
      "metadata": {
        "id": "q4Wk_9aefyEU"
      },
      "execution_count": null,
      "outputs": []
    },
    {
      "cell_type": "code",
      "source": [
        "#valid set removed\n",
        "ph = 0.19\n",
        "sal = 3.14/2.93\n",
        "amm = 0.25\n",
        "\n",
        "#valid set included\n",
        "ph =0.22\n",
        "sal = 3.\n",
        "amm = 0.25"
      ],
      "metadata": {
        "id": "MEs-EJR38u_g"
      },
      "execution_count": null,
      "outputs": []
    },
    {
      "cell_type": "code",
      "source": [],
      "metadata": {
        "id": "vyEUmemYq9WJ"
      },
      "execution_count": null,
      "outputs": []
    },
    {
      "cell_type": "code",
      "source": [
        "\n",
        "ocean = {'PondID':'Ocean', 'pH':0, 'Salinity':34, 'Carbonate':0, 'BiCarbonate':0, 'Alkalinity':0,\n",
        "       'Hardness':0, 'Calcium':0, 'Magnesium':0, 'Ammonia':0, 'DateofReport':0,\n",
        "       'Coincidence':0, 'Date of Image':0, 'B1':1884, 'B10':1576, 'B11':485, 'B12':337, 'B2':1576, 'B3':1220,\n",
        "       'B4':910, 'B5':818, 'B6':780, 'B7':798, 'B8':688, 'B8A':750, 'B9':179}\n",
        "\n",
        "saltrain = trainingset.append(ocean, ignore_index = True)\n",
        "saltrain\n"
      ],
      "metadata": {
        "id": "yaHbqHmOAI2T"
      },
      "execution_count": null,
      "outputs": []
    },
    {
      "cell_type": "code",
      "source": [
        "validationset"
      ],
      "metadata": {
        "id": "C7pI_MaJEiSm"
      },
      "execution_count": null,
      "outputs": []
    },
    {
      "cell_type": "code",
      "source": [
        "saltest = testtesttest.loc[:2]"
      ],
      "metadata": {
        "id": "kUnMB2rwEK9T"
      },
      "execution_count": null,
      "outputs": []
    },
    {
      "cell_type": "code",
      "source": [
        "saltest"
      ],
      "metadata": {
        "id": "J9hlDLybEOzp"
      },
      "execution_count": null,
      "outputs": []
    },
    {
      "cell_type": "code",
      "source": [
        "validationset = saltest"
      ],
      "metadata": {
        "id": "dj2uzlvmKyWj"
      },
      "execution_count": null,
      "outputs": []
    },
    {
      "cell_type": "code",
      "source": [
        "pH = trainingset['pH']\n",
        "sal = trainingset['Salinity']\n",
        "amm = trainingset['Ammonia']\n",
        "\n"
      ],
      "metadata": {
        "id": "4PJOzneHPVXg"
      },
      "execution_count": null,
      "outputs": []
    },
    {
      "cell_type": "code",
      "source": [
        "plt.hist(trainingset['pH'])"
      ],
      "metadata": {
        "id": "cHuVd1R3Qkoo"
      },
      "execution_count": null,
      "outputs": []
    },
    {
      "cell_type": "code",
      "source": [
        "trainingset.to_csv('/content/train_report.csv',index=False)"
      ],
      "metadata": {
        "id": "AeR5zIjIQ573"
      },
      "execution_count": null,
      "outputs": []
    },
    {
      "cell_type": "code",
      "source": [
        "plt.figure(figsize=(9,5))\n",
        "plt.scatter(np.arange(1, len(pH)+1), pH, label=\"Ground Truth Distribution\",s = 30)\n",
        "plt.ylim(7.0,9.5)\n",
        "plt.ylabel(\"pH\")\n",
        "plt.xlabel(\"Sample Index\")\n",
        "plt.legend()\n",
        "plt.legend( fontsize=\"8\", loc =\"lower right\")\n",
        "plt.grid()"
      ],
      "metadata": {
        "id": "x86_dzZBQFPk"
      },
      "execution_count": null,
      "outputs": []
    },
    {
      "cell_type": "code",
      "source": [
        "validationset = pd.read_csv('/content/tt.csv')\n",
        "validationset"
      ],
      "metadata": {
        "id": "FQ4dVYcSU2a4"
      },
      "execution_count": null,
      "outputs": []
    },
    {
      "cell_type": "code",
      "source": [
        "dataframe = pd.read_csv(\"./dataframe-tve.csv\")\n",
        "print(\"Total samples\", len(dataframe))\n",
        "#dataframe = dataframe[dataframe[\"Coincidence\"]<3]\n",
        "dataframe = dataframe[dataframe[\"Salinity\"]>20]\n",
        "print(len(dataframe))\n",
        "#validationset = dataframe[dataframe[\"Date of Image\"]==\"2023-07-09\"]\n",
        "#trainingset = dataframe.drop(validationset.index)"
      ],
      "metadata": {
        "id": "NV0KezxLv-p_"
      },
      "execution_count": null,
      "outputs": []
    },
    {
      "cell_type": "code",
      "source": [
        "test = pd.read_csv('/content/avanti_rest1.csv')\n",
        "test.columns\n",
        "validationset = test"
      ],
      "metadata": {
        "id": "5083FFjgtova"
      },
      "execution_count": null,
      "outputs": []
    },
    {
      "cell_type": "code",
      "source": [
        "prev = pd.read_csv('/content/dataframe-tve.csv')\n",
        "prev.columns"
      ],
      "metadata": {
        "id": "tJ-AJfm9rX1K"
      },
      "execution_count": null,
      "outputs": []
    },
    {
      "cell_type": "code",
      "source": [
        "trainingset = pd.read_csv('/content/WQIModelTrain.csv')\n",
        "validationset = pd.read_csv('/content/WQIModelTest.csv')"
      ],
      "metadata": {
        "id": "MsHudVczq-9Y"
      },
      "execution_count": null,
      "outputs": []
    },
    {
      "cell_type": "code",
      "source": [
        "validationset.columns\n",
        "validationset = validationset.drop(['Unnamed: 0'],axis = 1)"
      ],
      "metadata": {
        "id": "NPByCOx2rXTf"
      },
      "execution_count": null,
      "outputs": []
    },
    {
      "cell_type": "code",
      "source": [
        "trainingset = trainingset.drop(['Unnamed: 0'],axis = 1)"
      ],
      "metadata": {
        "id": "HmWWo325rKnk"
      },
      "execution_count": null,
      "outputs": []
    },
    {
      "cell_type": "code",
      "source": [
        "trainingset = dataframe[dataframe[\"Salinity\"]>20]"
      ],
      "metadata": {
        "id": "oBSRd71mrnAE"
      },
      "execution_count": null,
      "outputs": []
    },
    {
      "cell_type": "code",
      "source": [
        "validationset = pd.read_csv('/content/test-sentinel-new.csv')"
      ],
      "metadata": {
        "id": "ObOnSjr66yjX"
      },
      "execution_count": null,
      "outputs": []
    },
    {
      "cell_type": "code",
      "source": [
        "validationset = validationset[validationset[\"Salinity\"]>20]\n",
        "validationset.dtypes"
      ],
      "metadata": {
        "id": "gdg9UJ8XXBaY"
      },
      "execution_count": null,
      "outputs": []
    },
    {
      "cell_type": "code",
      "source": [
        "valid_amm = validationset[validationset['Ammonia'].notna()]\n",
        "valid_amm"
      ],
      "metadata": {
        "id": "pyOuahlu4lrE"
      },
      "execution_count": null,
      "outputs": []
    },
    {
      "cell_type": "code",
      "source": [
        "convert_dict = {'Ammonia': float\n",
        "                }\n",
        "valid_amm = valid_amm.astype(convert_dict)\n"
      ],
      "metadata": {
        "id": "Hs2GdE5hx9v9"
      },
      "execution_count": null,
      "outputs": []
    },
    {
      "cell_type": "code",
      "source": [
        "np.where(valid_amm=='Nill')"
      ],
      "metadata": {
        "id": "nD227GLk5PbW"
      },
      "execution_count": null,
      "outputs": []
    },
    {
      "cell_type": "code",
      "source": [
        "len(amm)"
      ],
      "metadata": {
        "id": "Xb4PgLpg9Vbf"
      },
      "execution_count": null,
      "outputs": []
    },
    {
      "cell_type": "code",
      "source": [
        "release = valid_amm[['village_name','farmer_name','pond_name','pH','Salinity','Ammonia']]\n",
        "release['predicted_pH'] = ph\n",
        "release['predicted_Salinity'] = sal\n",
        "release['predicted_Ammonia']= amm\n",
        "release.to_csv('/content/test_results.csv',index =False)"
      ],
      "metadata": {
        "id": "_qEQd8BbyD3p"
      },
      "execution_count": null,
      "outputs": []
    },
    {
      "cell_type": "code",
      "source": [
        "release"
      ],
      "metadata": {
        "id": "WHUblrj_y0uq"
      },
      "execution_count": null,
      "outputs": []
    },
    {
      "cell_type": "code",
      "source": [
        "validationset"
      ],
      "metadata": {
        "id": "DGTChEWD2GO3"
      },
      "execution_count": null,
      "outputs": []
    },
    {
      "cell_type": "code",
      "source": [
        "validationset.columns"
      ],
      "metadata": {
        "id": "R8YvPS8O2Wx5"
      },
      "execution_count": null,
      "outputs": []
    },
    {
      "cell_type": "code",
      "source": [
        "len(sal)"
      ],
      "metadata": {
        "id": "DrTZtPgx95BA"
      },
      "execution_count": null,
      "outputs": []
    },
    {
      "cell_type": "code",
      "source": [
        "ph =train_inf(trainingset,valid_amm,'pH',1)\n",
        "sal=train_inf(trainingset,valid_amm,'Salinity',10)\n",
        "amm =train_inf(trainingset,valid_amm,'Ammonia',100)\n",
        "# mag = train_inf(trainingset,validationset,'Magnesium',1000)\n",
        "# cal =train_inf(trainingset,validationset,'Calcium',1000)\n",
        "# carb=train_inf(trainingset,validationset,'Carbonate',100)\n",
        "# bicarb=train_inf(trainingset,validationset,'BiCarbonate',100)\n",
        "# hard=train_inf(trainingset,validationset,'Hardness',1000)\n",
        "# alk=train_inf(trainingset,validationset,'Alkalinity',100)\n",
        "pH = 0.2271\n",
        "sal =  4.6838\n",
        "amm = 0.0175"
      ],
      "metadata": {
        "id": "zWNZcxxE8lP9"
      },
      "execution_count": null,
      "outputs": []
    },
    {
      "cell_type": "code",
      "source": [
        "ph =train_inf(trainingset,validationset,'pH',1)\n",
        "sal=train_inf(saltrain,validationset,'Salinity',10)\n",
        "amm =train_inf(trainingset,validationset,'Ammonia',100)\n",
        "mag = train_inf(trainingset,validationset,'Magnesium',1000)\n",
        "cal =train_inf(trainingset,validationset,'Calcium',1000)\n",
        "carb=train_inf(trainingset,validationset,'Carbonate',100)\n",
        "bicarb=train_inf(trainingset,validationset,'BiCarbonate',100)\n",
        "hard=train_inf(trainingset,validationset,'Hardness',1000)\n",
        "alk=train_inf(trainingset,validationset,'Alkalinity',100)"
      ],
      "metadata": {
        "id": "c4-NjmzOElsL"
      },
      "execution_count": null,
      "outputs": []
    },
    {
      "cell_type": "code",
      "source": [
        "ph =train_inf(trainingset,validationset,'pH',1)\n",
        "sal=train_inf(trainingset,validationset,'Salinity',10)\n",
        "amm =train_inf(trainingset,validationset,'Ammonia',100)\n",
        "mag = train_inf(trainingset,validationset,'Magnesium',1000)\n",
        "cal =train_inf(trainingset,validationset,'Calcium',1000)\n",
        "carb=train_inf(trainingset,validationset,'Carbonate',100)\n",
        "bicarb=train_inf(trainingset,validationset,'BiCarbonate',100)\n",
        "hard=train_inf(trainingset,validationset,'Hardness',1000)\n",
        "alk=train_inf(trainingset,validationset,'Alkalinity',100)"
      ],
      "metadata": {
        "id": "RnS3C2Ge7-_f"
      },
      "execution_count": null,
      "outputs": []
    },
    {
      "cell_type": "code",
      "source": [
        "ph =train_inf(trainingset,validationset,'pH',1)\n",
        "sal=train_inf(trainingset,validationset,'Salinity',10)\n",
        "amm =train_inf(trainingset,validationset,'Ammonia',100)\n",
        "mag = train_inf(trainingset,validationset,'Magnesium',1000)\n",
        "cal =train_inf(trainingset,validationset,'Calcium',1000)\n",
        "carb=train_inf(trainingset,validationset,'Carbonate',100)\n",
        "bicarb=train_inf(trainingset,validationset,'BiCarbonate',100)\n",
        "hard=train_inf(trainingset,validationset,'Hardness',1000)\n",
        "alk=train_inf(trainingset,validationset,'Alkalinity',100)"
      ],
      "metadata": {
        "id": "SLoknrUJ7i-r"
      },
      "execution_count": null,
      "outputs": []
    },
    {
      "cell_type": "code",
      "execution_count": null,
      "metadata": {
        "id": "5ugAVc79PxH-"
      },
      "outputs": [],
      "source": [
        "ph =train_inf(trainingset,validationset,'pH',1)\n",
        "sal=train_inf(trainingset,validationset,'Salinity',10)\n",
        "amm =train_inf(trainingset,validationset,'Ammonia',100)\n",
        "mag = train_inf(trainingset,validationset,'Magnesium',1000)\n",
        "cal =train_inf(trainingset,validationset,'Calcium',1000)\n",
        "carb=train_inf(trainingset,validationset,'Carbonate',100)\n",
        "bicarb=train_inf(trainingset,validationset,'BiCarbonate',100)\n",
        "hard=train_inf(trainingset,validationset,'Hardness',1000)\n",
        "alk=train_inf(trainingset,validationset,'Alkalinity',100)"
      ]
    },
    {
      "cell_type": "code",
      "execution_count": null,
      "metadata": {
        "id": "GCxzq4HqPxH-"
      },
      "outputs": [],
      "source": [
        "ph =train_inf_absolute(trainingset,validationset,'pH',1)\n",
        "sal=train_inf_absolute(trainingset,validationset,'Salinity',10)\n",
        "amm =train_inf_absolute(trainingset,validationset,'Ammonia',100)\n",
        "mag = train_inf_absolute(trainingset,validationset,'Magnesium',1000)\n",
        "cal =train_inf_absolute(trainingset,validationset,'Calcium',1000)\n",
        "carb=train_inf_absolute(trainingset,validationset,'Carbonate',100)\n",
        "bicarb=train_inf_absolute(trainingset,validationset,'BiCarbonate',100)\n",
        "hard=train_inf_absolute(trainingset,validationset,'Hardness',1000)\n",
        "alk=train_inf_absolute(trainingset,validationset,'Alkalinity',100)"
      ]
    },
    {
      "cell_type": "markdown",
      "metadata": {
        "id": "h4hDjPUuPxH-"
      },
      "source": [
        "## Only zero coincidence"
      ]
    },
    {
      "cell_type": "code",
      "execution_count": null,
      "metadata": {
        "id": "NMfIjUKePxH-"
      },
      "outputs": [],
      "source": [
        "dataframe = pd.read_csv(\"/content/drive/MyDrive/WQA_data/dataframe-tve.csv\")\n",
        "# dataframe = dataframe[dataframe[\"Coincidence\"]=0]\n",
        "dataframe = dataframe[dataframe[\"Salinity\"]>20]\n",
        "print(\"Total samples\", len(dataframe))"
      ]
    },
    {
      "cell_type": "code",
      "execution_count": null,
      "metadata": {
        "id": "1W88HT0oPxH_"
      },
      "outputs": [],
      "source": [
        "for l in dataframe[\"Date of Image\"].unique():\n",
        "    print(\"Samples for date \",l,\": \",len(dataframe[dataframe[\"Date of Image\"]==l]))"
      ]
    },
    {
      "cell_type": "code",
      "execution_count": null,
      "metadata": {
        "id": "0tpNzK94PxH_"
      },
      "outputs": [],
      "source": [
        "### selecting 09-07-2023 for testing\n",
        "\n",
        "validationset = dataframe[dataframe[\"Date of Image\"]==\"2023-07-09\"]\n",
        "trainingset = dataframe.drop(validationset.index)"
      ]
    },
    {
      "cell_type": "code",
      "execution_count": null,
      "metadata": {
        "id": "95x8UCr8PxH_"
      },
      "outputs": [],
      "source": [
        "trainingset"
      ]
    },
    {
      "cell_type": "code",
      "execution_count": null,
      "metadata": {
        "id": "yHMaEF22PxH_"
      },
      "outputs": [],
      "source": [
        "validationset = pd.read_csv(\"./kotatestnew.csv\")"
      ]
    },
    {
      "cell_type": "code",
      "execution_count": null,
      "metadata": {
        "id": "7fZMDUY1PxH_"
      },
      "outputs": [],
      "source": [
        "validationset"
      ]
    },
    {
      "cell_type": "code",
      "execution_count": null,
      "metadata": {
        "id": "z2IT2DG4PxIA"
      },
      "outputs": [],
      "source": [
        "ph =train_inf(trainingset,validationset,'pH',1)\n",
        "sal=train_inf(trainingset,validationset,'Salinity',10)\n",
        "amm =train_inf(trainingset,validationset,'Ammonia',100)\n",
        "mag = train_inf(trainingset,validationset,'Magnesium',1000)\n",
        "cal =train_inf(trainingset,validationset,'Calcium',1000)\n",
        "carb=train_inf(trainingset,validationset,'Carbonate',100)\n",
        "bicarb=train_inf(trainingset,validationset,'BiCarbonate',100)\n",
        "hard=train_inf(trainingset,validationset,'Hardness',1000)\n",
        "alk=train_inf(trainingset,validationset,'Alkalinity',100)"
      ]
    },
    {
      "cell_type": "code",
      "execution_count": null,
      "metadata": {
        "id": "kLgDyOxBPxIA"
      },
      "outputs": [],
      "source": [
        "ph =train_inf_absolute(trainingset,validationset,'pH',1)\n",
        "sal=train_inf_absolute(trainingset,validationset,'Salinity',10)\n",
        "amm =train_inf_absolute(trainingset,validationset,'Ammonia',100)\n",
        "mag = train_inf_absolute(trainingset,validationset,'Magnesium',1000)\n",
        "cal =train_inf_absolute(trainingset,validationset,'Calcium',1000)\n",
        "carb=train_inf_absolute(trainingset,validationset,'Carbonate',100)\n",
        "bicarb=train_inf_absolute(trainingset,validationset,'BiCarbonate',100)\n",
        "hard=train_inf_absolute(trainingset,validationset,'Hardness',1000)\n",
        "alk=train_inf_absolute(trainingset,validationset,'Alkalinity',100)"
      ]
    },
    {
      "cell_type": "code",
      "execution_count": null,
      "metadata": {
        "id": "Skkm1tMAPxIA"
      },
      "outputs": [],
      "source": []
    }
  ],
  "metadata": {
    "kernelspec": {
      "display_name": "base",
      "language": "python",
      "name": "base"
    },
    "language_info": {
      "codemirror_mode": {
        "name": "ipython",
        "version": 3
      },
      "file_extension": ".py",
      "mimetype": "text/x-python",
      "name": "python",
      "nbconvert_exporter": "python",
      "pygments_lexer": "ipython3",
      "version": "3.9.13"
    },
    "orig_nbformat": 4,
    "colab": {
      "provenance": []
    }
  },
  "nbformat": 4,
  "nbformat_minor": 0
}
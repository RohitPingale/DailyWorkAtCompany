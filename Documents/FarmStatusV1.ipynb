{
 "cells": [
  {
   "cell_type": "code",
   "execution_count": 1,
   "metadata": {},
   "outputs": [],
   "source": [
    "#add name of folder in data which contains the sar data at end of list\n",
    "datelist = [\"January-10-2023\", \"January-22-2023\", \"February-03-2023\", \"February-15-2023\", \"February-27-2023\", \"March-11-2023\", \"March-23-2023\", \"April-04-2023\", \"April-16-2023\", \"April-28-2023\", \"May-10-2023\", \"May-22-2023\", \"June-03-2023\", \"June-15-2023\"]\n",
    "\n",
    "# datelist = [\"April-28-2023\", \"May-10-2023\", \"May-22-2023\"]"
   ]
  },
  {
   "cell_type": "code",
   "execution_count": 2,
   "metadata": {},
   "outputs": [],
   "source": [
    "import json\n",
    "import pandas as pd\n",
    "import geopandas as gpd\n",
    "import shapely\n",
    "from shapely import geometry\n",
    "import matplotlib.pyplot as plt\n",
    "import rasterio\n",
    "from rasterio.mask import mask\n",
    "import matplotlib.pyplot as plt\n",
    "import numpy as np\n",
    "import os\n",
    "import seaborn as sns\n",
    "from tqdm import tqdm\n",
    "from jarvis.aqua import aeratorDetection as ad\n",
    "# from jarvis.aqua import detectWaterInAPond\n",
    "from statistics import mode"
   ]
  },
  {
   "cell_type": "code",
   "execution_count": null,
   "metadata": {},
   "outputs": [],
   "source": [
    "features = []"
   ]
  },
  {
   "cell_type": "code",
   "execution_count": null,
   "metadata": {},
   "outputs": [],
   "source": [
    "with open('./fetched.json', 'r') as f:\n",
    "  data = json.load(f)"
   ]
  },
  {
   "cell_type": "code",
   "execution_count": null,
   "metadata": {},
   "outputs": [],
   "source": [
    "data = data[\"data\"][\"pond_blue\"]"
   ]
  },
  {
   "cell_type": "code",
   "execution_count": null,
   "metadata": {},
   "outputs": [],
   "source": [
    "data[0]"
   ]
  },
  {
   "cell_type": "code",
   "execution_count": null,
   "metadata": {},
   "outputs": [],
   "source": [
    "def detectWaterInAPond(dbVVBand, thresholdValue=-17):\n",
    "    \"\"\"\n",
    "    For input sar dB VV band, detect whether the image has water present or not\n",
    "    -----------------------------------------\n",
    "    Input arguments:\n",
    "    dbVVBand: a numpy array of shape (M,N) containing the dB VV band from a Sentinel 1 image\n",
    "    thresholdValue: threshold to determine if body has water or not\n",
    "    -----------------------------------------\n",
    "    Output:\n",
    "    water: an integer value where 0 means no water and 1 means water\n",
    "    \"\"\"\n",
    "    minValue = 100\n",
    "    values = []\n",
    "    for i in range(0, dbVVBand.shape[0]):\n",
    "        for j in range(0, dbVVBand.shape[1]):\n",
    "            if dbVVBand[i][j]==-999:\n",
    "                continue\n",
    "            else:\n",
    "                if dbVVBand[i][j] < minValue:\n",
    "                    minValue = dbVVBand[i][j]\n",
    "                    window = dbVVBand[i-1:j+1, i-1:j+1]\n",
    "                    window = window.flatten()\n",
    "                    for w in window:\n",
    "                        if w==-999:\n",
    "                            continue\n",
    "                        else:\n",
    "                            values.append(w)\n",
    "    if len(values)>0:\n",
    "        averageValue = sum(values)/len(values)\n",
    "    else:\n",
    "        averageValue = 0\n",
    "    if averageValue<-17:\n",
    "        water = 1\n",
    "    else:\n",
    "        water = 0\n",
    "    return averageValue"
   ]
  },
  {
   "cell_type": "code",
   "execution_count": null,
   "metadata": {},
   "outputs": [],
   "source": [
    "for d in tqdm(data):\n",
    "    sampleData = {\"type\": \"Feature\",\n",
    "              \"properties\": {},\n",
    "              \"geometry\": {\n",
    "                  \"type\": \"Polygon\"\n",
    "              }}\n",
    "    sampleData[\"properties\"][\"id\"] = d[\"id\"]\n",
    "    sampleData[\"properties\"][\"name\"] = d[\"name\"]\n",
    "    sampleData[\"properties\"][\"farmer_name\"] = d[\"farm_blue\"][\"farmer_name\"]\n",
    "    sampleData[\"properties\"][\"feed_supplier\"] = d[\"farm_blue\"][\"feed_supplier\"]\n",
    "    sampleData[\"properties\"][\"village_name\"] = d[\"farm_blue\"][\"village_name\"]\n",
    "    sampleData[\"geometry\"][\"coordinates\"] = d[\"polygon\"][\"coordinates\"]\n",
    "    polygon = geometry.Polygon(d['polygon']['coordinates'][0])\n",
    "    with rasterio.open(os.path.join(\"./data/May-22-2023/dB_vv.tif\")) as src:\n",
    "        croppedImage, _ = mask(src, [polygon], crop = True, nodata=-999)\n",
    "        croppedImage = croppedImage[0]\n",
    "        waterstatus = detectWaterInAPond(croppedImage, thresholdValue=-10)\n",
    "        sampleData[\"properties\"][\"water\"] = waterstatus\n",
    "    features.append(sampleData)"
   ]
  },
  {
   "cell_type": "code",
   "execution_count": null,
   "metadata": {},
   "outputs": [],
   "source": [
    "features[0]"
   ]
  },
  {
   "cell_type": "code",
   "execution_count": null,
   "metadata": {},
   "outputs": [],
   "source": [
    "geodata = {\"type\": \"FeatureCollection\",\n",
    "           \"features\": features}"
   ]
  },
  {
   "cell_type": "code",
   "execution_count": null,
   "metadata": {},
   "outputs": [],
   "source": [
    "with open(os.path.join(\"./may22.geojson\"), 'w+') as f:\n",
    "    json.dump(geodata, f, indent=2)"
   ]
  },
  {
   "attachments": {},
   "cell_type": "markdown",
   "metadata": {},
   "source": [
    "### Creating geojson with properties for each date\n",
    "Format of geojsons:\n",
    "- each date will have it's respective geojson\n",
    "- there will be a master geojson containing the following details:\n",
    "  - current latest status of each pond\n",
    "  - time series detail for each pond, where each time stamp will have data regarding water and aerator in pond"
   ]
  },
  {
   "cell_type": "code",
   "execution_count": 3,
   "metadata": {},
   "outputs": [],
   "source": [
    "def detectWaterInAPond(dbVVBand, thresholdValue=-17):\n",
    "    \"\"\"\n",
    "    For input sar dB VV band, detect whether the image has water present or not\n",
    "    -----------------------------------------\n",
    "    Input arguments:\n",
    "    dbVVBand: a numpy array of shape (M,N) containing the dB VV band from a Sentinel 1 image\n",
    "    thresholdValue: threshold to determine if body has water or not\n",
    "    -----------------------------------------\n",
    "    Output:\n",
    "    water: an integer value where 0 means no water and 1 means water\n",
    "    \"\"\"\n",
    "    minValue = 100\n",
    "    values = []\n",
    "    for i in range(0, dbVVBand.shape[0]):\n",
    "        for j in range(0, dbVVBand.shape[1]):\n",
    "            if dbVVBand[i][j]==-999:\n",
    "                continue\n",
    "            else:\n",
    "                if dbVVBand[i][j] < minValue:\n",
    "                    minValue = dbVVBand[i][j]\n",
    "                    window = dbVVBand[i-1:j+1, i-1:j+1]\n",
    "                    window = window.flatten()\n",
    "                    for w in window:\n",
    "                        if w==-999:\n",
    "                            continue\n",
    "                        else:\n",
    "                            values.append(w)\n",
    "    if len(values)>0:\n",
    "        averageValue = sum(values)/len(values)\n",
    "    else:\n",
    "        averageValue = 0\n",
    "    if averageValue<-15:\n",
    "        water = 1\n",
    "    else:\n",
    "        water = 0\n",
    "    return water"
   ]
  },
  {
   "cell_type": "code",
   "execution_count": 4,
   "metadata": {},
   "outputs": [
    {
     "name": "stdout",
     "output_type": "stream",
     "text": [
      "Doing analysis for: January-10-2023\n"
     ]
    },
    {
     "name": "stderr",
     "output_type": "stream",
     "text": [
      "  0%|          | 0/7788 [00:00<?, ?it/s]/Users/azhanmohammed/opt/anaconda3/lib/python3.9/site-packages/jarvis/aqua/aeratorDetection.py:45: RuntimeWarning: invalid value encountered in scalar divide\n",
      "  if ((center_pixel-mean)/std) > threshold:\n",
      "100%|██████████| 7788/7788 [00:29<00:00, 264.75it/s]\n"
     ]
    },
    {
     "name": "stdout",
     "output_type": "stream",
     "text": [
      "Doing analysis for: January-22-2023\n"
     ]
    },
    {
     "name": "stderr",
     "output_type": "stream",
     "text": [
      "100%|██████████| 7788/7788 [00:29<00:00, 266.36it/s]\n"
     ]
    },
    {
     "name": "stdout",
     "output_type": "stream",
     "text": [
      "Doing analysis for: February-03-2023\n"
     ]
    },
    {
     "name": "stderr",
     "output_type": "stream",
     "text": [
      "100%|██████████| 7788/7788 [00:26<00:00, 289.93it/s]\n"
     ]
    },
    {
     "name": "stdout",
     "output_type": "stream",
     "text": [
      "Doing analysis for: February-15-2023\n"
     ]
    },
    {
     "name": "stderr",
     "output_type": "stream",
     "text": [
      "100%|██████████| 7788/7788 [00:28<00:00, 274.74it/s]\n"
     ]
    },
    {
     "name": "stdout",
     "output_type": "stream",
     "text": [
      "Doing analysis for: February-27-2023\n"
     ]
    },
    {
     "name": "stderr",
     "output_type": "stream",
     "text": [
      "100%|██████████| 7788/7788 [00:30<00:00, 259.54it/s]\n"
     ]
    },
    {
     "name": "stdout",
     "output_type": "stream",
     "text": [
      "Doing analysis for: March-11-2023\n"
     ]
    },
    {
     "name": "stderr",
     "output_type": "stream",
     "text": [
      "100%|██████████| 7788/7788 [00:31<00:00, 249.31it/s]\n"
     ]
    },
    {
     "name": "stdout",
     "output_type": "stream",
     "text": [
      "Doing analysis for: March-23-2023\n"
     ]
    },
    {
     "name": "stderr",
     "output_type": "stream",
     "text": [
      "100%|██████████| 7788/7788 [00:31<00:00, 244.68it/s]\n"
     ]
    },
    {
     "name": "stdout",
     "output_type": "stream",
     "text": [
      "Doing analysis for: April-04-2023\n"
     ]
    },
    {
     "name": "stderr",
     "output_type": "stream",
     "text": [
      "100%|██████████| 7788/7788 [00:31<00:00, 245.57it/s]\n"
     ]
    },
    {
     "name": "stdout",
     "output_type": "stream",
     "text": [
      "Doing analysis for: April-16-2023\n"
     ]
    },
    {
     "name": "stderr",
     "output_type": "stream",
     "text": [
      "100%|██████████| 7788/7788 [00:35<00:00, 218.01it/s]\n"
     ]
    },
    {
     "name": "stdout",
     "output_type": "stream",
     "text": [
      "Doing analysis for: April-28-2023\n"
     ]
    },
    {
     "name": "stderr",
     "output_type": "stream",
     "text": [
      "100%|██████████| 7788/7788 [00:34<00:00, 228.26it/s]\n"
     ]
    },
    {
     "name": "stdout",
     "output_type": "stream",
     "text": [
      "Doing analysis for: May-10-2023\n"
     ]
    },
    {
     "name": "stderr",
     "output_type": "stream",
     "text": [
      "100%|██████████| 7788/7788 [00:38<00:00, 201.39it/s]\n"
     ]
    },
    {
     "name": "stdout",
     "output_type": "stream",
     "text": [
      "Doing analysis for: May-22-2023\n"
     ]
    },
    {
     "name": "stderr",
     "output_type": "stream",
     "text": [
      "100%|██████████| 7788/7788 [00:34<00:00, 227.67it/s]\n"
     ]
    },
    {
     "name": "stdout",
     "output_type": "stream",
     "text": [
      "Doing analysis for: June-03-2023\n"
     ]
    },
    {
     "name": "stderr",
     "output_type": "stream",
     "text": [
      "100%|██████████| 7788/7788 [00:37<00:00, 210.19it/s]\n"
     ]
    },
    {
     "name": "stdout",
     "output_type": "stream",
     "text": [
      "Doing analysis for: June-15-2023\n"
     ]
    },
    {
     "name": "stderr",
     "output_type": "stream",
     "text": [
      "100%|██████████| 7788/7788 [00:35<00:00, 218.90it/s]\n"
     ]
    }
   ],
   "source": [
    "for date in datelist:\n",
    "    with open('./fetched.json', 'r') as f:\n",
    "        data = json.load(f)\n",
    "    data = data[\"data\"][\"pond_blue\"]\n",
    "    if os.path.exists(os.path.join(\"./data\",date)):\n",
    "        print(\"Doing analysis for:\",date)\n",
    "        os.makedirs(os.path.join(\"./output\",date))\n",
    "        for i in tqdm(range(0, len(data))):\n",
    "            polygon = geometry.Polygon(data[i]['polygon']['coordinates'][0])\n",
    "            # farmdid = data[i]['farm_id']\n",
    "            id = data[i]['id']\n",
    "            name = data[i]['name']\n",
    "            farmer_name = data[i]['farm_blue']['farmer_name']\n",
    "            feed_supplier = data[i]['farm_blue']['feed_supplier']\n",
    "            village_name = data[i]['farm_blue']['village_name']\n",
    "            with rasterio.open(os.path.join(\"./data\",date,\"dB_vv.tif\")) as src:\n",
    "                croppedImage, _ = mask(src, [polygon], crop = True, nodata=-999)\n",
    "                croppedImage = croppedImage[0]\n",
    "                waterstatus = detectWaterInAPond(croppedImage, thresholdValue=-10)\n",
    "                if waterstatus:\n",
    "                    with rasterio.open(os.path.join(\"./data\",date,\"linear_vv.tif\")) as src:\n",
    "                        croppedImage, _ = rasterio.mask.mask(src, [polygon], crop = True)\n",
    "                        croppedImage = croppedImage[0]\n",
    "                        aeratorstatus = ad.detectAerators(croppedImage)\n",
    "                        if aeratorstatus:\n",
    "                            aeratorstatus = 1\n",
    "                        else:\n",
    "                            aeratorstatus = 0\n",
    "                else:\n",
    "                    aeratorstatus = 0\n",
    "            data[i][\"properties\"] = {\"Water\": waterstatus,\n",
    "                                     \"Aerator\": aeratorstatus,\n",
    "                                    #  \"farm_id\": farmdid,\n",
    "                                     \"id\": id,\n",
    "                                     \"name\": name,\n",
    "                                     \"farmer_name\": farmer_name,\n",
    "                                     \"feed_supplier\": feed_supplier,\n",
    "                                     \"village_name\": village_name}\n",
    "        with open(os.path.join(\"./output\",date,\"properties.geojson\"), 'w+') as f:\n",
    "            json.dump(data, f)\n",
    "    else:\n",
    "        print(\"data for date does not exist, skipping\")"
   ]
  },
  {
   "attachments": {},
   "cell_type": "markdown",
   "metadata": {},
   "source": [
    "### time series logic to create mastergeojson"
   ]
  },
  {
   "cell_type": "code",
   "execution_count": 5,
   "metadata": {},
   "outputs": [],
   "source": [
    "#read the data from genreated geojson\n",
    "\n",
    "datajan10 = pd.read_json(\"./output/January-10-2023/properties.geojson\")\n",
    "datajan22 = pd.read_json(\"./output/January-22-2023/properties.geojson\")                        \n",
    "datafeb3 = pd.read_json(\"./output/February-03-2023/properties.geojson\")\n",
    "datafeb15 = pd.read_json(\"./output/February-15-2023/properties.geojson\")\n",
    "datafeb27 = pd.read_json(\"./output/February-27-2023/properties.geojson\")   \n",
    "datamarch11 = pd.read_json(\"./output/March-11-2023/properties.geojson\")\n",
    "datamarch23 = pd.read_json(\"./output/March-23-2023/properties.geojson\")\n",
    "dataapril4 = pd.read_json(\"./output/April-04-2023/properties.geojson\")\n",
    "dataapril16 = pd.read_json(\"./output/April-16-2023/properties.geojson\")\n",
    "dataapril28 = pd.read_json(\"./output/April-28-2023/properties.geojson\")\n",
    "datamay10 = pd.read_json(\"./output/May-10-2023/properties.geojson\")\n",
    "datamay22 = pd.read_json(\"./output/May-22-2023/properties.geojson\")\n",
    "datajune03 = pd.read_json(\"./output/June-03-2023/properties.geojson\")\n",
    "datajune15 = pd.read_json(\"./output/June-15-2023/properties.geojson\")"
   ]
  },
  {
   "cell_type": "code",
   "execution_count": 6,
   "metadata": {},
   "outputs": [],
   "source": [
    "#add name of folder in data which contains the sar data at end of list\n",
    "\n",
    "datelist = [\"January-10-2023\", \"January-22-2023\", \"February-03-2023\", \"February-15-2023\", \"February-27-2023\", \"March-11-2023\", \"March-23-2023\", \"April-04-2023\", \"April-16-2023\", \"April-28-2023\", \"May-10-2023\", \"May-22-2023\", \"June-03-2023\", \"June-15-2023\"]"
   ]
  },
  {
   "cell_type": "code",
   "execution_count": 10,
   "metadata": {},
   "outputs": [],
   "source": [
    "#add name of folder as dictionary key, and data as dictionary value\n",
    "datacollection = {\"January-10-2023\": datajan10,\n",
    "                  \"January-22-2023\": datajan22,\n",
    "                  \"February-03-2023\": datafeb3,\n",
    "                  \"February-15-2023\": datafeb15,\n",
    "                  \"February-27-2023\": datafeb27,\n",
    "                  \"March-11-2023\": datamarch11,\n",
    "                  \"March-23-2023\": datamarch23,\n",
    "                  \"April-04-2023\": dataapril4,\n",
    "                  \"April-16-2023\": dataapril16,\n",
    "                  \"April-28-2023\": dataapril28,\n",
    "                  \"May-10-2023\": datamay10,\n",
    "                  \"May-22-2023\": datamay22,\n",
    "                  \"June-03-2023\": datajune03,\n",
    "                  \"June-15-2023\": datajune15}\n",
    "\n",
    "#add name of folder as dictionary key, and data as dictionary value\n",
    "# datacollection = {\"April-28-2023\": dataapril28,\n",
    "#                   \"May-10-2023\": datamay10,\n",
    "#                   \"May-22-2023\": datamay22}"
   ]
  },
  {
   "cell_type": "code",
   "execution_count": 11,
   "metadata": {},
   "outputs": [],
   "source": [
    "with open('./fetched.json', 'r') as f:\n",
    "  data = json.load(f)\n",
    "data = data[\"data\"][\"pond_blue\"]"
   ]
  },
  {
   "cell_type": "code",
   "execution_count": 12,
   "metadata": {},
   "outputs": [],
   "source": [
    "for i in range(0, len(data)):\n",
    "    id = data[i]['id']\n",
    "    name = data[i]['name']\n",
    "    farmer_name = data[i]['farm_blue']['farmer_name']\n",
    "    feed_supplier = data[i]['farm_blue']['feed_supplier']\n",
    "    village_name = data[i]['farm_blue']['village_name']\n",
    "    timeSeries = []\n",
    "    for date in datelist:\n",
    "        currentTime = {}\n",
    "        datedata = datacollection[date]\n",
    "        currentTime[\"time\"] = date\n",
    "        currentTime[\"Water\"] = datedata[\"properties\"][i][\"Water\"]\n",
    "        currentTime[\"Aerator\"] = datedata[\"properties\"][i][\"Aerator\"]\n",
    "        timeSeries.append(currentTime)\n",
    "    data[i][\"properties\"] = {\"farmer_name\": farmer_name,\n",
    "                             \"feed_supplier\": feed_supplier,\n",
    "                             \"village_name\": village_name,\n",
    "                             \"id\": id,\n",
    "                             \"name\": name,\n",
    "                             \"time_series\": timeSeries}"
   ]
  },
  {
   "cell_type": "code",
   "execution_count": 13,
   "metadata": {},
   "outputs": [],
   "source": [
    "unused = 0\n",
    "active = 0\n",
    "underpumping = 0\n",
    "harvested = 0\n",
    "for i in range(0, len(data)):\n",
    "    for j in range(1, len((data[i][\"properties\"][\"time_series\"]))):\n",
    "        aeratorNow = data[i][\"properties\"][\"time_series\"][j][\"Aerator\"]\n",
    "        waterNow = data[i][\"properties\"][\"time_series\"][j][\"Water\"]\n",
    "        aeratorEarlier = data[i][\"properties\"][\"time_series\"][j-1][\"Aerator\"]\n",
    "        waterEarlier = data[i][\"properties\"][\"time_series\"][j-1][\"Water\"]\n",
    "        if waterEarlier==0 and waterNow==0:\n",
    "            status = \"empty\"\n",
    "        elif waterEarlier==0 and waterNow==1:\n",
    "            if aeratorNow==1:\n",
    "                status = \"aerated\"\n",
    "            else:\n",
    "                status = \"pumped\"\n",
    "        elif waterEarlier==1 and waterNow==1:\n",
    "            if aeratorEarlier==0 and aeratorNow==1:\n",
    "                status = \"aerated\"\n",
    "            elif aeratorEarlier==0 and aeratorNow==0:\n",
    "                status = \"pumped\"\n",
    "            elif aeratorEarlier==1 and aeratorNow==1:\n",
    "                status = \"aerated\"\n",
    "            elif aeratorEarlier==1 and aeratorNow==0:\n",
    "                status = \"harvested\"\n",
    "        elif waterEarlier==1 and waterNow==0:\n",
    "            if aeratorEarlier==1:\n",
    "                status = \"harvested\"\n",
    "            else:\n",
    "                status = \"empty\"\n",
    "        data[i][\"properties\"][\"time_series\"][j][\"status\"] = status\n",
    "        if j == len((data[i][\"properties\"][\"time_series\"]))-1:\n",
    "            data[i][\"properties\"][\"farm_status\"] = status\n",
    "            if status==\"aerated\":\n",
    "                active = active + 1\n",
    "            if status==\"empty\":\n",
    "                unused = unused + 1\n",
    "            if status==\"pumped\":\n",
    "                underpumping = underpumping + 1\n",
    "            if status==\"harvested\":\n",
    "                harvested = harvested + 1"
   ]
  },
  {
   "cell_type": "code",
   "execution_count": 14,
   "metadata": {},
   "outputs": [],
   "source": [
    "for i in range(0, len(data)):\n",
    "    currentStatus = data[i][\"properties\"][\"time_series\"][1][\"status\"]\n",
    "    statusList = [data[i][\"properties\"][\"time_series\"][1][\"status\"]]\n",
    "    timeList = [data[i][\"properties\"][\"time_series\"][1][\"time\"]]\n",
    "    for k in range(2, len(data[i][\"properties\"][\"time_series\"])):\n",
    "        if currentStatus==\"empty\":\n",
    "            if data[i][\"properties\"][\"time_series\"][k][\"status\"]==currentStatus:\n",
    "                timeList.pop(-1)\n",
    "                statusList.pop(-1)\n",
    "                timeList.append(data[i][\"properties\"][\"time_series\"][k][\"time\"])\n",
    "                statusList.append(data[i][\"properties\"][\"time_series\"][k][\"status\"])\n",
    "            elif data[i][\"properties\"][\"time_series\"][k][\"status\"]==\"aerated\":\n",
    "                currentStatus = data[i][\"properties\"][\"time_series\"][k][\"status\"]\n",
    "                statusList.append(\"pumped and aerated\")\n",
    "                timeList.append(data[i][\"properties\"][\"time_series\"][k][\"time\"])\n",
    "            elif data[i][\"properties\"][\"time_series\"][k][\"status\"]==\"pumped\":\n",
    "                currentStatus = data[i][\"properties\"][\"time_series\"][k][\"status\"]\n",
    "                statusList.append(data[i][\"properties\"][\"time_series\"][k][\"status\"])\n",
    "                timeList.append(data[i][\"properties\"][\"time_series\"][k][\"time\"])\n",
    "        elif currentStatus==\"pumped\":\n",
    "            if data[i][\"properties\"][\"time_series\"][k][\"status\"]==\"aerated\":\n",
    "                currentStatus = data[i][\"properties\"][\"time_series\"][k][\"status\"]\n",
    "                statusList.append(data[i][\"properties\"][\"time_series\"][k][\"status\"])\n",
    "                timeList.append(data[i][\"properties\"][\"time_series\"][k][\"time\"])\n",
    "            elif data[i][\"properties\"][\"time_series\"][k][\"status\"]==\"harvested\":\n",
    "                currentStatus = data[i][\"properties\"][\"time_series\"][k][\"status\"]\n",
    "                statusList.append(data[i][\"properties\"][\"time_series\"][k][\"status\"])\n",
    "                timeList.append(data[i][\"properties\"][\"time_series\"][k][\"time\"])\n",
    "        elif currentStatus==\"aerated\":\n",
    "            if data[i][\"properties\"][\"time_series\"][k][\"status\"]==\"harvested\":\n",
    "                currentStatus = data[i][\"properties\"][\"time_series\"][k][\"status\"]\n",
    "                statusList.append(data[i][\"properties\"][\"time_series\"][k][\"status\"])\n",
    "                timeList.append(data[i][\"properties\"][\"time_series\"][k][\"time\"])\n",
    "        elif currentStatus == \"harvested\":\n",
    "            currentStatus = data[i][\"properties\"][\"time_series\"][k][\"status\"]\n",
    "            statusList.append(data[i][\"properties\"][\"time_series\"][k][\"status\"])\n",
    "            timeList.append(data[i][\"properties\"][\"time_series\"][k][\"time\"])\n",
    "    timeseriesfeatures = []\n",
    "    for k in range(0, len(timeList)):\n",
    "        time_series_status = {}\n",
    "        time_series_status[\"time\"] = timeList[k]\n",
    "        time_series_status[\"status\"] = statusList[k]\n",
    "        timeseriesfeatures.append(time_series_status) \n",
    "    data[i][\"properties\"][\"time_series_status\"] = timeseriesfeatures"
   ]
  },
  {
   "cell_type": "code",
   "execution_count": 15,
   "metadata": {},
   "outputs": [
    {
     "name": "stdout",
     "output_type": "stream",
     "text": [
      "2474\n",
      "4006\n",
      "335\n",
      "973\n"
     ]
    }
   ],
   "source": [
    "print(unused)\n",
    "print(active)\n",
    "print(underpumping)\n",
    "print(harvested)"
   ]
  },
  {
   "cell_type": "code",
   "execution_count": 16,
   "metadata": {},
   "outputs": [],
   "source": [
    "with open(\"masterjson.json\", \"w+\") as outfile:\n",
    "    json.dump(data, outfile)"
   ]
  },
  {
   "cell_type": "code",
   "execution_count": 17,
   "metadata": {},
   "outputs": [],
   "source": [
    "with open('./masterjson.json', 'r') as f:\n",
    "  data = json.load(f)"
   ]
  },
  {
   "cell_type": "code",
   "execution_count": 18,
   "metadata": {},
   "outputs": [],
   "source": [
    "dummyobject = {\"type\": \"Feature\",\n",
    "               \"properties\": {}}"
   ]
  },
  {
   "cell_type": "code",
   "execution_count": 19,
   "metadata": {},
   "outputs": [],
   "source": [
    "features = []\n",
    "for i in range(0, len(data)):\n",
    "    dummyobject = {\"type\": \"Feature\", \"properties\": {}}\n",
    "    dummyobject[\"geometry\"] = data[i][\"polygon\"]\n",
    "    dummyobject[\"properties\"] = data[i][\"properties\"]\n",
    "    features.append(dummyobject)"
   ]
  },
  {
   "cell_type": "code",
   "execution_count": 20,
   "metadata": {},
   "outputs": [],
   "source": [
    "objectjson = {\"type\": \"FeatureCollection\",\n",
    "              \"features\": features}"
   ]
  },
  {
   "cell_type": "code",
   "execution_count": 21,
   "metadata": {},
   "outputs": [],
   "source": [
    "with open(\"mastergeojson.json\", \"w+\") as outfile:\n",
    "    json.dump(objectjson, outfile)"
   ]
  },
  {
   "attachments": {},
   "cell_type": "markdown",
   "metadata": {},
   "source": [
    "### convert json to csv/excel"
   ]
  },
  {
   "cell_type": "code",
   "execution_count": 22,
   "metadata": {},
   "outputs": [],
   "source": [
    "with open('./masterjson.json', 'r') as f:\n",
    "  data = json.load(f)"
   ]
  },
  {
   "cell_type": "code",
   "execution_count": 23,
   "metadata": {},
   "outputs": [],
   "source": [
    "daysOfCulture = []\n",
    "for i in range(0, len(data)):\n",
    "    timeseries = data[i][\"properties\"][\"time_series\"]\n",
    "    if timeseries[len(timeSeries)-1][\"status\"]==\"aerated\":\n",
    "        doc = 12\n",
    "        for j in range(len(timeSeries)-2, 0, -1):\n",
    "            if timeseries[j][\"status\"]!=\"aerated\":\n",
    "                continue\n",
    "            else:\n",
    "                doc = doc + 12\n",
    "        doc = str(doc) + \" to \" + str(doc+12)\n",
    "        daysOfCulture.append(doc)\n",
    "    else:\n",
    "        daysOfCulture.append(\"NA\")"
   ]
  },
  {
   "cell_type": "code",
   "execution_count": 24,
   "metadata": {},
   "outputs": [],
   "source": [
    "dataframe = gpd.read_file(\"./mastergeojson.json\")"
   ]
  },
  {
   "cell_type": "code",
   "execution_count": 25,
   "metadata": {},
   "outputs": [
    {
     "name": "stderr",
     "output_type": "stream",
     "text": [
      "/var/folders/0n/fwtd0dwd2jd4tg26kf52g5kc0000gn/T/ipykernel_93946/4042232620.py:4: UserWarning: Geometry is in a geographic CRS. Results from 'centroid' are likely incorrect. Use 'GeoSeries.to_crs()' to re-project geometries to a projected CRS before this operation.\n",
      "\n",
      "  dataframe[\"Pond Coordinates\"] = dataframe[\"geometry\"].centroid\n"
     ]
    }
   ],
   "source": [
    "dataframe[\"Farmer Name\"] = dataframe[\"farmer_name\"]\n",
    "dataframe[\"Village Name\"] = dataframe[\"village_name\"]\n",
    "dataframe[\"Feed Supplier\"] = dataframe[\"feed_supplier\"]\n",
    "dataframe[\"Pond Coordinates\"] = dataframe[\"geometry\"].centroid\n",
    "dataframe[\"Farm Status\"] = dataframe[\"farm_status\"]\n",
    "dataframe[\"Days of Culture\"] = daysOfCulture"
   ]
  },
  {
   "cell_type": "code",
   "execution_count": 26,
   "metadata": {},
   "outputs": [],
   "source": [
    "mapslink = []\n",
    "for i in range(0, len(dataframe)):\n",
    "    c = str(dataframe[\"Pond Coordinates\"][i])\n",
    "    c = c.split(\" \")\n",
    "    c = \"https://www.google.com/maps?q=\" + c[2][:-1] + \"%2C\" + c[1][1:]\n",
    "    mapslink.append(c)\n",
    "dataframe[\"Pond Coordinates\"] = mapslink"
   ]
  },
  {
   "cell_type": "code",
   "execution_count": 27,
   "metadata": {},
   "outputs": [
    {
     "data": {
      "text/html": [
       "<div>\n",
       "<style scoped>\n",
       "    .dataframe tbody tr th:only-of-type {\n",
       "        vertical-align: middle;\n",
       "    }\n",
       "\n",
       "    .dataframe tbody tr th {\n",
       "        vertical-align: top;\n",
       "    }\n",
       "\n",
       "    .dataframe thead th {\n",
       "        text-align: right;\n",
       "    }\n",
       "</style>\n",
       "<table border=\"1\" class=\"dataframe\">\n",
       "  <thead>\n",
       "    <tr style=\"text-align: right;\">\n",
       "      <th></th>\n",
       "      <th>farmer_name</th>\n",
       "      <th>feed_supplier</th>\n",
       "      <th>village_name</th>\n",
       "      <th>id</th>\n",
       "      <th>name</th>\n",
       "      <th>time_series</th>\n",
       "      <th>farm_status</th>\n",
       "      <th>time_series_status</th>\n",
       "      <th>geometry</th>\n",
       "      <th>Farmer Name</th>\n",
       "      <th>Village Name</th>\n",
       "      <th>Feed Supplier</th>\n",
       "      <th>Pond Coordinates</th>\n",
       "      <th>Farm Status</th>\n",
       "      <th>Days of Culture</th>\n",
       "    </tr>\n",
       "  </thead>\n",
       "  <tbody>\n",
       "    <tr>\n",
       "      <th>0</th>\n",
       "      <td>P PHANENDRA REDDY</td>\n",
       "      <td>SKRETTING</td>\n",
       "      <td>KOLANAKUDURU</td>\n",
       "      <td>1192</td>\n",
       "      <td>pond1192</td>\n",
       "      <td>[ { \"time\": \"January-10-2023\", \"Water\": 1, \"Ae...</td>\n",
       "      <td>aerated</td>\n",
       "      <td>[ { \"time\": \"January-22-2023\", \"status\": \"aera...</td>\n",
       "      <td>POLYGON ((79.94863 14.21654, 79.94867 14.21645...</td>\n",
       "      <td>P PHANENDRA REDDY</td>\n",
       "      <td>KOLANAKUDURU</td>\n",
       "      <td>SKRETTING</td>\n",
       "      <td>https://www.google.com/maps?q=14.2165435516199...</td>\n",
       "      <td>aerated</td>\n",
       "      <td>48 to 60</td>\n",
       "    </tr>\n",
       "    <tr>\n",
       "      <th>1</th>\n",
       "      <td>P PHANENDRA REDDY</td>\n",
       "      <td>SKRETTING</td>\n",
       "      <td>KOLANAKUDURU</td>\n",
       "      <td>1193</td>\n",
       "      <td>pond1193</td>\n",
       "      <td>[ { \"time\": \"January-10-2023\", \"Water\": 1, \"Ae...</td>\n",
       "      <td>pumped</td>\n",
       "      <td>[ { \"time\": \"January-22-2023\", \"status\": \"pump...</td>\n",
       "      <td>POLYGON ((79.94919 14.21757, 79.95032 14.21707...</td>\n",
       "      <td>P PHANENDRA REDDY</td>\n",
       "      <td>KOLANAKUDURU</td>\n",
       "      <td>SKRETTING</td>\n",
       "      <td>https://www.google.com/maps?q=14.2170760245521...</td>\n",
       "      <td>pumped</td>\n",
       "      <td>NA</td>\n",
       "    </tr>\n",
       "    <tr>\n",
       "      <th>2</th>\n",
       "      <td>M KOTESWARARAO</td>\n",
       "      <td>AVANTI</td>\n",
       "      <td>TIPPAGUNTAPALLEM</td>\n",
       "      <td>3021</td>\n",
       "      <td>pond3021</td>\n",
       "      <td>[ { \"time\": \"January-10-2023\", \"Water\": 0, \"Ae...</td>\n",
       "      <td>empty</td>\n",
       "      <td>[ { \"time\": \"June-15-2023\", \"status\": \"empty\" } ]</td>\n",
       "      <td>POLYGON ((79.93757 14.14803, 79.93772 14.14852...</td>\n",
       "      <td>M KOTESWARARAO</td>\n",
       "      <td>TIPPAGUNTAPALLEM</td>\n",
       "      <td>AVANTI</td>\n",
       "      <td>https://www.google.com/maps?q=14.1481733618061...</td>\n",
       "      <td>empty</td>\n",
       "      <td>NA</td>\n",
       "    </tr>\n",
       "    <tr>\n",
       "      <th>3</th>\n",
       "      <td>M KOTESWARARAO</td>\n",
       "      <td>AVANTI</td>\n",
       "      <td>TIPPAGUNTAPALLEM</td>\n",
       "      <td>3022</td>\n",
       "      <td>pond3022</td>\n",
       "      <td>[ { \"time\": \"January-10-2023\", \"Water\": 0, \"Ae...</td>\n",
       "      <td>aerated</td>\n",
       "      <td>[ { \"time\": \"April-16-2023\", \"status\": \"empty\"...</td>\n",
       "      <td>POLYGON ((79.93813 14.14782, 79.93837 14.14827...</td>\n",
       "      <td>M KOTESWARARAO</td>\n",
       "      <td>TIPPAGUNTAPALLEM</td>\n",
       "      <td>AVANTI</td>\n",
       "      <td>https://www.google.com/maps?q=14.1479146060487...</td>\n",
       "      <td>aerated</td>\n",
       "      <td>60 to 72</td>\n",
       "    </tr>\n",
       "    <tr>\n",
       "      <th>4</th>\n",
       "      <td>V Venkaiah</td>\n",
       "      <td>Avanti</td>\n",
       "      <td>Kolanukudhuru</td>\n",
       "      <td>4</td>\n",
       "      <td>pond4</td>\n",
       "      <td>[ { \"time\": \"January-10-2023\", \"Water\": 0, \"Ae...</td>\n",
       "      <td>aerated</td>\n",
       "      <td>[ { \"time\": \"April-04-2023\", \"status\": \"empty\"...</td>\n",
       "      <td>POLYGON ((79.96092 14.20412, 79.96129 14.20402...</td>\n",
       "      <td>V Venkaiah</td>\n",
       "      <td>Kolanukudhuru</td>\n",
       "      <td>Avanti</td>\n",
       "      <td>https://www.google.com/maps?q=14.2043024003542...</td>\n",
       "      <td>aerated</td>\n",
       "      <td>60 to 72</td>\n",
       "    </tr>\n",
       "    <tr>\n",
       "      <th>...</th>\n",
       "      <td>...</td>\n",
       "      <td>...</td>\n",
       "      <td>...</td>\n",
       "      <td>...</td>\n",
       "      <td>...</td>\n",
       "      <td>...</td>\n",
       "      <td>...</td>\n",
       "      <td>...</td>\n",
       "      <td>...</td>\n",
       "      <td>...</td>\n",
       "      <td>...</td>\n",
       "      <td>...</td>\n",
       "      <td>...</td>\n",
       "      <td>...</td>\n",
       "      <td>...</td>\n",
       "    </tr>\n",
       "    <tr>\n",
       "      <th>7783</th>\n",
       "      <td>T PARAMDHAMA REDDY</td>\n",
       "      <td>NO CULTURE</td>\n",
       "      <td>PEDDAKATTAPALI</td>\n",
       "      <td>8046</td>\n",
       "      <td>pond8046</td>\n",
       "      <td>[ { \"time\": \"January-10-2023\", \"Water\": 0, \"Ae...</td>\n",
       "      <td>empty</td>\n",
       "      <td>[ { \"time\": \"June-15-2023\", \"status\": \"empty\" } ]</td>\n",
       "      <td>POLYGON ((79.95681 14.15971, 79.95704 14.16045...</td>\n",
       "      <td>T PARAMDHAMA REDDY</td>\n",
       "      <td>PEDDAKATTAPALI</td>\n",
       "      <td>NO CULTURE</td>\n",
       "      <td>https://www.google.com/maps?q=14.1599831996315...</td>\n",
       "      <td>empty</td>\n",
       "      <td>NA</td>\n",
       "    </tr>\n",
       "    <tr>\n",
       "      <th>7784</th>\n",
       "      <td>RAJA REDDY</td>\n",
       "      <td>STOP CULTURE</td>\n",
       "      <td>PEDDAKATTAPALLI</td>\n",
       "      <td>8047</td>\n",
       "      <td>pond8047</td>\n",
       "      <td>[ { \"time\": \"January-10-2023\", \"Water\": 0, \"Ae...</td>\n",
       "      <td>empty</td>\n",
       "      <td>[ { \"time\": \"June-15-2023\", \"status\": \"empty\" } ]</td>\n",
       "      <td>POLYGON ((79.95275 14.15435, 79.95226 14.15356...</td>\n",
       "      <td>RAJA REDDY</td>\n",
       "      <td>PEDDAKATTAPALLI</td>\n",
       "      <td>STOP CULTURE</td>\n",
       "      <td>https://www.google.com/maps?q=14.1537781731348...</td>\n",
       "      <td>empty</td>\n",
       "      <td>NA</td>\n",
       "    </tr>\n",
       "    <tr>\n",
       "      <th>7785</th>\n",
       "      <td>AVULA MANOHAR REDDY</td>\n",
       "      <td>AVANTI</td>\n",
       "      <td>PEDDAKATTAPALI</td>\n",
       "      <td>8048</td>\n",
       "      <td>pond8048</td>\n",
       "      <td>[ { \"time\": \"January-10-2023\", \"Water\": 0, \"Ae...</td>\n",
       "      <td>harvested</td>\n",
       "      <td>[ { \"time\": \"April-16-2023\", \"status\": \"empty\"...</td>\n",
       "      <td>POLYGON ((79.95882 14.15924, 79.95934 14.15892...</td>\n",
       "      <td>AVULA MANOHAR REDDY</td>\n",
       "      <td>PEDDAKATTAPALI</td>\n",
       "      <td>AVANTI</td>\n",
       "      <td>https://www.google.com/maps?q=14.1587204641326...</td>\n",
       "      <td>harvested</td>\n",
       "      <td>NA</td>\n",
       "    </tr>\n",
       "    <tr>\n",
       "      <th>7786</th>\n",
       "      <td>RADHA REDDY</td>\n",
       "      <td>CP</td>\n",
       "      <td>PEDDAKATTAPALI</td>\n",
       "      <td>8049</td>\n",
       "      <td>pond8049</td>\n",
       "      <td>[ { \"time\": \"January-10-2023\", \"Water\": 0, \"Ae...</td>\n",
       "      <td>empty</td>\n",
       "      <td>[ { \"time\": \"June-15-2023\", \"status\": \"empty\" } ]</td>\n",
       "      <td>POLYGON ((79.96046 14.15810, 79.96105 14.15786...</td>\n",
       "      <td>RADHA REDDY</td>\n",
       "      <td>PEDDAKATTAPALI</td>\n",
       "      <td>CP</td>\n",
       "      <td>https://www.google.com/maps?q=14.1575589951511...</td>\n",
       "      <td>empty</td>\n",
       "      <td>NA</td>\n",
       "    </tr>\n",
       "    <tr>\n",
       "      <th>7787</th>\n",
       "      <td>MASTHAN REDDY</td>\n",
       "      <td>AVANTI</td>\n",
       "      <td>PEDDAKATTAPALI</td>\n",
       "      <td>8050</td>\n",
       "      <td>pond8050</td>\n",
       "      <td>[ { \"time\": \"January-10-2023\", \"Water\": 0, \"Ae...</td>\n",
       "      <td>aerated</td>\n",
       "      <td>[ { \"time\": \"February-15-2023\", \"status\": \"emp...</td>\n",
       "      <td>POLYGON ((79.96176 14.16189, 79.96269 14.16140...</td>\n",
       "      <td>MASTHAN REDDY</td>\n",
       "      <td>PEDDAKATTAPALI</td>\n",
       "      <td>AVANTI</td>\n",
       "      <td>https://www.google.com/maps?q=14.1613547360900...</td>\n",
       "      <td>aerated</td>\n",
       "      <td>120 to 132</td>\n",
       "    </tr>\n",
       "  </tbody>\n",
       "</table>\n",
       "<p>7788 rows × 15 columns</p>\n",
       "</div>"
      ],
      "text/plain": [
       "              farmer_name feed_supplier      village_name    id      name  \\\n",
       "0       P PHANENDRA REDDY     SKRETTING      KOLANAKUDURU  1192  pond1192   \n",
       "1       P PHANENDRA REDDY     SKRETTING      KOLANAKUDURU  1193  pond1193   \n",
       "2          M KOTESWARARAO        AVANTI  TIPPAGUNTAPALLEM  3021  pond3021   \n",
       "3          M KOTESWARARAO        AVANTI  TIPPAGUNTAPALLEM  3022  pond3022   \n",
       "4              V Venkaiah       Avanti     Kolanukudhuru      4     pond4   \n",
       "...                   ...           ...               ...   ...       ...   \n",
       "7783   T PARAMDHAMA REDDY    NO CULTURE    PEDDAKATTAPALI  8046  pond8046   \n",
       "7784           RAJA REDDY  STOP CULTURE   PEDDAKATTAPALLI  8047  pond8047   \n",
       "7785  AVULA MANOHAR REDDY        AVANTI    PEDDAKATTAPALI  8048  pond8048   \n",
       "7786         RADHA REDDY             CP    PEDDAKATTAPALI  8049  pond8049   \n",
       "7787        MASTHAN REDDY        AVANTI    PEDDAKATTAPALI  8050  pond8050   \n",
       "\n",
       "                                            time_series farm_status  \\\n",
       "0     [ { \"time\": \"January-10-2023\", \"Water\": 1, \"Ae...     aerated   \n",
       "1     [ { \"time\": \"January-10-2023\", \"Water\": 1, \"Ae...      pumped   \n",
       "2     [ { \"time\": \"January-10-2023\", \"Water\": 0, \"Ae...       empty   \n",
       "3     [ { \"time\": \"January-10-2023\", \"Water\": 0, \"Ae...     aerated   \n",
       "4     [ { \"time\": \"January-10-2023\", \"Water\": 0, \"Ae...     aerated   \n",
       "...                                                 ...         ...   \n",
       "7783  [ { \"time\": \"January-10-2023\", \"Water\": 0, \"Ae...       empty   \n",
       "7784  [ { \"time\": \"January-10-2023\", \"Water\": 0, \"Ae...       empty   \n",
       "7785  [ { \"time\": \"January-10-2023\", \"Water\": 0, \"Ae...   harvested   \n",
       "7786  [ { \"time\": \"January-10-2023\", \"Water\": 0, \"Ae...       empty   \n",
       "7787  [ { \"time\": \"January-10-2023\", \"Water\": 0, \"Ae...     aerated   \n",
       "\n",
       "                                     time_series_status  \\\n",
       "0     [ { \"time\": \"January-22-2023\", \"status\": \"aera...   \n",
       "1     [ { \"time\": \"January-22-2023\", \"status\": \"pump...   \n",
       "2     [ { \"time\": \"June-15-2023\", \"status\": \"empty\" } ]   \n",
       "3     [ { \"time\": \"April-16-2023\", \"status\": \"empty\"...   \n",
       "4     [ { \"time\": \"April-04-2023\", \"status\": \"empty\"...   \n",
       "...                                                 ...   \n",
       "7783  [ { \"time\": \"June-15-2023\", \"status\": \"empty\" } ]   \n",
       "7784  [ { \"time\": \"June-15-2023\", \"status\": \"empty\" } ]   \n",
       "7785  [ { \"time\": \"April-16-2023\", \"status\": \"empty\"...   \n",
       "7786  [ { \"time\": \"June-15-2023\", \"status\": \"empty\" } ]   \n",
       "7787  [ { \"time\": \"February-15-2023\", \"status\": \"emp...   \n",
       "\n",
       "                                               geometry          Farmer Name  \\\n",
       "0     POLYGON ((79.94863 14.21654, 79.94867 14.21645...    P PHANENDRA REDDY   \n",
       "1     POLYGON ((79.94919 14.21757, 79.95032 14.21707...    P PHANENDRA REDDY   \n",
       "2     POLYGON ((79.93757 14.14803, 79.93772 14.14852...       M KOTESWARARAO   \n",
       "3     POLYGON ((79.93813 14.14782, 79.93837 14.14827...       M KOTESWARARAO   \n",
       "4     POLYGON ((79.96092 14.20412, 79.96129 14.20402...           V Venkaiah   \n",
       "...                                                 ...                  ...   \n",
       "7783  POLYGON ((79.95681 14.15971, 79.95704 14.16045...   T PARAMDHAMA REDDY   \n",
       "7784  POLYGON ((79.95275 14.15435, 79.95226 14.15356...           RAJA REDDY   \n",
       "7785  POLYGON ((79.95882 14.15924, 79.95934 14.15892...  AVULA MANOHAR REDDY   \n",
       "7786  POLYGON ((79.96046 14.15810, 79.96105 14.15786...         RADHA REDDY    \n",
       "7787  POLYGON ((79.96176 14.16189, 79.96269 14.16140...        MASTHAN REDDY   \n",
       "\n",
       "          Village Name Feed Supplier  \\\n",
       "0         KOLANAKUDURU     SKRETTING   \n",
       "1         KOLANAKUDURU     SKRETTING   \n",
       "2     TIPPAGUNTAPALLEM        AVANTI   \n",
       "3     TIPPAGUNTAPALLEM        AVANTI   \n",
       "4       Kolanukudhuru        Avanti    \n",
       "...                ...           ...   \n",
       "7783    PEDDAKATTAPALI    NO CULTURE   \n",
       "7784   PEDDAKATTAPALLI  STOP CULTURE   \n",
       "7785    PEDDAKATTAPALI        AVANTI   \n",
       "7786    PEDDAKATTAPALI            CP   \n",
       "7787    PEDDAKATTAPALI        AVANTI   \n",
       "\n",
       "                                       Pond Coordinates Farm Status  \\\n",
       "0     https://www.google.com/maps?q=14.2165435516199...     aerated   \n",
       "1     https://www.google.com/maps?q=14.2170760245521...      pumped   \n",
       "2     https://www.google.com/maps?q=14.1481733618061...       empty   \n",
       "3     https://www.google.com/maps?q=14.1479146060487...     aerated   \n",
       "4     https://www.google.com/maps?q=14.2043024003542...     aerated   \n",
       "...                                                 ...         ...   \n",
       "7783  https://www.google.com/maps?q=14.1599831996315...       empty   \n",
       "7784  https://www.google.com/maps?q=14.1537781731348...       empty   \n",
       "7785  https://www.google.com/maps?q=14.1587204641326...   harvested   \n",
       "7786  https://www.google.com/maps?q=14.1575589951511...       empty   \n",
       "7787  https://www.google.com/maps?q=14.1613547360900...     aerated   \n",
       "\n",
       "     Days of Culture  \n",
       "0           48 to 60  \n",
       "1                 NA  \n",
       "2                 NA  \n",
       "3           60 to 72  \n",
       "4           60 to 72  \n",
       "...              ...  \n",
       "7783              NA  \n",
       "7784              NA  \n",
       "7785              NA  \n",
       "7786              NA  \n",
       "7787      120 to 132  \n",
       "\n",
       "[7788 rows x 15 columns]"
      ]
     },
     "execution_count": 27,
     "metadata": {},
     "output_type": "execute_result"
    }
   ],
   "source": [
    "dataframe"
   ]
  },
  {
   "cell_type": "code",
   "execution_count": 28,
   "metadata": {},
   "outputs": [
    {
     "name": "stderr",
     "output_type": "stream",
     "text": [
      "/Users/azhanmohammed/opt/anaconda3/lib/python3.9/site-packages/pyproj/crs/crs.py:141: FutureWarning: '+init=<authority>:<code>' syntax is deprecated. '<authority>:<code>' is the preferred initialization method. When making the change, be mindful of axis order changes: https://pyproj4.github.io/pyproj/stable/gotchas.html#axis-order-changes-in-proj-6\n",
      "  in_crs_string = _prepare_from_proj_string(in_crs_string)\n"
     ]
    }
   ],
   "source": [
    "dataframe = dataframe.to_crs({'init': 'epsg:6933'})\n",
    "dataframe[\"Area of Pond (hectare)\"] = 100*dataframe[\"geometry\"].area/10**6"
   ]
  },
  {
   "cell_type": "code",
   "execution_count": 29,
   "metadata": {},
   "outputs": [
    {
     "data": {
      "text/html": [
       "<div>\n",
       "<style scoped>\n",
       "    .dataframe tbody tr th:only-of-type {\n",
       "        vertical-align: middle;\n",
       "    }\n",
       "\n",
       "    .dataframe tbody tr th {\n",
       "        vertical-align: top;\n",
       "    }\n",
       "\n",
       "    .dataframe thead th {\n",
       "        text-align: right;\n",
       "    }\n",
       "</style>\n",
       "<table border=\"1\" class=\"dataframe\">\n",
       "  <thead>\n",
       "    <tr style=\"text-align: right;\">\n",
       "      <th></th>\n",
       "      <th>farmer_name</th>\n",
       "      <th>feed_supplier</th>\n",
       "      <th>village_name</th>\n",
       "      <th>id</th>\n",
       "      <th>name</th>\n",
       "      <th>time_series</th>\n",
       "      <th>farm_status</th>\n",
       "      <th>time_series_status</th>\n",
       "      <th>geometry</th>\n",
       "      <th>Farmer Name</th>\n",
       "      <th>Village Name</th>\n",
       "      <th>Feed Supplier</th>\n",
       "      <th>Pond Coordinates</th>\n",
       "      <th>Farm Status</th>\n",
       "      <th>Days of Culture</th>\n",
       "      <th>Area of Pond (hectare)</th>\n",
       "    </tr>\n",
       "  </thead>\n",
       "  <tbody>\n",
       "    <tr>\n",
       "      <th>0</th>\n",
       "      <td>P PHANENDRA REDDY</td>\n",
       "      <td>SKRETTING</td>\n",
       "      <td>KOLANAKUDURU</td>\n",
       "      <td>1192</td>\n",
       "      <td>pond1192</td>\n",
       "      <td>[ { \"time\": \"January-10-2023\", \"Water\": 1, \"Ae...</td>\n",
       "      <td>aerated</td>\n",
       "      <td>[ { \"time\": \"January-22-2023\", \"status\": \"aera...</td>\n",
       "      <td>POLYGON ((7713945.458 1795581.699, 7713950.115...</td>\n",
       "      <td>P PHANENDRA REDDY</td>\n",
       "      <td>KOLANAKUDURU</td>\n",
       "      <td>SKRETTING</td>\n",
       "      <td>https://www.google.com/maps?q=14.2165435516199...</td>\n",
       "      <td>aerated</td>\n",
       "      <td>48 to 60</td>\n",
       "      <td>1.016383</td>\n",
       "    </tr>\n",
       "    <tr>\n",
       "      <th>1</th>\n",
       "      <td>P PHANENDRA REDDY</td>\n",
       "      <td>SKRETTING</td>\n",
       "      <td>KOLANAKUDURU</td>\n",
       "      <td>1193</td>\n",
       "      <td>pond1193</td>\n",
       "      <td>[ { \"time\": \"January-10-2023\", \"Water\": 1, \"Ae...</td>\n",
       "      <td>pumped</td>\n",
       "      <td>[ { \"time\": \"January-22-2023\", \"status\": \"pump...</td>\n",
       "      <td>POLYGON ((7714000.308 1795709.060, 7714108.973...</td>\n",
       "      <td>P PHANENDRA REDDY</td>\n",
       "      <td>KOLANAKUDURU</td>\n",
       "      <td>SKRETTING</td>\n",
       "      <td>https://www.google.com/maps?q=14.2170760245521...</td>\n",
       "      <td>pumped</td>\n",
       "      <td>NA</td>\n",
       "      <td>0.815473</td>\n",
       "    </tr>\n",
       "    <tr>\n",
       "      <th>2</th>\n",
       "      <td>M KOTESWARARAO</td>\n",
       "      <td>AVANTI</td>\n",
       "      <td>TIPPAGUNTAPALLEM</td>\n",
       "      <td>3021</td>\n",
       "      <td>pond3021</td>\n",
       "      <td>[ { \"time\": \"January-10-2023\", \"Water\": 0, \"Ae...</td>\n",
       "      <td>empty</td>\n",
       "      <td>[ { \"time\": \"June-15-2023\", \"status\": \"empty\" } ]</td>\n",
       "      <td>POLYGON ((7712878.733 1787100.812, 7712893.226...</td>\n",
       "      <td>M KOTESWARARAO</td>\n",
       "      <td>TIPPAGUNTAPALLEM</td>\n",
       "      <td>AVANTI</td>\n",
       "      <td>https://www.google.com/maps?q=14.1481733618061...</td>\n",
       "      <td>empty</td>\n",
       "      <td>NA</td>\n",
       "      <td>0.359555</td>\n",
       "    </tr>\n",
       "    <tr>\n",
       "      <th>3</th>\n",
       "      <td>M KOTESWARARAO</td>\n",
       "      <td>AVANTI</td>\n",
       "      <td>TIPPAGUNTAPALLEM</td>\n",
       "      <td>3022</td>\n",
       "      <td>pond3022</td>\n",
       "      <td>[ { \"time\": \"January-10-2023\", \"Water\": 0, \"Ae...</td>\n",
       "      <td>aerated</td>\n",
       "      <td>[ { \"time\": \"April-16-2023\", \"status\": \"empty\"...</td>\n",
       "      <td>POLYGON ((7712933.080 1787075.038, 7712955.855...</td>\n",
       "      <td>M KOTESWARARAO</td>\n",
       "      <td>TIPPAGUNTAPALLEM</td>\n",
       "      <td>AVANTI</td>\n",
       "      <td>https://www.google.com/maps?q=14.1479146060487...</td>\n",
       "      <td>aerated</td>\n",
       "      <td>60 to 72</td>\n",
       "      <td>0.417953</td>\n",
       "    </tr>\n",
       "    <tr>\n",
       "      <th>4</th>\n",
       "      <td>V Venkaiah</td>\n",
       "      <td>Avanti</td>\n",
       "      <td>Kolanukudhuru</td>\n",
       "      <td>4</td>\n",
       "      <td>pond4</td>\n",
       "      <td>[ { \"time\": \"January-10-2023\", \"Water\": 0, \"Ae...</td>\n",
       "      <td>aerated</td>\n",
       "      <td>[ { \"time\": \"April-04-2023\", \"status\": \"empty\"...</td>\n",
       "      <td>POLYGON ((7715131.472 1794044.706, 7715167.194...</td>\n",
       "      <td>V Venkaiah</td>\n",
       "      <td>Kolanukudhuru</td>\n",
       "      <td>Avanti</td>\n",
       "      <td>https://www.google.com/maps?q=14.2043024003542...</td>\n",
       "      <td>aerated</td>\n",
       "      <td>60 to 72</td>\n",
       "      <td>0.193663</td>\n",
       "    </tr>\n",
       "    <tr>\n",
       "      <th>...</th>\n",
       "      <td>...</td>\n",
       "      <td>...</td>\n",
       "      <td>...</td>\n",
       "      <td>...</td>\n",
       "      <td>...</td>\n",
       "      <td>...</td>\n",
       "      <td>...</td>\n",
       "      <td>...</td>\n",
       "      <td>...</td>\n",
       "      <td>...</td>\n",
       "      <td>...</td>\n",
       "      <td>...</td>\n",
       "      <td>...</td>\n",
       "      <td>...</td>\n",
       "      <td>...</td>\n",
       "      <td>...</td>\n",
       "    </tr>\n",
       "    <tr>\n",
       "      <th>7783</th>\n",
       "      <td>T PARAMDHAMA REDDY</td>\n",
       "      <td>NO CULTURE</td>\n",
       "      <td>PEDDAKATTAPALI</td>\n",
       "      <td>8046</td>\n",
       "      <td>pond8046</td>\n",
       "      <td>[ { \"time\": \"January-10-2023\", \"Water\": 0, \"Ae...</td>\n",
       "      <td>empty</td>\n",
       "      <td>[ { \"time\": \"June-15-2023\", \"status\": \"empty\" } ]</td>\n",
       "      <td>POLYGON ((7714734.821 1788546.468, 7714757.595...</td>\n",
       "      <td>T PARAMDHAMA REDDY</td>\n",
       "      <td>PEDDAKATTAPALI</td>\n",
       "      <td>NO CULTURE</td>\n",
       "      <td>https://www.google.com/maps?q=14.1599831996315...</td>\n",
       "      <td>empty</td>\n",
       "      <td>NA</td>\n",
       "      <td>0.906015</td>\n",
       "    </tr>\n",
       "    <tr>\n",
       "      <th>7784</th>\n",
       "      <td>RAJA REDDY</td>\n",
       "      <td>STOP CULTURE</td>\n",
       "      <td>PEDDAKATTAPALLI</td>\n",
       "      <td>8047</td>\n",
       "      <td>pond8047</td>\n",
       "      <td>[ { \"time\": \"January-10-2023\", \"Water\": 0, \"Ae...</td>\n",
       "      <td>empty</td>\n",
       "      <td>[ { \"time\": \"June-15-2023\", \"status\": \"empty\" } ]</td>\n",
       "      <td>POLYGON ((7714343.521 1787883.348, 7714296.420...</td>\n",
       "      <td>RAJA REDDY</td>\n",
       "      <td>PEDDAKATTAPALLI</td>\n",
       "      <td>STOP CULTURE</td>\n",
       "      <td>https://www.google.com/maps?q=14.1537781731348...</td>\n",
       "      <td>empty</td>\n",
       "      <td>NA</td>\n",
       "      <td>0.554237</td>\n",
       "    </tr>\n",
       "    <tr>\n",
       "      <th>7785</th>\n",
       "      <td>AVULA MANOHAR REDDY</td>\n",
       "      <td>AVANTI</td>\n",
       "      <td>PEDDAKATTAPALI</td>\n",
       "      <td>8048</td>\n",
       "      <td>pond8048</td>\n",
       "      <td>[ { \"time\": \"January-10-2023\", \"Water\": 0, \"Ae...</td>\n",
       "      <td>harvested</td>\n",
       "      <td>[ { \"time\": \"April-16-2023\", \"status\": \"empty\"...</td>\n",
       "      <td>POLYGON ((7714929.436 1788488.561, 7714979.642...</td>\n",
       "      <td>AVULA MANOHAR REDDY</td>\n",
       "      <td>PEDDAKATTAPALI</td>\n",
       "      <td>AVANTI</td>\n",
       "      <td>https://www.google.com/maps?q=14.1587204641326...</td>\n",
       "      <td>harvested</td>\n",
       "      <td>NA</td>\n",
       "      <td>0.620502</td>\n",
       "    </tr>\n",
       "    <tr>\n",
       "      <th>7786</th>\n",
       "      <td>RADHA REDDY</td>\n",
       "      <td>CP</td>\n",
       "      <td>PEDDAKATTAPALI</td>\n",
       "      <td>8049</td>\n",
       "      <td>pond8049</td>\n",
       "      <td>[ { \"time\": \"January-10-2023\", \"Water\": 0, \"Ae...</td>\n",
       "      <td>empty</td>\n",
       "      <td>[ { \"time\": \"June-15-2023\", \"status\": \"empty\" } ]</td>\n",
       "      <td>POLYGON ((7715087.301 1788348.154, 7715144.237...</td>\n",
       "      <td>RADHA REDDY</td>\n",
       "      <td>PEDDAKATTAPALI</td>\n",
       "      <td>CP</td>\n",
       "      <td>https://www.google.com/maps?q=14.1575589951511...</td>\n",
       "      <td>empty</td>\n",
       "      <td>NA</td>\n",
       "      <td>0.676199</td>\n",
       "    </tr>\n",
       "    <tr>\n",
       "      <th>7787</th>\n",
       "      <td>MASTHAN REDDY</td>\n",
       "      <td>AVANTI</td>\n",
       "      <td>PEDDAKATTAPALI</td>\n",
       "      <td>8050</td>\n",
       "      <td>pond8050</td>\n",
       "      <td>[ { \"time\": \"January-10-2023\", \"Water\": 0, \"Ae...</td>\n",
       "      <td>aerated</td>\n",
       "      <td>[ { \"time\": \"February-15-2023\", \"status\": \"emp...</td>\n",
       "      <td>POLYGON ((7715213.077 1788816.338, 7715302.102...</td>\n",
       "      <td>MASTHAN REDDY</td>\n",
       "      <td>PEDDAKATTAPALI</td>\n",
       "      <td>AVANTI</td>\n",
       "      <td>https://www.google.com/maps?q=14.1613547360900...</td>\n",
       "      <td>aerated</td>\n",
       "      <td>120 to 132</td>\n",
       "      <td>0.844379</td>\n",
       "    </tr>\n",
       "  </tbody>\n",
       "</table>\n",
       "<p>7788 rows × 16 columns</p>\n",
       "</div>"
      ],
      "text/plain": [
       "              farmer_name feed_supplier      village_name    id      name  \\\n",
       "0       P PHANENDRA REDDY     SKRETTING      KOLANAKUDURU  1192  pond1192   \n",
       "1       P PHANENDRA REDDY     SKRETTING      KOLANAKUDURU  1193  pond1193   \n",
       "2          M KOTESWARARAO        AVANTI  TIPPAGUNTAPALLEM  3021  pond3021   \n",
       "3          M KOTESWARARAO        AVANTI  TIPPAGUNTAPALLEM  3022  pond3022   \n",
       "4              V Venkaiah       Avanti     Kolanukudhuru      4     pond4   \n",
       "...                   ...           ...               ...   ...       ...   \n",
       "7783   T PARAMDHAMA REDDY    NO CULTURE    PEDDAKATTAPALI  8046  pond8046   \n",
       "7784           RAJA REDDY  STOP CULTURE   PEDDAKATTAPALLI  8047  pond8047   \n",
       "7785  AVULA MANOHAR REDDY        AVANTI    PEDDAKATTAPALI  8048  pond8048   \n",
       "7786         RADHA REDDY             CP    PEDDAKATTAPALI  8049  pond8049   \n",
       "7787        MASTHAN REDDY        AVANTI    PEDDAKATTAPALI  8050  pond8050   \n",
       "\n",
       "                                            time_series farm_status  \\\n",
       "0     [ { \"time\": \"January-10-2023\", \"Water\": 1, \"Ae...     aerated   \n",
       "1     [ { \"time\": \"January-10-2023\", \"Water\": 1, \"Ae...      pumped   \n",
       "2     [ { \"time\": \"January-10-2023\", \"Water\": 0, \"Ae...       empty   \n",
       "3     [ { \"time\": \"January-10-2023\", \"Water\": 0, \"Ae...     aerated   \n",
       "4     [ { \"time\": \"January-10-2023\", \"Water\": 0, \"Ae...     aerated   \n",
       "...                                                 ...         ...   \n",
       "7783  [ { \"time\": \"January-10-2023\", \"Water\": 0, \"Ae...       empty   \n",
       "7784  [ { \"time\": \"January-10-2023\", \"Water\": 0, \"Ae...       empty   \n",
       "7785  [ { \"time\": \"January-10-2023\", \"Water\": 0, \"Ae...   harvested   \n",
       "7786  [ { \"time\": \"January-10-2023\", \"Water\": 0, \"Ae...       empty   \n",
       "7787  [ { \"time\": \"January-10-2023\", \"Water\": 0, \"Ae...     aerated   \n",
       "\n",
       "                                     time_series_status  \\\n",
       "0     [ { \"time\": \"January-22-2023\", \"status\": \"aera...   \n",
       "1     [ { \"time\": \"January-22-2023\", \"status\": \"pump...   \n",
       "2     [ { \"time\": \"June-15-2023\", \"status\": \"empty\" } ]   \n",
       "3     [ { \"time\": \"April-16-2023\", \"status\": \"empty\"...   \n",
       "4     [ { \"time\": \"April-04-2023\", \"status\": \"empty\"...   \n",
       "...                                                 ...   \n",
       "7783  [ { \"time\": \"June-15-2023\", \"status\": \"empty\" } ]   \n",
       "7784  [ { \"time\": \"June-15-2023\", \"status\": \"empty\" } ]   \n",
       "7785  [ { \"time\": \"April-16-2023\", \"status\": \"empty\"...   \n",
       "7786  [ { \"time\": \"June-15-2023\", \"status\": \"empty\" } ]   \n",
       "7787  [ { \"time\": \"February-15-2023\", \"status\": \"emp...   \n",
       "\n",
       "                                               geometry          Farmer Name  \\\n",
       "0     POLYGON ((7713945.458 1795581.699, 7713950.115...    P PHANENDRA REDDY   \n",
       "1     POLYGON ((7714000.308 1795709.060, 7714108.973...    P PHANENDRA REDDY   \n",
       "2     POLYGON ((7712878.733 1787100.812, 7712893.226...       M KOTESWARARAO   \n",
       "3     POLYGON ((7712933.080 1787075.038, 7712955.855...       M KOTESWARARAO   \n",
       "4     POLYGON ((7715131.472 1794044.706, 7715167.194...           V Venkaiah   \n",
       "...                                                 ...                  ...   \n",
       "7783  POLYGON ((7714734.821 1788546.468, 7714757.595...   T PARAMDHAMA REDDY   \n",
       "7784  POLYGON ((7714343.521 1787883.348, 7714296.420...           RAJA REDDY   \n",
       "7785  POLYGON ((7714929.436 1788488.561, 7714979.642...  AVULA MANOHAR REDDY   \n",
       "7786  POLYGON ((7715087.301 1788348.154, 7715144.237...         RADHA REDDY    \n",
       "7787  POLYGON ((7715213.077 1788816.338, 7715302.102...        MASTHAN REDDY   \n",
       "\n",
       "          Village Name Feed Supplier  \\\n",
       "0         KOLANAKUDURU     SKRETTING   \n",
       "1         KOLANAKUDURU     SKRETTING   \n",
       "2     TIPPAGUNTAPALLEM        AVANTI   \n",
       "3     TIPPAGUNTAPALLEM        AVANTI   \n",
       "4       Kolanukudhuru        Avanti    \n",
       "...                ...           ...   \n",
       "7783    PEDDAKATTAPALI    NO CULTURE   \n",
       "7784   PEDDAKATTAPALLI  STOP CULTURE   \n",
       "7785    PEDDAKATTAPALI        AVANTI   \n",
       "7786    PEDDAKATTAPALI            CP   \n",
       "7787    PEDDAKATTAPALI        AVANTI   \n",
       "\n",
       "                                       Pond Coordinates Farm Status  \\\n",
       "0     https://www.google.com/maps?q=14.2165435516199...     aerated   \n",
       "1     https://www.google.com/maps?q=14.2170760245521...      pumped   \n",
       "2     https://www.google.com/maps?q=14.1481733618061...       empty   \n",
       "3     https://www.google.com/maps?q=14.1479146060487...     aerated   \n",
       "4     https://www.google.com/maps?q=14.2043024003542...     aerated   \n",
       "...                                                 ...         ...   \n",
       "7783  https://www.google.com/maps?q=14.1599831996315...       empty   \n",
       "7784  https://www.google.com/maps?q=14.1537781731348...       empty   \n",
       "7785  https://www.google.com/maps?q=14.1587204641326...   harvested   \n",
       "7786  https://www.google.com/maps?q=14.1575589951511...       empty   \n",
       "7787  https://www.google.com/maps?q=14.1613547360900...     aerated   \n",
       "\n",
       "     Days of Culture  Area of Pond (hectare)  \n",
       "0           48 to 60                1.016383  \n",
       "1                 NA                0.815473  \n",
       "2                 NA                0.359555  \n",
       "3           60 to 72                0.417953  \n",
       "4           60 to 72                0.193663  \n",
       "...              ...                     ...  \n",
       "7783              NA                0.906015  \n",
       "7784              NA                0.554237  \n",
       "7785              NA                0.620502  \n",
       "7786              NA                0.676199  \n",
       "7787      120 to 132                0.844379  \n",
       "\n",
       "[7788 rows x 16 columns]"
      ]
     },
     "execution_count": 29,
     "metadata": {},
     "output_type": "execute_result"
    }
   ],
   "source": [
    "dataframe"
   ]
  },
  {
   "cell_type": "code",
   "execution_count": 30,
   "metadata": {},
   "outputs": [],
   "source": [
    "dataframe = dataframe.drop(['farmer_name', 'feed_supplier', 'village_name', 'id', 'name', 'time_series_status', 'geometry', 'farm_status', 'time_series'], axis=1)"
   ]
  },
  {
   "cell_type": "code",
   "execution_count": 31,
   "metadata": {},
   "outputs": [
    {
     "data": {
      "text/html": [
       "<div>\n",
       "<style scoped>\n",
       "    .dataframe tbody tr th:only-of-type {\n",
       "        vertical-align: middle;\n",
       "    }\n",
       "\n",
       "    .dataframe tbody tr th {\n",
       "        vertical-align: top;\n",
       "    }\n",
       "\n",
       "    .dataframe thead th {\n",
       "        text-align: right;\n",
       "    }\n",
       "</style>\n",
       "<table border=\"1\" class=\"dataframe\">\n",
       "  <thead>\n",
       "    <tr style=\"text-align: right;\">\n",
       "      <th></th>\n",
       "      <th>Farmer Name</th>\n",
       "      <th>Village Name</th>\n",
       "      <th>Feed Supplier</th>\n",
       "      <th>Pond Coordinates</th>\n",
       "      <th>Farm Status</th>\n",
       "      <th>Days of Culture</th>\n",
       "      <th>Area of Pond (hectare)</th>\n",
       "    </tr>\n",
       "  </thead>\n",
       "  <tbody>\n",
       "    <tr>\n",
       "      <th>0</th>\n",
       "      <td>P PHANENDRA REDDY</td>\n",
       "      <td>KOLANAKUDURU</td>\n",
       "      <td>SKRETTING</td>\n",
       "      <td>https://www.google.com/maps?q=14.2165435516199...</td>\n",
       "      <td>aerated</td>\n",
       "      <td>48 to 60</td>\n",
       "      <td>1.016383</td>\n",
       "    </tr>\n",
       "    <tr>\n",
       "      <th>1</th>\n",
       "      <td>P PHANENDRA REDDY</td>\n",
       "      <td>KOLANAKUDURU</td>\n",
       "      <td>SKRETTING</td>\n",
       "      <td>https://www.google.com/maps?q=14.2170760245521...</td>\n",
       "      <td>pumped</td>\n",
       "      <td>NA</td>\n",
       "      <td>0.815473</td>\n",
       "    </tr>\n",
       "    <tr>\n",
       "      <th>2</th>\n",
       "      <td>M KOTESWARARAO</td>\n",
       "      <td>TIPPAGUNTAPALLEM</td>\n",
       "      <td>AVANTI</td>\n",
       "      <td>https://www.google.com/maps?q=14.1481733618061...</td>\n",
       "      <td>empty</td>\n",
       "      <td>NA</td>\n",
       "      <td>0.359555</td>\n",
       "    </tr>\n",
       "    <tr>\n",
       "      <th>3</th>\n",
       "      <td>M KOTESWARARAO</td>\n",
       "      <td>TIPPAGUNTAPALLEM</td>\n",
       "      <td>AVANTI</td>\n",
       "      <td>https://www.google.com/maps?q=14.1479146060487...</td>\n",
       "      <td>aerated</td>\n",
       "      <td>60 to 72</td>\n",
       "      <td>0.417953</td>\n",
       "    </tr>\n",
       "    <tr>\n",
       "      <th>4</th>\n",
       "      <td>V Venkaiah</td>\n",
       "      <td>Kolanukudhuru</td>\n",
       "      <td>Avanti</td>\n",
       "      <td>https://www.google.com/maps?q=14.2043024003542...</td>\n",
       "      <td>aerated</td>\n",
       "      <td>60 to 72</td>\n",
       "      <td>0.193663</td>\n",
       "    </tr>\n",
       "    <tr>\n",
       "      <th>...</th>\n",
       "      <td>...</td>\n",
       "      <td>...</td>\n",
       "      <td>...</td>\n",
       "      <td>...</td>\n",
       "      <td>...</td>\n",
       "      <td>...</td>\n",
       "      <td>...</td>\n",
       "    </tr>\n",
       "    <tr>\n",
       "      <th>7783</th>\n",
       "      <td>T PARAMDHAMA REDDY</td>\n",
       "      <td>PEDDAKATTAPALI</td>\n",
       "      <td>NO CULTURE</td>\n",
       "      <td>https://www.google.com/maps?q=14.1599831996315...</td>\n",
       "      <td>empty</td>\n",
       "      <td>NA</td>\n",
       "      <td>0.906015</td>\n",
       "    </tr>\n",
       "    <tr>\n",
       "      <th>7784</th>\n",
       "      <td>RAJA REDDY</td>\n",
       "      <td>PEDDAKATTAPALLI</td>\n",
       "      <td>STOP CULTURE</td>\n",
       "      <td>https://www.google.com/maps?q=14.1537781731348...</td>\n",
       "      <td>empty</td>\n",
       "      <td>NA</td>\n",
       "      <td>0.554237</td>\n",
       "    </tr>\n",
       "    <tr>\n",
       "      <th>7785</th>\n",
       "      <td>AVULA MANOHAR REDDY</td>\n",
       "      <td>PEDDAKATTAPALI</td>\n",
       "      <td>AVANTI</td>\n",
       "      <td>https://www.google.com/maps?q=14.1587204641326...</td>\n",
       "      <td>harvested</td>\n",
       "      <td>NA</td>\n",
       "      <td>0.620502</td>\n",
       "    </tr>\n",
       "    <tr>\n",
       "      <th>7786</th>\n",
       "      <td>RADHA REDDY</td>\n",
       "      <td>PEDDAKATTAPALI</td>\n",
       "      <td>CP</td>\n",
       "      <td>https://www.google.com/maps?q=14.1575589951511...</td>\n",
       "      <td>empty</td>\n",
       "      <td>NA</td>\n",
       "      <td>0.676199</td>\n",
       "    </tr>\n",
       "    <tr>\n",
       "      <th>7787</th>\n",
       "      <td>MASTHAN REDDY</td>\n",
       "      <td>PEDDAKATTAPALI</td>\n",
       "      <td>AVANTI</td>\n",
       "      <td>https://www.google.com/maps?q=14.1613547360900...</td>\n",
       "      <td>aerated</td>\n",
       "      <td>120 to 132</td>\n",
       "      <td>0.844379</td>\n",
       "    </tr>\n",
       "  </tbody>\n",
       "</table>\n",
       "<p>7788 rows × 7 columns</p>\n",
       "</div>"
      ],
      "text/plain": [
       "              Farmer Name      Village Name Feed Supplier  \\\n",
       "0       P PHANENDRA REDDY      KOLANAKUDURU     SKRETTING   \n",
       "1       P PHANENDRA REDDY      KOLANAKUDURU     SKRETTING   \n",
       "2          M KOTESWARARAO  TIPPAGUNTAPALLEM        AVANTI   \n",
       "3          M KOTESWARARAO  TIPPAGUNTAPALLEM        AVANTI   \n",
       "4              V Venkaiah    Kolanukudhuru        Avanti    \n",
       "...                   ...               ...           ...   \n",
       "7783   T PARAMDHAMA REDDY    PEDDAKATTAPALI    NO CULTURE   \n",
       "7784           RAJA REDDY   PEDDAKATTAPALLI  STOP CULTURE   \n",
       "7785  AVULA MANOHAR REDDY    PEDDAKATTAPALI        AVANTI   \n",
       "7786         RADHA REDDY     PEDDAKATTAPALI            CP   \n",
       "7787        MASTHAN REDDY    PEDDAKATTAPALI        AVANTI   \n",
       "\n",
       "                                       Pond Coordinates Farm Status  \\\n",
       "0     https://www.google.com/maps?q=14.2165435516199...     aerated   \n",
       "1     https://www.google.com/maps?q=14.2170760245521...      pumped   \n",
       "2     https://www.google.com/maps?q=14.1481733618061...       empty   \n",
       "3     https://www.google.com/maps?q=14.1479146060487...     aerated   \n",
       "4     https://www.google.com/maps?q=14.2043024003542...     aerated   \n",
       "...                                                 ...         ...   \n",
       "7783  https://www.google.com/maps?q=14.1599831996315...       empty   \n",
       "7784  https://www.google.com/maps?q=14.1537781731348...       empty   \n",
       "7785  https://www.google.com/maps?q=14.1587204641326...   harvested   \n",
       "7786  https://www.google.com/maps?q=14.1575589951511...       empty   \n",
       "7787  https://www.google.com/maps?q=14.1613547360900...     aerated   \n",
       "\n",
       "     Days of Culture  Area of Pond (hectare)  \n",
       "0           48 to 60                1.016383  \n",
       "1                 NA                0.815473  \n",
       "2                 NA                0.359555  \n",
       "3           60 to 72                0.417953  \n",
       "4           60 to 72                0.193663  \n",
       "...              ...                     ...  \n",
       "7783              NA                0.906015  \n",
       "7784              NA                0.554237  \n",
       "7785              NA                0.620502  \n",
       "7786              NA                0.676199  \n",
       "7787      120 to 132                0.844379  \n",
       "\n",
       "[7788 rows x 7 columns]"
      ]
     },
     "execution_count": 31,
     "metadata": {},
     "output_type": "execute_result"
    }
   ],
   "source": [
    "dataframe"
   ]
  },
  {
   "cell_type": "code",
   "execution_count": null,
   "metadata": {},
   "outputs": [],
   "source": [
    "dataframe.to_csv(\"./analysis15June.csv\", index=False)"
   ]
  },
  {
   "cell_type": "code",
   "execution_count": null,
   "metadata": {},
   "outputs": [],
   "source": []
  },
  {
   "cell_type": "code",
   "execution_count": null,
   "metadata": {},
   "outputs": [],
   "source": []
  },
  {
   "cell_type": "code",
   "execution_count": null,
   "metadata": {},
   "outputs": [],
   "source": [
    "report = pd.read_excel(\"./Gudur Mapping Data.xlsx\")"
   ]
  },
  {
   "cell_type": "code",
   "execution_count": null,
   "metadata": {},
   "outputs": [],
   "source": [
    "report.columns"
   ]
  },
  {
   "cell_type": "code",
   "execution_count": null,
   "metadata": {},
   "outputs": [],
   "source": [
    "len(report)"
   ]
  },
  {
   "cell_type": "code",
   "execution_count": null,
   "metadata": {},
   "outputs": [],
   "source": [
    "report = report.dropna(subset=[\"Empty/Running\"])"
   ]
  },
  {
   "cell_type": "code",
   "execution_count": null,
   "metadata": {},
   "outputs": [],
   "source": [
    "len(report)"
   ]
  },
  {
   "cell_type": "code",
   "execution_count": null,
   "metadata": {},
   "outputs": [],
   "source": [
    "report[\"Empty/Running\"].unique()"
   ]
  },
  {
   "cell_type": "code",
   "execution_count": null,
   "metadata": {},
   "outputs": [],
   "source": [
    "report[\"Ground Truth Status\"] = \"Running\"\n",
    "report.loc[report[\"Empty/Running\"]==\"Empty  \", \"Ground Truth Status\"] = \"Empty\"\n",
    "report.loc[report[\"Empty/Running\"]==\"PUMPING\", \"Ground Truth Status\"] = \"Pumping\""
   ]
  },
  {
   "cell_type": "code",
   "execution_count": null,
   "metadata": {},
   "outputs": [],
   "source": [
    "report"
   ]
  },
  {
   "cell_type": "code",
   "execution_count": null,
   "metadata": {},
   "outputs": [],
   "source": [
    "report  = report.drop(['Farm Status', 'Days of Culture', 'Area of Pond (hectare)', 'Empty/Running'], axis=1)"
   ]
  },
  {
   "cell_type": "code",
   "execution_count": null,
   "metadata": {},
   "outputs": [],
   "source": [
    "report"
   ]
  },
  {
   "cell_type": "code",
   "execution_count": null,
   "metadata": {},
   "outputs": [],
   "source": [
    "report.to_csv(\"./filteredReport.csv\")"
   ]
  },
  {
   "cell_type": "code",
   "execution_count": null,
   "metadata": {},
   "outputs": [],
   "source": [
    "mergedRes = pd.merge(dataframe, report, on ='Pond Coordinates')"
   ]
  },
  {
   "cell_type": "code",
   "execution_count": null,
   "metadata": {},
   "outputs": [],
   "source": [
    "mergedRes"
   ]
  },
  {
   "cell_type": "code",
   "execution_count": null,
   "metadata": {},
   "outputs": [],
   "source": [
    "mergedRes.to_csv(\"crosscheck.csv\", index=False)"
   ]
  },
  {
   "cell_type": "code",
   "execution_count": null,
   "metadata": {},
   "outputs": [],
   "source": []
  }
 ],
 "metadata": {
  "kernelspec": {
   "display_name": "base",
   "language": "python",
   "name": "base"
  },
  "language_info": {
   "codemirror_mode": {
    "name": "ipython",
    "version": 3
   },
   "file_extension": ".py",
   "mimetype": "text/x-python",
   "name": "python",
   "nbconvert_exporter": "python",
   "pygments_lexer": "ipython3",
   "version": "3.9.13"
  },
  "orig_nbformat": 4
 },
 "nbformat": 4,
 "nbformat_minor": 2
}
